{
 "cells": [
  {
   "cell_type": "markdown",
   "metadata": {},
   "source": [
    "**Importing necessary libraies for this project**"
   ]
  },
  {
   "cell_type": "code",
   "execution_count": 1,
   "metadata": {
    "ExecuteTime": {
     "end_time": "2020-12-17T13:53:36.105183Z",
     "start_time": "2020-12-17T13:53:04.053942Z"
    }
   },
   "outputs": [
    {
     "name": "stderr",
     "output_type": "stream",
     "text": [
      "C:\\Users\\Kiran\\Anaconda3\\lib\\site-packages\\dask\\dataframe\\utils.py:14: FutureWarning: pandas.util.testing is deprecated. Use the functions in the public API at pandas.testing instead.\n",
      "  import pandas.util.testing as tm\n"
     ]
    }
   ],
   "source": [
    "import numpy as np\n",
    "import pandas as pd\n",
    "import os\n",
    "import dask.dataframe as dd\n",
    "import matplotlib.pyplot as plt\n",
    "import seaborn as sns\n",
    "%matplotlib inline"
   ]
  },
  {
   "cell_type": "code",
   "execution_count": 2,
   "metadata": {
    "ExecuteTime": {
     "end_time": "2020-12-17T13:53:36.402895Z",
     "start_time": "2020-12-17T13:53:36.111161Z"
    }
   },
   "outputs": [],
   "source": [
    "data=dd.read_csv('price_paid_records.csv',parse_dates=[2],blocksize='2410MB')"
   ]
  },
  {
   "cell_type": "code",
   "execution_count": 3,
   "metadata": {
    "ExecuteTime": {
     "end_time": "2020-12-17T13:53:36.527834Z",
     "start_time": "2020-12-17T13:53:36.407821Z"
    }
   },
   "outputs": [
    {
     "data": {
      "text/html": [
       "<div><strong>Dask DataFrame Structure:</strong></div>\n",
       "<div>\n",
       "<style scoped>\n",
       "    .dataframe tbody tr th:only-of-type {\n",
       "        vertical-align: middle;\n",
       "    }\n",
       "\n",
       "    .dataframe tbody tr th {\n",
       "        vertical-align: top;\n",
       "    }\n",
       "\n",
       "    .dataframe thead th {\n",
       "        text-align: right;\n",
       "    }\n",
       "</style>\n",
       "<table border=\"1\" class=\"dataframe\">\n",
       "  <thead>\n",
       "    <tr style=\"text-align: right;\">\n",
       "      <th></th>\n",
       "      <th>Transaction unique identifier</th>\n",
       "      <th>Price</th>\n",
       "      <th>Date of Transfer</th>\n",
       "      <th>Property Type</th>\n",
       "      <th>Old/New</th>\n",
       "      <th>Duration</th>\n",
       "      <th>Town/City</th>\n",
       "      <th>District</th>\n",
       "      <th>County</th>\n",
       "      <th>PPDCategory Type</th>\n",
       "      <th>Record Status - monthly file only</th>\n",
       "    </tr>\n",
       "    <tr>\n",
       "      <th>npartitions=1</th>\n",
       "      <th></th>\n",
       "      <th></th>\n",
       "      <th></th>\n",
       "      <th></th>\n",
       "      <th></th>\n",
       "      <th></th>\n",
       "      <th></th>\n",
       "      <th></th>\n",
       "      <th></th>\n",
       "      <th></th>\n",
       "      <th></th>\n",
       "    </tr>\n",
       "  </thead>\n",
       "  <tbody>\n",
       "    <tr>\n",
       "      <th></th>\n",
       "      <td>object</td>\n",
       "      <td>int64</td>\n",
       "      <td>datetime64[ns]</td>\n",
       "      <td>object</td>\n",
       "      <td>object</td>\n",
       "      <td>object</td>\n",
       "      <td>object</td>\n",
       "      <td>object</td>\n",
       "      <td>object</td>\n",
       "      <td>object</td>\n",
       "      <td>object</td>\n",
       "    </tr>\n",
       "    <tr>\n",
       "      <th></th>\n",
       "      <td>...</td>\n",
       "      <td>...</td>\n",
       "      <td>...</td>\n",
       "      <td>...</td>\n",
       "      <td>...</td>\n",
       "      <td>...</td>\n",
       "      <td>...</td>\n",
       "      <td>...</td>\n",
       "      <td>...</td>\n",
       "      <td>...</td>\n",
       "      <td>...</td>\n",
       "    </tr>\n",
       "  </tbody>\n",
       "</table>\n",
       "</div>\n",
       "<div>Dask Name: from-delayed, 3 tasks</div>"
      ],
      "text/plain": [
       "Dask DataFrame Structure:\n",
       "              Transaction unique identifier  Price Date of Transfer Property Type Old/New Duration Town/City District  County PPDCategory Type Record Status - monthly file only\n",
       "npartitions=1                                                                                                                                                                   \n",
       "                                     object  int64   datetime64[ns]        object  object   object    object   object  object           object                            object\n",
       "                                        ...    ...              ...           ...     ...      ...       ...      ...     ...              ...                               ...\n",
       "Dask Name: from-delayed, 3 tasks"
      ]
     },
     "execution_count": 3,
     "metadata": {},
     "output_type": "execute_result"
    }
   ],
   "source": [
    "data"
   ]
  },
  {
   "cell_type": "markdown",
   "metadata": {},
   "source": [
    " Here we are grabing all the data from the year 2012 only. The whole data sets contain data from 1995-2017. For our analysis we are grabing latest data only which will be data from 2012 onwards."
   ]
  },
  {
   "cell_type": "code",
   "execution_count": 4,
   "metadata": {
    "ExecuteTime": {
     "end_time": "2020-12-17T13:53:36.574825Z",
     "start_time": "2020-12-17T13:53:36.533822Z"
    }
   },
   "outputs": [],
   "source": [
    "c_data=data[data['Date of Transfer'].dt.year>2011]"
   ]
  },
  {
   "cell_type": "markdown",
   "metadata": {},
   "source": [
    "Converting part of the data (2012-2017) into csv file to read again."
   ]
  },
  {
   "cell_type": "code",
   "execution_count": 5,
   "metadata": {
    "ExecuteTime": {
     "end_time": "2020-12-17T14:24:20.970533Z",
     "start_time": "2020-12-17T13:53:36.580822Z"
    }
   },
   "outputs": [
    {
     "data": {
      "text/plain": [
       "['C:/Users/Kiran/Downloads/data2012up.csv\\\\0.part']"
      ]
     },
     "execution_count": 5,
     "metadata": {},
     "output_type": "execute_result"
    }
   ],
   "source": [
    "c_data.to_csv('data2012up.csv')"
   ]
  },
  {
   "cell_type": "code",
   "execution_count": 6,
   "metadata": {
    "ExecuteTime": {
     "end_time": "2020-12-17T14:24:21.611160Z",
     "start_time": "2020-12-17T14:24:21.408037Z"
    }
   },
   "outputs": [],
   "source": [
    "import csv"
   ]
  },
  {
   "cell_type": "markdown",
   "metadata": {},
   "source": [
    "**Reading new data sets for our analysis**"
   ]
  },
  {
   "cell_type": "code",
   "execution_count": 7,
   "metadata": {
    "ExecuteTime": {
     "end_time": "2020-12-17T14:24:25.595415Z",
     "start_time": "2020-12-17T14:24:21.704864Z"
    }
   },
   "outputs": [],
   "source": [
    "data_1=dd.read_csv('data2012up.csv/0.part',parse_dates=[3],blocksize='20MB')"
   ]
  },
  {
   "cell_type": "code",
   "execution_count": 8,
   "metadata": {
    "ExecuteTime": {
     "end_time": "2020-12-17T14:24:28.017290Z",
     "start_time": "2020-12-17T14:24:25.689149Z"
    }
   },
   "outputs": [
    {
     "data": {
      "text/html": [
       "<div>\n",
       "<style scoped>\n",
       "    .dataframe tbody tr th:only-of-type {\n",
       "        vertical-align: middle;\n",
       "    }\n",
       "\n",
       "    .dataframe tbody tr th {\n",
       "        vertical-align: top;\n",
       "    }\n",
       "\n",
       "    .dataframe thead th {\n",
       "        text-align: right;\n",
       "    }\n",
       "</style>\n",
       "<table border=\"1\" class=\"dataframe\">\n",
       "  <thead>\n",
       "    <tr style=\"text-align: right;\">\n",
       "      <th></th>\n",
       "      <th>Unnamed: 0</th>\n",
       "      <th>Transaction unique identifier</th>\n",
       "      <th>Price</th>\n",
       "      <th>Date of Transfer</th>\n",
       "      <th>Property Type</th>\n",
       "      <th>Old/New</th>\n",
       "      <th>Duration</th>\n",
       "      <th>Town/City</th>\n",
       "      <th>District</th>\n",
       "      <th>County</th>\n",
       "      <th>PPDCategory Type</th>\n",
       "      <th>Record Status - monthly file only</th>\n",
       "    </tr>\n",
       "  </thead>\n",
       "  <tbody>\n",
       "    <tr>\n",
       "      <th>0</th>\n",
       "      <td>17612922</td>\n",
       "      <td>{BD0D075D-7818-47B3-9657-7651CBD02219}</td>\n",
       "      <td>155000</td>\n",
       "      <td>2012-09-28</td>\n",
       "      <td>S</td>\n",
       "      <td>N</td>\n",
       "      <td>F</td>\n",
       "      <td>YORK</td>\n",
       "      <td>YORK</td>\n",
       "      <td>YORK</td>\n",
       "      <td>A</td>\n",
       "      <td>A</td>\n",
       "    </tr>\n",
       "    <tr>\n",
       "      <th>1</th>\n",
       "      <td>17612923</td>\n",
       "      <td>{0FF70080-C8EA-4DDC-9C19-7651D9B540CC}</td>\n",
       "      <td>264000</td>\n",
       "      <td>2012-07-18</td>\n",
       "      <td>D</td>\n",
       "      <td>N</td>\n",
       "      <td>F</td>\n",
       "      <td>HAYLING ISLAND</td>\n",
       "      <td>HAVANT</td>\n",
       "      <td>HAMPSHIRE</td>\n",
       "      <td>A</td>\n",
       "      <td>A</td>\n",
       "    </tr>\n",
       "    <tr>\n",
       "      <th>2</th>\n",
       "      <td>17612924</td>\n",
       "      <td>{80CC2177-EDBE-4ABB-9EAA-7651DAA0E4EE}</td>\n",
       "      <td>20000</td>\n",
       "      <td>2012-04-25</td>\n",
       "      <td>T</td>\n",
       "      <td>N</td>\n",
       "      <td>F</td>\n",
       "      <td>HULL</td>\n",
       "      <td>CITY OF KINGSTON UPON HULL</td>\n",
       "      <td>CITY OF KINGSTON UPON HULL</td>\n",
       "      <td>A</td>\n",
       "      <td>A</td>\n",
       "    </tr>\n",
       "    <tr>\n",
       "      <th>3</th>\n",
       "      <td>17612925</td>\n",
       "      <td>{076B2969-50D6-4659-8956-7651ECAAB904}</td>\n",
       "      <td>89950</td>\n",
       "      <td>2012-10-25</td>\n",
       "      <td>S</td>\n",
       "      <td>N</td>\n",
       "      <td>F</td>\n",
       "      <td>WORKSOP</td>\n",
       "      <td>BASSETLAW</td>\n",
       "      <td>NOTTINGHAMSHIRE</td>\n",
       "      <td>A</td>\n",
       "      <td>A</td>\n",
       "    </tr>\n",
       "    <tr>\n",
       "      <th>4</th>\n",
       "      <td>17612926</td>\n",
       "      <td>{9A6B1BBC-3522-4B44-9FD6-765202F73E28}</td>\n",
       "      <td>168000</td>\n",
       "      <td>2012-04-13</td>\n",
       "      <td>S</td>\n",
       "      <td>N</td>\n",
       "      <td>F</td>\n",
       "      <td>TORQUAY</td>\n",
       "      <td>TORBAY</td>\n",
       "      <td>TORBAY</td>\n",
       "      <td>A</td>\n",
       "      <td>A</td>\n",
       "    </tr>\n",
       "  </tbody>\n",
       "</table>\n",
       "</div>"
      ],
      "text/plain": [
       "   Unnamed: 0           Transaction unique identifier   Price  \\\n",
       "0    17612922  {BD0D075D-7818-47B3-9657-7651CBD02219}  155000   \n",
       "1    17612923  {0FF70080-C8EA-4DDC-9C19-7651D9B540CC}  264000   \n",
       "2    17612924  {80CC2177-EDBE-4ABB-9EAA-7651DAA0E4EE}   20000   \n",
       "3    17612925  {076B2969-50D6-4659-8956-7651ECAAB904}   89950   \n",
       "4    17612926  {9A6B1BBC-3522-4B44-9FD6-765202F73E28}  168000   \n",
       "\n",
       "  Date of Transfer Property Type Old/New Duration       Town/City  \\\n",
       "0       2012-09-28             S       N        F            YORK   \n",
       "1       2012-07-18             D       N        F  HAYLING ISLAND   \n",
       "2       2012-04-25             T       N        F            HULL   \n",
       "3       2012-10-25             S       N        F         WORKSOP   \n",
       "4       2012-04-13             S       N        F         TORQUAY   \n",
       "\n",
       "                     District                      County PPDCategory Type  \\\n",
       "0                        YORK                        YORK                A   \n",
       "1                      HAVANT                   HAMPSHIRE                A   \n",
       "2  CITY OF KINGSTON UPON HULL  CITY OF KINGSTON UPON HULL                A   \n",
       "3                   BASSETLAW             NOTTINGHAMSHIRE                A   \n",
       "4                      TORBAY                      TORBAY                A   \n",
       "\n",
       "  Record Status - monthly file only  \n",
       "0                                 A  \n",
       "1                                 A  \n",
       "2                                 A  \n",
       "3                                 A  \n",
       "4                                 A  "
      ]
     },
     "execution_count": 8,
     "metadata": {},
     "output_type": "execute_result"
    }
   ],
   "source": [
    "data_1.head()"
   ]
  },
  {
   "cell_type": "code",
   "execution_count": 9,
   "metadata": {
    "ExecuteTime": {
     "end_time": "2020-12-17T14:24:49.635053Z",
     "start_time": "2020-12-17T14:24:28.033292Z"
    }
   },
   "outputs": [
    {
     "name": "stdout",
     "output_type": "stream",
     "text": [
      "Wall time: 0 ns\n"
     ]
    },
    {
     "data": {
      "text/plain": [
       "98900000"
      ]
     },
     "execution_count": 9,
     "metadata": {},
     "output_type": "execute_result"
    }
   ],
   "source": [
    "%time \n",
    "data_1.Price.max().compute()"
   ]
  },
  {
   "cell_type": "code",
   "execution_count": 10,
   "metadata": {
    "ExecuteTime": {
     "end_time": "2020-12-17T14:25:09.348646Z",
     "start_time": "2020-12-17T14:24:49.639471Z"
    }
   },
   "outputs": [
    {
     "data": {
      "text/html": [
       "<div>\n",
       "<style scoped>\n",
       "    .dataframe tbody tr th:only-of-type {\n",
       "        vertical-align: middle;\n",
       "    }\n",
       "\n",
       "    .dataframe tbody tr th {\n",
       "        vertical-align: top;\n",
       "    }\n",
       "\n",
       "    .dataframe thead th {\n",
       "        text-align: right;\n",
       "    }\n",
       "</style>\n",
       "<table border=\"1\" class=\"dataframe\">\n",
       "  <thead>\n",
       "    <tr style=\"text-align: right;\">\n",
       "      <th></th>\n",
       "      <th>Unnamed: 0</th>\n",
       "      <th>Transaction unique identifier</th>\n",
       "      <th>Price</th>\n",
       "      <th>Date of Transfer</th>\n",
       "      <th>Property Type</th>\n",
       "      <th>Old/New</th>\n",
       "      <th>Duration</th>\n",
       "      <th>Town/City</th>\n",
       "      <th>District</th>\n",
       "      <th>County</th>\n",
       "      <th>PPDCategory Type</th>\n",
       "      <th>Record Status - monthly file only</th>\n",
       "    </tr>\n",
       "  </thead>\n",
       "  <tbody>\n",
       "    <tr>\n",
       "      <th>166165</th>\n",
       "      <td>21906462</td>\n",
       "      <td>{50F18103-E682-9FD5-E050-A8C063054923}</td>\n",
       "      <td>98900000</td>\n",
       "      <td>2016-11-24</td>\n",
       "      <td>O</td>\n",
       "      <td>N</td>\n",
       "      <td>F</td>\n",
       "      <td>LONDON</td>\n",
       "      <td>CITY OF WESTMINSTER</td>\n",
       "      <td>GREATER LONDON</td>\n",
       "      <td>B</td>\n",
       "      <td>A</td>\n",
       "    </tr>\n",
       "  </tbody>\n",
       "</table>\n",
       "</div>"
      ],
      "text/plain": [
       "        Unnamed: 0           Transaction unique identifier     Price  \\\n",
       "166165    21906462  {50F18103-E682-9FD5-E050-A8C063054923}  98900000   \n",
       "\n",
       "       Date of Transfer Property Type Old/New Duration Town/City  \\\n",
       "166165       2016-11-24             O       N        F    LONDON   \n",
       "\n",
       "                   District          County PPDCategory Type  \\\n",
       "166165  CITY OF WESTMINSTER  GREATER LONDON                B   \n",
       "\n",
       "       Record Status - monthly file only  \n",
       "166165                                 A  "
      ]
     },
     "execution_count": 10,
     "metadata": {},
     "output_type": "execute_result"
    }
   ],
   "source": [
    "data_1[data_1['Price']==98900000].compute()"
   ]
  },
  {
   "cell_type": "code",
   "execution_count": 11,
   "metadata": {
    "ExecuteTime": {
     "end_time": "2020-12-17T14:25:28.914189Z",
     "start_time": "2020-12-17T14:25:09.348646Z"
    }
   },
   "outputs": [
    {
     "data": {
      "text/html": [
       "<div>\n",
       "<style scoped>\n",
       "    .dataframe tbody tr th:only-of-type {\n",
       "        vertical-align: middle;\n",
       "    }\n",
       "\n",
       "    .dataframe tbody tr th {\n",
       "        vertical-align: top;\n",
       "    }\n",
       "\n",
       "    .dataframe thead th {\n",
       "        text-align: right;\n",
       "    }\n",
       "</style>\n",
       "<table border=\"1\" class=\"dataframe\">\n",
       "  <thead>\n",
       "    <tr style=\"text-align: right;\">\n",
       "      <th></th>\n",
       "      <th>Unnamed: 0</th>\n",
       "      <th>Transaction unique identifier</th>\n",
       "      <th>Price</th>\n",
       "      <th>Date of Transfer</th>\n",
       "      <th>Property Type</th>\n",
       "      <th>Old/New</th>\n",
       "      <th>Duration</th>\n",
       "      <th>Town/City</th>\n",
       "      <th>District</th>\n",
       "      <th>County</th>\n",
       "      <th>PPDCategory Type</th>\n",
       "      <th>Record Status - monthly file only</th>\n",
       "    </tr>\n",
       "  </thead>\n",
       "  <tbody>\n",
       "    <tr>\n",
       "      <th>99235</th>\n",
       "      <td>21122191</td>\n",
       "      <td>{3E0330EF-8336-8D89-E050-A8C062052140}</td>\n",
       "      <td>1</td>\n",
       "      <td>2016-03-18</td>\n",
       "      <td>F</td>\n",
       "      <td>N</td>\n",
       "      <td>L</td>\n",
       "      <td>CARDIFF</td>\n",
       "      <td>CARDIFF</td>\n",
       "      <td>CARDIFF</td>\n",
       "      <td>A</td>\n",
       "      <td>A</td>\n",
       "    </tr>\n",
       "    <tr>\n",
       "      <th>34327</th>\n",
       "      <td>21235938</td>\n",
       "      <td>{3E0330EF-9876-8D89-E050-A8C062052140}</td>\n",
       "      <td>1</td>\n",
       "      <td>2016-08-09</td>\n",
       "      <td>F</td>\n",
       "      <td>N</td>\n",
       "      <td>L</td>\n",
       "      <td>BOURNEMOUTH</td>\n",
       "      <td>BOURNEMOUTH</td>\n",
       "      <td>BOURNEMOUTH</td>\n",
       "      <td>A</td>\n",
       "      <td>A</td>\n",
       "    </tr>\n",
       "    <tr>\n",
       "      <th>134032</th>\n",
       "      <td>21695040</td>\n",
       "      <td>{47844C7F-96B6-8986-E050-A8C063056488}</td>\n",
       "      <td>1</td>\n",
       "      <td>2016-08-18</td>\n",
       "      <td>F</td>\n",
       "      <td>N</td>\n",
       "      <td>L</td>\n",
       "      <td>BRIXHAM</td>\n",
       "      <td>TORBAY</td>\n",
       "      <td>TORBAY</td>\n",
       "      <td>A</td>\n",
       "      <td>A</td>\n",
       "    </tr>\n",
       "    <tr>\n",
       "      <th>139401</th>\n",
       "      <td>21879698</td>\n",
       "      <td>{4E95D757-8518-EDA1-E050-A8C0630539E2}</td>\n",
       "      <td>1</td>\n",
       "      <td>2016-04-01</td>\n",
       "      <td>T</td>\n",
       "      <td>N</td>\n",
       "      <td>F</td>\n",
       "      <td>SALFORD</td>\n",
       "      <td>SALFORD</td>\n",
       "      <td>GREATER MANCHESTER</td>\n",
       "      <td>A</td>\n",
       "      <td>A</td>\n",
       "    </tr>\n",
       "    <tr>\n",
       "      <th>102421</th>\n",
       "      <td>22022215</td>\n",
       "      <td>{2FD36065-20A0-4BF8-E050-A8C0620562B1}</td>\n",
       "      <td>1</td>\n",
       "      <td>2016-02-17</td>\n",
       "      <td>T</td>\n",
       "      <td>N</td>\n",
       "      <td>L</td>\n",
       "      <td>WEMBLEY</td>\n",
       "      <td>BRENT</td>\n",
       "      <td>GREATER LONDON</td>\n",
       "      <td>A</td>\n",
       "      <td>A</td>\n",
       "    </tr>\n",
       "    <tr>\n",
       "      <th>170784</th>\n",
       "      <td>22090578</td>\n",
       "      <td>{39140479-B79E-3206-E050-A8C063057647}</td>\n",
       "      <td>1</td>\n",
       "      <td>2016-06-17</td>\n",
       "      <td>F</td>\n",
       "      <td>N</td>\n",
       "      <td>L</td>\n",
       "      <td>LYNDHURST</td>\n",
       "      <td>NEW FOREST</td>\n",
       "      <td>HAMPSHIRE</td>\n",
       "      <td>A</td>\n",
       "      <td>A</td>\n",
       "    </tr>\n",
       "    <tr>\n",
       "      <th>26680</th>\n",
       "      <td>22304975</td>\n",
       "      <td>{50F18103-7165-9FD5-E050-A8C063054923}</td>\n",
       "      <td>1</td>\n",
       "      <td>2017-03-03</td>\n",
       "      <td>F</td>\n",
       "      <td>N</td>\n",
       "      <td>F</td>\n",
       "      <td>STOKE-ON-TRENT</td>\n",
       "      <td>STOKE-ON-TRENT</td>\n",
       "      <td>STOKE-ON-TRENT</td>\n",
       "      <td>A</td>\n",
       "      <td>A</td>\n",
       "    </tr>\n",
       "    <tr>\n",
       "      <th>101626</th>\n",
       "      <td>22379921</td>\n",
       "      <td>{4E95D757-6007-EDA1-E050-A8C0630539E2}</td>\n",
       "      <td>1</td>\n",
       "      <td>2017-03-30</td>\n",
       "      <td>S</td>\n",
       "      <td>N</td>\n",
       "      <td>F</td>\n",
       "      <td>SOUTHEND-ON-SEA</td>\n",
       "      <td>ROCHFORD</td>\n",
       "      <td>ESSEX</td>\n",
       "      <td>A</td>\n",
       "      <td>A</td>\n",
       "    </tr>\n",
       "  </tbody>\n",
       "</table>\n",
       "</div>"
      ],
      "text/plain": [
       "        Unnamed: 0           Transaction unique identifier  Price  \\\n",
       "99235     21122191  {3E0330EF-8336-8D89-E050-A8C062052140}      1   \n",
       "34327     21235938  {3E0330EF-9876-8D89-E050-A8C062052140}      1   \n",
       "134032    21695040  {47844C7F-96B6-8986-E050-A8C063056488}      1   \n",
       "139401    21879698  {4E95D757-8518-EDA1-E050-A8C0630539E2}      1   \n",
       "102421    22022215  {2FD36065-20A0-4BF8-E050-A8C0620562B1}      1   \n",
       "170784    22090578  {39140479-B79E-3206-E050-A8C063057647}      1   \n",
       "26680     22304975  {50F18103-7165-9FD5-E050-A8C063054923}      1   \n",
       "101626    22379921  {4E95D757-6007-EDA1-E050-A8C0630539E2}      1   \n",
       "\n",
       "       Date of Transfer Property Type Old/New Duration        Town/City  \\\n",
       "99235        2016-03-18             F       N        L          CARDIFF   \n",
       "34327        2016-08-09             F       N        L      BOURNEMOUTH   \n",
       "134032       2016-08-18             F       N        L          BRIXHAM   \n",
       "139401       2016-04-01             T       N        F          SALFORD   \n",
       "102421       2016-02-17             T       N        L          WEMBLEY   \n",
       "170784       2016-06-17             F       N        L        LYNDHURST   \n",
       "26680        2017-03-03             F       N        F   STOKE-ON-TRENT   \n",
       "101626       2017-03-30             S       N        F  SOUTHEND-ON-SEA   \n",
       "\n",
       "              District              County PPDCategory Type  \\\n",
       "99235          CARDIFF             CARDIFF                A   \n",
       "34327      BOURNEMOUTH         BOURNEMOUTH                A   \n",
       "134032          TORBAY              TORBAY                A   \n",
       "139401         SALFORD  GREATER MANCHESTER                A   \n",
       "102421           BRENT      GREATER LONDON                A   \n",
       "170784      NEW FOREST           HAMPSHIRE                A   \n",
       "26680   STOKE-ON-TRENT      STOKE-ON-TRENT                A   \n",
       "101626        ROCHFORD               ESSEX                A   \n",
       "\n",
       "       Record Status - monthly file only  \n",
       "99235                                  A  \n",
       "34327                                  A  \n",
       "134032                                 A  \n",
       "139401                                 A  \n",
       "102421                                 A  \n",
       "170784                                 A  \n",
       "26680                                  A  \n",
       "101626                                 A  "
      ]
     },
     "execution_count": 11,
     "metadata": {},
     "output_type": "execute_result"
    }
   ],
   "source": [
    "data_1[data_1['Price']==1].compute()"
   ]
  },
  {
   "cell_type": "markdown",
   "metadata": {},
   "source": [
    "# Doing descriptive analysis for each columns. "
   ]
  },
  {
   "cell_type": "code",
   "execution_count": 12,
   "metadata": {
    "ExecuteTime": {
     "end_time": "2020-12-17T14:25:49.899280Z",
     "start_time": "2020-12-17T14:25:28.929813Z"
    }
   },
   "outputs": [
    {
     "data": {
      "text/plain": [
       "count    4.876426e+06\n",
       "mean     2.836319e+05\n",
       "std      7.730198e+05\n",
       "min      1.000000e+00\n",
       "25%      1.460000e+05\n",
       "50%      2.249950e+05\n",
       "75%      3.500000e+05\n",
       "max      9.890000e+07\n",
       "Name: Price, dtype: float64"
      ]
     },
     "execution_count": 12,
     "metadata": {},
     "output_type": "execute_result"
    }
   ],
   "source": [
    "# Checking the descriptive statistics for price only. \n",
    "data_1.Price.describe().compute()"
   ]
  },
  {
   "cell_type": "code",
   "execution_count": 13,
   "metadata": {
    "ExecuteTime": {
     "end_time": "2020-12-17T14:26:09.954378Z",
     "start_time": "2020-12-17T14:25:49.899280Z"
    }
   },
   "outputs": [
    {
     "data": {
      "text/plain": [
       "250000    78105\n",
       "125000    62378\n",
       "150000    45186\n",
       "120000    43326\n",
       "160000    41255\n",
       "Name: Price, dtype: int64"
      ]
     },
     "execution_count": 13,
     "metadata": {},
     "output_type": "execute_result"
    }
   ],
   "source": [
    "data_1['Price'].value_counts().head()"
   ]
  },
  {
   "cell_type": "code",
   "execution_count": 14,
   "metadata": {
    "ExecuteTime": {
     "end_time": "2020-12-17T14:26:29.814163Z",
     "start_time": "2020-12-17T14:26:09.965378Z"
    }
   },
   "outputs": [
    {
     "data": {
      "text/plain": [
       "386120    1\n",
       "386107    1\n",
       "386088    1\n",
       "386084    1\n",
       "284655    1\n",
       "Name: Price, dtype: int64"
      ]
     },
     "execution_count": 14,
     "metadata": {},
     "output_type": "execute_result"
    }
   ],
   "source": [
    "data_1['Price'].value_counts().tail()"
   ]
  },
  {
   "cell_type": "code",
   "execution_count": 15,
   "metadata": {
    "ExecuteTime": {
     "end_time": "2020-12-17T14:26:29.861038Z",
     "start_time": "2020-12-17T14:26:29.814163Z"
    }
   },
   "outputs": [],
   "source": [
    "upper_limit = data_1.Price.mean() + 3*data_1.Price.std()"
   ]
  },
  {
   "cell_type": "code",
   "execution_count": 16,
   "metadata": {
    "ExecuteTime": {
     "end_time": "2020-12-17T14:26:49.818662Z",
     "start_time": "2020-12-17T14:26:29.861038Z"
    }
   },
   "outputs": [
    {
     "data": {
      "text/plain": [
       "2602691.3383152117"
      ]
     },
     "execution_count": 16,
     "metadata": {},
     "output_type": "execute_result"
    }
   ],
   "source": [
    "upper_limit.compute()"
   ]
  },
  {
   "cell_type": "code",
   "execution_count": 17,
   "metadata": {
    "ExecuteTime": {
     "end_time": "2020-12-17T14:26:49.866188Z",
     "start_time": "2020-12-17T14:26:49.826179Z"
    }
   },
   "outputs": [],
   "source": [
    "lower_limit = data_1.Price.mean() -  3*data_1.Price.std()"
   ]
  },
  {
   "cell_type": "code",
   "execution_count": 18,
   "metadata": {
    "ExecuteTime": {
     "end_time": "2020-12-17T14:27:09.467617Z",
     "start_time": "2020-12-17T14:26:49.871174Z"
    }
   },
   "outputs": [
    {
     "data": {
      "text/plain": [
       "-2035427.6011236703"
      ]
     },
     "execution_count": 18,
     "metadata": {},
     "output_type": "execute_result"
    }
   ],
   "source": [
    "lower_limit.compute()"
   ]
  },
  {
   "cell_type": "markdown",
   "metadata": {},
   "source": [
    "**Removing Outliers**\n",
    "\n",
    "We are using Z-Score to remove our outliers from the data sets. we are keeping Z score which are less or equal to 3. Below is the formula for Z-score \n",
    " \n",
    "$$z=\\frac{x-\\mu}{\\sigma}$$\n",
    "\n",
    "- $Z$ = standard score\n",
    "- $x$ = observed value\n",
    "- $\\mu$ = mean of the sample\n",
    "- $\\sigma$ = standard deviation of the sample\n"
   ]
  },
  {
   "cell_type": "code",
   "execution_count": 19,
   "metadata": {
    "ExecuteTime": {
     "end_time": "2020-12-17T14:27:09.484691Z",
     "start_time": "2020-12-17T14:27:09.473696Z"
    }
   },
   "outputs": [],
   "source": [
    "from scipy import stats"
   ]
  },
  {
   "cell_type": "code",
   "execution_count": 20,
   "metadata": {
    "ExecuteTime": {
     "end_time": "2020-12-17T14:27:32.271977Z",
     "start_time": "2020-12-17T14:27:09.489690Z"
    }
   },
   "outputs": [],
   "source": [
    "test = data_1.compute()"
   ]
  },
  {
   "cell_type": "code",
   "execution_count": 21,
   "metadata": {
    "ExecuteTime": {
     "end_time": "2020-12-17T14:27:32.586067Z",
     "start_time": "2020-12-17T14:27:32.271977Z"
    }
   },
   "outputs": [],
   "source": [
    "z = np.abs(stats.zscore(test['Price']))"
   ]
  },
  {
   "cell_type": "code",
   "execution_count": 22,
   "metadata": {
    "ExecuteTime": {
     "end_time": "2020-12-17T14:27:32.601058Z",
     "start_time": "2020-12-17T14:27:32.590055Z"
    }
   },
   "outputs": [
    {
     "name": "stdout",
     "output_type": "stream",
     "text": [
      "[0.16640179 0.02539634 0.34104157 ... 0.01246006 0.32034352 0.17933807]\n"
     ]
    }
   ],
   "source": [
    "print(z)"
   ]
  },
  {
   "cell_type": "code",
   "execution_count": 23,
   "metadata": {
    "ExecuteTime": {
     "end_time": "2020-12-17T14:27:32.742795Z",
     "start_time": "2020-12-17T14:27:32.621052Z"
    }
   },
   "outputs": [
    {
     "data": {
      "text/plain": [
       "127.57289694025548"
      ]
     },
     "execution_count": 23,
     "metadata": {},
     "output_type": "execute_result"
    }
   ],
   "source": [
    "z.max()"
   ]
  },
  {
   "cell_type": "code",
   "execution_count": 24,
   "metadata": {
    "ExecuteTime": {
     "end_time": "2020-12-17T14:27:32.855087Z",
     "start_time": "2020-12-17T14:27:32.745707Z"
    }
   },
   "outputs": [
    {
     "data": {
      "text/plain": [
       "8.885407939751427e-06"
      ]
     },
     "execution_count": 24,
     "metadata": {},
     "output_type": "execute_result"
    }
   ],
   "source": [
    "z.min()"
   ]
  },
  {
   "cell_type": "code",
   "execution_count": 25,
   "metadata": {
    "ExecuteTime": {
     "end_time": "2020-12-17T14:27:33.035505Z",
     "start_time": "2020-12-17T14:27:32.861813Z"
    }
   },
   "outputs": [
    {
     "data": {
      "text/plain": [
       "0.22756214708645786"
      ]
     },
     "execution_count": 25,
     "metadata": {},
     "output_type": "execute_result"
    }
   ],
   "source": [
    "z.mean()"
   ]
  },
  {
   "cell_type": "code",
   "execution_count": 27,
   "metadata": {
    "ExecuteTime": {
     "end_time": "2020-12-17T14:28:47.206209Z",
     "start_time": "2020-12-17T14:28:47.144199Z"
    }
   },
   "outputs": [],
   "source": [
    "x = np.where(z<=3)"
   ]
  },
  {
   "cell_type": "code",
   "execution_count": 32,
   "metadata": {
    "ExecuteTime": {
     "end_time": "2020-12-17T14:35:18.642954Z",
     "start_time": "2020-12-17T14:35:18.594955Z"
    }
   },
   "outputs": [],
   "source": [
    "data_1['z_score']= (data_1.Price - data_1.Price.mean()) / data_1.Price.std()\n"
   ]
  },
  {
   "cell_type": "code",
   "execution_count": 34,
   "metadata": {
    "ExecuteTime": {
     "end_time": "2020-12-17T14:36:00.201084Z",
     "start_time": "2020-12-17T14:35:39.006666Z"
    }
   },
   "outputs": [
    {
     "data": {
      "text/plain": [
       "0       -0.166402\n",
       "1       -0.025396\n",
       "2       -0.341042\n",
       "3       -0.250552\n",
       "4       -0.149585\n",
       "           ...   \n",
       "31306   -0.140529\n",
       "31307    0.392374\n",
       "31308   -0.012460\n",
       "31309   -0.320343\n",
       "31310   -0.179338\n",
       "Name: z_score, Length: 4876426, dtype: float64"
      ]
     },
     "execution_count": 34,
     "metadata": {},
     "output_type": "execute_result"
    }
   ],
   "source": [
    "data_1['z_score'].compute()"
   ]
  },
  {
   "cell_type": "code",
   "execution_count": 35,
   "metadata": {
    "ExecuteTime": {
     "end_time": "2020-12-17T14:36:57.957293Z",
     "start_time": "2020-12-17T14:36:38.534429Z"
    }
   },
   "outputs": [
    {
     "data": {
      "text/html": [
       "<div>\n",
       "<style scoped>\n",
       "    .dataframe tbody tr th:only-of-type {\n",
       "        vertical-align: middle;\n",
       "    }\n",
       "\n",
       "    .dataframe tbody tr th {\n",
       "        vertical-align: top;\n",
       "    }\n",
       "\n",
       "    .dataframe thead th {\n",
       "        text-align: right;\n",
       "    }\n",
       "</style>\n",
       "<table border=\"1\" class=\"dataframe\">\n",
       "  <thead>\n",
       "    <tr style=\"text-align: right;\">\n",
       "      <th></th>\n",
       "      <th>Unnamed: 0</th>\n",
       "      <th>Transaction unique identifier</th>\n",
       "      <th>Price</th>\n",
       "      <th>Date of Transfer</th>\n",
       "      <th>Property Type</th>\n",
       "      <th>Old/New</th>\n",
       "      <th>Duration</th>\n",
       "      <th>Town/City</th>\n",
       "      <th>District</th>\n",
       "      <th>County</th>\n",
       "      <th>PPDCategory Type</th>\n",
       "      <th>Record Status - monthly file only</th>\n",
       "      <th>z_score</th>\n",
       "    </tr>\n",
       "  </thead>\n",
       "  <tbody>\n",
       "    <tr>\n",
       "      <th>0</th>\n",
       "      <td>17612922</td>\n",
       "      <td>{BD0D075D-7818-47B3-9657-7651CBD02219}</td>\n",
       "      <td>155000</td>\n",
       "      <td>2012-09-28</td>\n",
       "      <td>S</td>\n",
       "      <td>N</td>\n",
       "      <td>F</td>\n",
       "      <td>YORK</td>\n",
       "      <td>YORK</td>\n",
       "      <td>YORK</td>\n",
       "      <td>A</td>\n",
       "      <td>A</td>\n",
       "      <td>-0.166402</td>\n",
       "    </tr>\n",
       "    <tr>\n",
       "      <th>1</th>\n",
       "      <td>17612923</td>\n",
       "      <td>{0FF70080-C8EA-4DDC-9C19-7651D9B540CC}</td>\n",
       "      <td>264000</td>\n",
       "      <td>2012-07-18</td>\n",
       "      <td>D</td>\n",
       "      <td>N</td>\n",
       "      <td>F</td>\n",
       "      <td>HAYLING ISLAND</td>\n",
       "      <td>HAVANT</td>\n",
       "      <td>HAMPSHIRE</td>\n",
       "      <td>A</td>\n",
       "      <td>A</td>\n",
       "      <td>-0.025396</td>\n",
       "    </tr>\n",
       "    <tr>\n",
       "      <th>2</th>\n",
       "      <td>17612924</td>\n",
       "      <td>{80CC2177-EDBE-4ABB-9EAA-7651DAA0E4EE}</td>\n",
       "      <td>20000</td>\n",
       "      <td>2012-04-25</td>\n",
       "      <td>T</td>\n",
       "      <td>N</td>\n",
       "      <td>F</td>\n",
       "      <td>HULL</td>\n",
       "      <td>CITY OF KINGSTON UPON HULL</td>\n",
       "      <td>CITY OF KINGSTON UPON HULL</td>\n",
       "      <td>A</td>\n",
       "      <td>A</td>\n",
       "      <td>-0.341042</td>\n",
       "    </tr>\n",
       "    <tr>\n",
       "      <th>3</th>\n",
       "      <td>17612925</td>\n",
       "      <td>{076B2969-50D6-4659-8956-7651ECAAB904}</td>\n",
       "      <td>89950</td>\n",
       "      <td>2012-10-25</td>\n",
       "      <td>S</td>\n",
       "      <td>N</td>\n",
       "      <td>F</td>\n",
       "      <td>WORKSOP</td>\n",
       "      <td>BASSETLAW</td>\n",
       "      <td>NOTTINGHAMSHIRE</td>\n",
       "      <td>A</td>\n",
       "      <td>A</td>\n",
       "      <td>-0.250552</td>\n",
       "    </tr>\n",
       "    <tr>\n",
       "      <th>4</th>\n",
       "      <td>17612926</td>\n",
       "      <td>{9A6B1BBC-3522-4B44-9FD6-765202F73E28}</td>\n",
       "      <td>168000</td>\n",
       "      <td>2012-04-13</td>\n",
       "      <td>S</td>\n",
       "      <td>N</td>\n",
       "      <td>F</td>\n",
       "      <td>TORQUAY</td>\n",
       "      <td>TORBAY</td>\n",
       "      <td>TORBAY</td>\n",
       "      <td>A</td>\n",
       "      <td>A</td>\n",
       "      <td>-0.149585</td>\n",
       "    </tr>\n",
       "  </tbody>\n",
       "</table>\n",
       "</div>"
      ],
      "text/plain": [
       "   Unnamed: 0           Transaction unique identifier   Price  \\\n",
       "0    17612922  {BD0D075D-7818-47B3-9657-7651CBD02219}  155000   \n",
       "1    17612923  {0FF70080-C8EA-4DDC-9C19-7651D9B540CC}  264000   \n",
       "2    17612924  {80CC2177-EDBE-4ABB-9EAA-7651DAA0E4EE}   20000   \n",
       "3    17612925  {076B2969-50D6-4659-8956-7651ECAAB904}   89950   \n",
       "4    17612926  {9A6B1BBC-3522-4B44-9FD6-765202F73E28}  168000   \n",
       "\n",
       "  Date of Transfer Property Type Old/New Duration       Town/City  \\\n",
       "0       2012-09-28             S       N        F            YORK   \n",
       "1       2012-07-18             D       N        F  HAYLING ISLAND   \n",
       "2       2012-04-25             T       N        F            HULL   \n",
       "3       2012-10-25             S       N        F         WORKSOP   \n",
       "4       2012-04-13             S       N        F         TORQUAY   \n",
       "\n",
       "                     District                      County PPDCategory Type  \\\n",
       "0                        YORK                        YORK                A   \n",
       "1                      HAVANT                   HAMPSHIRE                A   \n",
       "2  CITY OF KINGSTON UPON HULL  CITY OF KINGSTON UPON HULL                A   \n",
       "3                   BASSETLAW             NOTTINGHAMSHIRE                A   \n",
       "4                      TORBAY                      TORBAY                A   \n",
       "\n",
       "  Record Status - monthly file only   z_score  \n",
       "0                                 A -0.166402  \n",
       "1                                 A -0.025396  \n",
       "2                                 A -0.341042  \n",
       "3                                 A -0.250552  \n",
       "4                                 A -0.149585  "
      ]
     },
     "execution_count": 35,
     "metadata": {},
     "output_type": "execute_result"
    }
   ],
   "source": [
    "data_1.head()"
   ]
  },
  {
   "cell_type": "code",
   "execution_count": 36,
   "metadata": {
    "ExecuteTime": {
     "end_time": "2020-12-17T14:38:15.517571Z",
     "start_time": "2020-12-17T14:37:54.419707Z"
    }
   },
   "outputs": [
    {
     "data": {
      "text/plain": [
       "127.57288385968145"
      ]
     },
     "execution_count": 36,
     "metadata": {},
     "output_type": "execute_result"
    }
   ],
   "source": [
    "data_1['z_score'].max().compute()"
   ]
  },
  {
   "cell_type": "code",
   "execution_count": 41,
   "metadata": {
    "ExecuteTime": {
     "end_time": "2020-12-17T14:43:37.466443Z",
     "start_time": "2020-12-17T14:43:15.225180Z"
    }
   },
   "outputs": [
    {
     "data": {
      "text/plain": [
       "-0.3669128010288813"
      ]
     },
     "execution_count": 41,
     "metadata": {},
     "output_type": "execute_result"
    }
   ],
   "source": [
    "data_1['z_score'].min().compute()"
   ]
  },
  {
   "cell_type": "code",
   "execution_count": 42,
   "metadata": {
    "ExecuteTime": {
     "end_time": "2020-12-17T14:45:36.362332Z",
     "start_time": "2020-12-17T14:45:09.695712Z"
    }
   },
   "outputs": [
    {
     "data": {
      "text/html": [
       "<div>\n",
       "<style scoped>\n",
       "    .dataframe tbody tr th:only-of-type {\n",
       "        vertical-align: middle;\n",
       "    }\n",
       "\n",
       "    .dataframe tbody tr th {\n",
       "        vertical-align: top;\n",
       "    }\n",
       "\n",
       "    .dataframe thead th {\n",
       "        text-align: right;\n",
       "    }\n",
       "</style>\n",
       "<table border=\"1\" class=\"dataframe\">\n",
       "  <thead>\n",
       "    <tr style=\"text-align: right;\">\n",
       "      <th></th>\n",
       "      <th>Unnamed: 0</th>\n",
       "      <th>Transaction unique identifier</th>\n",
       "      <th>Price</th>\n",
       "      <th>Date of Transfer</th>\n",
       "      <th>Property Type</th>\n",
       "      <th>Old/New</th>\n",
       "      <th>Duration</th>\n",
       "      <th>Town/City</th>\n",
       "      <th>District</th>\n",
       "      <th>County</th>\n",
       "      <th>PPDCategory Type</th>\n",
       "      <th>Record Status - monthly file only</th>\n",
       "      <th>z_score</th>\n",
       "    </tr>\n",
       "  </thead>\n",
       "  <tbody>\n",
       "    <tr>\n",
       "      <th>0</th>\n",
       "      <td>17612922</td>\n",
       "      <td>{BD0D075D-7818-47B3-9657-7651CBD02219}</td>\n",
       "      <td>155000</td>\n",
       "      <td>2012-09-28</td>\n",
       "      <td>S</td>\n",
       "      <td>N</td>\n",
       "      <td>F</td>\n",
       "      <td>YORK</td>\n",
       "      <td>YORK</td>\n",
       "      <td>YORK</td>\n",
       "      <td>A</td>\n",
       "      <td>A</td>\n",
       "      <td>-0.166402</td>\n",
       "    </tr>\n",
       "    <tr>\n",
       "      <th>1</th>\n",
       "      <td>17612923</td>\n",
       "      <td>{0FF70080-C8EA-4DDC-9C19-7651D9B540CC}</td>\n",
       "      <td>264000</td>\n",
       "      <td>2012-07-18</td>\n",
       "      <td>D</td>\n",
       "      <td>N</td>\n",
       "      <td>F</td>\n",
       "      <td>HAYLING ISLAND</td>\n",
       "      <td>HAVANT</td>\n",
       "      <td>HAMPSHIRE</td>\n",
       "      <td>A</td>\n",
       "      <td>A</td>\n",
       "      <td>-0.025396</td>\n",
       "    </tr>\n",
       "    <tr>\n",
       "      <th>3</th>\n",
       "      <td>17612925</td>\n",
       "      <td>{076B2969-50D6-4659-8956-7651ECAAB904}</td>\n",
       "      <td>89950</td>\n",
       "      <td>2012-10-25</td>\n",
       "      <td>S</td>\n",
       "      <td>N</td>\n",
       "      <td>F</td>\n",
       "      <td>WORKSOP</td>\n",
       "      <td>BASSETLAW</td>\n",
       "      <td>NOTTINGHAMSHIRE</td>\n",
       "      <td>A</td>\n",
       "      <td>A</td>\n",
       "      <td>-0.250552</td>\n",
       "    </tr>\n",
       "    <tr>\n",
       "      <th>4</th>\n",
       "      <td>17612926</td>\n",
       "      <td>{9A6B1BBC-3522-4B44-9FD6-765202F73E28}</td>\n",
       "      <td>168000</td>\n",
       "      <td>2012-04-13</td>\n",
       "      <td>S</td>\n",
       "      <td>N</td>\n",
       "      <td>F</td>\n",
       "      <td>TORQUAY</td>\n",
       "      <td>TORBAY</td>\n",
       "      <td>TORBAY</td>\n",
       "      <td>A</td>\n",
       "      <td>A</td>\n",
       "      <td>-0.149585</td>\n",
       "    </tr>\n",
       "    <tr>\n",
       "      <th>5</th>\n",
       "      <td>17612927</td>\n",
       "      <td>{7DAF511C-49BA-4F8B-812A-72BF7A4C71EB}</td>\n",
       "      <td>280000</td>\n",
       "      <td>2012-07-06</td>\n",
       "      <td>S</td>\n",
       "      <td>N</td>\n",
       "      <td>F</td>\n",
       "      <td>WHITCHURCH</td>\n",
       "      <td>CHESHIRE EAST</td>\n",
       "      <td>CHESHIRE EAST</td>\n",
       "      <td>A</td>\n",
       "      <td>A</td>\n",
       "      <td>-0.004698</td>\n",
       "    </tr>\n",
       "    <tr>\n",
       "      <th>...</th>\n",
       "      <td>...</td>\n",
       "      <td>...</td>\n",
       "      <td>...</td>\n",
       "      <td>...</td>\n",
       "      <td>...</td>\n",
       "      <td>...</td>\n",
       "      <td>...</td>\n",
       "      <td>...</td>\n",
       "      <td>...</td>\n",
       "      <td>...</td>\n",
       "      <td>...</td>\n",
       "      <td>...</td>\n",
       "      <td>...</td>\n",
       "    </tr>\n",
       "    <tr>\n",
       "      <th>31305</th>\n",
       "      <td>22489342</td>\n",
       "      <td>{4C4EE000-2919-1854-E050-A8C063054F34}</td>\n",
       "      <td>103000</td>\n",
       "      <td>2017-02-09</td>\n",
       "      <td>S</td>\n",
       "      <td>N</td>\n",
       "      <td>F</td>\n",
       "      <td>PONTEFRACT</td>\n",
       "      <td>WAKEFIELD</td>\n",
       "      <td>WEST YORKSHIRE</td>\n",
       "      <td>A</td>\n",
       "      <td>A</td>\n",
       "      <td>-0.233670</td>\n",
       "    </tr>\n",
       "    <tr>\n",
       "      <th>31306</th>\n",
       "      <td>22489343</td>\n",
       "      <td>{4C4EE000-291A-1854-E050-A8C063054F34}</td>\n",
       "      <td>175000</td>\n",
       "      <td>2017-02-20</td>\n",
       "      <td>S</td>\n",
       "      <td>N</td>\n",
       "      <td>F</td>\n",
       "      <td>LEEDS</td>\n",
       "      <td>LEEDS</td>\n",
       "      <td>WEST YORKSHIRE</td>\n",
       "      <td>A</td>\n",
       "      <td>A</td>\n",
       "      <td>-0.140529</td>\n",
       "    </tr>\n",
       "    <tr>\n",
       "      <th>31307</th>\n",
       "      <td>22489344</td>\n",
       "      <td>{4C4EE000-291B-1854-E050-A8C063054F34}</td>\n",
       "      <td>586945</td>\n",
       "      <td>2017-02-15</td>\n",
       "      <td>D</td>\n",
       "      <td>N</td>\n",
       "      <td>F</td>\n",
       "      <td>WETHERBY</td>\n",
       "      <td>LEEDS</td>\n",
       "      <td>WEST YORKSHIRE</td>\n",
       "      <td>A</td>\n",
       "      <td>A</td>\n",
       "      <td>0.392374</td>\n",
       "    </tr>\n",
       "    <tr>\n",
       "      <th>31308</th>\n",
       "      <td>22489345</td>\n",
       "      <td>{4C4EE000-291C-1854-E050-A8C063054F34}</td>\n",
       "      <td>274000</td>\n",
       "      <td>2017-02-24</td>\n",
       "      <td>D</td>\n",
       "      <td>N</td>\n",
       "      <td>L</td>\n",
       "      <td>HUDDERSFIELD</td>\n",
       "      <td>KIRKLEES</td>\n",
       "      <td>WEST YORKSHIRE</td>\n",
       "      <td>A</td>\n",
       "      <td>A</td>\n",
       "      <td>-0.012460</td>\n",
       "    </tr>\n",
       "    <tr>\n",
       "      <th>31310</th>\n",
       "      <td>22489347</td>\n",
       "      <td>{4C4EE000-291E-1854-E050-A8C063054F34}</td>\n",
       "      <td>145000</td>\n",
       "      <td>2017-03-03</td>\n",
       "      <td>T</td>\n",
       "      <td>N</td>\n",
       "      <td>F</td>\n",
       "      <td>LEEDS</td>\n",
       "      <td>LEEDS</td>\n",
       "      <td>WEST YORKSHIRE</td>\n",
       "      <td>A</td>\n",
       "      <td>A</td>\n",
       "      <td>-0.179338</td>\n",
       "    </tr>\n",
       "  </tbody>\n",
       "</table>\n",
       "<p>4779886 rows × 13 columns</p>\n",
       "</div>"
      ],
      "text/plain": [
       "       Unnamed: 0           Transaction unique identifier   Price  \\\n",
       "0        17612922  {BD0D075D-7818-47B3-9657-7651CBD02219}  155000   \n",
       "1        17612923  {0FF70080-C8EA-4DDC-9C19-7651D9B540CC}  264000   \n",
       "3        17612925  {076B2969-50D6-4659-8956-7651ECAAB904}   89950   \n",
       "4        17612926  {9A6B1BBC-3522-4B44-9FD6-765202F73E28}  168000   \n",
       "5        17612927  {7DAF511C-49BA-4F8B-812A-72BF7A4C71EB}  280000   \n",
       "...           ...                                     ...     ...   \n",
       "31305    22489342  {4C4EE000-2919-1854-E050-A8C063054F34}  103000   \n",
       "31306    22489343  {4C4EE000-291A-1854-E050-A8C063054F34}  175000   \n",
       "31307    22489344  {4C4EE000-291B-1854-E050-A8C063054F34}  586945   \n",
       "31308    22489345  {4C4EE000-291C-1854-E050-A8C063054F34}  274000   \n",
       "31310    22489347  {4C4EE000-291E-1854-E050-A8C063054F34}  145000   \n",
       "\n",
       "      Date of Transfer Property Type Old/New Duration       Town/City  \\\n",
       "0           2012-09-28             S       N        F            YORK   \n",
       "1           2012-07-18             D       N        F  HAYLING ISLAND   \n",
       "3           2012-10-25             S       N        F         WORKSOP   \n",
       "4           2012-04-13             S       N        F         TORQUAY   \n",
       "5           2012-07-06             S       N        F      WHITCHURCH   \n",
       "...                ...           ...     ...      ...             ...   \n",
       "31305       2017-02-09             S       N        F      PONTEFRACT   \n",
       "31306       2017-02-20             S       N        F           LEEDS   \n",
       "31307       2017-02-15             D       N        F        WETHERBY   \n",
       "31308       2017-02-24             D       N        L    HUDDERSFIELD   \n",
       "31310       2017-03-03             T       N        F           LEEDS   \n",
       "\n",
       "            District           County PPDCategory Type  \\\n",
       "0               YORK             YORK                A   \n",
       "1             HAVANT        HAMPSHIRE                A   \n",
       "3          BASSETLAW  NOTTINGHAMSHIRE                A   \n",
       "4             TORBAY           TORBAY                A   \n",
       "5      CHESHIRE EAST    CHESHIRE EAST                A   \n",
       "...              ...              ...              ...   \n",
       "31305      WAKEFIELD   WEST YORKSHIRE                A   \n",
       "31306          LEEDS   WEST YORKSHIRE                A   \n",
       "31307          LEEDS   WEST YORKSHIRE                A   \n",
       "31308       KIRKLEES   WEST YORKSHIRE                A   \n",
       "31310          LEEDS   WEST YORKSHIRE                A   \n",
       "\n",
       "      Record Status - monthly file only   z_score  \n",
       "0                                     A -0.166402  \n",
       "1                                     A -0.025396  \n",
       "3                                     A -0.250552  \n",
       "4                                     A -0.149585  \n",
       "5                                     A -0.004698  \n",
       "...                                 ...       ...  \n",
       "31305                                 A -0.233670  \n",
       "31306                                 A -0.140529  \n",
       "31307                                 A  0.392374  \n",
       "31308                                 A -0.012460  \n",
       "31310                                 A -0.179338  \n",
       "\n",
       "[4779886 rows x 13 columns]"
      ]
     },
     "execution_count": 42,
     "metadata": {},
     "output_type": "execute_result"
    }
   ],
   "source": [
    "data_1[data_1['z_score']>-0.3].compute()"
   ]
  },
  {
   "cell_type": "code",
   "execution_count": 45,
   "metadata": {
    "ExecuteTime": {
     "end_time": "2020-12-17T14:47:48.179825Z",
     "start_time": "2020-12-17T14:47:26.565411Z"
    }
   },
   "outputs": [
    {
     "data": {
      "text/html": [
       "<div>\n",
       "<style scoped>\n",
       "    .dataframe tbody tr th:only-of-type {\n",
       "        vertical-align: middle;\n",
       "    }\n",
       "\n",
       "    .dataframe tbody tr th {\n",
       "        vertical-align: top;\n",
       "    }\n",
       "\n",
       "    .dataframe thead th {\n",
       "        text-align: right;\n",
       "    }\n",
       "</style>\n",
       "<table border=\"1\" class=\"dataframe\">\n",
       "  <thead>\n",
       "    <tr style=\"text-align: right;\">\n",
       "      <th></th>\n",
       "      <th>Unnamed: 0</th>\n",
       "      <th>Transaction unique identifier</th>\n",
       "      <th>Price</th>\n",
       "      <th>Date of Transfer</th>\n",
       "      <th>Property Type</th>\n",
       "      <th>Old/New</th>\n",
       "      <th>Duration</th>\n",
       "      <th>Town/City</th>\n",
       "      <th>District</th>\n",
       "      <th>County</th>\n",
       "      <th>PPDCategory Type</th>\n",
       "      <th>Record Status - monthly file only</th>\n",
       "      <th>z_score</th>\n",
       "    </tr>\n",
       "  </thead>\n",
       "  <tbody>\n",
       "    <tr>\n",
       "      <th>99235</th>\n",
       "      <td>21122191</td>\n",
       "      <td>{3E0330EF-8336-8D89-E050-A8C062052140}</td>\n",
       "      <td>1</td>\n",
       "      <td>2016-03-18</td>\n",
       "      <td>F</td>\n",
       "      <td>N</td>\n",
       "      <td>L</td>\n",
       "      <td>CARDIFF</td>\n",
       "      <td>CARDIFF</td>\n",
       "      <td>CARDIFF</td>\n",
       "      <td>A</td>\n",
       "      <td>A</td>\n",
       "      <td>-0.366913</td>\n",
       "    </tr>\n",
       "    <tr>\n",
       "      <th>34327</th>\n",
       "      <td>21235938</td>\n",
       "      <td>{3E0330EF-9876-8D89-E050-A8C062052140}</td>\n",
       "      <td>1</td>\n",
       "      <td>2016-08-09</td>\n",
       "      <td>F</td>\n",
       "      <td>N</td>\n",
       "      <td>L</td>\n",
       "      <td>BOURNEMOUTH</td>\n",
       "      <td>BOURNEMOUTH</td>\n",
       "      <td>BOURNEMOUTH</td>\n",
       "      <td>A</td>\n",
       "      <td>A</td>\n",
       "      <td>-0.366913</td>\n",
       "    </tr>\n",
       "    <tr>\n",
       "      <th>134032</th>\n",
       "      <td>21695040</td>\n",
       "      <td>{47844C7F-96B6-8986-E050-A8C063056488}</td>\n",
       "      <td>1</td>\n",
       "      <td>2016-08-18</td>\n",
       "      <td>F</td>\n",
       "      <td>N</td>\n",
       "      <td>L</td>\n",
       "      <td>BRIXHAM</td>\n",
       "      <td>TORBAY</td>\n",
       "      <td>TORBAY</td>\n",
       "      <td>A</td>\n",
       "      <td>A</td>\n",
       "      <td>-0.366913</td>\n",
       "    </tr>\n",
       "    <tr>\n",
       "      <th>139401</th>\n",
       "      <td>21879698</td>\n",
       "      <td>{4E95D757-8518-EDA1-E050-A8C0630539E2}</td>\n",
       "      <td>1</td>\n",
       "      <td>2016-04-01</td>\n",
       "      <td>T</td>\n",
       "      <td>N</td>\n",
       "      <td>F</td>\n",
       "      <td>SALFORD</td>\n",
       "      <td>SALFORD</td>\n",
       "      <td>GREATER MANCHESTER</td>\n",
       "      <td>A</td>\n",
       "      <td>A</td>\n",
       "      <td>-0.366913</td>\n",
       "    </tr>\n",
       "    <tr>\n",
       "      <th>102421</th>\n",
       "      <td>22022215</td>\n",
       "      <td>{2FD36065-20A0-4BF8-E050-A8C0620562B1}</td>\n",
       "      <td>1</td>\n",
       "      <td>2016-02-17</td>\n",
       "      <td>T</td>\n",
       "      <td>N</td>\n",
       "      <td>L</td>\n",
       "      <td>WEMBLEY</td>\n",
       "      <td>BRENT</td>\n",
       "      <td>GREATER LONDON</td>\n",
       "      <td>A</td>\n",
       "      <td>A</td>\n",
       "      <td>-0.366913</td>\n",
       "    </tr>\n",
       "    <tr>\n",
       "      <th>170784</th>\n",
       "      <td>22090578</td>\n",
       "      <td>{39140479-B79E-3206-E050-A8C063057647}</td>\n",
       "      <td>1</td>\n",
       "      <td>2016-06-17</td>\n",
       "      <td>F</td>\n",
       "      <td>N</td>\n",
       "      <td>L</td>\n",
       "      <td>LYNDHURST</td>\n",
       "      <td>NEW FOREST</td>\n",
       "      <td>HAMPSHIRE</td>\n",
       "      <td>A</td>\n",
       "      <td>A</td>\n",
       "      <td>-0.366913</td>\n",
       "    </tr>\n",
       "    <tr>\n",
       "      <th>26680</th>\n",
       "      <td>22304975</td>\n",
       "      <td>{50F18103-7165-9FD5-E050-A8C063054923}</td>\n",
       "      <td>1</td>\n",
       "      <td>2017-03-03</td>\n",
       "      <td>F</td>\n",
       "      <td>N</td>\n",
       "      <td>F</td>\n",
       "      <td>STOKE-ON-TRENT</td>\n",
       "      <td>STOKE-ON-TRENT</td>\n",
       "      <td>STOKE-ON-TRENT</td>\n",
       "      <td>A</td>\n",
       "      <td>A</td>\n",
       "      <td>-0.366913</td>\n",
       "    </tr>\n",
       "    <tr>\n",
       "      <th>101626</th>\n",
       "      <td>22379921</td>\n",
       "      <td>{4E95D757-6007-EDA1-E050-A8C0630539E2}</td>\n",
       "      <td>1</td>\n",
       "      <td>2017-03-30</td>\n",
       "      <td>S</td>\n",
       "      <td>N</td>\n",
       "      <td>F</td>\n",
       "      <td>SOUTHEND-ON-SEA</td>\n",
       "      <td>ROCHFORD</td>\n",
       "      <td>ESSEX</td>\n",
       "      <td>A</td>\n",
       "      <td>A</td>\n",
       "      <td>-0.366913</td>\n",
       "    </tr>\n",
       "  </tbody>\n",
       "</table>\n",
       "</div>"
      ],
      "text/plain": [
       "        Unnamed: 0           Transaction unique identifier  Price  \\\n",
       "99235     21122191  {3E0330EF-8336-8D89-E050-A8C062052140}      1   \n",
       "34327     21235938  {3E0330EF-9876-8D89-E050-A8C062052140}      1   \n",
       "134032    21695040  {47844C7F-96B6-8986-E050-A8C063056488}      1   \n",
       "139401    21879698  {4E95D757-8518-EDA1-E050-A8C0630539E2}      1   \n",
       "102421    22022215  {2FD36065-20A0-4BF8-E050-A8C0620562B1}      1   \n",
       "170784    22090578  {39140479-B79E-3206-E050-A8C063057647}      1   \n",
       "26680     22304975  {50F18103-7165-9FD5-E050-A8C063054923}      1   \n",
       "101626    22379921  {4E95D757-6007-EDA1-E050-A8C0630539E2}      1   \n",
       "\n",
       "       Date of Transfer Property Type Old/New Duration        Town/City  \\\n",
       "99235        2016-03-18             F       N        L          CARDIFF   \n",
       "34327        2016-08-09             F       N        L      BOURNEMOUTH   \n",
       "134032       2016-08-18             F       N        L          BRIXHAM   \n",
       "139401       2016-04-01             T       N        F          SALFORD   \n",
       "102421       2016-02-17             T       N        L          WEMBLEY   \n",
       "170784       2016-06-17             F       N        L        LYNDHURST   \n",
       "26680        2017-03-03             F       N        F   STOKE-ON-TRENT   \n",
       "101626       2017-03-30             S       N        F  SOUTHEND-ON-SEA   \n",
       "\n",
       "              District              County PPDCategory Type  \\\n",
       "99235          CARDIFF             CARDIFF                A   \n",
       "34327      BOURNEMOUTH         BOURNEMOUTH                A   \n",
       "134032          TORBAY              TORBAY                A   \n",
       "139401         SALFORD  GREATER MANCHESTER                A   \n",
       "102421           BRENT      GREATER LONDON                A   \n",
       "170784      NEW FOREST           HAMPSHIRE                A   \n",
       "26680   STOKE-ON-TRENT      STOKE-ON-TRENT                A   \n",
       "101626        ROCHFORD               ESSEX                A   \n",
       "\n",
       "       Record Status - monthly file only   z_score  \n",
       "99235                                  A -0.366913  \n",
       "34327                                  A -0.366913  \n",
       "134032                                 A -0.366913  \n",
       "139401                                 A -0.366913  \n",
       "102421                                 A -0.366913  \n",
       "170784                                 A -0.366913  \n",
       "26680                                  A -0.366913  \n",
       "101626                                 A -0.366913  "
      ]
     },
     "execution_count": 45,
     "metadata": {},
     "output_type": "execute_result"
    }
   ],
   "source": [
    "data_1[data_1['Price']==1].compute()"
   ]
  },
  {
   "cell_type": "markdown",
   "metadata": {},
   "source": [
    "To remove outliers we have decided to drop all the rows which price is less than 4000. Anything over 4000, we are keeping in pur data. In our data sets there were over 2000 inputs were outliers. After removing outlier, input of our data is decresed by 2000 rows."
   ]
  },
  {
   "cell_type": "code",
   "execution_count": 61,
   "metadata": {
    "ExecuteTime": {
     "end_time": "2020-12-17T16:41:30.091328Z",
     "start_time": "2020-12-17T16:41:30.078325Z"
    }
   },
   "outputs": [],
   "source": [
    "data_1=data_1[data_1.Price>=4000]"
   ]
  },
  {
   "cell_type": "code",
   "execution_count": 62,
   "metadata": {
    "ExecuteTime": {
     "end_time": "2020-12-17T16:42:26.996627Z",
     "start_time": "2020-12-17T16:41:49.863245Z"
    }
   },
   "outputs": [
    {
     "data": {
      "text/plain": [
       "count    4.874262e+06\n",
       "mean     2.837570e+05\n",
       "std      7.731686e+05\n",
       "min      4.000000e+03\n",
       "25%      1.465000e+05\n",
       "50%      2.250000e+05\n",
       "75%      3.500000e+05\n",
       "max      9.890000e+07\n",
       "Name: Price, dtype: float64"
      ]
     },
     "execution_count": 62,
     "metadata": {},
     "output_type": "execute_result"
    }
   ],
   "source": [
    "data_1.Price.describe().compute()"
   ]
  },
  {
   "cell_type": "code",
   "execution_count": null,
   "metadata": {},
   "outputs": [],
   "source": []
  },
  {
   "cell_type": "code",
   "execution_count": null,
   "metadata": {},
   "outputs": [],
   "source": []
  },
  {
   "cell_type": "code",
   "execution_count": null,
   "metadata": {},
   "outputs": [],
   "source": []
  },
  {
   "cell_type": "markdown",
   "metadata": {},
   "source": [
    "There are five kinds of unique property types: \n",
    "\n",
    "- D = Detached,\n",
    "- S = Semi-Detached,\n",
    "- T = Terraced,\n",
    "- F = Flats/Maisonettes,\n",
    "- O = Other"
   ]
  },
  {
   "cell_type": "code",
   "execution_count": 28,
   "metadata": {
    "ExecuteTime": {
     "end_time": "2020-12-17T14:29:32.364003Z",
     "start_time": "2020-12-17T14:29:11.990343Z"
    }
   },
   "outputs": [
    {
     "data": {
      "text/plain": [
       "unique          5\n",
       "count     4876426\n",
       "top             T\n",
       "freq      1411635\n",
       "Name: Property Type, dtype: object"
      ]
     },
     "execution_count": 28,
     "metadata": {},
     "output_type": "execute_result"
    }
   ],
   "source": [
    "# Before removing outliers\n",
    "data_1['Property Type'].describe().compute()"
   ]
  },
  {
   "cell_type": "code",
   "execution_count": 63,
   "metadata": {
    "ExecuteTime": {
     "end_time": "2020-12-17T16:47:39.872828Z",
     "start_time": "2020-12-17T16:47:06.618638Z"
    }
   },
   "outputs": [
    {
     "data": {
      "text/plain": [
       "unique          5\n",
       "count     4874262\n",
       "top             T\n",
       "freq      1411594\n",
       "Name: Property Type, dtype: object"
      ]
     },
     "execution_count": 63,
     "metadata": {},
     "output_type": "execute_result"
    }
   ],
   "source": [
    "# after removing outliers\n",
    "data_1['Property Type'].describe().compute()"
   ]
  },
  {
   "cell_type": "code",
   "execution_count": 29,
   "metadata": {
    "ExecuteTime": {
     "end_time": "2020-12-17T14:29:56.277247Z",
     "start_time": "2020-12-17T14:29:37.032579Z"
    }
   },
   "outputs": [
    {
     "data": {
      "text/plain": [
       "0    S\n",
       "1    D\n",
       "2    T\n",
       "3    F\n",
       "4    O\n",
       "Name: Property Type, dtype: object"
      ]
     },
     "execution_count": 29,
     "metadata": {},
     "output_type": "execute_result"
    }
   ],
   "source": [
    "# before removing outliers\n",
    "data_1['Property Type'].unique().compute()"
   ]
  },
  {
   "cell_type": "code",
   "execution_count": 64,
   "metadata": {
    "ExecuteTime": {
     "end_time": "2020-12-17T16:48:32.964771Z",
     "start_time": "2020-12-17T16:48:01.176142Z"
    }
   },
   "outputs": [
    {
     "data": {
      "text/plain": [
       "0    S\n",
       "1    D\n",
       "2    T\n",
       "3    F\n",
       "4    O\n",
       "Name: Property Type, dtype: object"
      ]
     },
     "execution_count": 64,
     "metadata": {},
     "output_type": "execute_result"
    }
   ],
   "source": [
    "# after removing outliers\n",
    "data_1['Property Type'].unique().compute()"
   ]
  },
  {
   "cell_type": "code",
   "execution_count": 30,
   "metadata": {
    "ExecuteTime": {
     "end_time": "2020-12-17T14:30:24.827094Z",
     "start_time": "2020-12-17T14:30:02.458203Z"
    }
   },
   "outputs": [
    {
     "data": {
      "text/plain": [
       "Text(0, 0.5, 'count')"
      ]
     },
     "execution_count": 30,
     "metadata": {},
     "output_type": "execute_result"
    },
    {
     "data": {
      "image/png": "[encoded data removed]",
      "text/plain": [
       "<Figure size 432x288 with 1 Axes>"
      ]
     },
     "metadata": {
      "needs_background": "light"
     },
     "output_type": "display_data"
    }
   ],
   "source": [
    "# before removing outliers\n",
    "plt.hist(data_1['Property Type'])\n",
    "plt.xlabel('Property Type')\n",
    "plt.ylabel('count')"
   ]
  },
  {
   "cell_type": "code",
   "execution_count": 65,
   "metadata": {
    "ExecuteTime": {
     "end_time": "2020-12-17T16:49:29.021962Z",
     "start_time": "2020-12-17T16:48:50.954340Z"
    }
   },
   "outputs": [
    {
     "data": {
      "text/plain": [
       "Text(0, 0.5, 'count')"
      ]
     },
     "execution_count": 65,
     "metadata": {},
     "output_type": "execute_result"
    },
    {
     "data": {
      "image/png": "[encoded data removed]",
      "text/plain": [
       "<Figure size 432x288 with 1 Axes>"
      ]
     },
     "metadata": {
      "needs_background": "light"
     },
     "output_type": "display_data"
    }
   ],
   "source": [
    "# after removing outliers\n",
    "plt.hist(data_1['Property Type'])\n",
    "plt.xlabel('Property Type')\n",
    "plt.ylabel('count')"
   ]
  },
  {
   "cell_type": "code",
   "execution_count": 31,
   "metadata": {
    "ExecuteTime": {
     "end_time": "2020-12-17T14:30:52.090177Z",
     "start_time": "2020-12-17T14:30:30.538345Z"
    }
   },
   "outputs": [
    {
     "data": {
      "text/plain": [
       "T    1411635\n",
       "S    1266366\n",
       "D    1141116\n",
       "F     957007\n",
       "O     100302\n",
       "Name: Property Type, dtype: int64"
      ]
     },
     "execution_count": 31,
     "metadata": {},
     "output_type": "execute_result"
    }
   ],
   "source": [
    "# before removing outliers\n",
    "data_1['Property Type'].value_counts().compute()"
   ]
  },
  {
   "cell_type": "code",
   "execution_count": 66,
   "metadata": {
    "ExecuteTime": {
     "end_time": "2020-12-17T16:50:24.056208Z",
     "start_time": "2020-12-17T16:49:47.776223Z"
    }
   },
   "outputs": [
    {
     "data": {
      "text/plain": [
       "T    1411594\n",
       "S    1266345\n",
       "D    1141107\n",
       "F     956980\n",
       "O      98236\n",
       "Name: Property Type, dtype: int64"
      ]
     },
     "execution_count": 66,
     "metadata": {},
     "output_type": "execute_result"
    }
   ],
   "source": [
    "# after removing outliers\n",
    "data_1['Property Type'].value_counts().compute()"
   ]
  },
  {
   "cell_type": "markdown",
   "metadata": {},
   "source": [
    "**From here we can see how many properties are newely built.**\n",
    "\n",
    "Indicates the age of the property and applies to all price paid transactions, residential and non-residential.\n",
    "\n",
    "- Y = a newly built property,\n",
    "- N = an established residential building"
   ]
  },
  {
   "cell_type": "code",
   "execution_count": 46,
   "metadata": {
    "ExecuteTime": {
     "end_time": "2020-12-17T15:20:46.116789Z",
     "start_time": "2020-12-17T15:20:06.220782Z"
    }
   },
   "outputs": [
    {
     "data": {
      "text/plain": [
       "unique          2\n",
       "count     4876426\n",
       "top             N\n",
       "freq      4391388\n",
       "Name: Old/New, dtype: object"
      ]
     },
     "execution_count": 46,
     "metadata": {},
     "output_type": "execute_result"
    }
   ],
   "source": [
    "# before removing outliers\n",
    "data_1['Old/New'].describe().compute()"
   ]
  },
  {
   "cell_type": "code",
   "execution_count": 67,
   "metadata": {
    "ExecuteTime": {
     "end_time": "2020-12-17T16:51:52.168544Z",
     "start_time": "2020-12-17T16:51:18.153471Z"
    }
   },
   "outputs": [
    {
     "data": {
      "text/plain": [
       "unique          2\n",
       "count     4874262\n",
       "top             N\n",
       "freq      4389297\n",
       "Name: Old/New, dtype: object"
      ]
     },
     "execution_count": 67,
     "metadata": {},
     "output_type": "execute_result"
    }
   ],
   "source": [
    "# after removing outliers\n",
    "data_1['Old/New'].describe().compute()"
   ]
  },
  {
   "cell_type": "code",
   "execution_count": 47,
   "metadata": {
    "ExecuteTime": {
     "end_time": "2020-12-17T15:22:48.618610Z",
     "start_time": "2020-12-17T15:22:13.383543Z"
    }
   },
   "outputs": [
    {
     "data": {
      "text/plain": [
       "Text(0, 0.5, 'count')"
      ]
     },
     "execution_count": 47,
     "metadata": {},
     "output_type": "execute_result"
    },
    {
     "data": {
      "image/png": "[encoded data removed]",
      "text/plain": [
       "<Figure size 432x288 with 1 Axes>"
      ]
     },
     "metadata": {
      "needs_background": "light"
     },
     "output_type": "display_data"
    }
   ],
   "source": [
    "# before removing outliers\n",
    "plt.hist(data_1['Old/New'])\n",
    "plt.xlabel('Old/New')\n",
    "plt.ylabel('count')"
   ]
  },
  {
   "cell_type": "code",
   "execution_count": 68,
   "metadata": {
    "ExecuteTime": {
     "end_time": "2020-12-17T16:52:59.607436Z",
     "start_time": "2020-12-17T16:52:17.060271Z"
    }
   },
   "outputs": [
    {
     "data": {
      "text/plain": [
       "Text(0, 0.5, 'count')"
      ]
     },
     "execution_count": 68,
     "metadata": {},
     "output_type": "execute_result"
    },
    {
     "data": {
      "image/png": "[encoded data removed]",
      "text/plain": [
       "<Figure size 432x288 with 1 Axes>"
      ]
     },
     "metadata": {
      "needs_background": "light"
     },
     "output_type": "display_data"
    }
   ],
   "source": [
    "# after removing outliers\n",
    "plt.hist(data_1['Old/New'])\n",
    "plt.xlabel('Old/New')\n",
    "plt.ylabel('count')"
   ]
  },
  {
   "cell_type": "code",
   "execution_count": 48,
   "metadata": {
    "ExecuteTime": {
     "end_time": "2020-12-17T15:23:24.329465Z",
     "start_time": "2020-12-17T15:22:55.960101Z"
    }
   },
   "outputs": [
    {
     "data": {
      "text/plain": [
       "N    4391388\n",
       "Y     485038\n",
       "Name: Old/New, dtype: int64"
      ]
     },
     "execution_count": 48,
     "metadata": {},
     "output_type": "execute_result"
    }
   ],
   "source": [
    "#before removing outliers\n",
    "data_1['Old/New'].value_counts().compute()"
   ]
  },
  {
   "cell_type": "code",
   "execution_count": 69,
   "metadata": {
    "ExecuteTime": {
     "end_time": "2020-12-17T16:53:41.992496Z",
     "start_time": "2020-12-17T16:53:03.880917Z"
    }
   },
   "outputs": [
    {
     "data": {
      "text/plain": [
       "N    4389297\n",
       "Y     484965\n",
       "Name: Old/New, dtype: int64"
      ]
     },
     "execution_count": 69,
     "metadata": {},
     "output_type": "execute_result"
    }
   ],
   "source": [
    "# after removing outliers\n",
    "data_1['Old/New'].value_counts().compute()"
   ]
  },
  {
   "cell_type": "markdown",
   "metadata": {},
   "source": [
    "**This column show the duration of each property tenant holds**\n",
    "\n",
    "Relates to the tenure:\n",
    "\n",
    "- F = Freehold,\n",
    "- L= Leasehold "
   ]
  },
  {
   "cell_type": "code",
   "execution_count": null,
   "metadata": {
    "ExecuteTime": {
     "end_time": "2020-12-17T14:27:34.461290Z",
     "start_time": "2020-12-17T13:53:04.443Z"
    }
   },
   "outputs": [],
   "source": [
    "plt.hist(data_1['Duration'])\n",
    "plt.xlabel('Duration')\n",
    "plt.ylabel('Count')"
   ]
  },
  {
   "cell_type": "code",
   "execution_count": 49,
   "metadata": {
    "ExecuteTime": {
     "end_time": "2020-12-17T15:24:03.563765Z",
     "start_time": "2020-12-17T15:23:31.072448Z"
    }
   },
   "outputs": [
    {
     "data": {
      "text/plain": [
       "unique          2\n",
       "count     4876426\n",
       "top             F\n",
       "freq      3659583\n",
       "Name: Duration, dtype: object"
      ]
     },
     "execution_count": 49,
     "metadata": {},
     "output_type": "execute_result"
    }
   ],
   "source": [
    "# With outliers\n",
    "data_1['Duration'].describe().compute()"
   ]
  },
  {
   "cell_type": "code",
   "execution_count": 70,
   "metadata": {
    "ExecuteTime": {
     "end_time": "2020-12-17T16:54:30.739163Z",
     "start_time": "2020-12-17T16:53:47.743226Z"
    }
   },
   "outputs": [
    {
     "data": {
      "text/plain": [
       "unique          2\n",
       "count     4874262\n",
       "top             F\n",
       "freq      3658226\n",
       "Name: Duration, dtype: object"
      ]
     },
     "execution_count": 70,
     "metadata": {},
     "output_type": "execute_result"
    }
   ],
   "source": [
    "# After removing outliers\n",
    "data_1['Duration'].describe().compute()"
   ]
  },
  {
   "cell_type": "code",
   "execution_count": 50,
   "metadata": {
    "ExecuteTime": {
     "end_time": "2020-12-17T15:26:05.865087Z",
     "start_time": "2020-12-17T15:25:34.023195Z"
    }
   },
   "outputs": [
    {
     "data": {
      "text/plain": [
       "Text(0, 0.5, 'Count')"
      ]
     },
     "execution_count": 50,
     "metadata": {},
     "output_type": "execute_result"
    },
    {
     "data": {
      "image/png": "[encoded data removed]",
      "text/plain": [
       "<Figure size 432x288 with 1 Axes>"
      ]
     },
     "metadata": {
      "needs_background": "light"
     },
     "output_type": "display_data"
    }
   ],
   "source": [
    "# With outliers\n",
    "plt.hist(data_1['Duration'])\n",
    "plt.xlabel('Duration')\n",
    "plt.ylabel('Count')"
   ]
  },
  {
   "cell_type": "code",
   "execution_count": 71,
   "metadata": {
    "ExecuteTime": {
     "end_time": "2020-12-17T16:55:25.332466Z",
     "start_time": "2020-12-17T16:54:45.572565Z"
    }
   },
   "outputs": [
    {
     "data": {
      "text/plain": [
       "Text(0, 0.5, 'Count')"
      ]
     },
     "execution_count": 71,
     "metadata": {},
     "output_type": "execute_result"
    },
    {
     "data": {
      "image/png": "[encoded data removed]",
      "text/plain": [
       "<Figure size 432x288 with 1 Axes>"
      ]
     },
     "metadata": {
      "needs_background": "light"
     },
     "output_type": "display_data"
    }
   ],
   "source": [
    "# After removing outliers\n",
    "plt.hist(data_1['Duration'])\n",
    "plt.xlabel('Duration')\n",
    "plt.ylabel('Count')"
   ]
  },
  {
   "cell_type": "code",
   "execution_count": 51,
   "metadata": {
    "ExecuteTime": {
     "end_time": "2020-12-17T15:33:14.592315Z",
     "start_time": "2020-12-17T15:32:36.485392Z"
    }
   },
   "outputs": [
    {
     "data": {
      "text/plain": [
       "F    3659583\n",
       "L    1216843\n",
       "Name: Duration, dtype: int64"
      ]
     },
     "execution_count": 51,
     "metadata": {},
     "output_type": "execute_result"
    }
   ],
   "source": [
    "# before removing outliers\n",
    "data_1['Duration'].value_counts().compute()"
   ]
  },
  {
   "cell_type": "code",
   "execution_count": 72,
   "metadata": {
    "ExecuteTime": {
     "end_time": "2020-12-17T16:56:09.532007Z",
     "start_time": "2020-12-17T16:55:37.490999Z"
    }
   },
   "outputs": [
    {
     "data": {
      "text/plain": [
       "F    3658226\n",
       "L    1216036\n",
       "Name: Duration, dtype: int64"
      ]
     },
     "execution_count": 72,
     "metadata": {},
     "output_type": "execute_result"
    }
   ],
   "source": [
    "# after removing outliers\n",
    "data_1['Duration'].value_counts().compute()"
   ]
  },
  {
   "cell_type": "markdown",
   "metadata": {},
   "source": [
    " This column shows the Town/City where property are located. And shows there are 1151 Town/City where property are situated in UK."
   ]
  },
  {
   "cell_type": "code",
   "execution_count": 52,
   "metadata": {
    "ExecuteTime": {
     "end_time": "2020-12-17T15:45:47.454501Z",
     "start_time": "2020-12-17T15:44:46.772996Z"
    }
   },
   "outputs": [
    {
     "data": {
      "text/plain": [
       "unique       1151\n",
       "count     4876426\n",
       "top        LONDON\n",
       "freq       381949\n",
       "Name: Town/City, dtype: object"
      ]
     },
     "execution_count": 52,
     "metadata": {},
     "output_type": "execute_result"
    }
   ],
   "source": [
    "# With Outliers\n",
    "data_1['Town/City'].describe().compute()"
   ]
  },
  {
   "cell_type": "code",
   "execution_count": 73,
   "metadata": {
    "ExecuteTime": {
     "end_time": "2020-12-17T16:56:59.156294Z",
     "start_time": "2020-12-17T16:56:22.721003Z"
    }
   },
   "outputs": [
    {
     "data": {
      "text/plain": [
       "unique       1151\n",
       "count     4874262\n",
       "top        LONDON\n",
       "freq       381726\n",
       "Name: Town/City, dtype: object"
      ]
     },
     "execution_count": 73,
     "metadata": {},
     "output_type": "execute_result"
    }
   ],
   "source": [
    "# after removing outliers\n",
    "data_1['Town/City'].describe().compute()"
   ]
  },
  {
   "cell_type": "code",
   "execution_count": 53,
   "metadata": {
    "ExecuteTime": {
     "end_time": "2020-12-17T15:52:11.404056Z",
     "start_time": "2020-12-17T15:51:11.623315Z"
    }
   },
   "outputs": [
    {
     "data": {
      "text/plain": [
       "LONDON           381949\n",
       "BRISTOL           79066\n",
       "MANCHESTER        76813\n",
       "BIRMINGHAM        67999\n",
       "NOTTINGHAM        65055\n",
       "                  ...  \n",
       "NEWCASTLETON          9\n",
       "MINDRUM               9\n",
       "GATWICK               5\n",
       "GRETNA                1\n",
       "PORT DINORWIC         1\n",
       "Name: Town/City, Length: 1151, dtype: int64"
      ]
     },
     "execution_count": 53,
     "metadata": {},
     "output_type": "execute_result"
    }
   ],
   "source": [
    "# Before Outliers\n",
    "data_1['Town/City'].value_counts().compute()"
   ]
  },
  {
   "cell_type": "code",
   "execution_count": 74,
   "metadata": {
    "ExecuteTime": {
     "end_time": "2020-12-17T16:58:13.139366Z",
     "start_time": "2020-12-17T16:57:17.439279Z"
    }
   },
   "outputs": [
    {
     "data": {
      "text/plain": [
       "LONDON           381726\n",
       "BRISTOL           79027\n",
       "MANCHESTER        76761\n",
       "BIRMINGHAM        67986\n",
       "NOTTINGHAM        65025\n",
       "                  ...  \n",
       "NEWCASTLETON          9\n",
       "MINDRUM               9\n",
       "GATWICK               5\n",
       "GRETNA                1\n",
       "PORT DINORWIC         1\n",
       "Name: Town/City, Length: 1151, dtype: int64"
      ]
     },
     "execution_count": 74,
     "metadata": {},
     "output_type": "execute_result"
    }
   ],
   "source": [
    "# After outliers\n",
    "data_1['Town/City'].value_counts().compute()"
   ]
  },
  {
   "cell_type": "code",
   "execution_count": 54,
   "metadata": {
    "ExecuteTime": {
     "end_time": "2020-12-17T15:53:03.758590Z",
     "start_time": "2020-12-17T15:52:21.138256Z"
    }
   },
   "outputs": [
    {
     "data": {
      "text/plain": [
       "unique           349\n",
       "count        4876426\n",
       "top       BIRMINGHAM\n",
       "freq           67471\n",
       "Name: District, dtype: object"
      ]
     },
     "execution_count": 54,
     "metadata": {},
     "output_type": "execute_result"
    }
   ],
   "source": [
    "# Before removing outliers\n",
    "data_1['District'].describe().compute()"
   ]
  },
  {
   "cell_type": "code",
   "execution_count": 75,
   "metadata": {
    "ExecuteTime": {
     "end_time": "2020-12-17T16:59:09.763816Z",
     "start_time": "2020-12-17T16:58:28.276778Z"
    }
   },
   "outputs": [
    {
     "data": {
      "text/plain": [
       "unique           349\n",
       "count        4874262\n",
       "top       BIRMINGHAM\n",
       "freq           67456\n",
       "Name: District, dtype: object"
      ]
     },
     "execution_count": 75,
     "metadata": {},
     "output_type": "execute_result"
    }
   ],
   "source": [
    "# After outliers\n",
    "data_1['District'].describe().compute()"
   ]
  },
  {
   "cell_type": "code",
   "execution_count": 55,
   "metadata": {
    "ExecuteTime": {
     "end_time": "2020-12-17T15:57:07.743937Z",
     "start_time": "2020-12-17T15:56:14.310022Z"
    }
   },
   "outputs": [
    {
     "data": {
      "text/plain": [
       "BIRMINGHAM         67471\n",
       "LEEDS              64684\n",
       "CORNWALL           55319\n",
       "WILTSHIRE          46290\n",
       "CITY OF BRISTOL    41594\n",
       "                   ...  \n",
       "MERTHYR TYDFIL      3811\n",
       "WEST SOMERSET       3570\n",
       "CITY OF LONDON      1817\n",
       "ISLES OF SCILLY      108\n",
       "MACCLESFIELD           1\n",
       "Name: District, Length: 349, dtype: int64"
      ]
     },
     "execution_count": 55,
     "metadata": {},
     "output_type": "execute_result"
    }
   ],
   "source": [
    "# Before Outliers\n",
    "data_1['District'].value_counts().compute()"
   ]
  },
  {
   "cell_type": "code",
   "execution_count": 76,
   "metadata": {
    "ExecuteTime": {
     "end_time": "2020-12-17T17:00:37.890455Z",
     "start_time": "2020-12-17T16:59:36.228629Z"
    }
   },
   "outputs": [
    {
     "data": {
      "text/plain": [
       "BIRMINGHAM         67456\n",
       "LEEDS              64669\n",
       "CORNWALL           55300\n",
       "WILTSHIRE          46273\n",
       "CITY OF BRISTOL    41572\n",
       "                   ...  \n",
       "MERTHYR TYDFIL      3806\n",
       "WEST SOMERSET       3566\n",
       "CITY OF LONDON      1815\n",
       "ISLES OF SCILLY      108\n",
       "MACCLESFIELD           1\n",
       "Name: District, Length: 349, dtype: int64"
      ]
     },
     "execution_count": 76,
     "metadata": {},
     "output_type": "execute_result"
    }
   ],
   "source": [
    "# after removing outliers\n",
    "data_1['District'].value_counts().compute()"
   ]
  },
  {
   "cell_type": "code",
   "execution_count": 56,
   "metadata": {
    "ExecuteTime": {
     "end_time": "2020-12-17T15:58:11.734221Z",
     "start_time": "2020-12-17T15:57:28.656250Z"
    }
   },
   "outputs": [
    {
     "data": {
      "text/plain": [
       "unique               113\n",
       "count            4876426\n",
       "top       GREATER LONDON\n",
       "freq              630886\n",
       "Name: County, dtype: object"
      ]
     },
     "execution_count": 56,
     "metadata": {},
     "output_type": "execute_result"
    }
   ],
   "source": [
    "# Before removing outliers\n",
    "data_1['County'].describe().compute()"
   ]
  },
  {
   "cell_type": "code",
   "execution_count": 77,
   "metadata": {
    "ExecuteTime": {
     "end_time": "2020-12-17T17:01:39.895124Z",
     "start_time": "2020-12-17T17:00:56.469342Z"
    }
   },
   "outputs": [
    {
     "data": {
      "text/plain": [
       "unique               113\n",
       "count            4874262\n",
       "top       GREATER LONDON\n",
       "freq              630522\n",
       "Name: County, dtype: object"
      ]
     },
     "execution_count": 77,
     "metadata": {},
     "output_type": "execute_result"
    }
   ],
   "source": [
    "# after removing outliers\n",
    "data_1['County'].describe().compute()"
   ]
  },
  {
   "cell_type": "code",
   "execution_count": 57,
   "metadata": {
    "ExecuteTime": {
     "end_time": "2020-12-17T16:06:41.463742Z",
     "start_time": "2020-12-17T16:05:44.776000Z"
    }
   },
   "outputs": [
    {
     "data": {
      "text/plain": [
       "GREATER LONDON        630886\n",
       "GREATER MANCHESTER    207497\n",
       "WEST MIDLANDS         181430\n",
       "WEST YORKSHIRE        176755\n",
       "KENT                  146347\n",
       "                       ...  \n",
       "BLAENAU GWENT           4133\n",
       "RUTLAND                 3956\n",
       "MERTHYR TYDFIL          3811\n",
       "ISLES OF SCILLY          108\n",
       "CHESHIRE                   1\n",
       "Name: County, Length: 113, dtype: int64"
      ]
     },
     "execution_count": 57,
     "metadata": {},
     "output_type": "execute_result"
    }
   ],
   "source": [
    "# Before removing the outliers\n",
    "data_1['County'].value_counts().compute()"
   ]
  },
  {
   "cell_type": "code",
   "execution_count": 78,
   "metadata": {
    "ExecuteTime": {
     "end_time": "2020-12-17T17:02:28.952381Z",
     "start_time": "2020-12-17T17:01:50.309202Z"
    }
   },
   "outputs": [
    {
     "data": {
      "text/plain": [
       "GREATER LONDON        630522\n",
       "GREATER MANCHESTER    207297\n",
       "WEST MIDLANDS         181388\n",
       "WEST YORKSHIRE        176696\n",
       "KENT                  146286\n",
       "                       ...  \n",
       "BLAENAU GWENT           4131\n",
       "RUTLAND                 3956\n",
       "MERTHYR TYDFIL          3806\n",
       "ISLES OF SCILLY          108\n",
       "CHESHIRE                   1\n",
       "Name: County, Length: 113, dtype: int64"
      ]
     },
     "execution_count": 78,
     "metadata": {},
     "output_type": "execute_result"
    }
   ],
   "source": [
    "# after removing the outliers\n",
    "data_1['County'].value_counts().compute()"
   ]
  },
  {
   "cell_type": "code",
   "execution_count": null,
   "metadata": {},
   "outputs": [],
   "source": []
  },
  {
   "cell_type": "markdown",
   "metadata": {},
   "source": [
    "**This cloumn shows how the payment type, there are two types of payments A and B**\n",
    "\n",
    "PPD Category Type: Indicates the type of Price Paid transaction.\n",
    "\n",
    "- A = Standard Price Paid entry, includes single residential property sold for full market value.\n",
    "- B = Additional Price Paid entry including transfers under a power of sale/repossessions (*)"
   ]
  },
  {
   "cell_type": "code",
   "execution_count": 58,
   "metadata": {
    "ExecuteTime": {
     "end_time": "2020-12-17T16:07:44.861102Z",
     "start_time": "2020-12-17T16:06:43.071275Z"
    }
   },
   "outputs": [
    {
     "data": {
      "text/plain": [
       "unique          2\n",
       "count     4876426\n",
       "top             A\n",
       "freq      4528873\n",
       "Name: PPDCategory Type, dtype: object"
      ]
     },
     "execution_count": 58,
     "metadata": {},
     "output_type": "execute_result"
    }
   ],
   "source": [
    "# Before removing the outliers\n",
    "data_1['PPDCategory Type'].describe().compute()"
   ]
  },
  {
   "cell_type": "code",
   "execution_count": 79,
   "metadata": {
    "ExecuteTime": {
     "end_time": "2020-12-17T17:03:23.074641Z",
     "start_time": "2020-12-17T17:02:48.778248Z"
    }
   },
   "outputs": [
    {
     "data": {
      "text/plain": [
       "unique          2\n",
       "count     4874262\n",
       "top             A\n",
       "freq      4528850\n",
       "Name: PPDCategory Type, dtype: object"
      ]
     },
     "execution_count": 79,
     "metadata": {},
     "output_type": "execute_result"
    }
   ],
   "source": [
    "# After removing the outliers\n",
    "data_1['PPDCategory Type'].describe().compute()"
   ]
  },
  {
   "cell_type": "code",
   "execution_count": 59,
   "metadata": {
    "ExecuteTime": {
     "end_time": "2020-12-17T16:08:54.162849Z",
     "start_time": "2020-12-17T16:08:02.752812Z"
    }
   },
   "outputs": [
    {
     "data": {
      "text/plain": [
       "Text(0, 0.5, 'Count')"
      ]
     },
     "execution_count": 59,
     "metadata": {},
     "output_type": "execute_result"
    },
    {
     "data": {
      "image/png": "[encoded data removed]",
      "text/plain": [
       "<Figure size 432x288 with 1 Axes>"
      ]
     },
     "metadata": {
      "needs_background": "light"
     },
     "output_type": "display_data"
    }
   ],
   "source": [
    "# Before removing the outliers\n",
    "plt.hist(data_1['PPDCategory Type'])\n",
    "plt.xlabel('PPDCategory Type')\n",
    "plt.ylabel('Count')"
   ]
  },
  {
   "cell_type": "code",
   "execution_count": 60,
   "metadata": {
    "ExecuteTime": {
     "end_time": "2020-12-17T16:09:44.093702Z",
     "start_time": "2020-12-17T16:08:57.860217Z"
    }
   },
   "outputs": [
    {
     "data": {
      "text/plain": [
       "A    4528873\n",
       "B     347553\n",
       "Name: PPDCategory Type, dtype: int64"
      ]
     },
     "execution_count": 60,
     "metadata": {},
     "output_type": "execute_result"
    }
   ],
   "source": [
    "# Before removing the outliers\n",
    "data_1['PPDCategory Type'].value_counts().compute()"
   ]
  },
  {
   "cell_type": "code",
   "execution_count": 80,
   "metadata": {
    "ExecuteTime": {
     "end_time": "2020-12-17T17:04:50.592239Z",
     "start_time": "2020-12-17T17:03:35.158241Z"
    }
   },
   "outputs": [
    {
     "data": {
      "text/plain": [
       "A    4528850\n",
       "B     345412\n",
       "Name: PPDCategory Type, dtype: int64"
      ]
     },
     "execution_count": 80,
     "metadata": {},
     "output_type": "execute_result"
    }
   ],
   "source": [
    "# after removing the outliers\n",
    "data_1['PPDCategory Type'].value_counts().compute()"
   ]
  },
  {
   "cell_type": "code",
   "execution_count": null,
   "metadata": {},
   "outputs": [],
   "source": []
  }
 ],
 "metadata": {
  "kernelspec": {
   "display_name": "Python 3",
   "language": "python",
   "name": "python3"
  },
  "language_info": {
   "codemirror_mode": {
    "name": "ipython",
    "version": 3
   },
   "file_extension": ".py",
   "mimetype": "text/x-python",
   "name": "python",
   "nbconvert_exporter": "python",
   "pygments_lexer": "ipython3",
   "version": "3.8.3"
  },
  "latex_envs": {
   "LaTeX_envs_menu_present": true,
   "autoclose": false,
   "autocomplete": true,
   "bibliofile": "biblio.bib",
   "cite_by": "apalike",
   "current_citInitial": 1,
   "eqLabelWithNumbers": true,
   "eqNumInitial": 1,
   "hotkeys": {
    "equation": "Ctrl-E",
    "itemize": "Ctrl-I"
   },
   "labels_anchors": false,
   "latex_user_defs": false,
   "report_style_numbering": false,
   "user_envs_cfg": false
  },
  "toc": {
   "base_numbering": 1,
   "nav_menu": {},
   "number_sections": true,
   "sideBar": true,
   "skip_h1_title": false,
   "title_cell": "Table of Contents",
   "title_sidebar": "Contents",
   "toc_cell": false,
   "toc_position": {},
   "toc_section_display": true,
   "toc_window_display": false
  },
  "varInspector": {
   "cols": {
    "lenName": 16,
    "lenType": 16,
    "lenVar": 40
   },
   "kernels_config": {
    "python": {
     "delete_cmd_postfix": "",
     "delete_cmd_prefix": "del ",
     "library": "var_list.py",
     "varRefreshCmd": "print(var_dic_list())"
    },
    "r": {
     "delete_cmd_postfix": ") ",
     "delete_cmd_prefix": "rm(",
     "library": "var_list.r",
     "varRefreshCmd": "cat(var_dic_list()) "
    }
   },
   "types_to_exclude": [
    "module",
    "function",
    "builtin_function_or_method",
    "instance",
    "_Feature"
   ],
   "window_display": false
  }
 },
 "nbformat": 4,
 "nbformat_minor": 2
}

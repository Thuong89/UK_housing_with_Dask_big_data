{
 "cells": [
  {
   "cell_type": "code",
   "execution_count": 1,
   "metadata": {
    "ExecuteTime": {
     "end_time": "2020-12-17T13:52:32.807723Z",
     "start_time": "2020-12-17T13:52:30.867616Z"
    }
   },
   "outputs": [],
   "source": [
    "import dask.dataframe as dd"
   ]
  },
  {
   "cell_type": "code",
   "execution_count": 17,
   "metadata": {
    "ExecuteTime": {
     "end_time": "2020-12-17T13:56:22.959631Z",
     "start_time": "2020-12-17T13:56:22.954632Z"
    }
   },
   "outputs": [],
   "source": [
    "import pandas as pd"
   ]
  },
  {
   "cell_type": "code",
   "execution_count": 2,
   "metadata": {
    "ExecuteTime": {
     "end_time": "2020-12-17T13:52:35.306811Z",
     "start_time": "2020-12-17T13:52:32.810763Z"
    }
   },
   "outputs": [
    {
     "name": "stderr",
     "output_type": "stream",
     "text": [
      "C:\\Users\\Sophia\\anaconda3\\lib\\site-packages\\distributed\\node.py:151: UserWarning: Port 8787 is already in use.\n",
      "Perhaps you already have a cluster running?\n",
      "Hosting the HTTP server on port 51004 instead\n",
      "  warnings.warn(\n"
     ]
    },
    {
     "data": {
      "application/vnd.jupyter.widget-view+json": {
       "model_id": "1f4144c5e4144d909bea88f2cac68639",
       "version_major": 2,
       "version_minor": 0
      },
      "text/plain": [
       "VBox(children=(HTML(value='<h2>LocalCluster</h2>'), HBox(children=(HTML(value='\\n<div>\\n  <style scoped>\\n    …"
      ]
     },
     "metadata": {},
     "output_type": "display_data"
    }
   ],
   "source": [
    "from dask.distributed import Client\n",
    "client=Client(n_workers=2, threads_per_worker=2) # this set up 1 worker per core\n",
    "client.cluster"
   ]
  },
  {
   "cell_type": "code",
   "execution_count": 3,
   "metadata": {
    "ExecuteTime": {
     "end_time": "2020-12-17T13:52:35.393810Z",
     "start_time": "2020-12-17T13:52:35.313808Z"
    }
   },
   "outputs": [],
   "source": [
    "DATA=dd.read_csv('data2012up.csv/0.part',parse_dates=[3],blocksize='20MB')"
   ]
  },
  {
   "cell_type": "code",
   "execution_count": 4,
   "metadata": {
    "ExecuteTime": {
     "end_time": "2020-12-17T13:52:56.651395Z",
     "start_time": "2020-12-17T13:52:35.398823Z"
    }
   },
   "outputs": [],
   "source": [
    "test=DATA.compute()"
   ]
  },
  {
   "cell_type": "code",
   "execution_count": 5,
   "metadata": {
    "ExecuteTime": {
     "end_time": "2020-12-17T13:52:56.716077Z",
     "start_time": "2020-12-17T13:52:56.654092Z"
    }
   },
   "outputs": [
    {
     "data": {
      "text/html": [
       "<div>\n",
       "<style scoped>\n",
       "    .dataframe tbody tr th:only-of-type {\n",
       "        vertical-align: middle;\n",
       "    }\n",
       "\n",
       "    .dataframe tbody tr th {\n",
       "        vertical-align: top;\n",
       "    }\n",
       "\n",
       "    .dataframe thead th {\n",
       "        text-align: right;\n",
       "    }\n",
       "</style>\n",
       "<table border=\"1\" class=\"dataframe\">\n",
       "  <thead>\n",
       "    <tr style=\"text-align: right;\">\n",
       "      <th></th>\n",
       "      <th>Unnamed: 0</th>\n",
       "      <th>Transaction unique identifier</th>\n",
       "      <th>Price</th>\n",
       "      <th>Date of Transfer</th>\n",
       "      <th>Property Type</th>\n",
       "      <th>Old/New</th>\n",
       "      <th>Duration</th>\n",
       "      <th>Town/City</th>\n",
       "      <th>District</th>\n",
       "      <th>County</th>\n",
       "      <th>PPDCategory Type</th>\n",
       "      <th>Record Status - monthly file only</th>\n",
       "    </tr>\n",
       "  </thead>\n",
       "  <tbody>\n",
       "    <tr>\n",
       "      <th>0</th>\n",
       "      <td>17612922</td>\n",
       "      <td>{BD0D075D-7818-47B3-9657-7651CBD02219}</td>\n",
       "      <td>155000</td>\n",
       "      <td>2012-09-28</td>\n",
       "      <td>S</td>\n",
       "      <td>N</td>\n",
       "      <td>F</td>\n",
       "      <td>YORK</td>\n",
       "      <td>YORK</td>\n",
       "      <td>YORK</td>\n",
       "      <td>A</td>\n",
       "      <td>A</td>\n",
       "    </tr>\n",
       "    <tr>\n",
       "      <th>1</th>\n",
       "      <td>17612923</td>\n",
       "      <td>{0FF70080-C8EA-4DDC-9C19-7651D9B540CC}</td>\n",
       "      <td>264000</td>\n",
       "      <td>2012-07-18</td>\n",
       "      <td>D</td>\n",
       "      <td>N</td>\n",
       "      <td>F</td>\n",
       "      <td>HAYLING ISLAND</td>\n",
       "      <td>HAVANT</td>\n",
       "      <td>HAMPSHIRE</td>\n",
       "      <td>A</td>\n",
       "      <td>A</td>\n",
       "    </tr>\n",
       "    <tr>\n",
       "      <th>2</th>\n",
       "      <td>17612924</td>\n",
       "      <td>{80CC2177-EDBE-4ABB-9EAA-7651DAA0E4EE}</td>\n",
       "      <td>20000</td>\n",
       "      <td>2012-04-25</td>\n",
       "      <td>T</td>\n",
       "      <td>N</td>\n",
       "      <td>F</td>\n",
       "      <td>HULL</td>\n",
       "      <td>CITY OF KINGSTON UPON HULL</td>\n",
       "      <td>CITY OF KINGSTON UPON HULL</td>\n",
       "      <td>A</td>\n",
       "      <td>A</td>\n",
       "    </tr>\n",
       "    <tr>\n",
       "      <th>3</th>\n",
       "      <td>17612925</td>\n",
       "      <td>{076B2969-50D6-4659-8956-7651ECAAB904}</td>\n",
       "      <td>89950</td>\n",
       "      <td>2012-10-25</td>\n",
       "      <td>S</td>\n",
       "      <td>N</td>\n",
       "      <td>F</td>\n",
       "      <td>WORKSOP</td>\n",
       "      <td>BASSETLAW</td>\n",
       "      <td>NOTTINGHAMSHIRE</td>\n",
       "      <td>A</td>\n",
       "      <td>A</td>\n",
       "    </tr>\n",
       "    <tr>\n",
       "      <th>4</th>\n",
       "      <td>17612926</td>\n",
       "      <td>{9A6B1BBC-3522-4B44-9FD6-765202F73E28}</td>\n",
       "      <td>168000</td>\n",
       "      <td>2012-04-13</td>\n",
       "      <td>S</td>\n",
       "      <td>N</td>\n",
       "      <td>F</td>\n",
       "      <td>TORQUAY</td>\n",
       "      <td>TORBAY</td>\n",
       "      <td>TORBAY</td>\n",
       "      <td>A</td>\n",
       "      <td>A</td>\n",
       "    </tr>\n",
       "    <tr>\n",
       "      <th>...</th>\n",
       "      <td>...</td>\n",
       "      <td>...</td>\n",
       "      <td>...</td>\n",
       "      <td>...</td>\n",
       "      <td>...</td>\n",
       "      <td>...</td>\n",
       "      <td>...</td>\n",
       "      <td>...</td>\n",
       "      <td>...</td>\n",
       "      <td>...</td>\n",
       "      <td>...</td>\n",
       "      <td>...</td>\n",
       "    </tr>\n",
       "    <tr>\n",
       "      <th>31306</th>\n",
       "      <td>22489343</td>\n",
       "      <td>{4C4EE000-291A-1854-E050-A8C063054F34}</td>\n",
       "      <td>175000</td>\n",
       "      <td>2017-02-20</td>\n",
       "      <td>S</td>\n",
       "      <td>N</td>\n",
       "      <td>F</td>\n",
       "      <td>LEEDS</td>\n",
       "      <td>LEEDS</td>\n",
       "      <td>WEST YORKSHIRE</td>\n",
       "      <td>A</td>\n",
       "      <td>A</td>\n",
       "    </tr>\n",
       "    <tr>\n",
       "      <th>31307</th>\n",
       "      <td>22489344</td>\n",
       "      <td>{4C4EE000-291B-1854-E050-A8C063054F34}</td>\n",
       "      <td>586945</td>\n",
       "      <td>2017-02-15</td>\n",
       "      <td>D</td>\n",
       "      <td>N</td>\n",
       "      <td>F</td>\n",
       "      <td>WETHERBY</td>\n",
       "      <td>LEEDS</td>\n",
       "      <td>WEST YORKSHIRE</td>\n",
       "      <td>A</td>\n",
       "      <td>A</td>\n",
       "    </tr>\n",
       "    <tr>\n",
       "      <th>31308</th>\n",
       "      <td>22489345</td>\n",
       "      <td>{4C4EE000-291C-1854-E050-A8C063054F34}</td>\n",
       "      <td>274000</td>\n",
       "      <td>2017-02-24</td>\n",
       "      <td>D</td>\n",
       "      <td>N</td>\n",
       "      <td>L</td>\n",
       "      <td>HUDDERSFIELD</td>\n",
       "      <td>KIRKLEES</td>\n",
       "      <td>WEST YORKSHIRE</td>\n",
       "      <td>A</td>\n",
       "      <td>A</td>\n",
       "    </tr>\n",
       "    <tr>\n",
       "      <th>31309</th>\n",
       "      <td>22489346</td>\n",
       "      <td>{4C4EE000-291D-1854-E050-A8C063054F34}</td>\n",
       "      <td>36000</td>\n",
       "      <td>2017-02-22</td>\n",
       "      <td>T</td>\n",
       "      <td>N</td>\n",
       "      <td>F</td>\n",
       "      <td>HALIFAX</td>\n",
       "      <td>CALDERDALE</td>\n",
       "      <td>WEST YORKSHIRE</td>\n",
       "      <td>A</td>\n",
       "      <td>A</td>\n",
       "    </tr>\n",
       "    <tr>\n",
       "      <th>31310</th>\n",
       "      <td>22489347</td>\n",
       "      <td>{4C4EE000-291E-1854-E050-A8C063054F34}</td>\n",
       "      <td>145000</td>\n",
       "      <td>2017-03-03</td>\n",
       "      <td>T</td>\n",
       "      <td>N</td>\n",
       "      <td>F</td>\n",
       "      <td>LEEDS</td>\n",
       "      <td>LEEDS</td>\n",
       "      <td>WEST YORKSHIRE</td>\n",
       "      <td>A</td>\n",
       "      <td>A</td>\n",
       "    </tr>\n",
       "  </tbody>\n",
       "</table>\n",
       "<p>4876426 rows × 12 columns</p>\n",
       "</div>"
      ],
      "text/plain": [
       "       Unnamed: 0           Transaction unique identifier   Price  \\\n",
       "0        17612922  {BD0D075D-7818-47B3-9657-7651CBD02219}  155000   \n",
       "1        17612923  {0FF70080-C8EA-4DDC-9C19-7651D9B540CC}  264000   \n",
       "2        17612924  {80CC2177-EDBE-4ABB-9EAA-7651DAA0E4EE}   20000   \n",
       "3        17612925  {076B2969-50D6-4659-8956-7651ECAAB904}   89950   \n",
       "4        17612926  {9A6B1BBC-3522-4B44-9FD6-765202F73E28}  168000   \n",
       "...           ...                                     ...     ...   \n",
       "31306    22489343  {4C4EE000-291A-1854-E050-A8C063054F34}  175000   \n",
       "31307    22489344  {4C4EE000-291B-1854-E050-A8C063054F34}  586945   \n",
       "31308    22489345  {4C4EE000-291C-1854-E050-A8C063054F34}  274000   \n",
       "31309    22489346  {4C4EE000-291D-1854-E050-A8C063054F34}   36000   \n",
       "31310    22489347  {4C4EE000-291E-1854-E050-A8C063054F34}  145000   \n",
       "\n",
       "      Date of Transfer Property Type Old/New Duration       Town/City  \\\n",
       "0           2012-09-28             S       N        F            YORK   \n",
       "1           2012-07-18             D       N        F  HAYLING ISLAND   \n",
       "2           2012-04-25             T       N        F            HULL   \n",
       "3           2012-10-25             S       N        F         WORKSOP   \n",
       "4           2012-04-13             S       N        F         TORQUAY   \n",
       "...                ...           ...     ...      ...             ...   \n",
       "31306       2017-02-20             S       N        F           LEEDS   \n",
       "31307       2017-02-15             D       N        F        WETHERBY   \n",
       "31308       2017-02-24             D       N        L    HUDDERSFIELD   \n",
       "31309       2017-02-22             T       N        F         HALIFAX   \n",
       "31310       2017-03-03             T       N        F           LEEDS   \n",
       "\n",
       "                         District                      County  \\\n",
       "0                            YORK                        YORK   \n",
       "1                          HAVANT                   HAMPSHIRE   \n",
       "2      CITY OF KINGSTON UPON HULL  CITY OF KINGSTON UPON HULL   \n",
       "3                       BASSETLAW             NOTTINGHAMSHIRE   \n",
       "4                          TORBAY                      TORBAY   \n",
       "...                           ...                         ...   \n",
       "31306                       LEEDS              WEST YORKSHIRE   \n",
       "31307                       LEEDS              WEST YORKSHIRE   \n",
       "31308                    KIRKLEES              WEST YORKSHIRE   \n",
       "31309                  CALDERDALE              WEST YORKSHIRE   \n",
       "31310                       LEEDS              WEST YORKSHIRE   \n",
       "\n",
       "      PPDCategory Type Record Status - monthly file only  \n",
       "0                    A                                 A  \n",
       "1                    A                                 A  \n",
       "2                    A                                 A  \n",
       "3                    A                                 A  \n",
       "4                    A                                 A  \n",
       "...                ...                               ...  \n",
       "31306                A                                 A  \n",
       "31307                A                                 A  \n",
       "31308                A                                 A  \n",
       "31309                A                                 A  \n",
       "31310                A                                 A  \n",
       "\n",
       "[4876426 rows x 12 columns]"
      ]
     },
     "execution_count": 5,
     "metadata": {},
     "output_type": "execute_result"
    }
   ],
   "source": [
    "test"
   ]
  },
  {
   "cell_type": "code",
   "execution_count": 18,
   "metadata": {
    "ExecuteTime": {
     "end_time": "2020-12-17T13:56:39.703392Z",
     "start_time": "2020-12-17T13:56:39.694401Z"
    }
   },
   "outputs": [],
   "source": [
    "pd.options.display.float_format = '{:,.2f}'.format"
   ]
  },
  {
   "cell_type": "code",
   "execution_count": 52,
   "metadata": {
    "ExecuteTime": {
     "end_time": "2020-12-17T14:09:49.129560Z",
     "start_time": "2020-12-17T14:09:48.851590Z"
    }
   },
   "outputs": [
    {
     "name": "stdout",
     "output_type": "stream",
     "text": [
      "[-0.16640179 -0.02539634 -0.34104157 ... -0.01246006 -0.32034352\n",
      " -0.17933807]\n"
     ]
    }
   ],
   "source": [
    "from scipy import stats\n",
    "import numpy as np\n",
    "z = stats.zscore(test['Price'])\n",
    "print(z)"
   ]
  },
  {
   "cell_type": "code",
   "execution_count": 53,
   "metadata": {
    "ExecuteTime": {
     "end_time": "2020-12-17T14:10:01.711302Z",
     "start_time": "2020-12-17T14:10:01.687314Z"
    }
   },
   "outputs": [
    {
     "data": {
      "text/plain": [
       "-0.36691283864996427"
      ]
     },
     "execution_count": 53,
     "metadata": {},
     "output_type": "execute_result"
    }
   ],
   "source": [
    "z.min()"
   ]
  },
  {
   "cell_type": "code",
   "execution_count": 54,
   "metadata": {
    "ExecuteTime": {
     "end_time": "2020-12-17T14:10:04.298773Z",
     "start_time": "2020-12-17T14:10:04.258793Z"
    }
   },
   "outputs": [
    {
     "data": {
      "text/plain": [
       "127.57289694025548"
      ]
     },
     "execution_count": 54,
     "metadata": {},
     "output_type": "execute_result"
    }
   ],
   "source": [
    "z.max()"
   ]
  },
  {
   "cell_type": "code",
   "execution_count": 55,
   "metadata": {
    "ExecuteTime": {
     "end_time": "2020-12-17T14:14:31.147406Z",
     "start_time": "2020-12-17T14:14:31.057419Z"
    }
   },
   "outputs": [
    {
     "data": {
      "text/plain": [
       "283631.86859577073"
      ]
     },
     "execution_count": 55,
     "metadata": {},
     "output_type": "execute_result"
    }
   ],
   "source": [
    "test['Price'].mean()"
   ]
  },
  {
   "cell_type": "code",
   "execution_count": 8,
   "metadata": {
    "ExecuteTime": {
     "end_time": "2020-12-17T13:52:58.135806Z",
     "start_time": "2020-12-17T13:52:58.125795Z"
    }
   },
   "outputs": [],
   "source": [
    "s=len(z)"
   ]
  },
  {
   "cell_type": "code",
   "execution_count": 44,
   "metadata": {
    "ExecuteTime": {
     "end_time": "2020-12-17T14:06:26.017905Z",
     "start_time": "2020-12-17T14:06:25.911930Z"
    }
   },
   "outputs": [
    {
     "data": {
      "text/plain": [
       "(array([      0,       1,       2, ..., 4876423, 4876424, 4876425],\n",
       "       dtype=int64),)"
      ]
     },
     "execution_count": 44,
     "metadata": {},
     "output_type": "execute_result"
    }
   ],
   "source": [
    "np.where(z<3)"
   ]
  },
  {
   "cell_type": "code",
   "execution_count": 46,
   "metadata": {
    "ExecuteTime": {
     "end_time": "2020-12-17T14:07:24.612938Z",
     "start_time": "2020-12-17T14:07:24.494915Z"
    }
   },
   "outputs": [],
   "source": [
    "x=np.where(z<=1)"
   ]
  },
  {
   "cell_type": "code",
   "execution_count": 47,
   "metadata": {
    "ExecuteTime": {
     "end_time": "2020-12-17T14:07:28.181575Z",
     "start_time": "2020-12-17T14:07:27.158598Z"
    }
   },
   "outputs": [],
   "source": [
    "data_no_outliner=test.iloc[x[0],:]"
   ]
  },
  {
   "cell_type": "code",
   "execution_count": 48,
   "metadata": {
    "ExecuteTime": {
     "end_time": "2020-12-17T14:07:31.695390Z",
     "start_time": "2020-12-17T14:07:31.557361Z"
    }
   },
   "outputs": [
    {
     "data": {
      "text/html": [
       "<div>\n",
       "<style scoped>\n",
       "    .dataframe tbody tr th:only-of-type {\n",
       "        vertical-align: middle;\n",
       "    }\n",
       "\n",
       "    .dataframe tbody tr th {\n",
       "        vertical-align: top;\n",
       "    }\n",
       "\n",
       "    .dataframe thead th {\n",
       "        text-align: right;\n",
       "    }\n",
       "</style>\n",
       "<table border=\"1\" class=\"dataframe\">\n",
       "  <thead>\n",
       "    <tr style=\"text-align: right;\">\n",
       "      <th></th>\n",
       "      <th>Unnamed: 0</th>\n",
       "      <th>Transaction unique identifier</th>\n",
       "      <th>Price</th>\n",
       "      <th>Date of Transfer</th>\n",
       "      <th>Property Type</th>\n",
       "      <th>Old/New</th>\n",
       "      <th>Duration</th>\n",
       "      <th>Town/City</th>\n",
       "      <th>District</th>\n",
       "      <th>County</th>\n",
       "      <th>PPDCategory Type</th>\n",
       "      <th>Record Status - monthly file only</th>\n",
       "    </tr>\n",
       "  </thead>\n",
       "  <tbody>\n",
       "    <tr>\n",
       "      <th>0</th>\n",
       "      <td>17612922</td>\n",
       "      <td>{BD0D075D-7818-47B3-9657-7651CBD02219}</td>\n",
       "      <td>155000</td>\n",
       "      <td>2012-09-28</td>\n",
       "      <td>S</td>\n",
       "      <td>N</td>\n",
       "      <td>F</td>\n",
       "      <td>YORK</td>\n",
       "      <td>YORK</td>\n",
       "      <td>YORK</td>\n",
       "      <td>A</td>\n",
       "      <td>A</td>\n",
       "    </tr>\n",
       "    <tr>\n",
       "      <th>1</th>\n",
       "      <td>17612923</td>\n",
       "      <td>{0FF70080-C8EA-4DDC-9C19-7651D9B540CC}</td>\n",
       "      <td>264000</td>\n",
       "      <td>2012-07-18</td>\n",
       "      <td>D</td>\n",
       "      <td>N</td>\n",
       "      <td>F</td>\n",
       "      <td>HAYLING ISLAND</td>\n",
       "      <td>HAVANT</td>\n",
       "      <td>HAMPSHIRE</td>\n",
       "      <td>A</td>\n",
       "      <td>A</td>\n",
       "    </tr>\n",
       "    <tr>\n",
       "      <th>2</th>\n",
       "      <td>17612924</td>\n",
       "      <td>{80CC2177-EDBE-4ABB-9EAA-7651DAA0E4EE}</td>\n",
       "      <td>20000</td>\n",
       "      <td>2012-04-25</td>\n",
       "      <td>T</td>\n",
       "      <td>N</td>\n",
       "      <td>F</td>\n",
       "      <td>HULL</td>\n",
       "      <td>CITY OF KINGSTON UPON HULL</td>\n",
       "      <td>CITY OF KINGSTON UPON HULL</td>\n",
       "      <td>A</td>\n",
       "      <td>A</td>\n",
       "    </tr>\n",
       "    <tr>\n",
       "      <th>3</th>\n",
       "      <td>17612925</td>\n",
       "      <td>{076B2969-50D6-4659-8956-7651ECAAB904}</td>\n",
       "      <td>89950</td>\n",
       "      <td>2012-10-25</td>\n",
       "      <td>S</td>\n",
       "      <td>N</td>\n",
       "      <td>F</td>\n",
       "      <td>WORKSOP</td>\n",
       "      <td>BASSETLAW</td>\n",
       "      <td>NOTTINGHAMSHIRE</td>\n",
       "      <td>A</td>\n",
       "      <td>A</td>\n",
       "    </tr>\n",
       "    <tr>\n",
       "      <th>4</th>\n",
       "      <td>17612926</td>\n",
       "      <td>{9A6B1BBC-3522-4B44-9FD6-765202F73E28}</td>\n",
       "      <td>168000</td>\n",
       "      <td>2012-04-13</td>\n",
       "      <td>S</td>\n",
       "      <td>N</td>\n",
       "      <td>F</td>\n",
       "      <td>TORQUAY</td>\n",
       "      <td>TORBAY</td>\n",
       "      <td>TORBAY</td>\n",
       "      <td>A</td>\n",
       "      <td>A</td>\n",
       "    </tr>\n",
       "    <tr>\n",
       "      <th>...</th>\n",
       "      <td>...</td>\n",
       "      <td>...</td>\n",
       "      <td>...</td>\n",
       "      <td>...</td>\n",
       "      <td>...</td>\n",
       "      <td>...</td>\n",
       "      <td>...</td>\n",
       "      <td>...</td>\n",
       "      <td>...</td>\n",
       "      <td>...</td>\n",
       "      <td>...</td>\n",
       "      <td>...</td>\n",
       "    </tr>\n",
       "    <tr>\n",
       "      <th>31306</th>\n",
       "      <td>22489343</td>\n",
       "      <td>{4C4EE000-291A-1854-E050-A8C063054F34}</td>\n",
       "      <td>175000</td>\n",
       "      <td>2017-02-20</td>\n",
       "      <td>S</td>\n",
       "      <td>N</td>\n",
       "      <td>F</td>\n",
       "      <td>LEEDS</td>\n",
       "      <td>LEEDS</td>\n",
       "      <td>WEST YORKSHIRE</td>\n",
       "      <td>A</td>\n",
       "      <td>A</td>\n",
       "    </tr>\n",
       "    <tr>\n",
       "      <th>31307</th>\n",
       "      <td>22489344</td>\n",
       "      <td>{4C4EE000-291B-1854-E050-A8C063054F34}</td>\n",
       "      <td>586945</td>\n",
       "      <td>2017-02-15</td>\n",
       "      <td>D</td>\n",
       "      <td>N</td>\n",
       "      <td>F</td>\n",
       "      <td>WETHERBY</td>\n",
       "      <td>LEEDS</td>\n",
       "      <td>WEST YORKSHIRE</td>\n",
       "      <td>A</td>\n",
       "      <td>A</td>\n",
       "    </tr>\n",
       "    <tr>\n",
       "      <th>31308</th>\n",
       "      <td>22489345</td>\n",
       "      <td>{4C4EE000-291C-1854-E050-A8C063054F34}</td>\n",
       "      <td>274000</td>\n",
       "      <td>2017-02-24</td>\n",
       "      <td>D</td>\n",
       "      <td>N</td>\n",
       "      <td>L</td>\n",
       "      <td>HUDDERSFIELD</td>\n",
       "      <td>KIRKLEES</td>\n",
       "      <td>WEST YORKSHIRE</td>\n",
       "      <td>A</td>\n",
       "      <td>A</td>\n",
       "    </tr>\n",
       "    <tr>\n",
       "      <th>31309</th>\n",
       "      <td>22489346</td>\n",
       "      <td>{4C4EE000-291D-1854-E050-A8C063054F34}</td>\n",
       "      <td>36000</td>\n",
       "      <td>2017-02-22</td>\n",
       "      <td>T</td>\n",
       "      <td>N</td>\n",
       "      <td>F</td>\n",
       "      <td>HALIFAX</td>\n",
       "      <td>CALDERDALE</td>\n",
       "      <td>WEST YORKSHIRE</td>\n",
       "      <td>A</td>\n",
       "      <td>A</td>\n",
       "    </tr>\n",
       "    <tr>\n",
       "      <th>31310</th>\n",
       "      <td>22489347</td>\n",
       "      <td>{4C4EE000-291E-1854-E050-A8C063054F34}</td>\n",
       "      <td>145000</td>\n",
       "      <td>2017-03-03</td>\n",
       "      <td>T</td>\n",
       "      <td>N</td>\n",
       "      <td>F</td>\n",
       "      <td>LEEDS</td>\n",
       "      <td>LEEDS</td>\n",
       "      <td>WEST YORKSHIRE</td>\n",
       "      <td>A</td>\n",
       "      <td>A</td>\n",
       "    </tr>\n",
       "  </tbody>\n",
       "</table>\n",
       "<p>4790387 rows × 12 columns</p>\n",
       "</div>"
      ],
      "text/plain": [
       "       Unnamed: 0           Transaction unique identifier   Price  \\\n",
       "0        17612922  {BD0D075D-7818-47B3-9657-7651CBD02219}  155000   \n",
       "1        17612923  {0FF70080-C8EA-4DDC-9C19-7651D9B540CC}  264000   \n",
       "2        17612924  {80CC2177-EDBE-4ABB-9EAA-7651DAA0E4EE}   20000   \n",
       "3        17612925  {076B2969-50D6-4659-8956-7651ECAAB904}   89950   \n",
       "4        17612926  {9A6B1BBC-3522-4B44-9FD6-765202F73E28}  168000   \n",
       "...           ...                                     ...     ...   \n",
       "31306    22489343  {4C4EE000-291A-1854-E050-A8C063054F34}  175000   \n",
       "31307    22489344  {4C4EE000-291B-1854-E050-A8C063054F34}  586945   \n",
       "31308    22489345  {4C4EE000-291C-1854-E050-A8C063054F34}  274000   \n",
       "31309    22489346  {4C4EE000-291D-1854-E050-A8C063054F34}   36000   \n",
       "31310    22489347  {4C4EE000-291E-1854-E050-A8C063054F34}  145000   \n",
       "\n",
       "      Date of Transfer Property Type Old/New Duration       Town/City  \\\n",
       "0           2012-09-28             S       N        F            YORK   \n",
       "1           2012-07-18             D       N        F  HAYLING ISLAND   \n",
       "2           2012-04-25             T       N        F            HULL   \n",
       "3           2012-10-25             S       N        F         WORKSOP   \n",
       "4           2012-04-13             S       N        F         TORQUAY   \n",
       "...                ...           ...     ...      ...             ...   \n",
       "31306       2017-02-20             S       N        F           LEEDS   \n",
       "31307       2017-02-15             D       N        F        WETHERBY   \n",
       "31308       2017-02-24             D       N        L    HUDDERSFIELD   \n",
       "31309       2017-02-22             T       N        F         HALIFAX   \n",
       "31310       2017-03-03             T       N        F           LEEDS   \n",
       "\n",
       "                         District                      County  \\\n",
       "0                            YORK                        YORK   \n",
       "1                          HAVANT                   HAMPSHIRE   \n",
       "2      CITY OF KINGSTON UPON HULL  CITY OF KINGSTON UPON HULL   \n",
       "3                       BASSETLAW             NOTTINGHAMSHIRE   \n",
       "4                          TORBAY                      TORBAY   \n",
       "...                           ...                         ...   \n",
       "31306                       LEEDS              WEST YORKSHIRE   \n",
       "31307                       LEEDS              WEST YORKSHIRE   \n",
       "31308                    KIRKLEES              WEST YORKSHIRE   \n",
       "31309                  CALDERDALE              WEST YORKSHIRE   \n",
       "31310                       LEEDS              WEST YORKSHIRE   \n",
       "\n",
       "      PPDCategory Type Record Status - monthly file only  \n",
       "0                    A                                 A  \n",
       "1                    A                                 A  \n",
       "2                    A                                 A  \n",
       "3                    A                                 A  \n",
       "4                    A                                 A  \n",
       "...                ...                               ...  \n",
       "31306                A                                 A  \n",
       "31307                A                                 A  \n",
       "31308                A                                 A  \n",
       "31309                A                                 A  \n",
       "31310                A                                 A  \n",
       "\n",
       "[4790387 rows x 12 columns]"
      ]
     },
     "execution_count": 48,
     "metadata": {},
     "output_type": "execute_result"
    }
   ],
   "source": [
    "data_no_outliner"
   ]
  },
  {
   "cell_type": "code",
   "execution_count": 49,
   "metadata": {
    "ExecuteTime": {
     "end_time": "2020-12-17T14:07:36.201361Z",
     "start_time": "2020-12-17T14:07:36.158370Z"
    }
   },
   "outputs": [
    {
     "data": {
      "text/plain": [
       "1"
      ]
     },
     "execution_count": 49,
     "metadata": {},
     "output_type": "execute_result"
    }
   ],
   "source": [
    "data_no_outliner.Price.min()"
   ]
  },
  {
   "cell_type": "code",
   "execution_count": 51,
   "metadata": {
    "ExecuteTime": {
     "end_time": "2020-12-17T14:07:56.872071Z",
     "start_time": "2020-12-17T14:07:56.800067Z"
    }
   },
   "outputs": [
    {
     "data": {
      "text/plain": [
       "1056500"
      ]
     },
     "execution_count": 51,
     "metadata": {},
     "output_type": "execute_result"
    }
   ],
   "source": [
    "data_no_outliner.Price.max()"
   ]
  },
  {
   "cell_type": "code",
   "execution_count": 69,
   "metadata": {
    "ExecuteTime": {
     "end_time": "2020-12-17T14:57:51.227443Z",
     "start_time": "2020-12-17T14:57:51.019916Z"
    }
   },
   "outputs": [],
   "source": [
    "Q1=np.percentile(test['Price'],25)"
   ]
  },
  {
   "cell_type": "code",
   "execution_count": 70,
   "metadata": {
    "ExecuteTime": {
     "end_time": "2020-12-17T14:57:54.257218Z",
     "start_time": "2020-12-17T14:57:54.109225Z"
    }
   },
   "outputs": [],
   "source": [
    "Q2=np.percentile(test['Price'],75)"
   ]
  },
  {
   "cell_type": "code",
   "execution_count": 71,
   "metadata": {
    "ExecuteTime": {
     "end_time": "2020-12-17T14:58:08.309225Z",
     "start_time": "2020-12-17T14:58:08.300224Z"
    }
   },
   "outputs": [],
   "source": [
    "Iql=Q2-Q1"
   ]
  },
  {
   "cell_type": "code",
   "execution_count": 79,
   "metadata": {
    "ExecuteTime": {
     "end_time": "2020-12-17T15:03:56.912147Z",
     "start_time": "2020-12-17T15:03:56.902151Z"
    }
   },
   "outputs": [
    {
     "data": {
      "text/plain": [
       "(130000.0, 305000.0)"
      ]
     },
     "execution_count": 79,
     "metadata": {},
     "output_type": "execute_result"
    }
   ],
   "source": [
    "Q1,Q2"
   ]
  },
  {
   "cell_type": "code",
   "execution_count": 73,
   "metadata": {
    "ExecuteTime": {
     "end_time": "2020-12-17T14:58:42.589080Z",
     "start_time": "2020-12-17T14:58:42.569082Z"
    }
   },
   "outputs": [],
   "source": [
    "cut_off=Iql*1.5"
   ]
  },
  {
   "cell_type": "code",
   "execution_count": 74,
   "metadata": {
    "ExecuteTime": {
     "end_time": "2020-12-17T14:58:47.954085Z",
     "start_time": "2020-12-17T14:58:47.944084Z"
    }
   },
   "outputs": [
    {
     "data": {
      "text/plain": [
       "262500.0"
      ]
     },
     "execution_count": 74,
     "metadata": {},
     "output_type": "execute_result"
    }
   ],
   "source": [
    "cut_off"
   ]
  },
  {
   "cell_type": "code",
   "execution_count": 76,
   "metadata": {
    "ExecuteTime": {
     "end_time": "2020-12-17T14:59:22.800160Z",
     "start_time": "2020-12-17T14:59:22.793160Z"
    }
   },
   "outputs": [],
   "source": [
    "lower, upper = Q1 - cut_off, Q2 + cut_off"
   ]
  },
  {
   "cell_type": "code",
   "execution_count": 77,
   "metadata": {
    "ExecuteTime": {
     "end_time": "2020-12-17T14:59:33.350187Z",
     "start_time": "2020-12-17T14:59:33.339185Z"
    }
   },
   "outputs": [
    {
     "data": {
      "text/plain": [
       "(-132500.0, 567500.0)"
      ]
     },
     "execution_count": 77,
     "metadata": {},
     "output_type": "execute_result"
    }
   ],
   "source": [
    "lower,upper"
   ]
  },
  {
   "cell_type": "code",
   "execution_count": 80,
   "metadata": {
    "ExecuteTime": {
     "end_time": "2020-12-17T15:04:55.449329Z",
     "start_time": "2020-12-17T15:04:55.270326Z"
    }
   },
   "outputs": [],
   "source": [
    "lower=np.percentile(test['Price'],0.5)"
   ]
  },
  {
   "cell_type": "code",
   "execution_count": 81,
   "metadata": {
    "ExecuteTime": {
     "end_time": "2020-12-17T15:05:28.926165Z",
     "start_time": "2020-12-17T15:05:28.888168Z"
    }
   },
   "outputs": [
    {
     "data": {
      "text/plain": [
       "30712.375"
      ]
     },
     "execution_count": 81,
     "metadata": {},
     "output_type": "execute_result"
    }
   ],
   "source": [
    "lower"
   ]
  },
  {
   "cell_type": "code",
   "execution_count": 82,
   "metadata": {
    "ExecuteTime": {
     "end_time": "2020-12-17T15:05:43.106218Z",
     "start_time": "2020-12-17T15:05:42.904225Z"
    }
   },
   "outputs": [],
   "source": [
    "upper=np.percentile(test['Price'],99.5)"
   ]
  },
  {
   "cell_type": "code",
   "execution_count": 83,
   "metadata": {
    "ExecuteTime": {
     "end_time": "2020-12-17T15:05:50.332418Z",
     "start_time": "2020-12-17T15:05:50.319414Z"
    }
   },
   "outputs": [
    {
     "data": {
      "text/plain": [
       "2150000.0"
      ]
     },
     "execution_count": 83,
     "metadata": {},
     "output_type": "execute_result"
    }
   ],
   "source": [
    "upper"
   ]
  },
  {
   "cell_type": "code",
   "execution_count": null,
   "metadata": {},
   "outputs": [],
   "source": []
  }
 ],
 "metadata": {
  "kernelspec": {
   "display_name": "Python 3",
   "language": "python",
   "name": "python3"
  },
  "language_info": {
   "codemirror_mode": {
    "name": "ipython",
    "version": 3
   },
   "file_extension": ".py",
   "mimetype": "text/x-python",
   "name": "python",
   "nbconvert_exporter": "python",
   "pygments_lexer": "ipython3",
   "version": "3.8.3"
  },
  "latex_envs": {
   "LaTeX_envs_menu_present": true,
   "autoclose": false,
   "autocomplete": true,
   "bibliofile": "biblio.bib",
   "cite_by": "apalike",
   "current_citInitial": 1,
   "eqLabelWithNumbers": true,
   "eqNumInitial": 1,
   "hotkeys": {
    "equation": "Ctrl-E",
    "itemize": "Ctrl-I"
   },
   "labels_anchors": false,
   "latex_user_defs": false,
   "report_style_numbering": false,
   "user_envs_cfg": false
  },
  "toc": {
   "base_numbering": 1,
   "nav_menu": {},
   "number_sections": true,
   "sideBar": true,
   "skip_h1_title": false,
   "title_cell": "Table of Contents",
   "title_sidebar": "Contents",
   "toc_cell": false,
   "toc_position": {},
   "toc_section_display": true,
   "toc_window_display": false
  },
  "varInspector": {
   "cols": {
    "lenName": 16,
    "lenType": 16,
    "lenVar": 40
   },
   "kernels_config": {
    "python": {
     "delete_cmd_postfix": "",
     "delete_cmd_prefix": "del ",
     "library": "var_list.py",
     "varRefreshCmd": "print(var_dic_list())"
    },
    "r": {
     "delete_cmd_postfix": ") ",
     "delete_cmd_prefix": "rm(",
     "library": "var_list.r",
     "varRefreshCmd": "cat(var_dic_list()) "
    }
   },
   "types_to_exclude": [
    "module",
    "function",
    "builtin_function_or_method",
    "instance",
    "_Feature"
   ],
   "window_display": false
  }
 },
 "nbformat": 4,
 "nbformat_minor": 4
}

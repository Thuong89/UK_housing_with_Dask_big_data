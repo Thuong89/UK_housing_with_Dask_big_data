{
 "cells": [
  {
   "cell_type": "markdown",
   "metadata": {},
   "source": [
    "<div style='background-color:orange;color:white;padding:20px;text-align:center;font-size:30px'> ANALYSIS ON UK HOUSING 2012-2017 </div>"
   ]
  },
  {
   "cell_type": "markdown",
   "metadata": {
    "ExecuteTime": {
     "end_time": "2020-12-18T09:45:59.049999Z",
     "start_time": "2020-12-18T09:45:59.039005Z"
    }
   },
   "source": [
    "<img src='UK.jpg' width=300>"
   ]
  },
  {
   "cell_type": "markdown",
   "metadata": {},
   "source": [
    "    ABOUT THE DATASET:"
   ]
  },
  {
   "cell_type": "markdown",
   "metadata": {},
   "source": [
    "The Price Paid Data includes information on all registered property sales in <u>England and Wales</u> that are sold for full market value. Address details have been truncated to the town/city level.\n",
    "\n",
    "<mark>Explanation of 11 columns</mark>:\n",
    "\n",
    "- <b>Transaction unique identifier</b>: A reference number which is generated automatically recording each published sale. The number is unique and will change each time a sale is recorded.\n",
    "\n",
    "- <span style='background-color:navy;color:white'>Price</span>: Sale price stated on the transfer deed.\n",
    "\n",
    "- <span style='background-color:navy;color:white'>Date of Transfer</span>: Date when the sale was completed, as stated on the transfer deed.\n",
    "\n",
    "- <span style='background-color:navy;color:white'>Property Type</span>:\n",
    "    - D = Detached, \n",
    "    - S = Semi-Detached, \n",
    "    - T = Terraced, \n",
    "    - F = Flats/Maisonettes, \n",
    "    - O = Other\n",
    "\n",
    "- <span style='background-color:navy;color:white'>Old/New</span>: Indicates the age of the property and applies to all price paid transactions, residential and non-residential.\n",
    "    - Y = a newly built property, \n",
    "    - N = an established residential building\n",
    "\n",
    "- <span style='background-color:navy;color:white'>Duration</span>: Relates to the tenure: \n",
    "    - F = Freehold, \n",
    "    - L= Leasehold etc.\n",
    "\n",
    "- <span style='background-color:navy;color:white'>Town/City</span>\n",
    "\n",
    "- <span style='background-color:navy;color:white'>District</span>\n",
    "\n",
    "- <span style='background-color:navy;color:white'>County</span>\n",
    "\n",
    "- <span style='background-color:navy;color:white'>PPD Category Type</span>: Indicates the type of Price Paid transaction.\n",
    "    - A = Standard Price Paid entry, includes single residential property sold for full market value.\n",
    "    - B = Additional Price Paid entry including transfers under a power of sale/repossessions (\\*) \n",
    "\n",
    "- <b>Record Status</b> monthly file only Indicates additions, changes and deletions to the records.\n",
    "    - A = Addition\n",
    "    - C = Change\n",
    "    - D = Delete.\n",
    "\n",
    "\n"
   ]
  },
  {
   "cell_type": "markdown",
   "metadata": {},
   "source": [
    "<u>Notice:</u>\n",
    "\n",
    "- Dataset only records the above categories to describe property type, we do not separately identify bungalows.\n",
    "end-of-terrace properties are included in the Terraced category above.\n",
    "- ‘Other’ is only valid where the transaction relates to a property type that is not covered by existing values.\n",
    "- Note that where a transaction changes category type due to misallocation (as above) it will be deleted from the original category type and added to the correct category with a new transaction unique identifier.\n",
    "- (\\*), buy-to-lets (where they can be identified by a Mortgage) and transfers to non-private individuals. Note that category B does not separately identify the transaction types stated. HM Land Registry has been collecting information on Category A transactions from January 1995. Category B transactions were identified from October 2013.\n",
    "\n",
    "- Note that HM Land Registry does not record leases of 7 years or less in the Price Paid Dataset.\n",
    "\n",
    "- This data was kindly released by HM Land Registry under the Open Government License 3.0. You can find their current release here.\n",
    "\n",
    "- Data produced by HM Land Registry © Crown copyright 2017."
   ]
  },
  {
   "cell_type": "markdown",
   "metadata": {},
   "source": [
    "<div style='background-color:orange;color:white;padding:20px;text-align:center;font-size:20px'>LOAD, INSPECT AND PROCESS DATASET<div>"
   ]
  },
  {
   "cell_type": "code",
   "execution_count": 1,
   "metadata": {
    "ExecuteTime": {
     "end_time": "2020-12-18T13:43:17.114487Z",
     "start_time": "2020-12-18T13:43:08.034801Z"
    }
   },
   "outputs": [],
   "source": [
    "import dask.dataframe as dd"
   ]
  },
  {
   "cell_type": "code",
   "execution_count": 2,
   "metadata": {
    "ExecuteTime": {
     "end_time": "2020-12-18T13:43:21.454173Z",
     "start_time": "2020-12-18T13:43:17.118489Z"
    }
   },
   "outputs": [
    {
     "data": {
      "application/vnd.jupyter.widget-view+json": {
       "model_id": "887813461ac44b91b0e7340c2a9b7922",
       "version_major": 2,
       "version_minor": 0
      },
      "text/plain": [
       "VBox(children=(HTML(value='<h2>LocalCluster</h2>'), HBox(children=(HTML(value='\\n<div>\\n  <style scoped>\\n    …"
      ]
     },
     "metadata": {},
     "output_type": "display_data"
    }
   ],
   "source": [
    "from dask.distributed import Client\n",
    "client=Client(n_workers=2, threads_per_worker=2) # this set up 1 worker per core\n",
    "client.cluster"
   ]
  },
  {
   "cell_type": "code",
   "execution_count": 3,
   "metadata": {
    "ExecuteTime": {
     "end_time": "2020-12-18T13:43:33.356718Z",
     "start_time": "2020-12-18T13:43:21.460167Z"
    }
   },
   "outputs": [
    {
     "data": {
      "text/html": [
       "        <script type=\"text/javascript\">\n",
       "        window.PlotlyConfig = {MathJaxConfig: 'local'};\n",
       "        if (window.MathJax) {MathJax.Hub.Config({SVG: {font: \"STIX-Web\"}});}\n",
       "        if (typeof require !== 'undefined') {\n",
       "        require.undef(\"plotly\");\n",
       "        requirejs.config({\n",
       "            paths: {\n",
       "                'plotly': ['https://cdn.plot.ly/plotly-latest.min']\n",
       "            }\n",
       "        });\n",
       "        require(['plotly'], function(Plotly) {\n",
       "            window._Plotly = Plotly;\n",
       "        });\n",
       "        }\n",
       "        </script>\n",
       "        "
      ]
     },
     "metadata": {},
     "output_type": "display_data"
    },
    {
     "data": {
      "text/html": [
       "        <script type=\"text/javascript\">\n",
       "        window.PlotlyConfig = {MathJaxConfig: 'local'};\n",
       "        if (window.MathJax) {MathJax.Hub.Config({SVG: {font: \"STIX-Web\"}});}\n",
       "        if (typeof require !== 'undefined') {\n",
       "        require.undef(\"plotly\");\n",
       "        requirejs.config({\n",
       "            paths: {\n",
       "                'plotly': ['https://cdn.plot.ly/plotly-latest.min']\n",
       "            }\n",
       "        });\n",
       "        require(['plotly'], function(Plotly) {\n",
       "            window._Plotly = Plotly;\n",
       "        });\n",
       "        }\n",
       "        </script>\n",
       "        "
      ]
     },
     "metadata": {},
     "output_type": "display_data"
    }
   ],
   "source": [
    "# importing libraries\n",
    "import plotly.graph_objects as go\n",
    "import chart_studio.plotly as py\n",
    "import cufflinks as cf\n",
    "from plotly.offline import iplot, init_notebook_mode\n",
    "#--------------------------------------------#\n",
    "\n",
    "import pandas as pd\n",
    "import numpy as np\n",
    "from scipy import stats\n",
    "\n",
    "%matplotlib inline\n",
    "\n",
    "# option for pandas to display the columns\n",
    "pd.options.display.max_columns=30\n",
    "\n",
    "# setting the notebook mode for plotly\n",
    "\n",
    "init_notebook_mode(connected=True)\n",
    "cf.go_offline(connected=True)\n",
    "\n",
    "# setting theme in cufflinks\n",
    "\n",
    "cf.set_config_file(theme=\"pearl\")\n",
    "#-------\n",
    "from ipywidgets import interact, interactive,fixed,interact_manual\n",
    "import ipywidgets as widgets\n",
    "import plotly.express as px\n",
    "import seaborn as sns\n",
    "import matplotlib.pyplot as plt\n",
    "\n",
    "pd.options.display.float_format = '{:,.2f}'.format"
   ]
  },
  {
   "cell_type": "markdown",
   "metadata": {},
   "source": [
    "## Extract data from year 2012 up"
   ]
  },
  {
   "cell_type": "code",
   "execution_count": 4,
   "metadata": {
    "ExecuteTime": {
     "end_time": "2020-12-18T13:43:33.386715Z",
     "start_time": "2020-12-18T13:43:33.364701Z"
    }
   },
   "outputs": [],
   "source": [
    "#data=dd.read_csv('price_paid_records.csv',parse_dates=[2],blocksize='2410MB')"
   ]
  },
  {
   "cell_type": "code",
   "execution_count": 5,
   "metadata": {
    "ExecuteTime": {
     "end_time": "2020-12-18T13:43:33.403707Z",
     "start_time": "2020-12-18T13:43:33.393701Z"
    }
   },
   "outputs": [],
   "source": [
    "#data"
   ]
  },
  {
   "cell_type": "code",
   "execution_count": 6,
   "metadata": {
    "ExecuteTime": {
     "end_time": "2020-12-18T13:43:33.418709Z",
     "start_time": "2020-12-18T13:43:33.411706Z"
    }
   },
   "outputs": [],
   "source": [
    "#c_data=data[data['Date of Transfer'].dt.year>2011]"
   ]
  },
  {
   "cell_type": "code",
   "execution_count": 7,
   "metadata": {
    "ExecuteTime": {
     "end_time": "2020-12-18T13:43:33.437698Z",
     "start_time": "2020-12-18T13:43:33.427705Z"
    }
   },
   "outputs": [],
   "source": [
    "#newdata=data.get_partition(30)"
   ]
  },
  {
   "cell_type": "code",
   "execution_count": 8,
   "metadata": {
    "ExecuteTime": {
     "end_time": "2020-12-18T13:43:33.454697Z",
     "start_time": "2020-12-18T13:43:33.448701Z"
    }
   },
   "outputs": [],
   "source": [
    "#sampledt=newdata.sample(frac=0.002).compute()"
   ]
  },
  {
   "cell_type": "code",
   "execution_count": 9,
   "metadata": {
    "ExecuteTime": {
     "end_time": "2020-12-18T13:43:33.470699Z",
     "start_time": "2020-12-18T13:43:33.461698Z"
    }
   },
   "outputs": [],
   "source": [
    "#sampledt[sampledt['Date of Transfer'].dt.year>2012]"
   ]
  },
  {
   "cell_type": "code",
   "execution_count": 10,
   "metadata": {
    "ExecuteTime": {
     "end_time": "2020-12-18T13:43:33.484700Z",
     "start_time": "2020-12-18T13:43:33.477700Z"
    }
   },
   "outputs": [],
   "source": [
    "#c_data.to_csv('data2012up.csv')"
   ]
  },
  {
   "cell_type": "markdown",
   "metadata": {},
   "source": [
    "## Load new data (year 2012 up)"
   ]
  },
  {
   "cell_type": "code",
   "execution_count": 11,
   "metadata": {
    "ExecuteTime": {
     "end_time": "2020-12-18T13:43:33.565704Z",
     "start_time": "2020-12-18T13:43:33.490698Z"
    }
   },
   "outputs": [],
   "source": [
    "DATA=dd.read_csv('data2012up.csv/0.part',parse_dates=[3],blocksize='20MB')"
   ]
  },
  {
   "cell_type": "markdown",
   "metadata": {},
   "source": [
    "## Inspect"
   ]
  },
  {
   "cell_type": "code",
   "execution_count": 12,
   "metadata": {
    "ExecuteTime": {
     "end_time": "2020-12-18T13:43:36.469703Z",
     "start_time": "2020-12-18T13:43:33.572703Z"
    },
    "scrolled": true
   },
   "outputs": [
    {
     "data": {
      "text/html": [
       "<div>\n",
       "<style scoped>\n",
       "    .dataframe tbody tr th:only-of-type {\n",
       "        vertical-align: middle;\n",
       "    }\n",
       "\n",
       "    .dataframe tbody tr th {\n",
       "        vertical-align: top;\n",
       "    }\n",
       "\n",
       "    .dataframe thead th {\n",
       "        text-align: right;\n",
       "    }\n",
       "</style>\n",
       "<table border=\"1\" class=\"dataframe\">\n",
       "  <thead>\n",
       "    <tr style=\"text-align: right;\">\n",
       "      <th></th>\n",
       "      <th>Unnamed: 0</th>\n",
       "      <th>Transaction unique identifier</th>\n",
       "      <th>Price</th>\n",
       "      <th>Date of Transfer</th>\n",
       "      <th>Property Type</th>\n",
       "      <th>Old/New</th>\n",
       "      <th>Duration</th>\n",
       "      <th>Town/City</th>\n",
       "      <th>District</th>\n",
       "      <th>County</th>\n",
       "      <th>PPDCategory Type</th>\n",
       "      <th>Record Status - monthly file only</th>\n",
       "    </tr>\n",
       "  </thead>\n",
       "  <tbody>\n",
       "    <tr>\n",
       "      <th>0</th>\n",
       "      <td>17792460</td>\n",
       "      <td>{C47E3EDA-D944-4FE1-8231-97CFAE0152BE}</td>\n",
       "      <td>322000</td>\n",
       "      <td>2012-06-27</td>\n",
       "      <td>D</td>\n",
       "      <td>N</td>\n",
       "      <td>L</td>\n",
       "      <td>TELFORD</td>\n",
       "      <td>WREKIN</td>\n",
       "      <td>WREKIN</td>\n",
       "      <td>A</td>\n",
       "      <td>A</td>\n",
       "    </tr>\n",
       "    <tr>\n",
       "      <th>1</th>\n",
       "      <td>17792461</td>\n",
       "      <td>{7AA1DA53-6C57-430F-90CE-5210C7A5ABC5}</td>\n",
       "      <td>250000</td>\n",
       "      <td>2012-09-28</td>\n",
       "      <td>S</td>\n",
       "      <td>Y</td>\n",
       "      <td>F</td>\n",
       "      <td>CHINNOR</td>\n",
       "      <td>SOUTH OXFORDSHIRE</td>\n",
       "      <td>OXFORDSHIRE</td>\n",
       "      <td>A</td>\n",
       "      <td>A</td>\n",
       "    </tr>\n",
       "    <tr>\n",
       "      <th>2</th>\n",
       "      <td>17792462</td>\n",
       "      <td>{05694E0B-40A6-498A-A9E6-5210D007374C}</td>\n",
       "      <td>169000</td>\n",
       "      <td>2012-01-20</td>\n",
       "      <td>F</td>\n",
       "      <td>N</td>\n",
       "      <td>L</td>\n",
       "      <td>PORTSMOUTH</td>\n",
       "      <td>PORTSMOUTH</td>\n",
       "      <td>PORTSMOUTH</td>\n",
       "      <td>A</td>\n",
       "      <td>A</td>\n",
       "    </tr>\n",
       "    <tr>\n",
       "      <th>3</th>\n",
       "      <td>17792463</td>\n",
       "      <td>{DFAFD68C-AFDB-4A17-83DC-5210DCD6781D}</td>\n",
       "      <td>225000</td>\n",
       "      <td>2012-03-23</td>\n",
       "      <td>D</td>\n",
       "      <td>N</td>\n",
       "      <td>F</td>\n",
       "      <td>NORTHAMPTON</td>\n",
       "      <td>NORTHAMPTON</td>\n",
       "      <td>NORTHAMPTONSHIRE</td>\n",
       "      <td>A</td>\n",
       "      <td>A</td>\n",
       "    </tr>\n",
       "    <tr>\n",
       "      <th>4</th>\n",
       "      <td>17792464</td>\n",
       "      <td>{B739C3A1-5172-41A0-9358-559FB021709D}</td>\n",
       "      <td>125000</td>\n",
       "      <td>2012-06-13</td>\n",
       "      <td>T</td>\n",
       "      <td>N</td>\n",
       "      <td>F</td>\n",
       "      <td>ROCHESTER</td>\n",
       "      <td>MEDWAY</td>\n",
       "      <td>MEDWAY</td>\n",
       "      <td>A</td>\n",
       "      <td>A</td>\n",
       "    </tr>\n",
       "    <tr>\n",
       "      <th>...</th>\n",
       "      <td>...</td>\n",
       "      <td>...</td>\n",
       "      <td>...</td>\n",
       "      <td>...</td>\n",
       "      <td>...</td>\n",
       "      <td>...</td>\n",
       "      <td>...</td>\n",
       "      <td>...</td>\n",
       "      <td>...</td>\n",
       "      <td>...</td>\n",
       "      <td>...</td>\n",
       "      <td>...</td>\n",
       "    </tr>\n",
       "    <tr>\n",
       "      <th>179574</th>\n",
       "      <td>17972034</td>\n",
       "      <td>{A6A0119F-EFD4-4079-AF34-486103ED137B}</td>\n",
       "      <td>89000</td>\n",
       "      <td>2012-12-12</td>\n",
       "      <td>T</td>\n",
       "      <td>N</td>\n",
       "      <td>F</td>\n",
       "      <td>BIRMINGHAM</td>\n",
       "      <td>BIRMINGHAM</td>\n",
       "      <td>WEST MIDLANDS</td>\n",
       "      <td>A</td>\n",
       "      <td>A</td>\n",
       "    </tr>\n",
       "    <tr>\n",
       "      <th>179575</th>\n",
       "      <td>17972035</td>\n",
       "      <td>{B2BC10F7-14E8-48BC-B714-486103F5C100}</td>\n",
       "      <td>140000</td>\n",
       "      <td>2012-03-08</td>\n",
       "      <td>S</td>\n",
       "      <td>N</td>\n",
       "      <td>F</td>\n",
       "      <td>EXMOUTH</td>\n",
       "      <td>EAST DEVON</td>\n",
       "      <td>DEVON</td>\n",
       "      <td>A</td>\n",
       "      <td>A</td>\n",
       "    </tr>\n",
       "    <tr>\n",
       "      <th>179576</th>\n",
       "      <td>17972036</td>\n",
       "      <td>{CD490E17-FB17-45A4-A8CA-48610635A27B}</td>\n",
       "      <td>150000</td>\n",
       "      <td>2012-04-26</td>\n",
       "      <td>F</td>\n",
       "      <td>N</td>\n",
       "      <td>L</td>\n",
       "      <td>YORK</td>\n",
       "      <td>YORK</td>\n",
       "      <td>YORK</td>\n",
       "      <td>A</td>\n",
       "      <td>A</td>\n",
       "    </tr>\n",
       "    <tr>\n",
       "      <th>179577</th>\n",
       "      <td>17972037</td>\n",
       "      <td>{92DE07BB-4D48-43F5-9C26-486111BFBECD}</td>\n",
       "      <td>80000</td>\n",
       "      <td>2012-08-10</td>\n",
       "      <td>S</td>\n",
       "      <td>N</td>\n",
       "      <td>F</td>\n",
       "      <td>DONCASTER</td>\n",
       "      <td>DONCASTER</td>\n",
       "      <td>SOUTH YORKSHIRE</td>\n",
       "      <td>A</td>\n",
       "      <td>A</td>\n",
       "    </tr>\n",
       "    <tr>\n",
       "      <th>179578</th>\n",
       "      <td>17972038</td>\n",
       "      <td>{7B79C472-FB84-4FD2-B1FF-48611FB754AB}</td>\n",
       "      <td>112000</td>\n",
       "      <td>2012-05-04</td>\n",
       "      <td>F</td>\n",
       "      <td>N</td>\n",
       "      <td>L</td>\n",
       "      <td>IPSWICH</td>\n",
       "      <td>SUFFOLK COASTAL</td>\n",
       "      <td>SUFFOLK</td>\n",
       "      <td>A</td>\n",
       "      <td>A</td>\n",
       "    </tr>\n",
       "  </tbody>\n",
       "</table>\n",
       "<p>179579 rows × 12 columns</p>\n",
       "</div>"
      ],
      "text/plain": [
       "        Unnamed: 0           Transaction unique identifier   Price  \\\n",
       "0         17792460  {C47E3EDA-D944-4FE1-8231-97CFAE0152BE}  322000   \n",
       "1         17792461  {7AA1DA53-6C57-430F-90CE-5210C7A5ABC5}  250000   \n",
       "2         17792462  {05694E0B-40A6-498A-A9E6-5210D007374C}  169000   \n",
       "3         17792463  {DFAFD68C-AFDB-4A17-83DC-5210DCD6781D}  225000   \n",
       "4         17792464  {B739C3A1-5172-41A0-9358-559FB021709D}  125000   \n",
       "...            ...                                     ...     ...   \n",
       "179574    17972034  {A6A0119F-EFD4-4079-AF34-486103ED137B}   89000   \n",
       "179575    17972035  {B2BC10F7-14E8-48BC-B714-486103F5C100}  140000   \n",
       "179576    17972036  {CD490E17-FB17-45A4-A8CA-48610635A27B}  150000   \n",
       "179577    17972037  {92DE07BB-4D48-43F5-9C26-486111BFBECD}   80000   \n",
       "179578    17972038  {7B79C472-FB84-4FD2-B1FF-48611FB754AB}  112000   \n",
       "\n",
       "       Date of Transfer Property Type Old/New Duration    Town/City  \\\n",
       "0            2012-06-27             D       N        L      TELFORD   \n",
       "1            2012-09-28             S       Y        F      CHINNOR   \n",
       "2            2012-01-20             F       N        L   PORTSMOUTH   \n",
       "3            2012-03-23             D       N        F  NORTHAMPTON   \n",
       "4            2012-06-13             T       N        F    ROCHESTER   \n",
       "...                 ...           ...     ...      ...          ...   \n",
       "179574       2012-12-12             T       N        F   BIRMINGHAM   \n",
       "179575       2012-03-08             S       N        F      EXMOUTH   \n",
       "179576       2012-04-26             F       N        L         YORK   \n",
       "179577       2012-08-10             S       N        F    DONCASTER   \n",
       "179578       2012-05-04             F       N        L      IPSWICH   \n",
       "\n",
       "                 District            County PPDCategory Type  \\\n",
       "0                  WREKIN            WREKIN                A   \n",
       "1       SOUTH OXFORDSHIRE       OXFORDSHIRE                A   \n",
       "2              PORTSMOUTH        PORTSMOUTH                A   \n",
       "3             NORTHAMPTON  NORTHAMPTONSHIRE                A   \n",
       "4                  MEDWAY            MEDWAY                A   \n",
       "...                   ...               ...              ...   \n",
       "179574         BIRMINGHAM     WEST MIDLANDS                A   \n",
       "179575         EAST DEVON             DEVON                A   \n",
       "179576               YORK              YORK                A   \n",
       "179577          DONCASTER   SOUTH YORKSHIRE                A   \n",
       "179578    SUFFOLK COASTAL           SUFFOLK                A   \n",
       "\n",
       "       Record Status - monthly file only  \n",
       "0                                      A  \n",
       "1                                      A  \n",
       "2                                      A  \n",
       "3                                      A  \n",
       "4                                      A  \n",
       "...                                  ...  \n",
       "179574                                 A  \n",
       "179575                                 A  \n",
       "179576                                 A  \n",
       "179577                                 A  \n",
       "179578                                 A  \n",
       "\n",
       "[179579 rows x 12 columns]"
      ]
     },
     "execution_count": 12,
     "metadata": {},
     "output_type": "execute_result"
    }
   ],
   "source": [
    "DATA.get_partition(1).compute()"
   ]
  },
  {
   "cell_type": "code",
   "execution_count": 13,
   "metadata": {
    "ExecuteTime": {
     "end_time": "2020-12-18T13:43:49.870699Z",
     "start_time": "2020-12-18T13:43:36.475699Z"
    }
   },
   "outputs": [
    {
     "data": {
      "text/plain": [
       "0"
      ]
     },
     "execution_count": 13,
     "metadata": {},
     "output_type": "execute_result"
    }
   ],
   "source": [
    "DATA.isna().sum().sum().compute()"
   ]
  },
  {
   "cell_type": "code",
   "execution_count": 14,
   "metadata": {
    "ExecuteTime": {
     "end_time": "2020-12-18T13:44:00.308699Z",
     "start_time": "2020-12-18T13:43:49.874700Z"
    }
   },
   "outputs": [
    {
     "data": {
      "text/plain": [
       "(4876426, 12)"
      ]
     },
     "execution_count": 14,
     "metadata": {},
     "output_type": "execute_result"
    }
   ],
   "source": [
    "DATA.shape[0].compute(),DATA.shape[1]"
   ]
  },
  {
   "cell_type": "code",
   "execution_count": 15,
   "metadata": {
    "ExecuteTime": {
     "end_time": "2020-12-18T13:44:00.332699Z",
     "start_time": "2020-12-18T13:44:00.313700Z"
    }
   },
   "outputs": [
    {
     "data": {
      "text/plain": [
       "Unnamed: 0                                    int64\n",
       "Transaction unique identifier                object\n",
       "Price                                         int64\n",
       "Date of Transfer                     datetime64[ns]\n",
       "Property Type                                object\n",
       "Old/New                                      object\n",
       "Duration                                     object\n",
       "Town/City                                    object\n",
       "District                                     object\n",
       "County                                       object\n",
       "PPDCategory Type                             object\n",
       "Record Status - monthly file only            object\n",
       "dtype: object"
      ]
     },
     "execution_count": 15,
     "metadata": {},
     "output_type": "execute_result"
    }
   ],
   "source": [
    "DATA.dtypes"
   ]
  },
  {
   "cell_type": "code",
   "execution_count": 16,
   "metadata": {
    "ExecuteTime": {
     "end_time": "2020-12-18T13:44:00.344699Z",
     "start_time": "2020-12-18T13:44:00.338702Z"
    }
   },
   "outputs": [],
   "source": [
    "# Notice that Date of Transfer columns contain duplicate values, because several transactions can be made on one date."
   ]
  },
  {
   "cell_type": "code",
   "execution_count": 17,
   "metadata": {
    "ExecuteTime": {
     "end_time": "2020-12-18T13:44:11.211702Z",
     "start_time": "2020-12-18T13:44:00.349702Z"
    }
   },
   "outputs": [
    {
     "data": {
      "text/plain": [
       "0      2012-09-28\n",
       "1      2012-07-18\n",
       "2      2012-04-25\n",
       "3      2012-10-25\n",
       "4      2012-04-13\n",
       "          ...    \n",
       "1998   2017-03-04\n",
       "1999   2017-04-09\n",
       "2000   2017-03-05\n",
       "2001   2017-01-28\n",
       "2002   2017-04-08\n",
       "Name: Date of Transfer, Length: 2003, dtype: datetime64[ns]"
      ]
     },
     "execution_count": 17,
     "metadata": {},
     "output_type": "execute_result"
    }
   ],
   "source": [
    "DATA['Date of Transfer'].unique().compute()"
   ]
  },
  {
   "cell_type": "code",
   "execution_count": 18,
   "metadata": {
    "ExecuteTime": {
     "end_time": "2020-12-18T13:44:21.946698Z",
     "start_time": "2020-12-18T13:44:11.216704Z"
    }
   },
   "outputs": [
    {
     "data": {
      "text/plain": [
       "0    S\n",
       "1    D\n",
       "2    T\n",
       "3    F\n",
       "4    O\n",
       "Name: Property Type, dtype: object"
      ]
     },
     "execution_count": 18,
     "metadata": {},
     "output_type": "execute_result"
    }
   ],
   "source": [
    "DATA['Property Type'].unique().compute()"
   ]
  },
  {
   "cell_type": "code",
   "execution_count": 19,
   "metadata": {
    "ExecuteTime": {
     "end_time": "2020-12-18T13:44:32.737700Z",
     "start_time": "2020-12-18T13:44:21.950701Z"
    }
   },
   "outputs": [
    {
     "data": {
      "text/plain": [
       "count    4,876,426.00\n",
       "mean       283,631.87\n",
       "std        773,019.82\n",
       "min              1.00\n",
       "25%        146,000.00\n",
       "50%        224,995.00\n",
       "75%        350,000.00\n",
       "max     98,900,000.00\n",
       "Name: Price, dtype: float64"
      ]
     },
     "execution_count": 19,
     "metadata": {},
     "output_type": "execute_result"
    }
   ],
   "source": [
    "DATA['Price'].describe().compute()  # PRICE OUTLINER! DANGER!!!!!"
   ]
  },
  {
   "cell_type": "code",
   "execution_count": 20,
   "metadata": {
    "ExecuteTime": {
     "end_time": "2020-12-18T13:44:32.744700Z",
     "start_time": "2020-12-18T13:44:32.741700Z"
    }
   },
   "outputs": [],
   "source": [
    "#drop duplicate row if any, but no duplicate, may take time to run\n",
    "#DATA.drop_duplicates()"
   ]
  },
  {
   "cell_type": "markdown",
   "metadata": {},
   "source": [
    "## Remove illogical price"
   ]
  },
  {
   "cell_type": "markdown",
   "metadata": {},
   "source": [
    "Reason: https://www.dailymail.co.uk/property/article-6628333/Cheapest-properties-sale-cost-15-month.html"
   ]
  },
  {
   "cell_type": "code",
   "execution_count": 21,
   "metadata": {
    "ExecuteTime": {
     "end_time": "2020-12-18T13:44:32.767704Z",
     "start_time": "2020-12-18T13:44:32.750699Z"
    }
   },
   "outputs": [],
   "source": [
    "DATA=DATA[DATA.Price>=4000]"
   ]
  },
  {
   "cell_type": "code",
   "execution_count": 22,
   "metadata": {
    "ExecuteTime": {
     "end_time": "2020-12-18T13:44:33.695698Z",
     "start_time": "2020-12-18T13:44:32.772698Z"
    }
   },
   "outputs": [
    {
     "data": {
      "text/html": [
       "<div>\n",
       "<style scoped>\n",
       "    .dataframe tbody tr th:only-of-type {\n",
       "        vertical-align: middle;\n",
       "    }\n",
       "\n",
       "    .dataframe tbody tr th {\n",
       "        vertical-align: top;\n",
       "    }\n",
       "\n",
       "    .dataframe thead th {\n",
       "        text-align: right;\n",
       "    }\n",
       "</style>\n",
       "<table border=\"1\" class=\"dataframe\">\n",
       "  <thead>\n",
       "    <tr style=\"text-align: right;\">\n",
       "      <th></th>\n",
       "      <th>Unnamed: 0</th>\n",
       "      <th>Transaction unique identifier</th>\n",
       "      <th>Price</th>\n",
       "      <th>Date of Transfer</th>\n",
       "      <th>Property Type</th>\n",
       "      <th>Old/New</th>\n",
       "      <th>Duration</th>\n",
       "      <th>Town/City</th>\n",
       "      <th>District</th>\n",
       "      <th>County</th>\n",
       "      <th>PPDCategory Type</th>\n",
       "      <th>Record Status - monthly file only</th>\n",
       "    </tr>\n",
       "  </thead>\n",
       "  <tbody>\n",
       "    <tr>\n",
       "      <th>0</th>\n",
       "      <td>17612922</td>\n",
       "      <td>{BD0D075D-7818-47B3-9657-7651CBD02219}</td>\n",
       "      <td>155000</td>\n",
       "      <td>2012-09-28</td>\n",
       "      <td>S</td>\n",
       "      <td>N</td>\n",
       "      <td>F</td>\n",
       "      <td>YORK</td>\n",
       "      <td>YORK</td>\n",
       "      <td>YORK</td>\n",
       "      <td>A</td>\n",
       "      <td>A</td>\n",
       "    </tr>\n",
       "    <tr>\n",
       "      <th>1</th>\n",
       "      <td>17612923</td>\n",
       "      <td>{0FF70080-C8EA-4DDC-9C19-7651D9B540CC}</td>\n",
       "      <td>264000</td>\n",
       "      <td>2012-07-18</td>\n",
       "      <td>D</td>\n",
       "      <td>N</td>\n",
       "      <td>F</td>\n",
       "      <td>HAYLING ISLAND</td>\n",
       "      <td>HAVANT</td>\n",
       "      <td>HAMPSHIRE</td>\n",
       "      <td>A</td>\n",
       "      <td>A</td>\n",
       "    </tr>\n",
       "    <tr>\n",
       "      <th>2</th>\n",
       "      <td>17612924</td>\n",
       "      <td>{80CC2177-EDBE-4ABB-9EAA-7651DAA0E4EE}</td>\n",
       "      <td>20000</td>\n",
       "      <td>2012-04-25</td>\n",
       "      <td>T</td>\n",
       "      <td>N</td>\n",
       "      <td>F</td>\n",
       "      <td>HULL</td>\n",
       "      <td>CITY OF KINGSTON UPON HULL</td>\n",
       "      <td>CITY OF KINGSTON UPON HULL</td>\n",
       "      <td>A</td>\n",
       "      <td>A</td>\n",
       "    </tr>\n",
       "    <tr>\n",
       "      <th>3</th>\n",
       "      <td>17612925</td>\n",
       "      <td>{076B2969-50D6-4659-8956-7651ECAAB904}</td>\n",
       "      <td>89950</td>\n",
       "      <td>2012-10-25</td>\n",
       "      <td>S</td>\n",
       "      <td>N</td>\n",
       "      <td>F</td>\n",
       "      <td>WORKSOP</td>\n",
       "      <td>BASSETLAW</td>\n",
       "      <td>NOTTINGHAMSHIRE</td>\n",
       "      <td>A</td>\n",
       "      <td>A</td>\n",
       "    </tr>\n",
       "    <tr>\n",
       "      <th>4</th>\n",
       "      <td>17612926</td>\n",
       "      <td>{9A6B1BBC-3522-4B44-9FD6-765202F73E28}</td>\n",
       "      <td>168000</td>\n",
       "      <td>2012-04-13</td>\n",
       "      <td>S</td>\n",
       "      <td>N</td>\n",
       "      <td>F</td>\n",
       "      <td>TORQUAY</td>\n",
       "      <td>TORBAY</td>\n",
       "      <td>TORBAY</td>\n",
       "      <td>A</td>\n",
       "      <td>A</td>\n",
       "    </tr>\n",
       "  </tbody>\n",
       "</table>\n",
       "</div>"
      ],
      "text/plain": [
       "   Unnamed: 0           Transaction unique identifier   Price  \\\n",
       "0    17612922  {BD0D075D-7818-47B3-9657-7651CBD02219}  155000   \n",
       "1    17612923  {0FF70080-C8EA-4DDC-9C19-7651D9B540CC}  264000   \n",
       "2    17612924  {80CC2177-EDBE-4ABB-9EAA-7651DAA0E4EE}   20000   \n",
       "3    17612925  {076B2969-50D6-4659-8956-7651ECAAB904}   89950   \n",
       "4    17612926  {9A6B1BBC-3522-4B44-9FD6-765202F73E28}  168000   \n",
       "\n",
       "  Date of Transfer Property Type Old/New Duration       Town/City  \\\n",
       "0       2012-09-28             S       N        F            YORK   \n",
       "1       2012-07-18             D       N        F  HAYLING ISLAND   \n",
       "2       2012-04-25             T       N        F            HULL   \n",
       "3       2012-10-25             S       N        F         WORKSOP   \n",
       "4       2012-04-13             S       N        F         TORQUAY   \n",
       "\n",
       "                     District                      County PPDCategory Type  \\\n",
       "0                        YORK                        YORK                A   \n",
       "1                      HAVANT                   HAMPSHIRE                A   \n",
       "2  CITY OF KINGSTON UPON HULL  CITY OF KINGSTON UPON HULL                A   \n",
       "3                   BASSETLAW             NOTTINGHAMSHIRE                A   \n",
       "4                      TORBAY                      TORBAY                A   \n",
       "\n",
       "  Record Status - monthly file only  \n",
       "0                                 A  \n",
       "1                                 A  \n",
       "2                                 A  \n",
       "3                                 A  \n",
       "4                                 A  "
      ]
     },
     "execution_count": 22,
     "metadata": {},
     "output_type": "execute_result"
    }
   ],
   "source": [
    "DATA.head()"
   ]
  },
  {
   "cell_type": "code",
   "execution_count": 23,
   "metadata": {
    "ExecuteTime": {
     "end_time": "2020-12-18T13:44:34.020701Z",
     "start_time": "2020-12-18T13:44:33.712699Z"
    }
   },
   "outputs": [
    {
     "data": {
      "text/html": [
       "<div>\n",
       "<style scoped>\n",
       "    .dataframe tbody tr th:only-of-type {\n",
       "        vertical-align: middle;\n",
       "    }\n",
       "\n",
       "    .dataframe tbody tr th {\n",
       "        vertical-align: top;\n",
       "    }\n",
       "\n",
       "    .dataframe thead th {\n",
       "        text-align: right;\n",
       "    }\n",
       "</style>\n",
       "<table border=\"1\" class=\"dataframe\">\n",
       "  <thead>\n",
       "    <tr style=\"text-align: right;\">\n",
       "      <th></th>\n",
       "      <th>Unnamed: 0</th>\n",
       "      <th>Transaction unique identifier</th>\n",
       "      <th>Price</th>\n",
       "      <th>Date of Transfer</th>\n",
       "      <th>Property Type</th>\n",
       "      <th>Old/New</th>\n",
       "      <th>Duration</th>\n",
       "      <th>Town/City</th>\n",
       "      <th>District</th>\n",
       "      <th>County</th>\n",
       "      <th>PPDCategory Type</th>\n",
       "      <th>Record Status - monthly file only</th>\n",
       "    </tr>\n",
       "  </thead>\n",
       "  <tbody>\n",
       "    <tr>\n",
       "      <th>31306</th>\n",
       "      <td>22489343</td>\n",
       "      <td>{4C4EE000-291A-1854-E050-A8C063054F34}</td>\n",
       "      <td>175000</td>\n",
       "      <td>2017-02-20</td>\n",
       "      <td>S</td>\n",
       "      <td>N</td>\n",
       "      <td>F</td>\n",
       "      <td>LEEDS</td>\n",
       "      <td>LEEDS</td>\n",
       "      <td>WEST YORKSHIRE</td>\n",
       "      <td>A</td>\n",
       "      <td>A</td>\n",
       "    </tr>\n",
       "    <tr>\n",
       "      <th>31307</th>\n",
       "      <td>22489344</td>\n",
       "      <td>{4C4EE000-291B-1854-E050-A8C063054F34}</td>\n",
       "      <td>586945</td>\n",
       "      <td>2017-02-15</td>\n",
       "      <td>D</td>\n",
       "      <td>N</td>\n",
       "      <td>F</td>\n",
       "      <td>WETHERBY</td>\n",
       "      <td>LEEDS</td>\n",
       "      <td>WEST YORKSHIRE</td>\n",
       "      <td>A</td>\n",
       "      <td>A</td>\n",
       "    </tr>\n",
       "    <tr>\n",
       "      <th>31308</th>\n",
       "      <td>22489345</td>\n",
       "      <td>{4C4EE000-291C-1854-E050-A8C063054F34}</td>\n",
       "      <td>274000</td>\n",
       "      <td>2017-02-24</td>\n",
       "      <td>D</td>\n",
       "      <td>N</td>\n",
       "      <td>L</td>\n",
       "      <td>HUDDERSFIELD</td>\n",
       "      <td>KIRKLEES</td>\n",
       "      <td>WEST YORKSHIRE</td>\n",
       "      <td>A</td>\n",
       "      <td>A</td>\n",
       "    </tr>\n",
       "    <tr>\n",
       "      <th>31309</th>\n",
       "      <td>22489346</td>\n",
       "      <td>{4C4EE000-291D-1854-E050-A8C063054F34}</td>\n",
       "      <td>36000</td>\n",
       "      <td>2017-02-22</td>\n",
       "      <td>T</td>\n",
       "      <td>N</td>\n",
       "      <td>F</td>\n",
       "      <td>HALIFAX</td>\n",
       "      <td>CALDERDALE</td>\n",
       "      <td>WEST YORKSHIRE</td>\n",
       "      <td>A</td>\n",
       "      <td>A</td>\n",
       "    </tr>\n",
       "    <tr>\n",
       "      <th>31310</th>\n",
       "      <td>22489347</td>\n",
       "      <td>{4C4EE000-291E-1854-E050-A8C063054F34}</td>\n",
       "      <td>145000</td>\n",
       "      <td>2017-03-03</td>\n",
       "      <td>T</td>\n",
       "      <td>N</td>\n",
       "      <td>F</td>\n",
       "      <td>LEEDS</td>\n",
       "      <td>LEEDS</td>\n",
       "      <td>WEST YORKSHIRE</td>\n",
       "      <td>A</td>\n",
       "      <td>A</td>\n",
       "    </tr>\n",
       "  </tbody>\n",
       "</table>\n",
       "</div>"
      ],
      "text/plain": [
       "       Unnamed: 0           Transaction unique identifier   Price  \\\n",
       "31306    22489343  {4C4EE000-291A-1854-E050-A8C063054F34}  175000   \n",
       "31307    22489344  {4C4EE000-291B-1854-E050-A8C063054F34}  586945   \n",
       "31308    22489345  {4C4EE000-291C-1854-E050-A8C063054F34}  274000   \n",
       "31309    22489346  {4C4EE000-291D-1854-E050-A8C063054F34}   36000   \n",
       "31310    22489347  {4C4EE000-291E-1854-E050-A8C063054F34}  145000   \n",
       "\n",
       "      Date of Transfer Property Type Old/New Duration     Town/City  \\\n",
       "31306       2017-02-20             S       N        F         LEEDS   \n",
       "31307       2017-02-15             D       N        F      WETHERBY   \n",
       "31308       2017-02-24             D       N        L  HUDDERSFIELD   \n",
       "31309       2017-02-22             T       N        F       HALIFAX   \n",
       "31310       2017-03-03             T       N        F         LEEDS   \n",
       "\n",
       "         District          County PPDCategory Type  \\\n",
       "31306       LEEDS  WEST YORKSHIRE                A   \n",
       "31307       LEEDS  WEST YORKSHIRE                A   \n",
       "31308    KIRKLEES  WEST YORKSHIRE                A   \n",
       "31309  CALDERDALE  WEST YORKSHIRE                A   \n",
       "31310       LEEDS  WEST YORKSHIRE                A   \n",
       "\n",
       "      Record Status - monthly file only  \n",
       "31306                                 A  \n",
       "31307                                 A  \n",
       "31308                                 A  \n",
       "31309                                 A  \n",
       "31310                                 A  "
      ]
     },
     "execution_count": 23,
     "metadata": {},
     "output_type": "execute_result"
    }
   ],
   "source": [
    "DATA.tail()"
   ]
  },
  {
   "cell_type": "code",
   "execution_count": 24,
   "metadata": {
    "ExecuteTime": {
     "end_time": "2020-12-18T13:44:34.042698Z",
     "start_time": "2020-12-18T13:44:34.030708Z"
    }
   },
   "outputs": [
    {
     "data": {
      "text/plain": [
       "Unnamed: 0                                    int64\n",
       "Transaction unique identifier                object\n",
       "Price                                         int64\n",
       "Date of Transfer                     datetime64[ns]\n",
       "Property Type                                object\n",
       "Old/New                                      object\n",
       "Duration                                     object\n",
       "Town/City                                    object\n",
       "District                                     object\n",
       "County                                       object\n",
       "PPDCategory Type                             object\n",
       "Record Status - monthly file only            object\n",
       "dtype: object"
      ]
     },
     "execution_count": 24,
     "metadata": {},
     "output_type": "execute_result"
    }
   ],
   "source": [
    "DATA.dtypes"
   ]
  },
  {
   "cell_type": "code",
   "execution_count": 25,
   "metadata": {
    "ExecuteTime": {
     "end_time": "2020-12-18T13:44:46.874698Z",
     "start_time": "2020-12-18T13:44:34.049703Z"
    }
   },
   "outputs": [
    {
     "data": {
      "text/plain": [
       "4874262"
      ]
     },
     "execution_count": 25,
     "metadata": {},
     "output_type": "execute_result"
    }
   ],
   "source": [
    "DATA.shape[0].compute()"
   ]
  },
  {
   "cell_type": "markdown",
   "metadata": {},
   "source": [
    "## Drop uncessary columns"
   ]
  },
  {
   "cell_type": "code",
   "execution_count": 26,
   "metadata": {
    "ExecuteTime": {
     "end_time": "2020-12-18T13:44:46.886699Z",
     "start_time": "2020-12-18T13:44:46.877698Z"
    }
   },
   "outputs": [
    {
     "data": {
      "text/plain": [
       "Index(['Unnamed: 0', 'Transaction unique identifier', 'Price',\n",
       "       'Date of Transfer', 'Property Type', 'Old/New', 'Duration', 'Town/City',\n",
       "       'District', 'County', 'PPDCategory Type',\n",
       "       'Record Status - monthly file only'],\n",
       "      dtype='object')"
      ]
     },
     "execution_count": 26,
     "metadata": {},
     "output_type": "execute_result"
    }
   ],
   "source": [
    "DATA.columns"
   ]
  },
  {
   "cell_type": "code",
   "execution_count": 27,
   "metadata": {
    "ExecuteTime": {
     "end_time": "2020-12-18T13:44:46.911706Z",
     "start_time": "2020-12-18T13:44:46.892702Z"
    }
   },
   "outputs": [],
   "source": [
    "data_group=DATA[['Date of Transfer', 'Price','Property Type', 'Old/New', 'Duration', 'Town/City',\n",
    "       'District', 'County', 'PPDCategory Type']]"
   ]
  },
  {
   "cell_type": "code",
   "execution_count": 28,
   "metadata": {
    "ExecuteTime": {
     "end_time": "2020-12-18T13:44:47.998699Z",
     "start_time": "2020-12-18T13:44:46.917699Z"
    }
   },
   "outputs": [
    {
     "data": {
      "text/html": [
       "<div>\n",
       "<style scoped>\n",
       "    .dataframe tbody tr th:only-of-type {\n",
       "        vertical-align: middle;\n",
       "    }\n",
       "\n",
       "    .dataframe tbody tr th {\n",
       "        vertical-align: top;\n",
       "    }\n",
       "\n",
       "    .dataframe thead th {\n",
       "        text-align: right;\n",
       "    }\n",
       "</style>\n",
       "<table border=\"1\" class=\"dataframe\">\n",
       "  <thead>\n",
       "    <tr style=\"text-align: right;\">\n",
       "      <th></th>\n",
       "      <th>Date of Transfer</th>\n",
       "      <th>Price</th>\n",
       "      <th>Property Type</th>\n",
       "      <th>Old/New</th>\n",
       "      <th>Duration</th>\n",
       "      <th>Town/City</th>\n",
       "      <th>District</th>\n",
       "      <th>County</th>\n",
       "      <th>PPDCategory Type</th>\n",
       "    </tr>\n",
       "  </thead>\n",
       "  <tbody>\n",
       "    <tr>\n",
       "      <th>0</th>\n",
       "      <td>2012-09-28</td>\n",
       "      <td>155000</td>\n",
       "      <td>S</td>\n",
       "      <td>N</td>\n",
       "      <td>F</td>\n",
       "      <td>YORK</td>\n",
       "      <td>YORK</td>\n",
       "      <td>YORK</td>\n",
       "      <td>A</td>\n",
       "    </tr>\n",
       "    <tr>\n",
       "      <th>1</th>\n",
       "      <td>2012-07-18</td>\n",
       "      <td>264000</td>\n",
       "      <td>D</td>\n",
       "      <td>N</td>\n",
       "      <td>F</td>\n",
       "      <td>HAYLING ISLAND</td>\n",
       "      <td>HAVANT</td>\n",
       "      <td>HAMPSHIRE</td>\n",
       "      <td>A</td>\n",
       "    </tr>\n",
       "    <tr>\n",
       "      <th>2</th>\n",
       "      <td>2012-04-25</td>\n",
       "      <td>20000</td>\n",
       "      <td>T</td>\n",
       "      <td>N</td>\n",
       "      <td>F</td>\n",
       "      <td>HULL</td>\n",
       "      <td>CITY OF KINGSTON UPON HULL</td>\n",
       "      <td>CITY OF KINGSTON UPON HULL</td>\n",
       "      <td>A</td>\n",
       "    </tr>\n",
       "    <tr>\n",
       "      <th>3</th>\n",
       "      <td>2012-10-25</td>\n",
       "      <td>89950</td>\n",
       "      <td>S</td>\n",
       "      <td>N</td>\n",
       "      <td>F</td>\n",
       "      <td>WORKSOP</td>\n",
       "      <td>BASSETLAW</td>\n",
       "      <td>NOTTINGHAMSHIRE</td>\n",
       "      <td>A</td>\n",
       "    </tr>\n",
       "    <tr>\n",
       "      <th>4</th>\n",
       "      <td>2012-04-13</td>\n",
       "      <td>168000</td>\n",
       "      <td>S</td>\n",
       "      <td>N</td>\n",
       "      <td>F</td>\n",
       "      <td>TORQUAY</td>\n",
       "      <td>TORBAY</td>\n",
       "      <td>TORBAY</td>\n",
       "      <td>A</td>\n",
       "    </tr>\n",
       "  </tbody>\n",
       "</table>\n",
       "</div>"
      ],
      "text/plain": [
       "  Date of Transfer   Price Property Type Old/New Duration       Town/City  \\\n",
       "0       2012-09-28  155000             S       N        F            YORK   \n",
       "1       2012-07-18  264000             D       N        F  HAYLING ISLAND   \n",
       "2       2012-04-25   20000             T       N        F            HULL   \n",
       "3       2012-10-25   89950             S       N        F         WORKSOP   \n",
       "4       2012-04-13  168000             S       N        F         TORQUAY   \n",
       "\n",
       "                     District                      County PPDCategory Type  \n",
       "0                        YORK                        YORK                A  \n",
       "1                      HAVANT                   HAMPSHIRE                A  \n",
       "2  CITY OF KINGSTON UPON HULL  CITY OF KINGSTON UPON HULL                A  \n",
       "3                   BASSETLAW             NOTTINGHAMSHIRE                A  \n",
       "4                      TORBAY                      TORBAY                A  "
      ]
     },
     "execution_count": 28,
     "metadata": {},
     "output_type": "execute_result"
    }
   ],
   "source": [
    "data_group.head()"
   ]
  },
  {
   "cell_type": "code",
   "execution_count": 29,
   "metadata": {
    "ExecuteTime": {
     "end_time": "2020-12-18T13:44:48.022702Z",
     "start_time": "2020-12-18T13:44:48.004700Z"
    }
   },
   "outputs": [
    {
     "data": {
      "text/plain": [
       "Date of Transfer    datetime64[ns]\n",
       "Price                        int64\n",
       "Property Type               object\n",
       "Old/New                     object\n",
       "Duration                    object\n",
       "Town/City                   object\n",
       "District                    object\n",
       "County                      object\n",
       "PPDCategory Type            object\n",
       "dtype: object"
      ]
     },
     "execution_count": 29,
     "metadata": {},
     "output_type": "execute_result"
    }
   ],
   "source": [
    "data_group.dtypes"
   ]
  },
  {
   "cell_type": "markdown",
   "metadata": {},
   "source": [
    "## Change columns name to more concise versions"
   ]
  },
  {
   "cell_type": "code",
   "execution_count": 30,
   "metadata": {
    "ExecuteTime": {
     "end_time": "2020-12-18T13:44:48.055698Z",
     "start_time": "2020-12-18T13:44:48.029699Z"
    }
   },
   "outputs": [],
   "source": [
    "new_cols=['Date','Price','Property Type','Old/New','Duration','Town/City','District','County','Price Method']\n",
    "data_group_new=data_group.rename(columns=dict(zip(data_group.columns,new_cols)))"
   ]
  },
  {
   "cell_type": "code",
   "execution_count": 31,
   "metadata": {
    "ExecuteTime": {
     "end_time": "2020-12-18T13:44:49.196710Z",
     "start_time": "2020-12-18T13:44:48.061710Z"
    }
   },
   "outputs": [
    {
     "data": {
      "text/html": [
       "<div>\n",
       "<style scoped>\n",
       "    .dataframe tbody tr th:only-of-type {\n",
       "        vertical-align: middle;\n",
       "    }\n",
       "\n",
       "    .dataframe tbody tr th {\n",
       "        vertical-align: top;\n",
       "    }\n",
       "\n",
       "    .dataframe thead th {\n",
       "        text-align: right;\n",
       "    }\n",
       "</style>\n",
       "<table border=\"1\" class=\"dataframe\">\n",
       "  <thead>\n",
       "    <tr style=\"text-align: right;\">\n",
       "      <th></th>\n",
       "      <th>Date</th>\n",
       "      <th>Price</th>\n",
       "      <th>Property Type</th>\n",
       "      <th>Old/New</th>\n",
       "      <th>Duration</th>\n",
       "      <th>Town/City</th>\n",
       "      <th>District</th>\n",
       "      <th>County</th>\n",
       "      <th>Price Method</th>\n",
       "    </tr>\n",
       "  </thead>\n",
       "  <tbody>\n",
       "    <tr>\n",
       "      <th>0</th>\n",
       "      <td>2012-09-28</td>\n",
       "      <td>155000</td>\n",
       "      <td>S</td>\n",
       "      <td>N</td>\n",
       "      <td>F</td>\n",
       "      <td>YORK</td>\n",
       "      <td>YORK</td>\n",
       "      <td>YORK</td>\n",
       "      <td>A</td>\n",
       "    </tr>\n",
       "    <tr>\n",
       "      <th>1</th>\n",
       "      <td>2012-07-18</td>\n",
       "      <td>264000</td>\n",
       "      <td>D</td>\n",
       "      <td>N</td>\n",
       "      <td>F</td>\n",
       "      <td>HAYLING ISLAND</td>\n",
       "      <td>HAVANT</td>\n",
       "      <td>HAMPSHIRE</td>\n",
       "      <td>A</td>\n",
       "    </tr>\n",
       "    <tr>\n",
       "      <th>2</th>\n",
       "      <td>2012-04-25</td>\n",
       "      <td>20000</td>\n",
       "      <td>T</td>\n",
       "      <td>N</td>\n",
       "      <td>F</td>\n",
       "      <td>HULL</td>\n",
       "      <td>CITY OF KINGSTON UPON HULL</td>\n",
       "      <td>CITY OF KINGSTON UPON HULL</td>\n",
       "      <td>A</td>\n",
       "    </tr>\n",
       "    <tr>\n",
       "      <th>3</th>\n",
       "      <td>2012-10-25</td>\n",
       "      <td>89950</td>\n",
       "      <td>S</td>\n",
       "      <td>N</td>\n",
       "      <td>F</td>\n",
       "      <td>WORKSOP</td>\n",
       "      <td>BASSETLAW</td>\n",
       "      <td>NOTTINGHAMSHIRE</td>\n",
       "      <td>A</td>\n",
       "    </tr>\n",
       "    <tr>\n",
       "      <th>4</th>\n",
       "      <td>2012-04-13</td>\n",
       "      <td>168000</td>\n",
       "      <td>S</td>\n",
       "      <td>N</td>\n",
       "      <td>F</td>\n",
       "      <td>TORQUAY</td>\n",
       "      <td>TORBAY</td>\n",
       "      <td>TORBAY</td>\n",
       "      <td>A</td>\n",
       "    </tr>\n",
       "  </tbody>\n",
       "</table>\n",
       "</div>"
      ],
      "text/plain": [
       "        Date   Price Property Type Old/New Duration       Town/City  \\\n",
       "0 2012-09-28  155000             S       N        F            YORK   \n",
       "1 2012-07-18  264000             D       N        F  HAYLING ISLAND   \n",
       "2 2012-04-25   20000             T       N        F            HULL   \n",
       "3 2012-10-25   89950             S       N        F         WORKSOP   \n",
       "4 2012-04-13  168000             S       N        F         TORQUAY   \n",
       "\n",
       "                     District                      County Price Method  \n",
       "0                        YORK                        YORK            A  \n",
       "1                      HAVANT                   HAMPSHIRE            A  \n",
       "2  CITY OF KINGSTON UPON HULL  CITY OF KINGSTON UPON HULL            A  \n",
       "3                   BASSETLAW             NOTTINGHAMSHIRE            A  \n",
       "4                      TORBAY                      TORBAY            A  "
      ]
     },
     "execution_count": 31,
     "metadata": {},
     "output_type": "execute_result"
    }
   ],
   "source": [
    "data_group_new.head()"
   ]
  },
  {
   "cell_type": "code",
   "execution_count": 32,
   "metadata": {
    "ExecuteTime": {
     "end_time": "2020-12-18T13:44:49.214699Z",
     "start_time": "2020-12-18T13:44:49.201702Z"
    }
   },
   "outputs": [
    {
     "data": {
      "text/plain": [
       "Date             datetime64[ns]\n",
       "Price                     int64\n",
       "Property Type            object\n",
       "Old/New                  object\n",
       "Duration                 object\n",
       "Town/City                object\n",
       "District                 object\n",
       "County                   object\n",
       "Price Method             object\n",
       "dtype: object"
      ]
     },
     "execution_count": 32,
     "metadata": {},
     "output_type": "execute_result"
    }
   ],
   "source": [
    "data_group_new.dtypes"
   ]
  },
  {
   "cell_type": "markdown",
   "metadata": {},
   "source": [
    "## Notice:"
   ]
  },
  {
   "cell_type": "markdown",
   "metadata": {},
   "source": [
    "Before going to non-time analysis , we would like to take a glance to see any abnormal or events causing by time, which later may influence our understanding of the analysis. Since inflation is inhibited inside price, we take the inflation rate information in consideration, because the price increases/reduces can stem from inflation (not real increase)."
   ]
  },
  {
   "cell_type": "markdown",
   "metadata": {
    "ExecuteTime": {
     "end_time": "2020-12-15T15:22:11.515071Z",
     "start_time": "2020-12-15T15:22:11.506071Z"
    }
   },
   "source": [
    "<img src='UKinflation.JPG' width=600>"
   ]
  },
  {
   "cell_type": "markdown",
   "metadata": {},
   "source": [
    "source: https://www.ons.gov.uk/economy/inflationandpriceindices/timeseries/l55o/mm23"
   ]
  },
  {
   "cell_type": "markdown",
   "metadata": {},
   "source": [
    "Our dataset time spans from 2012 to 2017 which the inflation rate shows flunctuation as in the figure with the bottom in year 2015."
   ]
  },
  {
   "cell_type": "markdown",
   "metadata": {
    "ExecuteTime": {
     "end_time": "2020-12-15T15:51:48.683252Z",
     "start_time": "2020-12-15T15:51:48.660244Z"
    }
   },
   "source": [
    "<div style='background-color:orange;color:white;padding:20px;text-align:center;font-size:20px'> ANALYSIS PART III: GAINING INSIGHT FROM CATEGORICAL VARIABLES</div>"
   ]
  },
  {
   "cell_type": "code",
   "execution_count": 56,
   "metadata": {
    "ExecuteTime": {
     "end_time": "2020-12-18T13:50:30.200799Z",
     "start_time": "2020-12-18T13:50:29.297750Z"
    }
   },
   "outputs": [
    {
     "data": {
      "text/html": [
       "<div>\n",
       "<style scoped>\n",
       "    .dataframe tbody tr th:only-of-type {\n",
       "        vertical-align: middle;\n",
       "    }\n",
       "\n",
       "    .dataframe tbody tr th {\n",
       "        vertical-align: top;\n",
       "    }\n",
       "\n",
       "    .dataframe thead th {\n",
       "        text-align: right;\n",
       "    }\n",
       "</style>\n",
       "<table border=\"1\" class=\"dataframe\">\n",
       "  <thead>\n",
       "    <tr style=\"text-align: right;\">\n",
       "      <th></th>\n",
       "      <th>Date</th>\n",
       "      <th>Price</th>\n",
       "      <th>Property Type</th>\n",
       "      <th>Old/New</th>\n",
       "      <th>Duration</th>\n",
       "      <th>Town/City</th>\n",
       "      <th>District</th>\n",
       "      <th>County</th>\n",
       "      <th>Price Method</th>\n",
       "    </tr>\n",
       "  </thead>\n",
       "  <tbody>\n",
       "    <tr>\n",
       "      <th>0</th>\n",
       "      <td>2012-09-28</td>\n",
       "      <td>155000</td>\n",
       "      <td>S</td>\n",
       "      <td>N</td>\n",
       "      <td>F</td>\n",
       "      <td>YORK</td>\n",
       "      <td>YORK</td>\n",
       "      <td>YORK</td>\n",
       "      <td>A</td>\n",
       "    </tr>\n",
       "    <tr>\n",
       "      <th>1</th>\n",
       "      <td>2012-07-18</td>\n",
       "      <td>264000</td>\n",
       "      <td>D</td>\n",
       "      <td>N</td>\n",
       "      <td>F</td>\n",
       "      <td>HAYLING ISLAND</td>\n",
       "      <td>HAVANT</td>\n",
       "      <td>HAMPSHIRE</td>\n",
       "      <td>A</td>\n",
       "    </tr>\n",
       "    <tr>\n",
       "      <th>2</th>\n",
       "      <td>2012-04-25</td>\n",
       "      <td>20000</td>\n",
       "      <td>T</td>\n",
       "      <td>N</td>\n",
       "      <td>F</td>\n",
       "      <td>HULL</td>\n",
       "      <td>CITY OF KINGSTON UPON HULL</td>\n",
       "      <td>CITY OF KINGSTON UPON HULL</td>\n",
       "      <td>A</td>\n",
       "    </tr>\n",
       "    <tr>\n",
       "      <th>3</th>\n",
       "      <td>2012-10-25</td>\n",
       "      <td>89950</td>\n",
       "      <td>S</td>\n",
       "      <td>N</td>\n",
       "      <td>F</td>\n",
       "      <td>WORKSOP</td>\n",
       "      <td>BASSETLAW</td>\n",
       "      <td>NOTTINGHAMSHIRE</td>\n",
       "      <td>A</td>\n",
       "    </tr>\n",
       "    <tr>\n",
       "      <th>4</th>\n",
       "      <td>2012-04-13</td>\n",
       "      <td>168000</td>\n",
       "      <td>S</td>\n",
       "      <td>N</td>\n",
       "      <td>F</td>\n",
       "      <td>TORQUAY</td>\n",
       "      <td>TORBAY</td>\n",
       "      <td>TORBAY</td>\n",
       "      <td>A</td>\n",
       "    </tr>\n",
       "  </tbody>\n",
       "</table>\n",
       "</div>"
      ],
      "text/plain": [
       "        Date   Price Property Type Old/New Duration       Town/City  \\\n",
       "0 2012-09-28  155000             S       N        F            YORK   \n",
       "1 2012-07-18  264000             D       N        F  HAYLING ISLAND   \n",
       "2 2012-04-25   20000             T       N        F            HULL   \n",
       "3 2012-10-25   89950             S       N        F         WORKSOP   \n",
       "4 2012-04-13  168000             S       N        F         TORQUAY   \n",
       "\n",
       "                     District                      County Price Method  \n",
       "0                        YORK                        YORK            A  \n",
       "1                      HAVANT                   HAMPSHIRE            A  \n",
       "2  CITY OF KINGSTON UPON HULL  CITY OF KINGSTON UPON HULL            A  \n",
       "3                   BASSETLAW             NOTTINGHAMSHIRE            A  \n",
       "4                      TORBAY                      TORBAY            A  "
      ]
     },
     "execution_count": 56,
     "metadata": {},
     "output_type": "execute_result"
    }
   ],
   "source": [
    "data_group_new.head()"
   ]
  },
  {
   "cell_type": "markdown",
   "metadata": {},
   "source": [
    "## How Property, Status, Duration, Location tell us about housing price in UK from 2012 to 2017?"
   ]
  },
  {
   "cell_type": "code",
   "execution_count": 57,
   "metadata": {
    "ExecuteTime": {
     "end_time": "2020-12-18T13:51:30.050181Z",
     "start_time": "2020-12-18T13:50:37.016577Z"
    }
   },
   "outputs": [],
   "source": [
    "Property=data_group_new[['Price','Property Type']].groupby(['Property Type']).agg(['max','mean','min']).compute()\n",
    "Status=data_group_new[['Price','Old/New']].groupby(['Old/New']).agg(['max','mean','min']).compute()\n",
    "Duration=data_group_new[['Price','Duration']].groupby(['Duration']).agg(['max','mean','min']).compute()\n",
    "County=data_group_new[['Price','County']].groupby(['County']).agg(['max','mean','min']).compute()\n",
    "Price_Method=data_group_new[['Price','Price Method']].groupby(['Price Method']).agg(['max','mean','min']).compute()"
   ]
  },
  {
   "cell_type": "code",
   "execution_count": 58,
   "metadata": {
    "ExecuteTime": {
     "end_time": "2020-12-18T13:51:31.173407Z",
     "start_time": "2020-12-18T13:51:31.159405Z"
    }
   },
   "outputs": [],
   "source": [
    "Property.rename({'D':'Detached', 'S':'Semi-Detached','T':'Terraced','F':'Flats/Maisonettes','O':'Other'},inplace=True)\n",
    "Status.rename({'Y': 'a newly built property', 'N':'an established residential building'},inplace=True)\n",
    "Duration.rename({'F':'Freehold','L': 'Leasehold'},inplace=True)\n",
    "Price_Method.rename({'A':' Standard Price Paid entry','B': 'Additional Price Paid entry'},inplace=True)"
   ]
  },
  {
   "cell_type": "code",
   "execution_count": 59,
   "metadata": {
    "ExecuteTime": {
     "end_time": "2020-12-18T13:51:36.253799Z",
     "start_time": "2020-12-18T13:51:36.225803Z"
    }
   },
   "outputs": [
    {
     "data": {
      "text/html": [
       "<div>\n",
       "<style scoped>\n",
       "    .dataframe tbody tr th:only-of-type {\n",
       "        vertical-align: middle;\n",
       "    }\n",
       "\n",
       "    .dataframe tbody tr th {\n",
       "        vertical-align: top;\n",
       "    }\n",
       "\n",
       "    .dataframe thead tr th {\n",
       "        text-align: left;\n",
       "    }\n",
       "\n",
       "    .dataframe thead tr:last-of-type th {\n",
       "        text-align: right;\n",
       "    }\n",
       "</style>\n",
       "<table border=\"1\" class=\"dataframe\">\n",
       "  <thead>\n",
       "    <tr>\n",
       "      <th></th>\n",
       "      <th colspan=\"3\" halign=\"left\">Price</th>\n",
       "    </tr>\n",
       "    <tr>\n",
       "      <th></th>\n",
       "      <th>max</th>\n",
       "      <th>mean</th>\n",
       "      <th>min</th>\n",
       "    </tr>\n",
       "    <tr>\n",
       "      <th>Property Type</th>\n",
       "      <th></th>\n",
       "      <th></th>\n",
       "      <th></th>\n",
       "    </tr>\n",
       "  </thead>\n",
       "  <tbody>\n",
       "    <tr>\n",
       "      <th>Detached</th>\n",
       "      <td>53489500</td>\n",
       "      <td>358,653.51</td>\n",
       "      <td>4121</td>\n",
       "    </tr>\n",
       "    <tr>\n",
       "      <th>Flats/Maisonettes</th>\n",
       "      <td>90000000</td>\n",
       "      <td>268,526.11</td>\n",
       "      <td>4000</td>\n",
       "    </tr>\n",
       "    <tr>\n",
       "      <th>Other</th>\n",
       "      <td>98900000</td>\n",
       "      <td>1,325,690.30</td>\n",
       "      <td>4000</td>\n",
       "    </tr>\n",
       "    <tr>\n",
       "      <th>Semi-Detached</th>\n",
       "      <td>54959000</td>\n",
       "      <td>221,885.78</td>\n",
       "      <td>4000</td>\n",
       "    </tr>\n",
       "    <tr>\n",
       "      <th>Terraced</th>\n",
       "      <td>45900000</td>\n",
       "      <td>216,532.18</td>\n",
       "      <td>4000</td>\n",
       "    </tr>\n",
       "  </tbody>\n",
       "</table>\n",
       "</div>"
      ],
      "text/plain": [
       "                      Price                   \n",
       "                        max         mean   min\n",
       "Property Type                                 \n",
       "Detached           53489500   358,653.51  4121\n",
       "Flats/Maisonettes  90000000   268,526.11  4000\n",
       "Other              98900000 1,325,690.30  4000\n",
       "Semi-Detached      54959000   221,885.78  4000\n",
       "Terraced           45900000   216,532.18  4000"
      ]
     },
     "execution_count": 59,
     "metadata": {},
     "output_type": "execute_result"
    }
   ],
   "source": [
    "Property"
   ]
  },
  {
   "cell_type": "code",
   "execution_count": 60,
   "metadata": {
    "ExecuteTime": {
     "end_time": "2020-12-18T13:51:41.537939Z",
     "start_time": "2020-12-18T13:51:40.061265Z"
    },
    "code_folding": [],
    "scrolled": false
   },
   "outputs": [
    {
     "data": {
      "application/vnd.jupyter.widget-view+json": {
       "model_id": "caf8bae176294453b5b877ab1ddcd40c",
       "version_major": 2,
       "version_minor": 0
      },
      "text/plain": [
       "interactive(children=(Dropdown(description='chart_name', options=('Property', 'Status', 'Duration', 'County', …"
      ]
     },
     "metadata": {},
     "output_type": "display_data"
    },
    {
     "data": {
      "text/plain": [
       "<function __main__.func(chart_name)>"
      ]
     },
     "execution_count": 60,
     "metadata": {},
     "output_type": "execute_result"
    }
   ],
   "source": [
    "def func(chart_name):  \n",
    "    return eval(chart_name).iplot()\n",
    "\n",
    "interact(func,chart_name=['Property','Status','Duration','County','Price_Method'])"
   ]
  },
  {
   "cell_type": "markdown",
   "metadata": {},
   "source": [
    "<div style='background-color:#222f5b;color:white;padding:20px;font-size:18px'>\n",
    "<div><b>Property Type</b>: Regular types (Detached, Flats/Maisonettes, Semi-detached, Terraced) are relatively simmilar prices; but Other types of housing are expensive in the UK. Using data removed outlinere, in regular types, Detached house is the most expensive, and the most affordable one is Terraced.</div>\n",
    "<br>\n",
    "    <div><b>Status (Old/New)</b>: There is not clear different between the old and new properties.</div>\n",
    "<br>\n",
    "    <div><b>Duration</b>: Freehold seems to be slightly more expensive to get than Leasehold</div> \n",
    "<br>\n",
    "    <div><b> County</b>: Price can be very diffferent between different counties, which suggest that location can influence much to the price of housing. The most expensive place to live probably in Greater London (top price housing), then Windsor and Maidenhead, and the third runner up position is Surrey.</div> \n",
    "<br>\n",
    "    <div><b>Price Method</b>: Different pricing methods influence on the price.</div> \n",
    "\n",
    "</div>"
   ]
  },
  {
   "cell_type": "markdown",
   "metadata": {},
   "source": [
    "## Time Series Analysis On Categorical variables and Price"
   ]
  },
  {
   "cell_type": "code",
   "execution_count": 61,
   "metadata": {
    "ExecuteTime": {
     "end_time": "2020-12-18T13:51:51.301884Z",
     "start_time": "2020-12-18T13:51:50.442887Z"
    }
   },
   "outputs": [
    {
     "data": {
      "text/html": [
       "<div>\n",
       "<style scoped>\n",
       "    .dataframe tbody tr th:only-of-type {\n",
       "        vertical-align: middle;\n",
       "    }\n",
       "\n",
       "    .dataframe tbody tr th {\n",
       "        vertical-align: top;\n",
       "    }\n",
       "\n",
       "    .dataframe thead th {\n",
       "        text-align: right;\n",
       "    }\n",
       "</style>\n",
       "<table border=\"1\" class=\"dataframe\">\n",
       "  <thead>\n",
       "    <tr style=\"text-align: right;\">\n",
       "      <th></th>\n",
       "      <th>Date</th>\n",
       "      <th>Price</th>\n",
       "      <th>Property Type</th>\n",
       "      <th>Old/New</th>\n",
       "      <th>Duration</th>\n",
       "      <th>Town/City</th>\n",
       "      <th>District</th>\n",
       "      <th>County</th>\n",
       "      <th>Price Method</th>\n",
       "    </tr>\n",
       "  </thead>\n",
       "  <tbody>\n",
       "    <tr>\n",
       "      <th>0</th>\n",
       "      <td>2012-09-28</td>\n",
       "      <td>155000</td>\n",
       "      <td>S</td>\n",
       "      <td>N</td>\n",
       "      <td>F</td>\n",
       "      <td>YORK</td>\n",
       "      <td>YORK</td>\n",
       "      <td>YORK</td>\n",
       "      <td>A</td>\n",
       "    </tr>\n",
       "    <tr>\n",
       "      <th>1</th>\n",
       "      <td>2012-07-18</td>\n",
       "      <td>264000</td>\n",
       "      <td>D</td>\n",
       "      <td>N</td>\n",
       "      <td>F</td>\n",
       "      <td>HAYLING ISLAND</td>\n",
       "      <td>HAVANT</td>\n",
       "      <td>HAMPSHIRE</td>\n",
       "      <td>A</td>\n",
       "    </tr>\n",
       "    <tr>\n",
       "      <th>2</th>\n",
       "      <td>2012-04-25</td>\n",
       "      <td>20000</td>\n",
       "      <td>T</td>\n",
       "      <td>N</td>\n",
       "      <td>F</td>\n",
       "      <td>HULL</td>\n",
       "      <td>CITY OF KINGSTON UPON HULL</td>\n",
       "      <td>CITY OF KINGSTON UPON HULL</td>\n",
       "      <td>A</td>\n",
       "    </tr>\n",
       "    <tr>\n",
       "      <th>3</th>\n",
       "      <td>2012-10-25</td>\n",
       "      <td>89950</td>\n",
       "      <td>S</td>\n",
       "      <td>N</td>\n",
       "      <td>F</td>\n",
       "      <td>WORKSOP</td>\n",
       "      <td>BASSETLAW</td>\n",
       "      <td>NOTTINGHAMSHIRE</td>\n",
       "      <td>A</td>\n",
       "    </tr>\n",
       "    <tr>\n",
       "      <th>4</th>\n",
       "      <td>2012-04-13</td>\n",
       "      <td>168000</td>\n",
       "      <td>S</td>\n",
       "      <td>N</td>\n",
       "      <td>F</td>\n",
       "      <td>TORQUAY</td>\n",
       "      <td>TORBAY</td>\n",
       "      <td>TORBAY</td>\n",
       "      <td>A</td>\n",
       "    </tr>\n",
       "  </tbody>\n",
       "</table>\n",
       "</div>"
      ],
      "text/plain": [
       "        Date   Price Property Type Old/New Duration       Town/City  \\\n",
       "0 2012-09-28  155000             S       N        F            YORK   \n",
       "1 2012-07-18  264000             D       N        F  HAYLING ISLAND   \n",
       "2 2012-04-25   20000             T       N        F            HULL   \n",
       "3 2012-10-25   89950             S       N        F         WORKSOP   \n",
       "4 2012-04-13  168000             S       N        F         TORQUAY   \n",
       "\n",
       "                     District                      County Price Method  \n",
       "0                        YORK                        YORK            A  \n",
       "1                      HAVANT                   HAMPSHIRE            A  \n",
       "2  CITY OF KINGSTON UPON HULL  CITY OF KINGSTON UPON HULL            A  \n",
       "3                   BASSETLAW             NOTTINGHAMSHIRE            A  \n",
       "4                      TORBAY                      TORBAY            A  "
      ]
     },
     "execution_count": 61,
     "metadata": {},
     "output_type": "execute_result"
    }
   ],
   "source": [
    "data_group_new.head()"
   ]
  },
  {
   "cell_type": "code",
   "execution_count": 62,
   "metadata": {
    "ExecuteTime": {
     "end_time": "2020-12-18T13:52:06.873056Z",
     "start_time": "2020-12-18T13:51:55.266178Z"
    }
   },
   "outputs": [],
   "source": [
    "data3=data_group_new.categorize(columns=['Property Type','Old/New','Duration','County','Price Method'])"
   ]
  },
  {
   "cell_type": "markdown",
   "metadata": {},
   "source": [
    "### Looking at different property type's price through years/months"
   ]
  },
  {
   "cell_type": "code",
   "execution_count": 63,
   "metadata": {
    "ExecuteTime": {
     "end_time": "2020-12-18T13:52:23.941080Z",
     "start_time": "2020-12-18T13:52:09.189840Z"
    }
   },
   "outputs": [],
   "source": [
    "viz1=data3.pivot_table(index='Date',columns='Property Type',values='Price',aggfunc='mean').compute()\n",
    "viz1.rename({'D':'Detached', 'S':'Semi-Detached','T':'Terraced','F':'Flats/Maisonettes','O':'Other'},axis=1,inplace=True)"
   ]
  },
  {
   "cell_type": "code",
   "execution_count": 64,
   "metadata": {
    "ExecuteTime": {
     "end_time": "2020-12-18T13:52:25.785851Z",
     "start_time": "2020-12-18T13:52:25.286831Z"
    }
   },
   "outputs": [
    {
     "data": {
      "text/plain": [
       "<matplotlib.axes._subplots.AxesSubplot at 0x29509c45280>"
      ]
     },
     "execution_count": 64,
     "metadata": {},
     "output_type": "execute_result"
    },
    {
     "data": {
      "image/png": "[encoded data removed]",
      "text/plain": [
       "<Figure size 432x288 with 1 Axes>"
      ]
     },
     "metadata": {
      "needs_background": "light"
     },
     "output_type": "display_data"
    }
   ],
   "source": [
    "sns.heatmap(viz1.isnull(),cbar=False)"
   ]
  },
  {
   "cell_type": "code",
   "execution_count": 65,
   "metadata": {
    "ExecuteTime": {
     "end_time": "2020-12-18T13:52:28.119007Z",
     "start_time": "2020-12-18T13:52:28.088007Z"
    }
   },
   "outputs": [],
   "source": [
    "viz1.drop('Other',axis=1,inplace=True)\n",
    "viz1.dropna(inplace=True)"
   ]
  },
  {
   "cell_type": "code",
   "execution_count": 66,
   "metadata": {
    "ExecuteTime": {
     "end_time": "2020-12-18T13:52:31.494402Z",
     "start_time": "2020-12-18T13:52:31.466402Z"
    }
   },
   "outputs": [
    {
     "data": {
      "text/html": [
       "<div>\n",
       "<style scoped>\n",
       "    .dataframe tbody tr th:only-of-type {\n",
       "        vertical-align: middle;\n",
       "    }\n",
       "\n",
       "    .dataframe tbody tr th {\n",
       "        vertical-align: top;\n",
       "    }\n",
       "\n",
       "    .dataframe thead th {\n",
       "        text-align: right;\n",
       "    }\n",
       "</style>\n",
       "<table border=\"1\" class=\"dataframe\">\n",
       "  <thead>\n",
       "    <tr style=\"text-align: right;\">\n",
       "      <th>Property Type</th>\n",
       "      <th>Semi-Detached</th>\n",
       "      <th>Detached</th>\n",
       "      <th>Terraced</th>\n",
       "      <th>Flats/Maisonettes</th>\n",
       "    </tr>\n",
       "    <tr>\n",
       "      <th>Date</th>\n",
       "      <th></th>\n",
       "      <th></th>\n",
       "      <th></th>\n",
       "      <th></th>\n",
       "    </tr>\n",
       "  </thead>\n",
       "  <tbody>\n",
       "    <tr>\n",
       "      <th>2012-01-02</th>\n",
       "      <td>171,575.00</td>\n",
       "      <td>235,666.67</td>\n",
       "      <td>147,749.58</td>\n",
       "      <td>146,737.50</td>\n",
       "    </tr>\n",
       "    <tr>\n",
       "      <th>2012-01-03</th>\n",
       "      <td>176,143.57</td>\n",
       "      <td>332,108.52</td>\n",
       "      <td>161,845.34</td>\n",
       "      <td>245,627.12</td>\n",
       "    </tr>\n",
       "    <tr>\n",
       "      <th>2012-01-04</th>\n",
       "      <td>217,285.57</td>\n",
       "      <td>339,520.07</td>\n",
       "      <td>188,954.11</td>\n",
       "      <td>207,488.54</td>\n",
       "    </tr>\n",
       "    <tr>\n",
       "      <th>2012-01-05</th>\n",
       "      <td>233,865.25</td>\n",
       "      <td>349,180.84</td>\n",
       "      <td>228,184.72</td>\n",
       "      <td>243,759.31</td>\n",
       "    </tr>\n",
       "    <tr>\n",
       "      <th>2012-01-06</th>\n",
       "      <td>196,675.47</td>\n",
       "      <td>314,451.20</td>\n",
       "      <td>197,356.49</td>\n",
       "      <td>219,022.38</td>\n",
       "    </tr>\n",
       "  </tbody>\n",
       "</table>\n",
       "</div>"
      ],
      "text/plain": [
       "Property Type  Semi-Detached   Detached   Terraced  Flats/Maisonettes\n",
       "Date                                                                 \n",
       "2012-01-02        171,575.00 235,666.67 147,749.58         146,737.50\n",
       "2012-01-03        176,143.57 332,108.52 161,845.34         245,627.12\n",
       "2012-01-04        217,285.57 339,520.07 188,954.11         207,488.54\n",
       "2012-01-05        233,865.25 349,180.84 228,184.72         243,759.31\n",
       "2012-01-06        196,675.47 314,451.20 197,356.49         219,022.38"
      ]
     },
     "execution_count": 66,
     "metadata": {},
     "output_type": "execute_result"
    }
   ],
   "source": [
    "viz1.head()"
   ]
  },
  {
   "cell_type": "code",
   "execution_count": 67,
   "metadata": {
    "ExecuteTime": {
     "end_time": "2020-12-18T13:52:33.192405Z",
     "start_time": "2020-12-18T13:52:32.987400Z"
    },
    "code_folding": [
     0
    ],
    "scrolled": false
   },
   "outputs": [
    {
     "data": {
      "application/vnd.jupyter.widget-view+json": {
       "model_id": "a905dffc396b4126956a94f8b283e312",
       "version_major": 2,
       "version_minor": 0
      },
      "text/plain": [
       "interactive(children=(Dropdown(description='a', options=('M', 'YS'), value='M'), Output()), _dom_classes=('wid…"
      ]
     },
     "metadata": {},
     "output_type": "display_data"
    },
    {
     "data": {
      "text/plain": [
       "<function __main__.viz_f1(a)>"
      ]
     },
     "execution_count": 67,
     "metadata": {},
     "output_type": "execute_result"
    }
   ],
   "source": [
    "def viz_f1(a):\n",
    "    viz1.resample(a).mean().iplot()\n",
    "\n",
    "interact(viz_f1,a=['M','YS'])"
   ]
  },
  {
   "cell_type": "markdown",
   "metadata": {},
   "source": [
    "<div style='background-color:#222f5b;color:white;padding:20px;font-size:18px'>Price went up almost all type of property. We can see Detached is the higest, then Flats, and then other types are more close to each other in the low level price. Exceptional time 2013 to 2014, position of Semi-detached and Terraced exchanged. </div>"
   ]
  },
  {
   "cell_type": "markdown",
   "metadata": {
    "ExecuteTime": {
     "end_time": "2020-12-15T20:24:44.698665Z",
     "start_time": "2020-12-15T20:21:35.655153Z"
    }
   },
   "source": [
    "### Looking at prices of housing accross Counties yearly/monthly"
   ]
  },
  {
   "cell_type": "code",
   "execution_count": 68,
   "metadata": {
    "ExecuteTime": {
     "end_time": "2020-12-18T13:53:27.629470Z",
     "start_time": "2020-12-18T13:52:39.049718Z"
    }
   },
   "outputs": [],
   "source": [
    "viz2=data3.pivot_table(index='Date',columns='County',values='Price',aggfunc='mean').compute()"
   ]
  },
  {
   "cell_type": "code",
   "execution_count": 69,
   "metadata": {
    "ExecuteTime": {
     "end_time": "2020-12-18T13:53:32.695838Z",
     "start_time": "2020-12-18T13:53:31.414845Z"
    }
   },
   "outputs": [
    {
     "data": {
      "text/plain": [
       "<matplotlib.axes._subplots.AxesSubplot at 0x2950e8b6e50>"
      ]
     },
     "execution_count": 69,
     "metadata": {},
     "output_type": "execute_result"
    },
    {
     "data": {
      "image/png": "[encoded data removed]",
      "text/plain": [
       "<Figure size 432x288 with 1 Axes>"
      ]
     },
     "metadata": {
      "needs_background": "light"
     },
     "output_type": "display_data"
    }
   ],
   "source": [
    "sns.heatmap(viz2.isnull(),cbar=False)"
   ]
  },
  {
   "cell_type": "markdown",
   "metadata": {
    "ExecuteTime": {
     "end_time": "2020-12-16T16:45:05.670538Z",
     "start_time": "2020-12-16T16:45:05.464562Z"
    }
   },
   "source": [
    "<div style='font-size:20px;color:red'>On the heatmap shows the missing value, we can see that missing value are abundant (especially last columns). Even if we remove the last columns, data stills contain too much missing values. At this end, we decide not to go further to explore as intended.</div>"
   ]
  },
  {
   "cell_type": "markdown",
   "metadata": {},
   "source": [
    "## Finding the price differences through time between Old/New housing"
   ]
  },
  {
   "cell_type": "code",
   "execution_count": 70,
   "metadata": {
    "ExecuteTime": {
     "end_time": "2020-12-18T13:53:57.570616Z",
     "start_time": "2020-12-18T13:53:38.908058Z"
    }
   },
   "outputs": [],
   "source": [
    "viz3=data3.pivot_table(index='Date',columns='Old/New',values='Price',aggfunc='mean').compute()\n",
    "viz3.rename({'Y': 'a newly built property', 'N':'an established residential building'},axis=1,inplace=True)"
   ]
  },
  {
   "cell_type": "code",
   "execution_count": 71,
   "metadata": {
    "ExecuteTime": {
     "end_time": "2020-12-18T13:54:03.023214Z",
     "start_time": "2020-12-18T13:54:02.456186Z"
    }
   },
   "outputs": [
    {
     "data": {
      "text/plain": [
       "<matplotlib.axes._subplots.AxesSubplot at 0x2950e8cdc10>"
      ]
     },
     "execution_count": 71,
     "metadata": {},
     "output_type": "execute_result"
    },
    {
     "data": {
      "image/png": "[encoded data removed]",
      "text/plain": [
       "<Figure size 432x288 with 1 Axes>"
      ]
     },
     "metadata": {
      "needs_background": "light"
     },
     "output_type": "display_data"
    }
   ],
   "source": [
    "sns.heatmap(viz3.isnull(),cbar=False)"
   ]
  },
  {
   "cell_type": "code",
   "execution_count": 72,
   "metadata": {
    "ExecuteTime": {
     "end_time": "2020-12-18T13:54:07.593685Z",
     "start_time": "2020-12-18T13:54:07.079650Z"
    }
   },
   "outputs": [
    {
     "data": {
      "text/plain": [
       "<matplotlib.axes._subplots.AxesSubplot at 0x2950ebbd550>"
      ]
     },
     "execution_count": 72,
     "metadata": {},
     "output_type": "execute_result"
    },
    {
     "data": {
      "image/png": "[encoded data removed]",
      "text/plain": [
       "<Figure size 432x288 with 1 Axes>"
      ]
     },
     "metadata": {
      "needs_background": "light"
     },
     "output_type": "display_data"
    }
   ],
   "source": [
    "sns.heatmap(viz3['2015-01-01':'2016-12-30'].isnull(),cbar=False)"
   ]
  },
  {
   "cell_type": "code",
   "execution_count": 73,
   "metadata": {
    "ExecuteTime": {
     "end_time": "2020-12-18T13:54:10.776934Z",
     "start_time": "2020-12-18T13:54:10.762933Z"
    }
   },
   "outputs": [],
   "source": [
    "viz3_=viz3['2015-01-01':'2016-12-30']\n",
    "viz3_.dropna(inplace=True)"
   ]
  },
  {
   "cell_type": "code",
   "execution_count": 74,
   "metadata": {
    "ExecuteTime": {
     "end_time": "2020-12-18T13:54:12.661973Z",
     "start_time": "2020-12-18T13:54:12.477934Z"
    }
   },
   "outputs": [
    {
     "data": {
      "application/vnd.jupyter.widget-view+json": {
       "model_id": "f4648a2699974f21b11f85371070e7f7",
       "version_major": 2,
       "version_minor": 0
      },
      "text/plain": [
       "interactive(children=(Dropdown(description='a', options=('M', 'YS'), value='M'), Output()), _dom_classes=('wid…"
      ]
     },
     "metadata": {},
     "output_type": "display_data"
    },
    {
     "data": {
      "text/plain": [
       "<function __main__.viz_f3(a)>"
      ]
     },
     "execution_count": 74,
     "metadata": {},
     "output_type": "execute_result"
    }
   ],
   "source": [
    "def viz_f3(a):\n",
    "    viz3_.resample(a).mean().iplot()\n",
    "interact(viz_f3,a=['M','YS'])"
   ]
  },
  {
   "cell_type": "markdown",
   "metadata": {},
   "source": [
    "<div style='background-color:#222f5b;color:white;padding:20px;font-size:18px'>Previously, we see in general view mean value of price between Old and New Housing, there is quite flat comparision. In this view, by using time series, we can zoom in to see the difference. Although generally talking, price of Old and New Housing is not much different, but price of Old and New housing can be substaintially different in particular time (months).</div>"
   ]
  },
  {
   "cell_type": "markdown",
   "metadata": {},
   "source": [
    "## Time Series analysis of price of different Duration of holding property:"
   ]
  },
  {
   "cell_type": "code",
   "execution_count": 75,
   "metadata": {
    "ExecuteTime": {
     "end_time": "2020-12-18T13:54:31.523578Z",
     "start_time": "2020-12-18T13:54:17.420871Z"
    }
   },
   "outputs": [],
   "source": [
    "viz4=data3.pivot_table(index='Date',columns='Duration',values='Price',aggfunc='mean').compute()"
   ]
  },
  {
   "cell_type": "code",
   "execution_count": 76,
   "metadata": {
    "ExecuteTime": {
     "end_time": "2020-12-18T13:54:33.198871Z",
     "start_time": "2020-12-18T13:54:33.188874Z"
    }
   },
   "outputs": [],
   "source": [
    "viz4.rename({'F':'Freehold', 'L':'Leasehold'},axis=1,inplace=True)"
   ]
  },
  {
   "cell_type": "code",
   "execution_count": 77,
   "metadata": {
    "ExecuteTime": {
     "end_time": "2020-12-18T13:54:35.176910Z",
     "start_time": "2020-12-18T13:54:34.752873Z"
    }
   },
   "outputs": [
    {
     "data": {
      "text/plain": [
       "<matplotlib.axes._subplots.AxesSubplot at 0x2950f21e190>"
      ]
     },
     "execution_count": 77,
     "metadata": {},
     "output_type": "execute_result"
    },
    {
     "data": {
      "image/png": "[encoded data removed]",
      "text/plain": [
       "<Figure size 432x288 with 1 Axes>"
      ]
     },
     "metadata": {
      "needs_background": "light"
     },
     "output_type": "display_data"
    }
   ],
   "source": [
    "sns.heatmap(viz4.isnull(),cbar=False)"
   ]
  },
  {
   "cell_type": "code",
   "execution_count": 78,
   "metadata": {
    "ExecuteTime": {
     "end_time": "2020-12-18T13:54:38.357637Z",
     "start_time": "2020-12-18T13:54:38.332638Z"
    }
   },
   "outputs": [],
   "source": [
    "viz4.dropna(inplace=True)"
   ]
  },
  {
   "cell_type": "code",
   "execution_count": 79,
   "metadata": {
    "ExecuteTime": {
     "end_time": "2020-12-18T13:54:40.321428Z",
     "start_time": "2020-12-18T13:54:40.122428Z"
    }
   },
   "outputs": [
    {
     "data": {
      "application/vnd.jupyter.widget-view+json": {
       "model_id": "a75749e7a0a840869d39b05040829efb",
       "version_major": 2,
       "version_minor": 0
      },
      "text/plain": [
       "interactive(children=(Dropdown(description='a', options=('M', 'YS'), value='M'), Output()), _dom_classes=('wid…"
      ]
     },
     "metadata": {},
     "output_type": "display_data"
    },
    {
     "data": {
      "text/plain": [
       "<function __main__.viz_f4(a)>"
      ]
     },
     "execution_count": 79,
     "metadata": {},
     "output_type": "execute_result"
    }
   ],
   "source": [
    "def viz_f4(a):\n",
    "    viz4.resample(a).mean().iplot()\n",
    "interact(viz_f4,a=['M','YS'])"
   ]
  },
  {
   "cell_type": "markdown",
   "metadata": {},
   "source": [
    "<div style='background-color:#222f5b;color:white;padding:20px;font-size:18px'>Previously we see difference between different Duration. In this view, we can see more the different prices at different months of the year 2012-2016.</div>"
   ]
  },
  {
   "cell_type": "code",
   "execution_count": null,
   "metadata": {},
   "outputs": [],
   "source": []
  }
 ],
 "metadata": {
  "kernelspec": {
   "display_name": "Python 3",
   "language": "python",
   "name": "python3"
  },
  "language_info": {
   "codemirror_mode": {
    "name": "ipython",
    "version": 3
   },
   "file_extension": ".py",
   "mimetype": "text/x-python",
   "name": "python",
   "nbconvert_exporter": "python",
   "pygments_lexer": "ipython3",
   "version": "3.8.3"
  },
  "latex_envs": {
   "LaTeX_envs_menu_present": true,
   "autoclose": false,
   "autocomplete": true,
   "bibliofile": "biblio.bib",
   "cite_by": "apalike",
   "current_citInitial": 1,
   "eqLabelWithNumbers": true,
   "eqNumInitial": 1,
   "hotkeys": {
    "equation": "Ctrl-E",
    "itemize": "Ctrl-I"
   },
   "labels_anchors": false,
   "latex_user_defs": false,
   "report_style_numbering": false,
   "user_envs_cfg": false
  },
  "toc": {
   "base_numbering": 1,
   "nav_menu": {},
   "number_sections": true,
   "sideBar": true,
   "skip_h1_title": false,
   "title_cell": "Table of Contents",
   "title_sidebar": "Contents",
   "toc_cell": false,
   "toc_position": {},
   "toc_section_display": true,
   "toc_window_display": false
  },
  "varInspector": {
   "cols": {
    "lenName": 16,
    "lenType": 16,
    "lenVar": 40
   },
   "kernels_config": {
    "python": {
     "delete_cmd_postfix": "",
     "delete_cmd_prefix": "del ",
     "library": "var_list.py",
     "varRefreshCmd": "print(var_dic_list())"
    },
    "r": {
     "delete_cmd_postfix": ") ",
     "delete_cmd_prefix": "rm(",
     "library": "var_list.r",
     "varRefreshCmd": "cat(var_dic_list()) "
    }
   },
   "types_to_exclude": [
    "module",
    "function",
    "builtin_function_or_method",
    "instance",
    "_Feature"
   ],
   "window_display": false
  }
 },
 "nbformat": 4,
 "nbformat_minor": 4
}

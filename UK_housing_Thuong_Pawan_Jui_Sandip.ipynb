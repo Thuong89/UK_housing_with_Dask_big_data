{
 "cells": [
  {
   "cell_type": "markdown",
   "metadata": {},
   "source": [
    "<div style='background-color:orange;color:white;padding:20px;text-align:center;font-size:30px'> ANALYSIS ON UK HOUSING 2012-2017 </div>"
   ]
  },
  {
   "cell_type": "markdown",
   "metadata": {
    "ExecuteTime": {
     "end_time": "2020-12-18T09:45:59.049999Z",
     "start_time": "2020-12-18T09:45:59.039005Z"
    }
   },
   "source": [
    "<img src='UK.jpg' width=300>"
   ]
  },
  {
   "cell_type": "markdown",
   "metadata": {},
   "source": [
    "    ABOUT THE DATASET:"
   ]
  },
  {
   "cell_type": "markdown",
   "metadata": {},
   "source": [
    "The Price Paid Data includes information on all registered property sales in <u>England and Wales</u> that are sold for full market value. Address details have been truncated to the town/city level.\n",
    "\n",
    "<mark>Explanation of 11 columns</mark>:\n",
    "\n",
    "- <b>Transaction unique identifier</b>: A reference number which is generated automatically recording each published sale. The number is unique and will change each time a sale is recorded.\n",
    "\n",
    "- <span style='background-color:navy;color:white'>Price</span>: Sale price stated on the transfer deed.\n",
    "\n",
    "- <span style='background-color:navy;color:white'>Date of Transfer</span>: Date when the sale was completed, as stated on the transfer deed.\n",
    "\n",
    "- <span style='background-color:navy;color:white'>Property Type</span>:\n",
    "    - D = Detached, \n",
    "    - S = Semi-Detached, \n",
    "    - T = Terraced, \n",
    "    - F = Flats/Maisonettes, \n",
    "    - O = Other\n",
    "\n",
    "- <span style='background-color:navy;color:white'>Old/New</span>: Indicates the age of the property and applies to all price paid transactions, residential and non-residential.\n",
    "    - Y = a newly built property, \n",
    "    - N = an established residential building\n",
    "\n",
    "- <span style='background-color:navy;color:white'>Duration</span>: Relates to the tenure: \n",
    "    - F = Freehold, \n",
    "    - L= Leasehold etc.\n",
    "\n",
    "- <span style='background-color:navy;color:white'>Town/City</span>\n",
    "\n",
    "- <span style='background-color:navy;color:white'>District</span>\n",
    "\n",
    "- <span style='background-color:navy;color:white'>County</span>\n",
    "\n",
    "- <span style='background-color:navy;color:white'>PPD Category Type</span>: Indicates the type of Price Paid transaction.\n",
    "    - A = Standard Price Paid entry, includes single residential property sold for full market value.\n",
    "    - B = Additional Price Paid entry including transfers under a power of sale/repossessions (\\*) \n",
    "\n",
    "- <b>Record Status</b> monthly file only Indicates additions, changes and deletions to the records.\n",
    "    - A = Addition\n",
    "    - C = Change\n",
    "    - D = Delete.\n",
    "\n",
    "\n"
   ]
  },
  {
   "cell_type": "markdown",
   "metadata": {},
   "source": [
    "<u>Notice:</u>\n",
    "\n",
    "- Dataset only records the above categories to describe property type, we do not separately identify bungalows.\n",
    "end-of-terrace properties are included in the Terraced category above.\n",
    "- ‘Other’ is only valid where the transaction relates to a property type that is not covered by existing values.\n",
    "- Note that where a transaction changes category type due to misallocation (as above) it will be deleted from the original category type and added to the correct category with a new transaction unique identifier.\n",
    "- (\\*), buy-to-lets (where they can be identified by a Mortgage) and transfers to non-private individuals. Note that category B does not separately identify the transaction types stated. HM Land Registry has been collecting information on Category A transactions from January 1995. Category B transactions were identified from October 2013.\n",
    "\n",
    "- Note that HM Land Registry does not record leases of 7 years or less in the Price Paid Dataset.\n",
    "\n",
    "- This data was kindly released by HM Land Registry under the Open Government License 3.0. You can find their current release here.\n",
    "\n",
    "- Data produced by HM Land Registry © Crown copyright 2017."
   ]
  },
  {
   "cell_type": "markdown",
   "metadata": {},
   "source": [
    "<div style='background-color:orange;color:white;padding:20px;text-align:center;font-size:20px'>LOAD, INSPECT AND PROCESS DATASET</div>\n",
    " <div style='text-align:right'> by Thuong</div>"
   ]
  },
  {
   "cell_type": "code",
   "execution_count": 1,
   "metadata": {
    "ExecuteTime": {
     "end_time": "2020-12-18T13:43:17.114487Z",
     "start_time": "2020-12-18T13:43:08.034801Z"
    }
   },
   "outputs": [],
   "source": [
    "import dask.dataframe as dd"
   ]
  },
  {
   "cell_type": "code",
   "execution_count": 2,
   "metadata": {
    "ExecuteTime": {
     "end_time": "2020-12-18T13:43:21.454173Z",
     "start_time": "2020-12-18T13:43:17.118489Z"
    }
   },
   "outputs": [
    {
     "data": {
      "application/vnd.jupyter.widget-view+json": {
       "model_id": "887813461ac44b91b0e7340c2a9b7922",
       "version_major": 2,
       "version_minor": 0
      },
      "text/plain": [
       "VBox(children=(HTML(value='<h2>LocalCluster</h2>'), HBox(children=(HTML(value='\\n<div>\\n  <style scoped>\\n    …"
      ]
     },
     "metadata": {},
     "output_type": "display_data"
    }
   ],
   "source": [
    "from dask.distributed import Client\n",
    "client=Client(n_workers=2, threads_per_worker=2) # this set up 1 worker per core\n",
    "client.cluster"
   ]
  },
  {
   "cell_type": "code",
   "execution_count": 3,
   "metadata": {
    "ExecuteTime": {
     "end_time": "2020-12-18T13:43:33.356718Z",
     "start_time": "2020-12-18T13:43:21.460167Z"
    }
   },
   "outputs": [
    {
     "data": {
      "text/html": [
       "        <script type=\"text/javascript\">\n",
       "        window.PlotlyConfig = {MathJaxConfig: 'local'};\n",
       "        if (window.MathJax) {MathJax.Hub.Config({SVG: {font: \"STIX-Web\"}});}\n",
       "        if (typeof require !== 'undefined') {\n",
       "        require.undef(\"plotly\");\n",
       "        requirejs.config({\n",
       "            paths: {\n",
       "                'plotly': ['https://cdn.plot.ly/plotly-latest.min']\n",
       "            }\n",
       "        });\n",
       "        require(['plotly'], function(Plotly) {\n",
       "            window._Plotly = Plotly;\n",
       "        });\n",
       "        }\n",
       "        </script>\n",
       "        "
      ]
     },
     "metadata": {},
     "output_type": "display_data"
    },
    {
     "data": {
      "text/html": [
       "        <script type=\"text/javascript\">\n",
       "        window.PlotlyConfig = {MathJaxConfig: 'local'};\n",
       "        if (window.MathJax) {MathJax.Hub.Config({SVG: {font: \"STIX-Web\"}});}\n",
       "        if (typeof require !== 'undefined') {\n",
       "        require.undef(\"plotly\");\n",
       "        requirejs.config({\n",
       "            paths: {\n",
       "                'plotly': ['https://cdn.plot.ly/plotly-latest.min']\n",
       "            }\n",
       "        });\n",
       "        require(['plotly'], function(Plotly) {\n",
       "            window._Plotly = Plotly;\n",
       "        });\n",
       "        }\n",
       "        </script>\n",
       "        "
      ]
     },
     "metadata": {},
     "output_type": "display_data"
    }
   ],
   "source": [
    "# importing libraries\n",
    "import plotly.graph_objects as go\n",
    "import chart_studio.plotly as py\n",
    "import cufflinks as cf\n",
    "from plotly.offline import iplot, init_notebook_mode\n",
    "#--------------------------------------------#\n",
    "\n",
    "import pandas as pd\n",
    "import numpy as np\n",
    "from scipy import stats\n",
    "\n",
    "%matplotlib inline\n",
    "\n",
    "# option for pandas to display the columns\n",
    "pd.options.display.max_columns=30\n",
    "\n",
    "# setting the notebook mode for plotly\n",
    "\n",
    "init_notebook_mode(connected=True)\n",
    "cf.go_offline(connected=True)\n",
    "\n",
    "# setting theme in cufflinks\n",
    "\n",
    "cf.set_config_file(theme=\"pearl\")\n",
    "#-------\n",
    "from ipywidgets import interact, interactive,fixed,interact_manual\n",
    "import ipywidgets as widgets\n",
    "import plotly.express as px\n",
    "import seaborn as sns\n",
    "import matplotlib.pyplot as plt\n",
    "\n",
    "pd.options.display.float_format = '{:,.2f}'.format"
   ]
  },
  {
   "cell_type": "markdown",
   "metadata": {},
   "source": [
    "## Extract data from year 2012 up"
   ]
  },
  {
   "cell_type": "code",
   "execution_count": 4,
   "metadata": {
    "ExecuteTime": {
     "end_time": "2020-12-18T13:43:33.386715Z",
     "start_time": "2020-12-18T13:43:33.364701Z"
    }
   },
   "outputs": [],
   "source": [
    "#data=dd.read_csv('price_paid_records.csv',parse_dates=[2],blocksize='2410MB')"
   ]
  },
  {
   "cell_type": "code",
   "execution_count": 5,
   "metadata": {
    "ExecuteTime": {
     "end_time": "2020-12-18T13:43:33.403707Z",
     "start_time": "2020-12-18T13:43:33.393701Z"
    }
   },
   "outputs": [],
   "source": [
    "#data"
   ]
  },
  {
   "cell_type": "code",
   "execution_count": 6,
   "metadata": {
    "ExecuteTime": {
     "end_time": "2020-12-18T13:43:33.418709Z",
     "start_time": "2020-12-18T13:43:33.411706Z"
    }
   },
   "outputs": [],
   "source": [
    "#c_data=data[data['Date of Transfer'].dt.year>2011]"
   ]
  },
  {
   "cell_type": "code",
   "execution_count": 7,
   "metadata": {
    "ExecuteTime": {
     "end_time": "2020-12-18T13:43:33.437698Z",
     "start_time": "2020-12-18T13:43:33.427705Z"
    }
   },
   "outputs": [],
   "source": [
    "#newdata=data.get_partition(30)"
   ]
  },
  {
   "cell_type": "code",
   "execution_count": 8,
   "metadata": {
    "ExecuteTime": {
     "end_time": "2020-12-18T13:43:33.454697Z",
     "start_time": "2020-12-18T13:43:33.448701Z"
    }
   },
   "outputs": [],
   "source": [
    "#sampledt=newdata.sample(frac=0.002).compute()"
   ]
  },
  {
   "cell_type": "code",
   "execution_count": 9,
   "metadata": {
    "ExecuteTime": {
     "end_time": "2020-12-18T13:43:33.470699Z",
     "start_time": "2020-12-18T13:43:33.461698Z"
    }
   },
   "outputs": [],
   "source": [
    "#sampledt[sampledt['Date of Transfer'].dt.year>2012]"
   ]
  },
  {
   "cell_type": "code",
   "execution_count": 10,
   "metadata": {
    "ExecuteTime": {
     "end_time": "2020-12-18T13:43:33.484700Z",
     "start_time": "2020-12-18T13:43:33.477700Z"
    }
   },
   "outputs": [],
   "source": [
    "#c_data.to_csv('data2012up.csv')"
   ]
  },
  {
   "cell_type": "markdown",
   "metadata": {},
   "source": [
    "## Load new data (year 2012 up)"
   ]
  },
  {
   "cell_type": "code",
   "execution_count": 11,
   "metadata": {
    "ExecuteTime": {
     "end_time": "2020-12-18T13:43:33.565704Z",
     "start_time": "2020-12-18T13:43:33.490698Z"
    }
   },
   "outputs": [],
   "source": [
    "DATA=dd.read_csv('data2012up.csv/0.part',parse_dates=[3],blocksize='20MB')"
   ]
  },
  {
   "cell_type": "markdown",
   "metadata": {},
   "source": [
    "## Inspect"
   ]
  },
  {
   "cell_type": "code",
   "execution_count": 12,
   "metadata": {
    "ExecuteTime": {
     "end_time": "2020-12-18T13:43:36.469703Z",
     "start_time": "2020-12-18T13:43:33.572703Z"
    },
    "scrolled": true
   },
   "outputs": [
    {
     "data": {
      "text/html": [
       "<div>\n",
       "<style scoped>\n",
       "    .dataframe tbody tr th:only-of-type {\n",
       "        vertical-align: middle;\n",
       "    }\n",
       "\n",
       "    .dataframe tbody tr th {\n",
       "        vertical-align: top;\n",
       "    }\n",
       "\n",
       "    .dataframe thead th {\n",
       "        text-align: right;\n",
       "    }\n",
       "</style>\n",
       "<table border=\"1\" class=\"dataframe\">\n",
       "  <thead>\n",
       "    <tr style=\"text-align: right;\">\n",
       "      <th></th>\n",
       "      <th>Unnamed: 0</th>\n",
       "      <th>Transaction unique identifier</th>\n",
       "      <th>Price</th>\n",
       "      <th>Date of Transfer</th>\n",
       "      <th>Property Type</th>\n",
       "      <th>Old/New</th>\n",
       "      <th>Duration</th>\n",
       "      <th>Town/City</th>\n",
       "      <th>District</th>\n",
       "      <th>County</th>\n",
       "      <th>PPDCategory Type</th>\n",
       "      <th>Record Status - monthly file only</th>\n",
       "    </tr>\n",
       "  </thead>\n",
       "  <tbody>\n",
       "    <tr>\n",
       "      <th>0</th>\n",
       "      <td>17792460</td>\n",
       "      <td>{C47E3EDA-D944-4FE1-8231-97CFAE0152BE}</td>\n",
       "      <td>322000</td>\n",
       "      <td>2012-06-27</td>\n",
       "      <td>D</td>\n",
       "      <td>N</td>\n",
       "      <td>L</td>\n",
       "      <td>TELFORD</td>\n",
       "      <td>WREKIN</td>\n",
       "      <td>WREKIN</td>\n",
       "      <td>A</td>\n",
       "      <td>A</td>\n",
       "    </tr>\n",
       "    <tr>\n",
       "      <th>1</th>\n",
       "      <td>17792461</td>\n",
       "      <td>{7AA1DA53-6C57-430F-90CE-5210C7A5ABC5}</td>\n",
       "      <td>250000</td>\n",
       "      <td>2012-09-28</td>\n",
       "      <td>S</td>\n",
       "      <td>Y</td>\n",
       "      <td>F</td>\n",
       "      <td>CHINNOR</td>\n",
       "      <td>SOUTH OXFORDSHIRE</td>\n",
       "      <td>OXFORDSHIRE</td>\n",
       "      <td>A</td>\n",
       "      <td>A</td>\n",
       "    </tr>\n",
       "    <tr>\n",
       "      <th>2</th>\n",
       "      <td>17792462</td>\n",
       "      <td>{05694E0B-40A6-498A-A9E6-5210D007374C}</td>\n",
       "      <td>169000</td>\n",
       "      <td>2012-01-20</td>\n",
       "      <td>F</td>\n",
       "      <td>N</td>\n",
       "      <td>L</td>\n",
       "      <td>PORTSMOUTH</td>\n",
       "      <td>PORTSMOUTH</td>\n",
       "      <td>PORTSMOUTH</td>\n",
       "      <td>A</td>\n",
       "      <td>A</td>\n",
       "    </tr>\n",
       "    <tr>\n",
       "      <th>3</th>\n",
       "      <td>17792463</td>\n",
       "      <td>{DFAFD68C-AFDB-4A17-83DC-5210DCD6781D}</td>\n",
       "      <td>225000</td>\n",
       "      <td>2012-03-23</td>\n",
       "      <td>D</td>\n",
       "      <td>N</td>\n",
       "      <td>F</td>\n",
       "      <td>NORTHAMPTON</td>\n",
       "      <td>NORTHAMPTON</td>\n",
       "      <td>NORTHAMPTONSHIRE</td>\n",
       "      <td>A</td>\n",
       "      <td>A</td>\n",
       "    </tr>\n",
       "    <tr>\n",
       "      <th>4</th>\n",
       "      <td>17792464</td>\n",
       "      <td>{B739C3A1-5172-41A0-9358-559FB021709D}</td>\n",
       "      <td>125000</td>\n",
       "      <td>2012-06-13</td>\n",
       "      <td>T</td>\n",
       "      <td>N</td>\n",
       "      <td>F</td>\n",
       "      <td>ROCHESTER</td>\n",
       "      <td>MEDWAY</td>\n",
       "      <td>MEDWAY</td>\n",
       "      <td>A</td>\n",
       "      <td>A</td>\n",
       "    </tr>\n",
       "    <tr>\n",
       "      <th>...</th>\n",
       "      <td>...</td>\n",
       "      <td>...</td>\n",
       "      <td>...</td>\n",
       "      <td>...</td>\n",
       "      <td>...</td>\n",
       "      <td>...</td>\n",
       "      <td>...</td>\n",
       "      <td>...</td>\n",
       "      <td>...</td>\n",
       "      <td>...</td>\n",
       "      <td>...</td>\n",
       "      <td>...</td>\n",
       "    </tr>\n",
       "    <tr>\n",
       "      <th>179574</th>\n",
       "      <td>17972034</td>\n",
       "      <td>{A6A0119F-EFD4-4079-AF34-486103ED137B}</td>\n",
       "      <td>89000</td>\n",
       "      <td>2012-12-12</td>\n",
       "      <td>T</td>\n",
       "      <td>N</td>\n",
       "      <td>F</td>\n",
       "      <td>BIRMINGHAM</td>\n",
       "      <td>BIRMINGHAM</td>\n",
       "      <td>WEST MIDLANDS</td>\n",
       "      <td>A</td>\n",
       "      <td>A</td>\n",
       "    </tr>\n",
       "    <tr>\n",
       "      <th>179575</th>\n",
       "      <td>17972035</td>\n",
       "      <td>{B2BC10F7-14E8-48BC-B714-486103F5C100}</td>\n",
       "      <td>140000</td>\n",
       "      <td>2012-03-08</td>\n",
       "      <td>S</td>\n",
       "      <td>N</td>\n",
       "      <td>F</td>\n",
       "      <td>EXMOUTH</td>\n",
       "      <td>EAST DEVON</td>\n",
       "      <td>DEVON</td>\n",
       "      <td>A</td>\n",
       "      <td>A</td>\n",
       "    </tr>\n",
       "    <tr>\n",
       "      <th>179576</th>\n",
       "      <td>17972036</td>\n",
       "      <td>{CD490E17-FB17-45A4-A8CA-48610635A27B}</td>\n",
       "      <td>150000</td>\n",
       "      <td>2012-04-26</td>\n",
       "      <td>F</td>\n",
       "      <td>N</td>\n",
       "      <td>L</td>\n",
       "      <td>YORK</td>\n",
       "      <td>YORK</td>\n",
       "      <td>YORK</td>\n",
       "      <td>A</td>\n",
       "      <td>A</td>\n",
       "    </tr>\n",
       "    <tr>\n",
       "      <th>179577</th>\n",
       "      <td>17972037</td>\n",
       "      <td>{92DE07BB-4D48-43F5-9C26-486111BFBECD}</td>\n",
       "      <td>80000</td>\n",
       "      <td>2012-08-10</td>\n",
       "      <td>S</td>\n",
       "      <td>N</td>\n",
       "      <td>F</td>\n",
       "      <td>DONCASTER</td>\n",
       "      <td>DONCASTER</td>\n",
       "      <td>SOUTH YORKSHIRE</td>\n",
       "      <td>A</td>\n",
       "      <td>A</td>\n",
       "    </tr>\n",
       "    <tr>\n",
       "      <th>179578</th>\n",
       "      <td>17972038</td>\n",
       "      <td>{7B79C472-FB84-4FD2-B1FF-48611FB754AB}</td>\n",
       "      <td>112000</td>\n",
       "      <td>2012-05-04</td>\n",
       "      <td>F</td>\n",
       "      <td>N</td>\n",
       "      <td>L</td>\n",
       "      <td>IPSWICH</td>\n",
       "      <td>SUFFOLK COASTAL</td>\n",
       "      <td>SUFFOLK</td>\n",
       "      <td>A</td>\n",
       "      <td>A</td>\n",
       "    </tr>\n",
       "  </tbody>\n",
       "</table>\n",
       "<p>179579 rows × 12 columns</p>\n",
       "</div>"
      ],
      "text/plain": [
       "        Unnamed: 0           Transaction unique identifier   Price  \\\n",
       "0         17792460  {C47E3EDA-D944-4FE1-8231-97CFAE0152BE}  322000   \n",
       "1         17792461  {7AA1DA53-6C57-430F-90CE-5210C7A5ABC5}  250000   \n",
       "2         17792462  {05694E0B-40A6-498A-A9E6-5210D007374C}  169000   \n",
       "3         17792463  {DFAFD68C-AFDB-4A17-83DC-5210DCD6781D}  225000   \n",
       "4         17792464  {B739C3A1-5172-41A0-9358-559FB021709D}  125000   \n",
       "...            ...                                     ...     ...   \n",
       "179574    17972034  {A6A0119F-EFD4-4079-AF34-486103ED137B}   89000   \n",
       "179575    17972035  {B2BC10F7-14E8-48BC-B714-486103F5C100}  140000   \n",
       "179576    17972036  {CD490E17-FB17-45A4-A8CA-48610635A27B}  150000   \n",
       "179577    17972037  {92DE07BB-4D48-43F5-9C26-486111BFBECD}   80000   \n",
       "179578    17972038  {7B79C472-FB84-4FD2-B1FF-48611FB754AB}  112000   \n",
       "\n",
       "       Date of Transfer Property Type Old/New Duration    Town/City  \\\n",
       "0            2012-06-27             D       N        L      TELFORD   \n",
       "1            2012-09-28             S       Y        F      CHINNOR   \n",
       "2            2012-01-20             F       N        L   PORTSMOUTH   \n",
       "3            2012-03-23             D       N        F  NORTHAMPTON   \n",
       "4            2012-06-13             T       N        F    ROCHESTER   \n",
       "...                 ...           ...     ...      ...          ...   \n",
       "179574       2012-12-12             T       N        F   BIRMINGHAM   \n",
       "179575       2012-03-08             S       N        F      EXMOUTH   \n",
       "179576       2012-04-26             F       N        L         YORK   \n",
       "179577       2012-08-10             S       N        F    DONCASTER   \n",
       "179578       2012-05-04             F       N        L      IPSWICH   \n",
       "\n",
       "                 District            County PPDCategory Type  \\\n",
       "0                  WREKIN            WREKIN                A   \n",
       "1       SOUTH OXFORDSHIRE       OXFORDSHIRE                A   \n",
       "2              PORTSMOUTH        PORTSMOUTH                A   \n",
       "3             NORTHAMPTON  NORTHAMPTONSHIRE                A   \n",
       "4                  MEDWAY            MEDWAY                A   \n",
       "...                   ...               ...              ...   \n",
       "179574         BIRMINGHAM     WEST MIDLANDS                A   \n",
       "179575         EAST DEVON             DEVON                A   \n",
       "179576               YORK              YORK                A   \n",
       "179577          DONCASTER   SOUTH YORKSHIRE                A   \n",
       "179578    SUFFOLK COASTAL           SUFFOLK                A   \n",
       "\n",
       "       Record Status - monthly file only  \n",
       "0                                      A  \n",
       "1                                      A  \n",
       "2                                      A  \n",
       "3                                      A  \n",
       "4                                      A  \n",
       "...                                  ...  \n",
       "179574                                 A  \n",
       "179575                                 A  \n",
       "179576                                 A  \n",
       "179577                                 A  \n",
       "179578                                 A  \n",
       "\n",
       "[179579 rows x 12 columns]"
      ]
     },
     "execution_count": 12,
     "metadata": {},
     "output_type": "execute_result"
    }
   ],
   "source": [
    "DATA.get_partition(1).compute()"
   ]
  },
  {
   "cell_type": "code",
   "execution_count": 13,
   "metadata": {
    "ExecuteTime": {
     "end_time": "2020-12-18T13:43:49.870699Z",
     "start_time": "2020-12-18T13:43:36.475699Z"
    }
   },
   "outputs": [
    {
     "data": {
      "text/plain": [
       "0"
      ]
     },
     "execution_count": 13,
     "metadata": {},
     "output_type": "execute_result"
    }
   ],
   "source": [
    "DATA.isna().sum().sum().compute()"
   ]
  },
  {
   "cell_type": "code",
   "execution_count": 14,
   "metadata": {
    "ExecuteTime": {
     "end_time": "2020-12-18T13:44:00.308699Z",
     "start_time": "2020-12-18T13:43:49.874700Z"
    }
   },
   "outputs": [
    {
     "data": {
      "text/plain": [
       "(4876426, 12)"
      ]
     },
     "execution_count": 14,
     "metadata": {},
     "output_type": "execute_result"
    }
   ],
   "source": [
    "DATA.shape[0].compute(),DATA.shape[1]"
   ]
  },
  {
   "cell_type": "code",
   "execution_count": 15,
   "metadata": {
    "ExecuteTime": {
     "end_time": "2020-12-18T13:44:00.332699Z",
     "start_time": "2020-12-18T13:44:00.313700Z"
    }
   },
   "outputs": [
    {
     "data": {
      "text/plain": [
       "Unnamed: 0                                    int64\n",
       "Transaction unique identifier                object\n",
       "Price                                         int64\n",
       "Date of Transfer                     datetime64[ns]\n",
       "Property Type                                object\n",
       "Old/New                                      object\n",
       "Duration                                     object\n",
       "Town/City                                    object\n",
       "District                                     object\n",
       "County                                       object\n",
       "PPDCategory Type                             object\n",
       "Record Status - monthly file only            object\n",
       "dtype: object"
      ]
     },
     "execution_count": 15,
     "metadata": {},
     "output_type": "execute_result"
    }
   ],
   "source": [
    "DATA.dtypes"
   ]
  },
  {
   "cell_type": "code",
   "execution_count": 16,
   "metadata": {
    "ExecuteTime": {
     "end_time": "2020-12-18T13:44:00.344699Z",
     "start_time": "2020-12-18T13:44:00.338702Z"
    }
   },
   "outputs": [],
   "source": [
    "# Notice that Date of Transfer columns contain duplicate values, because several transactions can be made on one date."
   ]
  },
  {
   "cell_type": "code",
   "execution_count": 17,
   "metadata": {
    "ExecuteTime": {
     "end_time": "2020-12-18T13:44:11.211702Z",
     "start_time": "2020-12-18T13:44:00.349702Z"
    }
   },
   "outputs": [
    {
     "data": {
      "text/plain": [
       "0      2012-09-28\n",
       "1      2012-07-18\n",
       "2      2012-04-25\n",
       "3      2012-10-25\n",
       "4      2012-04-13\n",
       "          ...    \n",
       "1998   2017-03-04\n",
       "1999   2017-04-09\n",
       "2000   2017-03-05\n",
       "2001   2017-01-28\n",
       "2002   2017-04-08\n",
       "Name: Date of Transfer, Length: 2003, dtype: datetime64[ns]"
      ]
     },
     "execution_count": 17,
     "metadata": {},
     "output_type": "execute_result"
    }
   ],
   "source": [
    "DATA['Date of Transfer'].unique().compute()"
   ]
  },
  {
   "cell_type": "code",
   "execution_count": 18,
   "metadata": {
    "ExecuteTime": {
     "end_time": "2020-12-18T13:44:21.946698Z",
     "start_time": "2020-12-18T13:44:11.216704Z"
    }
   },
   "outputs": [
    {
     "data": {
      "text/plain": [
       "0    S\n",
       "1    D\n",
       "2    T\n",
       "3    F\n",
       "4    O\n",
       "Name: Property Type, dtype: object"
      ]
     },
     "execution_count": 18,
     "metadata": {},
     "output_type": "execute_result"
    }
   ],
   "source": [
    "DATA['Property Type'].unique().compute()"
   ]
  },
  {
   "cell_type": "code",
   "execution_count": 19,
   "metadata": {
    "ExecuteTime": {
     "end_time": "2020-12-18T13:44:32.737700Z",
     "start_time": "2020-12-18T13:44:21.950701Z"
    }
   },
   "outputs": [
    {
     "data": {
      "text/plain": [
       "count    4,876,426.00\n",
       "mean       283,631.87\n",
       "std        773,019.82\n",
       "min              1.00\n",
       "25%        146,000.00\n",
       "50%        224,995.00\n",
       "75%        350,000.00\n",
       "max     98,900,000.00\n",
       "Name: Price, dtype: float64"
      ]
     },
     "execution_count": 19,
     "metadata": {},
     "output_type": "execute_result"
    }
   ],
   "source": [
    "DATA['Price'].describe().compute()  # PRICE OUTLINER! DANGER!!!!!"
   ]
  },
  {
   "cell_type": "code",
   "execution_count": 20,
   "metadata": {
    "ExecuteTime": {
     "end_time": "2020-12-18T13:44:32.744700Z",
     "start_time": "2020-12-18T13:44:32.741700Z"
    }
   },
   "outputs": [],
   "source": [
    "#drop duplicate row if any, but no duplicate, may take time to run\n",
    "#DATA.drop_duplicates()"
   ]
  },
  {
   "cell_type": "markdown",
   "metadata": {},
   "source": [
    "## Remove illogical price"
   ]
  },
  {
   "cell_type": "markdown",
   "metadata": {},
   "source": [
    "Reason: https://www.dailymail.co.uk/property/article-6628333/Cheapest-properties-sale-cost-15-month.html"
   ]
  },
  {
   "cell_type": "code",
   "execution_count": 21,
   "metadata": {
    "ExecuteTime": {
     "end_time": "2020-12-18T13:44:32.767704Z",
     "start_time": "2020-12-18T13:44:32.750699Z"
    }
   },
   "outputs": [],
   "source": [
    "DATA=DATA[DATA.Price>=4000]"
   ]
  },
  {
   "cell_type": "code",
   "execution_count": 22,
   "metadata": {
    "ExecuteTime": {
     "end_time": "2020-12-18T13:44:33.695698Z",
     "start_time": "2020-12-18T13:44:32.772698Z"
    }
   },
   "outputs": [
    {
     "data": {
      "text/html": [
       "<div>\n",
       "<style scoped>\n",
       "    .dataframe tbody tr th:only-of-type {\n",
       "        vertical-align: middle;\n",
       "    }\n",
       "\n",
       "    .dataframe tbody tr th {\n",
       "        vertical-align: top;\n",
       "    }\n",
       "\n",
       "    .dataframe thead th {\n",
       "        text-align: right;\n",
       "    }\n",
       "</style>\n",
       "<table border=\"1\" class=\"dataframe\">\n",
       "  <thead>\n",
       "    <tr style=\"text-align: right;\">\n",
       "      <th></th>\n",
       "      <th>Unnamed: 0</th>\n",
       "      <th>Transaction unique identifier</th>\n",
       "      <th>Price</th>\n",
       "      <th>Date of Transfer</th>\n",
       "      <th>Property Type</th>\n",
       "      <th>Old/New</th>\n",
       "      <th>Duration</th>\n",
       "      <th>Town/City</th>\n",
       "      <th>District</th>\n",
       "      <th>County</th>\n",
       "      <th>PPDCategory Type</th>\n",
       "      <th>Record Status - monthly file only</th>\n",
       "    </tr>\n",
       "  </thead>\n",
       "  <tbody>\n",
       "    <tr>\n",
       "      <th>0</th>\n",
       "      <td>17612922</td>\n",
       "      <td>{BD0D075D-7818-47B3-9657-7651CBD02219}</td>\n",
       "      <td>155000</td>\n",
       "      <td>2012-09-28</td>\n",
       "      <td>S</td>\n",
       "      <td>N</td>\n",
       "      <td>F</td>\n",
       "      <td>YORK</td>\n",
       "      <td>YORK</td>\n",
       "      <td>YORK</td>\n",
       "      <td>A</td>\n",
       "      <td>A</td>\n",
       "    </tr>\n",
       "    <tr>\n",
       "      <th>1</th>\n",
       "      <td>17612923</td>\n",
       "      <td>{0FF70080-C8EA-4DDC-9C19-7651D9B540CC}</td>\n",
       "      <td>264000</td>\n",
       "      <td>2012-07-18</td>\n",
       "      <td>D</td>\n",
       "      <td>N</td>\n",
       "      <td>F</td>\n",
       "      <td>HAYLING ISLAND</td>\n",
       "      <td>HAVANT</td>\n",
       "      <td>HAMPSHIRE</td>\n",
       "      <td>A</td>\n",
       "      <td>A</td>\n",
       "    </tr>\n",
       "    <tr>\n",
       "      <th>2</th>\n",
       "      <td>17612924</td>\n",
       "      <td>{80CC2177-EDBE-4ABB-9EAA-7651DAA0E4EE}</td>\n",
       "      <td>20000</td>\n",
       "      <td>2012-04-25</td>\n",
       "      <td>T</td>\n",
       "      <td>N</td>\n",
       "      <td>F</td>\n",
       "      <td>HULL</td>\n",
       "      <td>CITY OF KINGSTON UPON HULL</td>\n",
       "      <td>CITY OF KINGSTON UPON HULL</td>\n",
       "      <td>A</td>\n",
       "      <td>A</td>\n",
       "    </tr>\n",
       "    <tr>\n",
       "      <th>3</th>\n",
       "      <td>17612925</td>\n",
       "      <td>{076B2969-50D6-4659-8956-7651ECAAB904}</td>\n",
       "      <td>89950</td>\n",
       "      <td>2012-10-25</td>\n",
       "      <td>S</td>\n",
       "      <td>N</td>\n",
       "      <td>F</td>\n",
       "      <td>WORKSOP</td>\n",
       "      <td>BASSETLAW</td>\n",
       "      <td>NOTTINGHAMSHIRE</td>\n",
       "      <td>A</td>\n",
       "      <td>A</td>\n",
       "    </tr>\n",
       "    <tr>\n",
       "      <th>4</th>\n",
       "      <td>17612926</td>\n",
       "      <td>{9A6B1BBC-3522-4B44-9FD6-765202F73E28}</td>\n",
       "      <td>168000</td>\n",
       "      <td>2012-04-13</td>\n",
       "      <td>S</td>\n",
       "      <td>N</td>\n",
       "      <td>F</td>\n",
       "      <td>TORQUAY</td>\n",
       "      <td>TORBAY</td>\n",
       "      <td>TORBAY</td>\n",
       "      <td>A</td>\n",
       "      <td>A</td>\n",
       "    </tr>\n",
       "  </tbody>\n",
       "</table>\n",
       "</div>"
      ],
      "text/plain": [
       "   Unnamed: 0           Transaction unique identifier   Price  \\\n",
       "0    17612922  {BD0D075D-7818-47B3-9657-7651CBD02219}  155000   \n",
       "1    17612923  {0FF70080-C8EA-4DDC-9C19-7651D9B540CC}  264000   \n",
       "2    17612924  {80CC2177-EDBE-4ABB-9EAA-7651DAA0E4EE}   20000   \n",
       "3    17612925  {076B2969-50D6-4659-8956-7651ECAAB904}   89950   \n",
       "4    17612926  {9A6B1BBC-3522-4B44-9FD6-765202F73E28}  168000   \n",
       "\n",
       "  Date of Transfer Property Type Old/New Duration       Town/City  \\\n",
       "0       2012-09-28             S       N        F            YORK   \n",
       "1       2012-07-18             D       N        F  HAYLING ISLAND   \n",
       "2       2012-04-25             T       N        F            HULL   \n",
       "3       2012-10-25             S       N        F         WORKSOP   \n",
       "4       2012-04-13             S       N        F         TORQUAY   \n",
       "\n",
       "                     District                      County PPDCategory Type  \\\n",
       "0                        YORK                        YORK                A   \n",
       "1                      HAVANT                   HAMPSHIRE                A   \n",
       "2  CITY OF KINGSTON UPON HULL  CITY OF KINGSTON UPON HULL                A   \n",
       "3                   BASSETLAW             NOTTINGHAMSHIRE                A   \n",
       "4                      TORBAY                      TORBAY                A   \n",
       "\n",
       "  Record Status - monthly file only  \n",
       "0                                 A  \n",
       "1                                 A  \n",
       "2                                 A  \n",
       "3                                 A  \n",
       "4                                 A  "
      ]
     },
     "execution_count": 22,
     "metadata": {},
     "output_type": "execute_result"
    }
   ],
   "source": [
    "DATA.head()"
   ]
  },
  {
   "cell_type": "code",
   "execution_count": 23,
   "metadata": {
    "ExecuteTime": {
     "end_time": "2020-12-18T13:44:34.020701Z",
     "start_time": "2020-12-18T13:44:33.712699Z"
    }
   },
   "outputs": [
    {
     "data": {
      "text/html": [
       "<div>\n",
       "<style scoped>\n",
       "    .dataframe tbody tr th:only-of-type {\n",
       "        vertical-align: middle;\n",
       "    }\n",
       "\n",
       "    .dataframe tbody tr th {\n",
       "        vertical-align: top;\n",
       "    }\n",
       "\n",
       "    .dataframe thead th {\n",
       "        text-align: right;\n",
       "    }\n",
       "</style>\n",
       "<table border=\"1\" class=\"dataframe\">\n",
       "  <thead>\n",
       "    <tr style=\"text-align: right;\">\n",
       "      <th></th>\n",
       "      <th>Unnamed: 0</th>\n",
       "      <th>Transaction unique identifier</th>\n",
       "      <th>Price</th>\n",
       "      <th>Date of Transfer</th>\n",
       "      <th>Property Type</th>\n",
       "      <th>Old/New</th>\n",
       "      <th>Duration</th>\n",
       "      <th>Town/City</th>\n",
       "      <th>District</th>\n",
       "      <th>County</th>\n",
       "      <th>PPDCategory Type</th>\n",
       "      <th>Record Status - monthly file only</th>\n",
       "    </tr>\n",
       "  </thead>\n",
       "  <tbody>\n",
       "    <tr>\n",
       "      <th>31306</th>\n",
       "      <td>22489343</td>\n",
       "      <td>{4C4EE000-291A-1854-E050-A8C063054F34}</td>\n",
       "      <td>175000</td>\n",
       "      <td>2017-02-20</td>\n",
       "      <td>S</td>\n",
       "      <td>N</td>\n",
       "      <td>F</td>\n",
       "      <td>LEEDS</td>\n",
       "      <td>LEEDS</td>\n",
       "      <td>WEST YORKSHIRE</td>\n",
       "      <td>A</td>\n",
       "      <td>A</td>\n",
       "    </tr>\n",
       "    <tr>\n",
       "      <th>31307</th>\n",
       "      <td>22489344</td>\n",
       "      <td>{4C4EE000-291B-1854-E050-A8C063054F34}</td>\n",
       "      <td>586945</td>\n",
       "      <td>2017-02-15</td>\n",
       "      <td>D</td>\n",
       "      <td>N</td>\n",
       "      <td>F</td>\n",
       "      <td>WETHERBY</td>\n",
       "      <td>LEEDS</td>\n",
       "      <td>WEST YORKSHIRE</td>\n",
       "      <td>A</td>\n",
       "      <td>A</td>\n",
       "    </tr>\n",
       "    <tr>\n",
       "      <th>31308</th>\n",
       "      <td>22489345</td>\n",
       "      <td>{4C4EE000-291C-1854-E050-A8C063054F34}</td>\n",
       "      <td>274000</td>\n",
       "      <td>2017-02-24</td>\n",
       "      <td>D</td>\n",
       "      <td>N</td>\n",
       "      <td>L</td>\n",
       "      <td>HUDDERSFIELD</td>\n",
       "      <td>KIRKLEES</td>\n",
       "      <td>WEST YORKSHIRE</td>\n",
       "      <td>A</td>\n",
       "      <td>A</td>\n",
       "    </tr>\n",
       "    <tr>\n",
       "      <th>31309</th>\n",
       "      <td>22489346</td>\n",
       "      <td>{4C4EE000-291D-1854-E050-A8C063054F34}</td>\n",
       "      <td>36000</td>\n",
       "      <td>2017-02-22</td>\n",
       "      <td>T</td>\n",
       "      <td>N</td>\n",
       "      <td>F</td>\n",
       "      <td>HALIFAX</td>\n",
       "      <td>CALDERDALE</td>\n",
       "      <td>WEST YORKSHIRE</td>\n",
       "      <td>A</td>\n",
       "      <td>A</td>\n",
       "    </tr>\n",
       "    <tr>\n",
       "      <th>31310</th>\n",
       "      <td>22489347</td>\n",
       "      <td>{4C4EE000-291E-1854-E050-A8C063054F34}</td>\n",
       "      <td>145000</td>\n",
       "      <td>2017-03-03</td>\n",
       "      <td>T</td>\n",
       "      <td>N</td>\n",
       "      <td>F</td>\n",
       "      <td>LEEDS</td>\n",
       "      <td>LEEDS</td>\n",
       "      <td>WEST YORKSHIRE</td>\n",
       "      <td>A</td>\n",
       "      <td>A</td>\n",
       "    </tr>\n",
       "  </tbody>\n",
       "</table>\n",
       "</div>"
      ],
      "text/plain": [
       "       Unnamed: 0           Transaction unique identifier   Price  \\\n",
       "31306    22489343  {4C4EE000-291A-1854-E050-A8C063054F34}  175000   \n",
       "31307    22489344  {4C4EE000-291B-1854-E050-A8C063054F34}  586945   \n",
       "31308    22489345  {4C4EE000-291C-1854-E050-A8C063054F34}  274000   \n",
       "31309    22489346  {4C4EE000-291D-1854-E050-A8C063054F34}   36000   \n",
       "31310    22489347  {4C4EE000-291E-1854-E050-A8C063054F34}  145000   \n",
       "\n",
       "      Date of Transfer Property Type Old/New Duration     Town/City  \\\n",
       "31306       2017-02-20             S       N        F         LEEDS   \n",
       "31307       2017-02-15             D       N        F      WETHERBY   \n",
       "31308       2017-02-24             D       N        L  HUDDERSFIELD   \n",
       "31309       2017-02-22             T       N        F       HALIFAX   \n",
       "31310       2017-03-03             T       N        F         LEEDS   \n",
       "\n",
       "         District          County PPDCategory Type  \\\n",
       "31306       LEEDS  WEST YORKSHIRE                A   \n",
       "31307       LEEDS  WEST YORKSHIRE                A   \n",
       "31308    KIRKLEES  WEST YORKSHIRE                A   \n",
       "31309  CALDERDALE  WEST YORKSHIRE                A   \n",
       "31310       LEEDS  WEST YORKSHIRE                A   \n",
       "\n",
       "      Record Status - monthly file only  \n",
       "31306                                 A  \n",
       "31307                                 A  \n",
       "31308                                 A  \n",
       "31309                                 A  \n",
       "31310                                 A  "
      ]
     },
     "execution_count": 23,
     "metadata": {},
     "output_type": "execute_result"
    }
   ],
   "source": [
    "DATA.tail()"
   ]
  },
  {
   "cell_type": "code",
   "execution_count": 24,
   "metadata": {
    "ExecuteTime": {
     "end_time": "2020-12-18T13:44:34.042698Z",
     "start_time": "2020-12-18T13:44:34.030708Z"
    }
   },
   "outputs": [
    {
     "data": {
      "text/plain": [
       "Unnamed: 0                                    int64\n",
       "Transaction unique identifier                object\n",
       "Price                                         int64\n",
       "Date of Transfer                     datetime64[ns]\n",
       "Property Type                                object\n",
       "Old/New                                      object\n",
       "Duration                                     object\n",
       "Town/City                                    object\n",
       "District                                     object\n",
       "County                                       object\n",
       "PPDCategory Type                             object\n",
       "Record Status - monthly file only            object\n",
       "dtype: object"
      ]
     },
     "execution_count": 24,
     "metadata": {},
     "output_type": "execute_result"
    }
   ],
   "source": [
    "DATA.dtypes"
   ]
  },
  {
   "cell_type": "code",
   "execution_count": 25,
   "metadata": {
    "ExecuteTime": {
     "end_time": "2020-12-18T13:44:46.874698Z",
     "start_time": "2020-12-18T13:44:34.049703Z"
    }
   },
   "outputs": [
    {
     "data": {
      "text/plain": [
       "4874262"
      ]
     },
     "execution_count": 25,
     "metadata": {},
     "output_type": "execute_result"
    }
   ],
   "source": [
    "DATA.shape[0].compute()"
   ]
  },
  {
   "cell_type": "markdown",
   "metadata": {},
   "source": [
    "## Drop uncessary columns"
   ]
  },
  {
   "cell_type": "code",
   "execution_count": 26,
   "metadata": {
    "ExecuteTime": {
     "end_time": "2020-12-18T13:44:46.886699Z",
     "start_time": "2020-12-18T13:44:46.877698Z"
    }
   },
   "outputs": [
    {
     "data": {
      "text/plain": [
       "Index(['Unnamed: 0', 'Transaction unique identifier', 'Price',\n",
       "       'Date of Transfer', 'Property Type', 'Old/New', 'Duration', 'Town/City',\n",
       "       'District', 'County', 'PPDCategory Type',\n",
       "       'Record Status - monthly file only'],\n",
       "      dtype='object')"
      ]
     },
     "execution_count": 26,
     "metadata": {},
     "output_type": "execute_result"
    }
   ],
   "source": [
    "DATA.columns"
   ]
  },
  {
   "cell_type": "code",
   "execution_count": 27,
   "metadata": {
    "ExecuteTime": {
     "end_time": "2020-12-18T13:44:46.911706Z",
     "start_time": "2020-12-18T13:44:46.892702Z"
    }
   },
   "outputs": [],
   "source": [
    "data_group=DATA[['Date of Transfer', 'Price','Property Type', 'Old/New', 'Duration', 'Town/City',\n",
    "       'District', 'County', 'PPDCategory Type']]"
   ]
  },
  {
   "cell_type": "code",
   "execution_count": 28,
   "metadata": {
    "ExecuteTime": {
     "end_time": "2020-12-18T13:44:47.998699Z",
     "start_time": "2020-12-18T13:44:46.917699Z"
    }
   },
   "outputs": [
    {
     "data": {
      "text/html": [
       "<div>\n",
       "<style scoped>\n",
       "    .dataframe tbody tr th:only-of-type {\n",
       "        vertical-align: middle;\n",
       "    }\n",
       "\n",
       "    .dataframe tbody tr th {\n",
       "        vertical-align: top;\n",
       "    }\n",
       "\n",
       "    .dataframe thead th {\n",
       "        text-align: right;\n",
       "    }\n",
       "</style>\n",
       "<table border=\"1\" class=\"dataframe\">\n",
       "  <thead>\n",
       "    <tr style=\"text-align: right;\">\n",
       "      <th></th>\n",
       "      <th>Date of Transfer</th>\n",
       "      <th>Price</th>\n",
       "      <th>Property Type</th>\n",
       "      <th>Old/New</th>\n",
       "      <th>Duration</th>\n",
       "      <th>Town/City</th>\n",
       "      <th>District</th>\n",
       "      <th>County</th>\n",
       "      <th>PPDCategory Type</th>\n",
       "    </tr>\n",
       "  </thead>\n",
       "  <tbody>\n",
       "    <tr>\n",
       "      <th>0</th>\n",
       "      <td>2012-09-28</td>\n",
       "      <td>155000</td>\n",
       "      <td>S</td>\n",
       "      <td>N</td>\n",
       "      <td>F</td>\n",
       "      <td>YORK</td>\n",
       "      <td>YORK</td>\n",
       "      <td>YORK</td>\n",
       "      <td>A</td>\n",
       "    </tr>\n",
       "    <tr>\n",
       "      <th>1</th>\n",
       "      <td>2012-07-18</td>\n",
       "      <td>264000</td>\n",
       "      <td>D</td>\n",
       "      <td>N</td>\n",
       "      <td>F</td>\n",
       "      <td>HAYLING ISLAND</td>\n",
       "      <td>HAVANT</td>\n",
       "      <td>HAMPSHIRE</td>\n",
       "      <td>A</td>\n",
       "    </tr>\n",
       "    <tr>\n",
       "      <th>2</th>\n",
       "      <td>2012-04-25</td>\n",
       "      <td>20000</td>\n",
       "      <td>T</td>\n",
       "      <td>N</td>\n",
       "      <td>F</td>\n",
       "      <td>HULL</td>\n",
       "      <td>CITY OF KINGSTON UPON HULL</td>\n",
       "      <td>CITY OF KINGSTON UPON HULL</td>\n",
       "      <td>A</td>\n",
       "    </tr>\n",
       "    <tr>\n",
       "      <th>3</th>\n",
       "      <td>2012-10-25</td>\n",
       "      <td>89950</td>\n",
       "      <td>S</td>\n",
       "      <td>N</td>\n",
       "      <td>F</td>\n",
       "      <td>WORKSOP</td>\n",
       "      <td>BASSETLAW</td>\n",
       "      <td>NOTTINGHAMSHIRE</td>\n",
       "      <td>A</td>\n",
       "    </tr>\n",
       "    <tr>\n",
       "      <th>4</th>\n",
       "      <td>2012-04-13</td>\n",
       "      <td>168000</td>\n",
       "      <td>S</td>\n",
       "      <td>N</td>\n",
       "      <td>F</td>\n",
       "      <td>TORQUAY</td>\n",
       "      <td>TORBAY</td>\n",
       "      <td>TORBAY</td>\n",
       "      <td>A</td>\n",
       "    </tr>\n",
       "  </tbody>\n",
       "</table>\n",
       "</div>"
      ],
      "text/plain": [
       "  Date of Transfer   Price Property Type Old/New Duration       Town/City  \\\n",
       "0       2012-09-28  155000             S       N        F            YORK   \n",
       "1       2012-07-18  264000             D       N        F  HAYLING ISLAND   \n",
       "2       2012-04-25   20000             T       N        F            HULL   \n",
       "3       2012-10-25   89950             S       N        F         WORKSOP   \n",
       "4       2012-04-13  168000             S       N        F         TORQUAY   \n",
       "\n",
       "                     District                      County PPDCategory Type  \n",
       "0                        YORK                        YORK                A  \n",
       "1                      HAVANT                   HAMPSHIRE                A  \n",
       "2  CITY OF KINGSTON UPON HULL  CITY OF KINGSTON UPON HULL                A  \n",
       "3                   BASSETLAW             NOTTINGHAMSHIRE                A  \n",
       "4                      TORBAY                      TORBAY                A  "
      ]
     },
     "execution_count": 28,
     "metadata": {},
     "output_type": "execute_result"
    }
   ],
   "source": [
    "data_group.head()"
   ]
  },
  {
   "cell_type": "code",
   "execution_count": 29,
   "metadata": {
    "ExecuteTime": {
     "end_time": "2020-12-18T13:44:48.022702Z",
     "start_time": "2020-12-18T13:44:48.004700Z"
    }
   },
   "outputs": [
    {
     "data": {
      "text/plain": [
       "Date of Transfer    datetime64[ns]\n",
       "Price                        int64\n",
       "Property Type               object\n",
       "Old/New                     object\n",
       "Duration                    object\n",
       "Town/City                   object\n",
       "District                    object\n",
       "County                      object\n",
       "PPDCategory Type            object\n",
       "dtype: object"
      ]
     },
     "execution_count": 29,
     "metadata": {},
     "output_type": "execute_result"
    }
   ],
   "source": [
    "data_group.dtypes"
   ]
  },
  {
   "cell_type": "markdown",
   "metadata": {},
   "source": [
    "## Change columns name to more concise versions"
   ]
  },
  {
   "cell_type": "code",
   "execution_count": 30,
   "metadata": {
    "ExecuteTime": {
     "end_time": "2020-12-18T13:44:48.055698Z",
     "start_time": "2020-12-18T13:44:48.029699Z"
    }
   },
   "outputs": [],
   "source": [
    "new_cols=['Date','Price','Property Type','Old/New','Duration','Town/City','District','County','Price Method']\n",
    "data_group_new=data_group.rename(columns=dict(zip(data_group.columns,new_cols)))"
   ]
  },
  {
   "cell_type": "code",
   "execution_count": 31,
   "metadata": {
    "ExecuteTime": {
     "end_time": "2020-12-18T13:44:49.196710Z",
     "start_time": "2020-12-18T13:44:48.061710Z"
    }
   },
   "outputs": [
    {
     "data": {
      "text/html": [
       "<div>\n",
       "<style scoped>\n",
       "    .dataframe tbody tr th:only-of-type {\n",
       "        vertical-align: middle;\n",
       "    }\n",
       "\n",
       "    .dataframe tbody tr th {\n",
       "        vertical-align: top;\n",
       "    }\n",
       "\n",
       "    .dataframe thead th {\n",
       "        text-align: right;\n",
       "    }\n",
       "</style>\n",
       "<table border=\"1\" class=\"dataframe\">\n",
       "  <thead>\n",
       "    <tr style=\"text-align: right;\">\n",
       "      <th></th>\n",
       "      <th>Date</th>\n",
       "      <th>Price</th>\n",
       "      <th>Property Type</th>\n",
       "      <th>Old/New</th>\n",
       "      <th>Duration</th>\n",
       "      <th>Town/City</th>\n",
       "      <th>District</th>\n",
       "      <th>County</th>\n",
       "      <th>Price Method</th>\n",
       "    </tr>\n",
       "  </thead>\n",
       "  <tbody>\n",
       "    <tr>\n",
       "      <th>0</th>\n",
       "      <td>2012-09-28</td>\n",
       "      <td>155000</td>\n",
       "      <td>S</td>\n",
       "      <td>N</td>\n",
       "      <td>F</td>\n",
       "      <td>YORK</td>\n",
       "      <td>YORK</td>\n",
       "      <td>YORK</td>\n",
       "      <td>A</td>\n",
       "    </tr>\n",
       "    <tr>\n",
       "      <th>1</th>\n",
       "      <td>2012-07-18</td>\n",
       "      <td>264000</td>\n",
       "      <td>D</td>\n",
       "      <td>N</td>\n",
       "      <td>F</td>\n",
       "      <td>HAYLING ISLAND</td>\n",
       "      <td>HAVANT</td>\n",
       "      <td>HAMPSHIRE</td>\n",
       "      <td>A</td>\n",
       "    </tr>\n",
       "    <tr>\n",
       "      <th>2</th>\n",
       "      <td>2012-04-25</td>\n",
       "      <td>20000</td>\n",
       "      <td>T</td>\n",
       "      <td>N</td>\n",
       "      <td>F</td>\n",
       "      <td>HULL</td>\n",
       "      <td>CITY OF KINGSTON UPON HULL</td>\n",
       "      <td>CITY OF KINGSTON UPON HULL</td>\n",
       "      <td>A</td>\n",
       "    </tr>\n",
       "    <tr>\n",
       "      <th>3</th>\n",
       "      <td>2012-10-25</td>\n",
       "      <td>89950</td>\n",
       "      <td>S</td>\n",
       "      <td>N</td>\n",
       "      <td>F</td>\n",
       "      <td>WORKSOP</td>\n",
       "      <td>BASSETLAW</td>\n",
       "      <td>NOTTINGHAMSHIRE</td>\n",
       "      <td>A</td>\n",
       "    </tr>\n",
       "    <tr>\n",
       "      <th>4</th>\n",
       "      <td>2012-04-13</td>\n",
       "      <td>168000</td>\n",
       "      <td>S</td>\n",
       "      <td>N</td>\n",
       "      <td>F</td>\n",
       "      <td>TORQUAY</td>\n",
       "      <td>TORBAY</td>\n",
       "      <td>TORBAY</td>\n",
       "      <td>A</td>\n",
       "    </tr>\n",
       "  </tbody>\n",
       "</table>\n",
       "</div>"
      ],
      "text/plain": [
       "        Date   Price Property Type Old/New Duration       Town/City  \\\n",
       "0 2012-09-28  155000             S       N        F            YORK   \n",
       "1 2012-07-18  264000             D       N        F  HAYLING ISLAND   \n",
       "2 2012-04-25   20000             T       N        F            HULL   \n",
       "3 2012-10-25   89950             S       N        F         WORKSOP   \n",
       "4 2012-04-13  168000             S       N        F         TORQUAY   \n",
       "\n",
       "                     District                      County Price Method  \n",
       "0                        YORK                        YORK            A  \n",
       "1                      HAVANT                   HAMPSHIRE            A  \n",
       "2  CITY OF KINGSTON UPON HULL  CITY OF KINGSTON UPON HULL            A  \n",
       "3                   BASSETLAW             NOTTINGHAMSHIRE            A  \n",
       "4                      TORBAY                      TORBAY            A  "
      ]
     },
     "execution_count": 31,
     "metadata": {},
     "output_type": "execute_result"
    }
   ],
   "source": [
    "data_group_new.head()"
   ]
  },
  {
   "cell_type": "code",
   "execution_count": 32,
   "metadata": {
    "ExecuteTime": {
     "end_time": "2020-12-18T13:44:49.214699Z",
     "start_time": "2020-12-18T13:44:49.201702Z"
    }
   },
   "outputs": [
    {
     "data": {
      "text/plain": [
       "Date             datetime64[ns]\n",
       "Price                     int64\n",
       "Property Type            object\n",
       "Old/New                  object\n",
       "Duration                 object\n",
       "Town/City                object\n",
       "District                 object\n",
       "County                   object\n",
       "Price Method             object\n",
       "dtype: object"
      ]
     },
     "execution_count": 32,
     "metadata": {},
     "output_type": "execute_result"
    }
   ],
   "source": [
    "data_group_new.dtypes"
   ]
  },
  {
   "cell_type": "markdown",
   "metadata": {},
   "source": [
    "## Notice:"
   ]
  },
  {
   "cell_type": "markdown",
   "metadata": {},
   "source": [
    "Before going to non-time analysis , we would like to take a glance to see any abnormal or events causing by time, which later may influence our understanding of the analysis. Since inflation is inhibited inside price, we take the inflation rate information in consideration, because the price increases/reduces can stem from inflation (not real increase)."
   ]
  },
  {
   "cell_type": "markdown",
   "metadata": {
    "ExecuteTime": {
     "end_time": "2020-12-15T15:22:11.515071Z",
     "start_time": "2020-12-15T15:22:11.506071Z"
    }
   },
   "source": [
    "<img src='UKinflation.JPG' width=600>"
   ]
  },
  {
   "cell_type": "markdown",
   "metadata": {},
   "source": [
    "source: https://www.ons.gov.uk/economy/inflationandpriceindices/timeseries/l55o/mm23"
   ]
  },
  {
   "cell_type": "markdown",
   "metadata": {},
   "source": [
    "Our dataset time spans from 2012 to 2017 which the inflation rate shows flunctuation as in the figure with the bottom in year 2015."
   ]
  },
  {
   "cell_type": "markdown",
   "metadata": {},
   "source": [
    "<div style='background-color:orange;color:white;padding:20px;text-align:center;font-size:20px'> ANALYSIS PART I: DESCRIPTVE</div> \n",
    "  <div style='text-align:right'> by Pawan</div>"
   ]
  },
  {
   "cell_type": "markdown",
   "metadata": {},
   "source": [
    "To remove outliers we have decided to drop all the rows which price is less than 4000. Anything over 4000, we are keeping in pur data. In our data sets there were over 2000 inputs were outliers. After removing outlier, input of our data is decresed by 2000 rows."
   ]
  },
  {
   "cell_type": "code",
   "execution_count": 33,
   "metadata": {
    "ExecuteTime": {
     "end_time": "2020-12-18T13:45:02.260699Z",
     "start_time": "2020-12-18T13:44:49.218702Z"
    }
   },
   "outputs": [
    {
     "data": {
      "text/plain": [
       "count    4,874,262.00\n",
       "mean       283,757.03\n",
       "std        773,168.57\n",
       "min          4,000.00\n",
       "25%        146,500.00\n",
       "50%        225,000.00\n",
       "75%        350,000.00\n",
       "max     98,900,000.00\n",
       "Name: Price, dtype: float64"
      ]
     },
     "execution_count": 33,
     "metadata": {},
     "output_type": "execute_result"
    }
   ],
   "source": [
    "data_group_new.Price.describe().compute()"
   ]
  },
  {
   "cell_type": "markdown",
   "metadata": {},
   "source": [
    "There are five kinds of unique property types: \n",
    "\n",
    "- D = Detached,\n",
    "- S = Semi-Detached,\n",
    "- T = Terraced,\n",
    "- F = Flats/Maisonettes,\n",
    "- O = Other"
   ]
  },
  {
   "cell_type": "code",
   "execution_count": 34,
   "metadata": {
    "ExecuteTime": {
     "end_time": "2020-12-18T13:45:15.023219Z",
     "start_time": "2020-12-18T13:45:02.265701Z"
    }
   },
   "outputs": [
    {
     "data": {
      "text/plain": [
       "unique          5\n",
       "count     4874262\n",
       "top             T\n",
       "freq      1411594\n",
       "Name: Property Type, dtype: object"
      ]
     },
     "execution_count": 34,
     "metadata": {},
     "output_type": "execute_result"
    }
   ],
   "source": [
    "data_group_new['Property Type'].describe().compute()"
   ]
  },
  {
   "cell_type": "code",
   "execution_count": 35,
   "metadata": {
    "ExecuteTime": {
     "end_time": "2020-12-18T13:45:31.442664Z",
     "start_time": "2020-12-18T13:45:15.028222Z"
    }
   },
   "outputs": [
    {
     "data": {
      "text/plain": [
       "0    S\n",
       "1    D\n",
       "2    T\n",
       "3    F\n",
       "4    O\n",
       "Name: Property Type, dtype: object"
      ]
     },
     "execution_count": 35,
     "metadata": {},
     "output_type": "execute_result"
    }
   ],
   "source": [
    "# after removing outliers\n",
    "data_group_new['Property Type'].unique().compute()"
   ]
  },
  {
   "cell_type": "code",
   "execution_count": 36,
   "metadata": {
    "ExecuteTime": {
     "end_time": "2020-12-18T13:45:48.500664Z",
     "start_time": "2020-12-18T13:45:31.451668Z"
    }
   },
   "outputs": [
    {
     "data": {
      "text/plain": [
       "Text(0, 0.5, 'count')"
      ]
     },
     "execution_count": 36,
     "metadata": {},
     "output_type": "execute_result"
    },
    {
     "data": {
      "image/png": "[encoded data removed]",
      "text/plain": [
       "<Figure size 432x288 with 1 Axes>"
      ]
     },
     "metadata": {
      "needs_background": "light"
     },
     "output_type": "display_data"
    }
   ],
   "source": [
    "# after removing outliers\n",
    "plt.hist(data_group_new['Property Type'].compute())\n",
    "plt.xlabel('Property Type')\n",
    "plt.ylabel('count')"
   ]
  },
  {
   "cell_type": "code",
   "execution_count": 37,
   "metadata": {
    "ExecuteTime": {
     "end_time": "2020-12-18T13:45:59.348152Z",
     "start_time": "2020-12-18T13:45:48.504663Z"
    }
   },
   "outputs": [
    {
     "data": {
      "text/plain": [
       "T    1411594\n",
       "S    1266345\n",
       "D    1141107\n",
       "F     956980\n",
       "O      98236\n",
       "Name: Property Type, dtype: int64"
      ]
     },
     "execution_count": 37,
     "metadata": {},
     "output_type": "execute_result"
    }
   ],
   "source": [
    "data_group_new['Property Type'].value_counts().compute()"
   ]
  },
  {
   "cell_type": "markdown",
   "metadata": {},
   "source": [
    "**From here we can see how many properties are newely built.**\n",
    "\n",
    "Indicates the age of the property and applies to all price paid transactions, residential and non-residential.\n",
    "\n",
    "- Y = a newly built property,\n",
    "- N = an established residential building"
   ]
  },
  {
   "cell_type": "code",
   "execution_count": 38,
   "metadata": {
    "ExecuteTime": {
     "end_time": "2020-12-18T13:46:11.094113Z",
     "start_time": "2020-12-18T13:45:59.353116Z"
    }
   },
   "outputs": [
    {
     "data": {
      "text/plain": [
       "unique          2\n",
       "count     4874262\n",
       "top             N\n",
       "freq      4389297\n",
       "Name: Old/New, dtype: object"
      ]
     },
     "execution_count": 38,
     "metadata": {},
     "output_type": "execute_result"
    }
   ],
   "source": [
    "# after removing outliers\n",
    "data_group_new['Old/New'].describe().compute()"
   ]
  },
  {
   "cell_type": "code",
   "execution_count": 39,
   "metadata": {
    "ExecuteTime": {
     "end_time": "2020-12-18T13:46:23.743543Z",
     "start_time": "2020-12-18T13:46:11.098116Z"
    }
   },
   "outputs": [
    {
     "data": {
      "text/plain": [
       "N    4389297\n",
       "Y     484965\n",
       "Name: Old/New, dtype: int64"
      ]
     },
     "execution_count": 39,
     "metadata": {},
     "output_type": "execute_result"
    }
   ],
   "source": [
    "# after removing outliers\n",
    "data_group_new['Old/New'].value_counts().compute()"
   ]
  },
  {
   "cell_type": "markdown",
   "metadata": {},
   "source": [
    "**This column show the duration of each property tenant holds**\n",
    "\n",
    "Relates to the tenure:\n",
    "\n",
    "- F = Freehold,\n",
    "- L= Leasehold "
   ]
  },
  {
   "cell_type": "code",
   "execution_count": 40,
   "metadata": {
    "ExecuteTime": {
     "end_time": "2020-12-18T13:46:36.635036Z",
     "start_time": "2020-12-18T13:46:23.749510Z"
    }
   },
   "outputs": [
    {
     "data": {
      "text/plain": [
       "Text(0, 0.5, 'Count')"
      ]
     },
     "execution_count": 40,
     "metadata": {},
     "output_type": "execute_result"
    },
    {
     "data": {
      "image/png": "[encoded data removed]",
      "text/plain": [
       "<Figure size 432x288 with 1 Axes>"
      ]
     },
     "metadata": {
      "needs_background": "light"
     },
     "output_type": "display_data"
    }
   ],
   "source": [
    "plt.hist(data_group_new['Duration'].compute())\n",
    "plt.xlabel('Duration')\n",
    "plt.ylabel('Count')"
   ]
  },
  {
   "cell_type": "code",
   "execution_count": 41,
   "metadata": {
    "ExecuteTime": {
     "end_time": "2020-12-18T13:46:50.599564Z",
     "start_time": "2020-12-18T13:46:36.639032Z"
    }
   },
   "outputs": [
    {
     "data": {
      "text/plain": [
       "unique          2\n",
       "count     4874262\n",
       "top             F\n",
       "freq      3658226\n",
       "Name: Duration, dtype: object"
      ]
     },
     "execution_count": 41,
     "metadata": {},
     "output_type": "execute_result"
    }
   ],
   "source": [
    "# After removing outliers\n",
    "data_group_new['Duration'].describe().compute()"
   ]
  },
  {
   "cell_type": "code",
   "execution_count": 42,
   "metadata": {
    "ExecuteTime": {
     "end_time": "2020-12-18T13:47:02.807563Z",
     "start_time": "2020-12-18T13:46:50.603565Z"
    }
   },
   "outputs": [
    {
     "data": {
      "text/plain": [
       "F    3658226\n",
       "L    1216036\n",
       "Name: Duration, dtype: int64"
      ]
     },
     "execution_count": 42,
     "metadata": {},
     "output_type": "execute_result"
    }
   ],
   "source": [
    "# after removing outliers\n",
    "data_group_new['Duration'].value_counts().compute()"
   ]
  },
  {
   "cell_type": "markdown",
   "metadata": {},
   "source": [
    " This column shows the Town/City where property are located. And shows there are 1151 Town/City where property are situated in UK."
   ]
  },
  {
   "cell_type": "code",
   "execution_count": 43,
   "metadata": {
    "ExecuteTime": {
     "end_time": "2020-12-18T13:47:13.388565Z",
     "start_time": "2020-12-18T13:47:02.811567Z"
    }
   },
   "outputs": [
    {
     "data": {
      "text/plain": [
       "unique       1151\n",
       "count     4874262\n",
       "top        LONDON\n",
       "freq       381726\n",
       "Name: Town/City, dtype: object"
      ]
     },
     "execution_count": 43,
     "metadata": {},
     "output_type": "execute_result"
    }
   ],
   "source": [
    "# after removing outliers\n",
    "data_group_new['Town/City'].describe().compute()"
   ]
  },
  {
   "cell_type": "code",
   "execution_count": 44,
   "metadata": {
    "ExecuteTime": {
     "end_time": "2020-12-18T13:47:23.919569Z",
     "start_time": "2020-12-18T13:47:13.392566Z"
    }
   },
   "outputs": [
    {
     "data": {
      "text/plain": [
       "LONDON           381726\n",
       "BRISTOL           79027\n",
       "MANCHESTER        76761\n",
       "BIRMINGHAM        67986\n",
       "NOTTINGHAM        65025\n",
       "                  ...  \n",
       "NEWCASTLETON          9\n",
       "MINDRUM               9\n",
       "GATWICK               5\n",
       "GRETNA                1\n",
       "PORT DINORWIC         1\n",
       "Name: Town/City, Length: 1151, dtype: int64"
      ]
     },
     "execution_count": 44,
     "metadata": {},
     "output_type": "execute_result"
    }
   ],
   "source": [
    "# After outliers\n",
    "data_group_new['Town/City'].value_counts().compute()"
   ]
  },
  {
   "cell_type": "code",
   "execution_count": 45,
   "metadata": {
    "ExecuteTime": {
     "end_time": "2020-12-18T13:47:34.727562Z",
     "start_time": "2020-12-18T13:47:23.926562Z"
    }
   },
   "outputs": [
    {
     "data": {
      "text/plain": [
       "unique           349\n",
       "count        4874262\n",
       "top       BIRMINGHAM\n",
       "freq           67456\n",
       "Name: District, dtype: object"
      ]
     },
     "execution_count": 45,
     "metadata": {},
     "output_type": "execute_result"
    }
   ],
   "source": [
    "# After outliers\n",
    "data_group_new['District'].describe().compute()"
   ]
  },
  {
   "cell_type": "code",
   "execution_count": 46,
   "metadata": {
    "ExecuteTime": {
     "end_time": "2020-12-18T13:47:46.203560Z",
     "start_time": "2020-12-18T13:47:34.732561Z"
    }
   },
   "outputs": [
    {
     "data": {
      "text/plain": [
       "BIRMINGHAM         67456\n",
       "LEEDS              64669\n",
       "CORNWALL           55300\n",
       "WILTSHIRE          46273\n",
       "CITY OF BRISTOL    41572\n",
       "                   ...  \n",
       "MERTHYR TYDFIL      3806\n",
       "WEST SOMERSET       3566\n",
       "CITY OF LONDON      1815\n",
       "ISLES OF SCILLY      108\n",
       "MACCLESFIELD           1\n",
       "Name: District, Length: 349, dtype: int64"
      ]
     },
     "execution_count": 46,
     "metadata": {},
     "output_type": "execute_result"
    }
   ],
   "source": [
    "# after removing outliers\n",
    "data_group_new['District'].value_counts().compute()"
   ]
  },
  {
   "cell_type": "code",
   "execution_count": 47,
   "metadata": {
    "ExecuteTime": {
     "end_time": "2020-12-18T13:47:57.826563Z",
     "start_time": "2020-12-18T13:47:46.207565Z"
    }
   },
   "outputs": [
    {
     "data": {
      "text/plain": [
       "unique               113\n",
       "count            4874262\n",
       "top       GREATER LONDON\n",
       "freq              630522\n",
       "Name: County, dtype: object"
      ]
     },
     "execution_count": 47,
     "metadata": {},
     "output_type": "execute_result"
    }
   ],
   "source": [
    "# after removing outliers\n",
    "data_group_new['County'].describe().compute()"
   ]
  },
  {
   "cell_type": "code",
   "execution_count": 48,
   "metadata": {
    "ExecuteTime": {
     "end_time": "2020-12-18T13:48:09.308324Z",
     "start_time": "2020-12-18T13:47:57.830564Z"
    }
   },
   "outputs": [
    {
     "data": {
      "text/plain": [
       "GREATER LONDON        630522\n",
       "GREATER MANCHESTER    207297\n",
       "WEST MIDLANDS         181388\n",
       "WEST YORKSHIRE        176696\n",
       "KENT                  146286\n",
       "                       ...  \n",
       "BLAENAU GWENT           4131\n",
       "RUTLAND                 3956\n",
       "MERTHYR TYDFIL          3806\n",
       "ISLES OF SCILLY          108\n",
       "CHESHIRE                   1\n",
       "Name: County, Length: 113, dtype: int64"
      ]
     },
     "execution_count": 48,
     "metadata": {},
     "output_type": "execute_result"
    }
   ],
   "source": [
    "# after removing the outliers\n",
    "data_group_new['County'].value_counts().compute()"
   ]
  },
  {
   "cell_type": "markdown",
   "metadata": {},
   "source": [
    "**This cloumn shows how the payment type, there are two types of payments A and B**\n",
    "\n",
    "Price Method: Indicates the type of Price Paid transaction.\n",
    "\n",
    "- A = Standard Price Paid entry, includes single residential property sold for full market value.\n",
    "- B = Additional Price Paid entry including transfers under a power of sale/repossessions (*)"
   ]
  },
  {
   "cell_type": "code",
   "execution_count": 49,
   "metadata": {
    "ExecuteTime": {
     "end_time": "2020-12-18T13:48:21.717868Z",
     "start_time": "2020-12-18T13:48:09.312312Z"
    }
   },
   "outputs": [
    {
     "data": {
      "text/plain": [
       "unique          2\n",
       "count     4874262\n",
       "top             A\n",
       "freq      4528850\n",
       "Name: Price Method, dtype: object"
      ]
     },
     "execution_count": 49,
     "metadata": {},
     "output_type": "execute_result"
    }
   ],
   "source": [
    "# After removing the outliers\n",
    "data_group_new['Price Method'].describe().compute()"
   ]
  },
  {
   "cell_type": "code",
   "execution_count": 50,
   "metadata": {
    "ExecuteTime": {
     "end_time": "2020-12-18T13:48:34.314277Z",
     "start_time": "2020-12-18T13:48:21.721870Z"
    }
   },
   "outputs": [
    {
     "data": {
      "text/plain": [
       "Text(0, 0.5, 'Count')"
      ]
     },
     "execution_count": 50,
     "metadata": {},
     "output_type": "execute_result"
    },
    {
     "data": {
      "image/png": "[encoded data removed]",
      "text/plain": [
       "<Figure size 432x288 with 1 Axes>"
      ]
     },
     "metadata": {
      "needs_background": "light"
     },
     "output_type": "display_data"
    }
   ],
   "source": [
    "# after removing the outliers\n",
    "plt.hist(data_group_new['Price Method'].compute())\n",
    "plt.xlabel('Price Method')\n",
    "plt.ylabel('Count')"
   ]
  },
  {
   "cell_type": "code",
   "execution_count": 52,
   "metadata": {
    "ExecuteTime": {
     "end_time": "2020-12-18T13:49:38.577157Z",
     "start_time": "2020-12-18T13:49:27.390165Z"
    }
   },
   "outputs": [
    {
     "data": {
      "text/plain": [
       "A    4528850\n",
       "B     345412\n",
       "Name: Price Method, dtype: int64"
      ]
     },
     "execution_count": 52,
     "metadata": {},
     "output_type": "execute_result"
    }
   ],
   "source": [
    "# after removing the outliers\n",
    "data_group_new['Price Method'].value_counts().compute()"
   ]
  },
  {
   "cell_type": "markdown",
   "metadata": {
    "ExecuteTime": {
     "end_time": "2020-12-18T12:47:02.850504Z",
     "start_time": "2020-12-18T12:47:02.837511Z"
    }
   },
   "source": [
    "<div style='background-color:orange;color:white;padding:20px;text-align:center;font-size:20px'> ANALYSIS PART II: ANALYSING PRICE THROUGH TIME</div> \n",
    "<div style='text-align:right'> by Jui & Sandip </div>"
   ]
  },
  {
   "cell_type": "code",
   "execution_count": 53,
   "metadata": {
    "ExecuteTime": {
     "end_time": "2020-12-18T13:50:15.397826Z",
     "start_time": "2020-12-18T13:49:50.534325Z"
    }
   },
   "outputs": [],
   "source": [
    "jui=data_group_new[['Date','Price']].set_index('Date').compute()"
   ]
  },
  {
   "cell_type": "code",
   "execution_count": 54,
   "metadata": {
    "ExecuteTime": {
     "end_time": "2020-12-18T13:50:17.281779Z",
     "start_time": "2020-12-18T13:50:16.504695Z"
    },
    "scrolled": false
   },
   "outputs": [
    {
     "data": {
      "text/plain": [
       "<matplotlib.axes._subplots.AxesSubplot at 0x2950b432790>"
      ]
     },
     "execution_count": 54,
     "metadata": {},
     "output_type": "execute_result"
    },
    {
     "data": {
      "image/png": "[encoded data removed]",
      "text/plain": [
       "<Figure size 720x360 with 1 Axes>"
      ]
     },
     "metadata": {
      "needs_background": "light"
     },
     "output_type": "display_data"
    }
   ],
   "source": [
    "temp =jui.resample('Y').agg(['max','mean','min'])\n",
    "temp.plot(figsize=(10,5), title = 'Yearly price of Housing', fontsize = 12)"
   ]
  },
  {
   "cell_type": "markdown",
   "metadata": {},
   "source": [
    "we can clearly see that housing price is significantly increasing every year from the above graph.¶"
   ]
  },
  {
   "cell_type": "code",
   "execution_count": 55,
   "metadata": {
    "ExecuteTime": {
     "end_time": "2020-12-18T13:50:24.347779Z",
     "start_time": "2020-12-18T13:50:23.701780Z"
    }
   },
   "outputs": [
    {
     "data": {
      "text/plain": [
       "<matplotlib.axes._subplots.AxesSubplot at 0x2950ac8f430>"
      ]
     },
     "execution_count": 55,
     "metadata": {},
     "output_type": "execute_result"
    },
    {
     "data": {
      "image/png": "[encoded data removed]",
      "text/plain": [
       "<Figure size 720x360 with 1 Axes>"
      ]
     },
     "metadata": {
      "needs_background": "light"
     },
     "output_type": "display_data"
    }
   ],
   "source": [
    "temp =jui.resample('M').agg(['max','mean','min'])\n",
    "temp.plot(figsize=(10,5), title = 'Monthly Prices of housing', fontsize = 12)"
   ]
  },
  {
   "cell_type": "markdown",
   "metadata": {},
   "source": [
    "---"
   ]
  },
  {
   "cell_type": "markdown",
   "metadata": {},
   "source": [
    "## Checking the Mean price of housing on the basis of Years, Months and Days and visualizing"
   ]
  },
  {
   "cell_type": "code",
   "execution_count": 82,
   "metadata": {
    "ExecuteTime": {
     "end_time": "2020-12-18T14:29:13.643246Z",
     "start_time": "2020-12-18T14:28:40.607261Z"
    }
   },
   "outputs": [],
   "source": [
    "data_group3=data_group_new.set_index('Date').compute()"
   ]
  },
  {
   "cell_type": "markdown",
   "metadata": {},
   "source": [
    "### Yearly basis"
   ]
  },
  {
   "cell_type": "code",
   "execution_count": 83,
   "metadata": {
    "ExecuteTime": {
     "end_time": "2020-12-18T14:29:17.735692Z",
     "start_time": "2020-12-18T14:29:17.312703Z"
    },
    "scrolled": false
   },
   "outputs": [
    {
     "data": {
      "application/vnd.plotly.v1+json": {
       "config": {
        "linkText": "Export to plot.ly",
        "plotlyServerURL": "https://plot.ly",
        "showLink": true
       },
       "data": [
        {
         "marker": {
          "color": "rgba(255, 153, 51, 0.6)",
          "line": {
           "color": "rgba(255, 153, 51, 1.0)",
           "width": 1
          }
         },
         "name": "Price",
         "orientation": "v",
         "text": "",
         "type": "bar",
         "x": [
          "2012-12-31",
          "2013-12-31",
          "2014-12-31",
          "2015-12-31",
          "2016-12-31",
          "2017-12-31"
         ],
         "y": [
          238292.8953523171,
          256863.70051661882,
          279134.8564922684,
          296101.07254161226,
          310112.932945966,
          329413.15058662655
         ]
        }
       ],
       "layout": {
        "legend": {
         "bgcolor": "#F5F6F9",
         "font": {
          "color": "#4D5663"
         }
        },
        "paper_bgcolor": "#F5F6F9",
        "plot_bgcolor": "#F5F6F9",
        "template": {
         "data": {
          "bar": [
           {
            "error_x": {
             "color": "#2a3f5f"
            },
            "error_y": {
             "color": "#2a3f5f"
            },
            "marker": {
             "line": {
              "color": "#E5ECF6",
              "width": 0.5
             }
            },
            "type": "bar"
           }
          ],
          "barpolar": [
           {
            "marker": {
             "line": {
              "color": "#E5ECF6",
              "width": 0.5
             }
            },
            "type": "barpolar"
           }
          ],
          "carpet": [
           {
            "aaxis": {
             "endlinecolor": "#2a3f5f",
             "gridcolor": "white",
             "linecolor": "white",
             "minorgridcolor": "white",
             "startlinecolor": "#2a3f5f"
            },
            "baxis": {
             "endlinecolor": "#2a3f5f",
             "gridcolor": "white",
             "linecolor": "white",
             "minorgridcolor": "white",
             "startlinecolor": "#2a3f5f"
            },
            "type": "carpet"
           }
          ],
          "choropleth": [
           {
            "colorbar": {
             "outlinewidth": 0,
             "ticks": ""
            },
            "type": "choropleth"
           }
          ],
          "contour": [
           {
            "colorbar": {
             "outlinewidth": 0,
             "ticks": ""
            },
            "colorscale": [
             [
              0,
              "#0d0887"
             ],
             [
              0.1111111111111111,
              "#46039f"
             ],
             [
              0.2222222222222222,
              "#7201a8"
             ],
             [
              0.3333333333333333,
              "#9c179e"
             ],
             [
              0.4444444444444444,
              "#bd3786"
             ],
             [
              0.5555555555555556,
              "#d8576b"
             ],
             [
              0.6666666666666666,
              "#ed7953"
             ],
             [
              0.7777777777777778,
              "#fb9f3a"
             ],
             [
              0.8888888888888888,
              "#fdca26"
             ],
             [
              1,
              "#f0f921"
             ]
            ],
            "type": "contour"
           }
          ],
          "contourcarpet": [
           {
            "colorbar": {
             "outlinewidth": 0,
             "ticks": ""
            },
            "type": "contourcarpet"
           }
          ],
          "heatmap": [
           {
            "colorbar": {
             "outlinewidth": 0,
             "ticks": ""
            },
            "colorscale": [
             [
              0,
              "#0d0887"
             ],
             [
              0.1111111111111111,
              "#46039f"
             ],
             [
              0.2222222222222222,
              "#7201a8"
             ],
             [
              0.3333333333333333,
              "#9c179e"
             ],
             [
              0.4444444444444444,
              "#bd3786"
             ],
             [
              0.5555555555555556,
              "#d8576b"
             ],
             [
              0.6666666666666666,
              "#ed7953"
             ],
             [
              0.7777777777777778,
              "#fb9f3a"
             ],
             [
              0.8888888888888888,
              "#fdca26"
             ],
             [
              1,
              "#f0f921"
             ]
            ],
            "type": "heatmap"
           }
          ],
          "heatmapgl": [
           {
            "colorbar": {
             "outlinewidth": 0,
             "ticks": ""
            },
            "colorscale": [
             [
              0,
              "#0d0887"
             ],
             [
              0.1111111111111111,
              "#46039f"
             ],
             [
              0.2222222222222222,
              "#7201a8"
             ],
             [
              0.3333333333333333,
              "#9c179e"
             ],
             [
              0.4444444444444444,
              "#bd3786"
             ],
             [
              0.5555555555555556,
              "#d8576b"
             ],
             [
              0.6666666666666666,
              "#ed7953"
             ],
             [
              0.7777777777777778,
              "#fb9f3a"
             ],
             [
              0.8888888888888888,
              "#fdca26"
             ],
             [
              1,
              "#f0f921"
             ]
            ],
            "type": "heatmapgl"
           }
          ],
          "histogram": [
           {
            "marker": {
             "colorbar": {
              "outlinewidth": 0,
              "ticks": ""
             }
            },
            "type": "histogram"
           }
          ],
          "histogram2d": [
           {
            "colorbar": {
             "outlinewidth": 0,
             "ticks": ""
            },
            "colorscale": [
             [
              0,
              "#0d0887"
             ],
             [
              0.1111111111111111,
              "#46039f"
             ],
             [
              0.2222222222222222,
              "#7201a8"
             ],
             [
              0.3333333333333333,
              "#9c179e"
             ],
             [
              0.4444444444444444,
              "#bd3786"
             ],
             [
              0.5555555555555556,
              "#d8576b"
             ],
             [
              0.6666666666666666,
              "#ed7953"
             ],
             [
              0.7777777777777778,
              "#fb9f3a"
             ],
             [
              0.8888888888888888,
              "#fdca26"
             ],
             [
              1,
              "#f0f921"
             ]
            ],
            "type": "histogram2d"
           }
          ],
          "histogram2dcontour": [
           {
            "colorbar": {
             "outlinewidth": 0,
             "ticks": ""
            },
            "colorscale": [
             [
              0,
              "#0d0887"
             ],
             [
              0.1111111111111111,
              "#46039f"
             ],
             [
              0.2222222222222222,
              "#7201a8"
             ],
             [
              0.3333333333333333,
              "#9c179e"
             ],
             [
              0.4444444444444444,
              "#bd3786"
             ],
             [
              0.5555555555555556,
              "#d8576b"
             ],
             [
              0.6666666666666666,
              "#ed7953"
             ],
             [
              0.7777777777777778,
              "#fb9f3a"
             ],
             [
              0.8888888888888888,
              "#fdca26"
             ],
             [
              1,
              "#f0f921"
             ]
            ],
            "type": "histogram2dcontour"
           }
          ],
          "mesh3d": [
           {
            "colorbar": {
             "outlinewidth": 0,
             "ticks": ""
            },
            "type": "mesh3d"
           }
          ],
          "parcoords": [
           {
            "line": {
             "colorbar": {
              "outlinewidth": 0,
              "ticks": ""
             }
            },
            "type": "parcoords"
           }
          ],
          "pie": [
           {
            "automargin": true,
            "type": "pie"
           }
          ],
          "scatter": [
           {
            "marker": {
             "colorbar": {
              "outlinewidth": 0,
              "ticks": ""
             }
            },
            "type": "scatter"
           }
          ],
          "scatter3d": [
           {
            "line": {
             "colorbar": {
              "outlinewidth": 0,
              "ticks": ""
             }
            },
            "marker": {
             "colorbar": {
              "outlinewidth": 0,
              "ticks": ""
             }
            },
            "type": "scatter3d"
           }
          ],
          "scattercarpet": [
           {
            "marker": {
             "colorbar": {
              "outlinewidth": 0,
              "ticks": ""
             }
            },
            "type": "scattercarpet"
           }
          ],
          "scattergeo": [
           {
            "marker": {
             "colorbar": {
              "outlinewidth": 0,
              "ticks": ""
             }
            },
            "type": "scattergeo"
           }
          ],
          "scattergl": [
           {
            "marker": {
             "colorbar": {
              "outlinewidth": 0,
              "ticks": ""
             }
            },
            "type": "scattergl"
           }
          ],
          "scattermapbox": [
           {
            "marker": {
             "colorbar": {
              "outlinewidth": 0,
              "ticks": ""
             }
            },
            "type": "scattermapbox"
           }
          ],
          "scatterpolar": [
           {
            "marker": {
             "colorbar": {
              "outlinewidth": 0,
              "ticks": ""
             }
            },
            "type": "scatterpolar"
           }
          ],
          "scatterpolargl": [
           {
            "marker": {
             "colorbar": {
              "outlinewidth": 0,
              "ticks": ""
             }
            },
            "type": "scatterpolargl"
           }
          ],
          "scatterternary": [
           {
            "marker": {
             "colorbar": {
              "outlinewidth": 0,
              "ticks": ""
             }
            },
            "type": "scatterternary"
           }
          ],
          "surface": [
           {
            "colorbar": {
             "outlinewidth": 0,
             "ticks": ""
            },
            "colorscale": [
             [
              0,
              "#0d0887"
             ],
             [
              0.1111111111111111,
              "#46039f"
             ],
             [
              0.2222222222222222,
              "#7201a8"
             ],
             [
              0.3333333333333333,
              "#9c179e"
             ],
             [
              0.4444444444444444,
              "#bd3786"
             ],
             [
              0.5555555555555556,
              "#d8576b"
             ],
             [
              0.6666666666666666,
              "#ed7953"
             ],
             [
              0.7777777777777778,
              "#fb9f3a"
             ],
             [
              0.8888888888888888,
              "#fdca26"
             ],
             [
              1,
              "#f0f921"
             ]
            ],
            "type": "surface"
           }
          ],
          "table": [
           {
            "cells": {
             "fill": {
              "color": "#EBF0F8"
             },
             "line": {
              "color": "white"
             }
            },
            "header": {
             "fill": {
              "color": "#C8D4E3"
             },
             "line": {
              "color": "white"
             }
            },
            "type": "table"
           }
          ]
         },
         "layout": {
          "annotationdefaults": {
           "arrowcolor": "#2a3f5f",
           "arrowhead": 0,
           "arrowwidth": 1
          },
          "coloraxis": {
           "colorbar": {
            "outlinewidth": 0,
            "ticks": ""
           }
          },
          "colorscale": {
           "diverging": [
            [
             0,
             "#8e0152"
            ],
            [
             0.1,
             "#c51b7d"
            ],
            [
             0.2,
             "#de77ae"
            ],
            [
             0.3,
             "#f1b6da"
            ],
            [
             0.4,
             "#fde0ef"
            ],
            [
             0.5,
             "#f7f7f7"
            ],
            [
             0.6,
             "#e6f5d0"
            ],
            [
             0.7,
             "#b8e186"
            ],
            [
             0.8,
             "#7fbc41"
            ],
            [
             0.9,
             "#4d9221"
            ],
            [
             1,
             "#276419"
            ]
           ],
           "sequential": [
            [
             0,
             "#0d0887"
            ],
            [
             0.1111111111111111,
             "#46039f"
            ],
            [
             0.2222222222222222,
             "#7201a8"
            ],
            [
             0.3333333333333333,
             "#9c179e"
            ],
            [
             0.4444444444444444,
             "#bd3786"
            ],
            [
             0.5555555555555556,
             "#d8576b"
            ],
            [
             0.6666666666666666,
             "#ed7953"
            ],
            [
             0.7777777777777778,
             "#fb9f3a"
            ],
            [
             0.8888888888888888,
             "#fdca26"
            ],
            [
             1,
             "#f0f921"
            ]
           ],
           "sequentialminus": [
            [
             0,
             "#0d0887"
            ],
            [
             0.1111111111111111,
             "#46039f"
            ],
            [
             0.2222222222222222,
             "#7201a8"
            ],
            [
             0.3333333333333333,
             "#9c179e"
            ],
            [
             0.4444444444444444,
             "#bd3786"
            ],
            [
             0.5555555555555556,
             "#d8576b"
            ],
            [
             0.6666666666666666,
             "#ed7953"
            ],
            [
             0.7777777777777778,
             "#fb9f3a"
            ],
            [
             0.8888888888888888,
             "#fdca26"
            ],
            [
             1,
             "#f0f921"
            ]
           ]
          },
          "colorway": [
           "#636efa",
           "#EF553B",
           "#00cc96",
           "#ab63fa",
           "#FFA15A",
           "#19d3f3",
           "#FF6692",
           "#B6E880",
           "#FF97FF",
           "#FECB52"
          ],
          "font": {
           "color": "#2a3f5f"
          },
          "geo": {
           "bgcolor": "white",
           "lakecolor": "white",
           "landcolor": "#E5ECF6",
           "showlakes": true,
           "showland": true,
           "subunitcolor": "white"
          },
          "hoverlabel": {
           "align": "left"
          },
          "hovermode": "closest",
          "mapbox": {
           "style": "light"
          },
          "paper_bgcolor": "white",
          "plot_bgcolor": "#E5ECF6",
          "polar": {
           "angularaxis": {
            "gridcolor": "white",
            "linecolor": "white",
            "ticks": ""
           },
           "bgcolor": "#E5ECF6",
           "radialaxis": {
            "gridcolor": "white",
            "linecolor": "white",
            "ticks": ""
           }
          },
          "scene": {
           "xaxis": {
            "backgroundcolor": "#E5ECF6",
            "gridcolor": "white",
            "gridwidth": 2,
            "linecolor": "white",
            "showbackground": true,
            "ticks": "",
            "zerolinecolor": "white"
           },
           "yaxis": {
            "backgroundcolor": "#E5ECF6",
            "gridcolor": "white",
            "gridwidth": 2,
            "linecolor": "white",
            "showbackground": true,
            "ticks": "",
            "zerolinecolor": "white"
           },
           "zaxis": {
            "backgroundcolor": "#E5ECF6",
            "gridcolor": "white",
            "gridwidth": 2,
            "linecolor": "white",
            "showbackground": true,
            "ticks": "",
            "zerolinecolor": "white"
           }
          },
          "shapedefaults": {
           "line": {
            "color": "#2a3f5f"
           }
          },
          "ternary": {
           "aaxis": {
            "gridcolor": "white",
            "linecolor": "white",
            "ticks": ""
           },
           "baxis": {
            "gridcolor": "white",
            "linecolor": "white",
            "ticks": ""
           },
           "bgcolor": "#E5ECF6",
           "caxis": {
            "gridcolor": "white",
            "linecolor": "white",
            "ticks": ""
           }
          },
          "title": {
           "x": 0.05
          },
          "xaxis": {
           "automargin": true,
           "gridcolor": "white",
           "linecolor": "white",
           "ticks": "",
           "title": {
            "standoff": 15
           },
           "zerolinecolor": "white",
           "zerolinewidth": 2
          },
          "yaxis": {
           "automargin": true,
           "gridcolor": "white",
           "linecolor": "white",
           "ticks": "",
           "title": {
            "standoff": 15
           },
           "zerolinecolor": "white",
           "zerolinewidth": 2
          }
         }
        },
        "title": {
         "font": {
          "color": "#4D5663"
         },
         "text": "Mean price of housing for each years"
        },
        "xaxis": {
         "gridcolor": "#E1E5ED",
         "showgrid": true,
         "tickfont": {
          "color": "#4D5663"
         },
         "title": {
          "font": {
           "color": "#4D5663"
          },
          "text": ""
         },
         "zerolinecolor": "#E1E5ED"
        },
        "yaxis": {
         "gridcolor": "#E1E5ED",
         "showgrid": true,
         "tickfont": {
          "color": "#4D5663"
         },
         "title": {
          "font": {
           "color": "#4D5663"
          },
          "text": ""
         },
         "zerolinecolor": "#E1E5ED"
        }
       }
      },
      "text/html": [
       "<div>                            <div id=\"e28e726b-27f3-4f1a-817a-7245784b331d\" class=\"plotly-graph-div\" style=\"height:525px; width:100%;\"></div>            <script type=\"text/javascript\">                require([\"plotly\"], function(Plotly) {                    window.PLOTLYENV=window.PLOTLYENV || {};\n",
       "                    window.PLOTLYENV.BASE_URL='https://plot.ly';                                    if (document.getElementById(\"e28e726b-27f3-4f1a-817a-7245784b331d\")) {                    Plotly.newPlot(                        \"e28e726b-27f3-4f1a-817a-7245784b331d\",                        [{\"marker\": {\"color\": \"rgba(255, 153, 51, 0.6)\", \"line\": {\"color\": \"rgba(255, 153, 51, 1.0)\", \"width\": 1}}, \"name\": \"Price\", \"orientation\": \"v\", \"text\": \"\", \"type\": \"bar\", \"x\": [\"2012-12-31\", \"2013-12-31\", \"2014-12-31\", \"2015-12-31\", \"2016-12-31\", \"2017-12-31\"], \"y\": [238292.8953523171, 256863.70051661882, 279134.8564922684, 296101.07254161226, 310112.932945966, 329413.15058662655]}],                        {\"legend\": {\"bgcolor\": \"#F5F6F9\", \"font\": {\"color\": \"#4D5663\"}}, \"paper_bgcolor\": \"#F5F6F9\", \"plot_bgcolor\": \"#F5F6F9\", \"template\": {\"data\": {\"bar\": [{\"error_x\": {\"color\": \"#2a3f5f\"}, \"error_y\": {\"color\": \"#2a3f5f\"}, \"marker\": {\"line\": {\"color\": \"#E5ECF6\", \"width\": 0.5}}, \"type\": \"bar\"}], \"barpolar\": [{\"marker\": {\"line\": {\"color\": \"#E5ECF6\", \"width\": 0.5}}, \"type\": \"barpolar\"}], \"carpet\": [{\"aaxis\": {\"endlinecolor\": \"#2a3f5f\", \"gridcolor\": \"white\", \"linecolor\": \"white\", \"minorgridcolor\": \"white\", \"startlinecolor\": \"#2a3f5f\"}, \"baxis\": {\"endlinecolor\": \"#2a3f5f\", \"gridcolor\": \"white\", \"linecolor\": \"white\", \"minorgridcolor\": \"white\", \"startlinecolor\": \"#2a3f5f\"}, \"type\": \"carpet\"}], \"choropleth\": [{\"colorbar\": {\"outlinewidth\": 0, \"ticks\": \"\"}, \"type\": \"choropleth\"}], \"contour\": [{\"colorbar\": {\"outlinewidth\": 0, \"ticks\": \"\"}, \"colorscale\": [[0.0, \"#0d0887\"], [0.1111111111111111, \"#46039f\"], [0.2222222222222222, \"#7201a8\"], [0.3333333333333333, \"#9c179e\"], [0.4444444444444444, \"#bd3786\"], [0.5555555555555556, \"#d8576b\"], [0.6666666666666666, \"#ed7953\"], [0.7777777777777778, \"#fb9f3a\"], [0.8888888888888888, \"#fdca26\"], [1.0, \"#f0f921\"]], \"type\": \"contour\"}], \"contourcarpet\": [{\"colorbar\": {\"outlinewidth\": 0, \"ticks\": \"\"}, \"type\": \"contourcarpet\"}], \"heatmap\": [{\"colorbar\": {\"outlinewidth\": 0, \"ticks\": \"\"}, \"colorscale\": [[0.0, \"#0d0887\"], [0.1111111111111111, \"#46039f\"], [0.2222222222222222, \"#7201a8\"], [0.3333333333333333, \"#9c179e\"], [0.4444444444444444, \"#bd3786\"], [0.5555555555555556, \"#d8576b\"], [0.6666666666666666, \"#ed7953\"], [0.7777777777777778, \"#fb9f3a\"], [0.8888888888888888, \"#fdca26\"], [1.0, \"#f0f921\"]], \"type\": \"heatmap\"}], \"heatmapgl\": [{\"colorbar\": {\"outlinewidth\": 0, \"ticks\": \"\"}, \"colorscale\": [[0.0, \"#0d0887\"], [0.1111111111111111, \"#46039f\"], [0.2222222222222222, \"#7201a8\"], [0.3333333333333333, \"#9c179e\"], [0.4444444444444444, \"#bd3786\"], [0.5555555555555556, \"#d8576b\"], [0.6666666666666666, \"#ed7953\"], [0.7777777777777778, \"#fb9f3a\"], [0.8888888888888888, \"#fdca26\"], [1.0, \"#f0f921\"]], \"type\": \"heatmapgl\"}], \"histogram\": [{\"marker\": {\"colorbar\": {\"outlinewidth\": 0, \"ticks\": \"\"}}, \"type\": \"histogram\"}], \"histogram2d\": [{\"colorbar\": {\"outlinewidth\": 0, \"ticks\": \"\"}, \"colorscale\": [[0.0, \"#0d0887\"], [0.1111111111111111, \"#46039f\"], [0.2222222222222222, \"#7201a8\"], [0.3333333333333333, \"#9c179e\"], [0.4444444444444444, \"#bd3786\"], [0.5555555555555556, \"#d8576b\"], [0.6666666666666666, \"#ed7953\"], [0.7777777777777778, \"#fb9f3a\"], [0.8888888888888888, \"#fdca26\"], [1.0, \"#f0f921\"]], \"type\": \"histogram2d\"}], \"histogram2dcontour\": [{\"colorbar\": {\"outlinewidth\": 0, \"ticks\": \"\"}, \"colorscale\": [[0.0, \"#0d0887\"], [0.1111111111111111, \"#46039f\"], [0.2222222222222222, \"#7201a8\"], [0.3333333333333333, \"#9c179e\"], [0.4444444444444444, \"#bd3786\"], [0.5555555555555556, \"#d8576b\"], [0.6666666666666666, \"#ed7953\"], [0.7777777777777778, \"#fb9f3a\"], [0.8888888888888888, \"#fdca26\"], [1.0, \"#f0f921\"]], \"type\": \"histogram2dcontour\"}], \"mesh3d\": [{\"colorbar\": {\"outlinewidth\": 0, \"ticks\": \"\"}, \"type\": \"mesh3d\"}], \"parcoords\": [{\"line\": {\"colorbar\": {\"outlinewidth\": 0, \"ticks\": \"\"}}, \"type\": \"parcoords\"}], \"pie\": [{\"automargin\": true, \"type\": \"pie\"}], \"scatter\": [{\"marker\": {\"colorbar\": {\"outlinewidth\": 0, \"ticks\": \"\"}}, \"type\": \"scatter\"}], \"scatter3d\": [{\"line\": {\"colorbar\": {\"outlinewidth\": 0, \"ticks\": \"\"}}, \"marker\": {\"colorbar\": {\"outlinewidth\": 0, \"ticks\": \"\"}}, \"type\": \"scatter3d\"}], \"scattercarpet\": [{\"marker\": {\"colorbar\": {\"outlinewidth\": 0, \"ticks\": \"\"}}, \"type\": \"scattercarpet\"}], \"scattergeo\": [{\"marker\": {\"colorbar\": {\"outlinewidth\": 0, \"ticks\": \"\"}}, \"type\": \"scattergeo\"}], \"scattergl\": [{\"marker\": {\"colorbar\": {\"outlinewidth\": 0, \"ticks\": \"\"}}, \"type\": \"scattergl\"}], \"scattermapbox\": [{\"marker\": {\"colorbar\": {\"outlinewidth\": 0, \"ticks\": \"\"}}, \"type\": \"scattermapbox\"}], \"scatterpolar\": [{\"marker\": {\"colorbar\": {\"outlinewidth\": 0, \"ticks\": \"\"}}, \"type\": \"scatterpolar\"}], \"scatterpolargl\": [{\"marker\": {\"colorbar\": {\"outlinewidth\": 0, \"ticks\": \"\"}}, \"type\": \"scatterpolargl\"}], \"scatterternary\": [{\"marker\": {\"colorbar\": {\"outlinewidth\": 0, \"ticks\": \"\"}}, \"type\": \"scatterternary\"}], \"surface\": [{\"colorbar\": {\"outlinewidth\": 0, \"ticks\": \"\"}, \"colorscale\": [[0.0, \"#0d0887\"], [0.1111111111111111, \"#46039f\"], [0.2222222222222222, \"#7201a8\"], [0.3333333333333333, \"#9c179e\"], [0.4444444444444444, \"#bd3786\"], [0.5555555555555556, \"#d8576b\"], [0.6666666666666666, \"#ed7953\"], [0.7777777777777778, \"#fb9f3a\"], [0.8888888888888888, \"#fdca26\"], [1.0, \"#f0f921\"]], \"type\": \"surface\"}], \"table\": [{\"cells\": {\"fill\": {\"color\": \"#EBF0F8\"}, \"line\": {\"color\": \"white\"}}, \"header\": {\"fill\": {\"color\": \"#C8D4E3\"}, \"line\": {\"color\": \"white\"}}, \"type\": \"table\"}]}, \"layout\": {\"annotationdefaults\": {\"arrowcolor\": \"#2a3f5f\", \"arrowhead\": 0, \"arrowwidth\": 1}, \"coloraxis\": {\"colorbar\": {\"outlinewidth\": 0, \"ticks\": \"\"}}, \"colorscale\": {\"diverging\": [[0, \"#8e0152\"], [0.1, \"#c51b7d\"], [0.2, \"#de77ae\"], [0.3, \"#f1b6da\"], [0.4, \"#fde0ef\"], [0.5, \"#f7f7f7\"], [0.6, \"#e6f5d0\"], [0.7, \"#b8e186\"], [0.8, \"#7fbc41\"], [0.9, \"#4d9221\"], [1, \"#276419\"]], \"sequential\": [[0.0, \"#0d0887\"], [0.1111111111111111, \"#46039f\"], [0.2222222222222222, \"#7201a8\"], [0.3333333333333333, \"#9c179e\"], [0.4444444444444444, \"#bd3786\"], [0.5555555555555556, \"#d8576b\"], [0.6666666666666666, \"#ed7953\"], [0.7777777777777778, \"#fb9f3a\"], [0.8888888888888888, \"#fdca26\"], [1.0, \"#f0f921\"]], \"sequentialminus\": [[0.0, \"#0d0887\"], [0.1111111111111111, \"#46039f\"], [0.2222222222222222, \"#7201a8\"], [0.3333333333333333, \"#9c179e\"], [0.4444444444444444, \"#bd3786\"], [0.5555555555555556, \"#d8576b\"], [0.6666666666666666, \"#ed7953\"], [0.7777777777777778, \"#fb9f3a\"], [0.8888888888888888, \"#fdca26\"], [1.0, \"#f0f921\"]]}, \"colorway\": [\"#636efa\", \"#EF553B\", \"#00cc96\", \"#ab63fa\", \"#FFA15A\", \"#19d3f3\", \"#FF6692\", \"#B6E880\", \"#FF97FF\", \"#FECB52\"], \"font\": {\"color\": \"#2a3f5f\"}, \"geo\": {\"bgcolor\": \"white\", \"lakecolor\": \"white\", \"landcolor\": \"#E5ECF6\", \"showlakes\": true, \"showland\": true, \"subunitcolor\": \"white\"}, \"hoverlabel\": {\"align\": \"left\"}, \"hovermode\": \"closest\", \"mapbox\": {\"style\": \"light\"}, \"paper_bgcolor\": \"white\", \"plot_bgcolor\": \"#E5ECF6\", \"polar\": {\"angularaxis\": {\"gridcolor\": \"white\", \"linecolor\": \"white\", \"ticks\": \"\"}, \"bgcolor\": \"#E5ECF6\", \"radialaxis\": {\"gridcolor\": \"white\", \"linecolor\": \"white\", \"ticks\": \"\"}}, \"scene\": {\"xaxis\": {\"backgroundcolor\": \"#E5ECF6\", \"gridcolor\": \"white\", \"gridwidth\": 2, \"linecolor\": \"white\", \"showbackground\": true, \"ticks\": \"\", \"zerolinecolor\": \"white\"}, \"yaxis\": {\"backgroundcolor\": \"#E5ECF6\", \"gridcolor\": \"white\", \"gridwidth\": 2, \"linecolor\": \"white\", \"showbackground\": true, \"ticks\": \"\", \"zerolinecolor\": \"white\"}, \"zaxis\": {\"backgroundcolor\": \"#E5ECF6\", \"gridcolor\": \"white\", \"gridwidth\": 2, \"linecolor\": \"white\", \"showbackground\": true, \"ticks\": \"\", \"zerolinecolor\": \"white\"}}, \"shapedefaults\": {\"line\": {\"color\": \"#2a3f5f\"}}, \"ternary\": {\"aaxis\": {\"gridcolor\": \"white\", \"linecolor\": \"white\", \"ticks\": \"\"}, \"baxis\": {\"gridcolor\": \"white\", \"linecolor\": \"white\", \"ticks\": \"\"}, \"bgcolor\": \"#E5ECF6\", \"caxis\": {\"gridcolor\": \"white\", \"linecolor\": \"white\", \"ticks\": \"\"}}, \"title\": {\"x\": 0.05}, \"xaxis\": {\"automargin\": true, \"gridcolor\": \"white\", \"linecolor\": \"white\", \"ticks\": \"\", \"title\": {\"standoff\": 15}, \"zerolinecolor\": \"white\", \"zerolinewidth\": 2}, \"yaxis\": {\"automargin\": true, \"gridcolor\": \"white\", \"linecolor\": \"white\", \"ticks\": \"\", \"title\": {\"standoff\": 15}, \"zerolinecolor\": \"white\", \"zerolinewidth\": 2}}}, \"title\": {\"font\": {\"color\": \"#4D5663\"}, \"text\": \"Mean price of housing for each years\"}, \"xaxis\": {\"gridcolor\": \"#E1E5ED\", \"showgrid\": true, \"tickfont\": {\"color\": \"#4D5663\"}, \"title\": {\"font\": {\"color\": \"#4D5663\"}, \"text\": \"\"}, \"zerolinecolor\": \"#E1E5ED\"}, \"yaxis\": {\"gridcolor\": \"#E1E5ED\", \"showgrid\": true, \"tickfont\": {\"color\": \"#4D5663\"}, \"title\": {\"font\": {\"color\": \"#4D5663\"}, \"text\": \"\"}, \"zerolinecolor\": \"#E1E5ED\"}},                        {\"showLink\": true, \"linkText\": \"Export to plot.ly\", \"plotlyServerURL\": \"https://plot.ly\", \"responsive\": true}                    ).then(function(){\n",
       "                            \n",
       "var gd = document.getElementById('e28e726b-27f3-4f1a-817a-7245784b331d');\n",
       "var x = new MutationObserver(function (mutations, observer) {{\n",
       "        var display = window.getComputedStyle(gd).display;\n",
       "        if (!display || display === 'none') {{\n",
       "            console.log([gd, 'removed!']);\n",
       "            Plotly.purge(gd);\n",
       "            observer.disconnect();\n",
       "        }}\n",
       "}});\n",
       "\n",
       "// Listen for the removal of the full notebook cells\n",
       "var notebookContainer = gd.closest('#notebook-container');\n",
       "if (notebookContainer) {{\n",
       "    x.observe(notebookContainer, {childList: true});\n",
       "}}\n",
       "\n",
       "// Listen for the clearing of the current output cell\n",
       "var outputEl = gd.closest('.output');\n",
       "if (outputEl) {{\n",
       "    x.observe(outputEl, {childList: true});\n",
       "}}\n",
       "\n",
       "                        })                };                });            </script>        </div>"
      ]
     },
     "metadata": {},
     "output_type": "display_data"
    }
   ],
   "source": [
    "data_group3.Price.resample('Y').mean().iplot(kind=\"bar\",title=\"Mean price of housing for each years\")\n"
   ]
  },
  {
   "cell_type": "markdown",
   "metadata": {},
   "source": [
    "<b><mark> This visualization shows the average housing price on the basis of years for the dataset. There has been no decrease in the average housing price between the years 2012 to 2017 as you can see from the graph. But the increase is also steady since real state business tends to increase every year.</mark></b>"
   ]
  },
  {
   "cell_type": "markdown",
   "metadata": {},
   "source": [
    "### Daily basis"
   ]
  },
  {
   "cell_type": "code",
   "execution_count": 84,
   "metadata": {
    "ExecuteTime": {
     "end_time": "2020-12-18T14:29:25.577505Z",
     "start_time": "2020-12-18T14:29:25.222485Z"
    },
    "scrolled": false
   },
   "outputs": [
    {
     "data": {
      "application/vnd.plotly.v1+json": {
       "config": {
        "linkText": "Export to plot.ly",
        "plotlyServerURL": "https://plot.ly",
        "showLink": true
       },
       "data": [
        {
         "line": {
          "color": "rgba(255, 153, 51, 1.0)",
          "dash": "solid",
          "shape": "linear",
          "width": 1.3
         },
         "mode": "lines",
         "name": "Price",
         "text": "",
         "type": "scatter",
         "x": [
          "2012-01-01",
          "2012-01-02",
          "2012-01-03",
          "2012-01-04",
          "2012-01-05",
          "2012-01-06",
          "2012-01-07",
          "2012-01-08",
          "2012-01-09",
          "2012-01-10",
          "2012-01-11",
          "2012-01-12",
          "2012-01-13",
          "2012-01-14",
          "2012-01-15",
          "2012-01-16",
          "2012-01-17",
          "2012-01-18",
          "2012-01-19",
          "2012-01-20",
          "2012-01-21",
          "2012-01-22",
          "2012-01-23",
          "2012-01-24",
          "2012-01-25",
          "2012-01-26",
          "2012-01-27",
          "2012-01-28",
          "2012-01-29",
          "2012-01-30",
          "2012-01-31",
          "2012-02-01",
          "2012-02-02",
          "2012-02-03",
          "2012-02-04",
          "2012-02-05",
          "2012-02-06",
          "2012-02-07",
          "2012-02-08",
          "2012-02-09",
          "2012-02-10",
          "2012-02-11",
          "2012-02-12",
          "2012-02-13",
          "2012-02-14",
          "2012-02-15",
          "2012-02-16",
          "2012-02-17",
          "2012-02-18",
          "2012-02-19",
          "2012-02-20",
          "2012-02-21",
          "2012-02-22",
          "2012-02-23",
          "2012-02-24",
          "2012-02-25",
          "2012-02-26",
          "2012-02-27",
          "2012-02-28",
          "2012-02-29",
          "2012-03-01",
          "2012-03-02",
          "2012-03-03",
          "2012-03-04",
          "2012-03-05",
          "2012-03-06",
          "2012-03-07",
          "2012-03-08",
          "2012-03-09",
          "2012-03-10",
          "2012-03-11",
          "2012-03-12",
          "2012-03-13",
          "2012-03-14",
          "2012-03-15",
          "2012-03-16",
          "2012-03-17",
          "2012-03-18",
          "2012-03-19",
          "2012-03-20",
          "2012-03-21",
          "2012-03-22",
          "2012-03-23",
          "2012-03-24",
          "2012-03-25",
          "2012-03-26",
          "2012-03-27",
          "2012-03-28",
          "2012-03-29",
          "2012-03-30",
          "2012-03-31",
          "2012-04-01",
          "2012-04-02",
          "2012-04-03",
          "2012-04-04",
          "2012-04-05",
          "2012-04-06",
          "2012-04-07",
          "2012-04-08",
          "2012-04-09",
          "2012-04-10",
          "2012-04-11",
          "2012-04-12",
          "2012-04-13",
          "2012-04-14",
          "2012-04-15",
          "2012-04-16",
          "2012-04-17",
          "2012-04-18",
          "2012-04-19",
          "2012-04-20",
          "2012-04-21",
          "2012-04-22",
          "2012-04-23",
          "2012-04-24",
          "2012-04-25",
          "2012-04-26",
          "2012-04-27",
          "2012-04-28",
          "2012-04-29",
          "2012-04-30",
          "2012-05-01",
          "2012-05-02",
          "2012-05-03",
          "2012-05-04",
          "2012-05-05",
          "2012-05-06",
          "2012-05-07",
          "2012-05-08",
          "2012-05-09",
          "2012-05-10",
          "2012-05-11",
          "2012-05-12",
          "2012-05-13",
          "2012-05-14",
          "2012-05-15",
          "2012-05-16",
          "2012-05-17",
          "2012-05-18",
          "2012-05-19",
          "2012-05-20",
          "2012-05-21",
          "2012-05-22",
          "2012-05-23",
          "2012-05-24",
          "2012-05-25",
          "2012-05-26",
          "2012-05-27",
          "2012-05-28",
          "2012-05-29",
          "2012-05-30",
          "2012-05-31",
          "2012-06-01",
          "2012-06-02",
          "2012-06-03",
          "2012-06-04",
          "2012-06-05",
          "2012-06-06",
          "2012-06-07",
          "2012-06-08",
          "2012-06-09",
          "2012-06-10",
          "2012-06-11",
          "2012-06-12",
          "2012-06-13",
          "2012-06-14",
          "2012-06-15",
          "2012-06-16",
          "2012-06-17",
          "2012-06-18",
          "2012-06-19",
          "2012-06-20",
          "2012-06-21",
          "2012-06-22",
          "2012-06-23",
          "2012-06-24",
          "2012-06-25",
          "2012-06-26",
          "2012-06-27",
          "2012-06-28",
          "2012-06-29",
          "2012-06-30",
          "2012-07-01",
          "2012-07-02",
          "2012-07-03",
          "2012-07-04",
          "2012-07-05",
          "2012-07-06",
          "2012-07-07",
          "2012-07-08",
          "2012-07-09",
          "2012-07-10",
          "2012-07-11",
          "2012-07-12",
          "2012-07-13",
          "2012-07-14",
          "2012-07-15",
          "2012-07-16",
          "2012-07-17",
          "2012-07-18",
          "2012-07-19",
          "2012-07-20",
          "2012-07-21",
          "2012-07-22",
          "2012-07-23",
          "2012-07-24",
          "2012-07-25",
          "2012-07-26",
          "2012-07-27",
          "2012-07-28",
          "2012-07-29",
          "2012-07-30",
          "2012-07-31",
          "2012-08-01",
          "2012-08-02",
          "2012-08-03",
          "2012-08-04",
          "2012-08-05",
          "2012-08-06",
          "2012-08-07",
          "2012-08-08",
          "2012-08-09",
          "2012-08-10",
          "2012-08-11",
          "2012-08-12",
          "2012-08-13",
          "2012-08-14",
          "2012-08-15",
          "2012-08-16",
          "2012-08-17",
          "2012-08-18",
          "2012-08-19",
          "2012-08-20",
          "2012-08-21",
          "2012-08-22",
          "2012-08-23",
          "2012-08-24",
          "2012-08-25",
          "2012-08-26",
          "2012-08-27",
          "2012-08-28",
          "2012-08-29",
          "2012-08-30",
          "2012-08-31",
          "2012-09-01",
          "2012-09-02",
          "2012-09-03",
          "2012-09-04",
          "2012-09-05",
          "2012-09-06",
          "2012-09-07",
          "2012-09-08",
          "2012-09-09",
          "2012-09-10",
          "2012-09-11",
          "2012-09-12",
          "2012-09-13",
          "2012-09-14",
          "2012-09-15",
          "2012-09-16",
          "2012-09-17",
          "2012-09-18",
          "2012-09-19",
          "2012-09-20",
          "2012-09-21",
          "2012-09-22",
          "2012-09-23",
          "2012-09-24",
          "2012-09-25",
          "2012-09-26",
          "2012-09-27",
          "2012-09-28",
          "2012-09-29",
          "2012-09-30",
          "2012-10-01",
          "2012-10-02",
          "2012-10-03",
          "2012-10-04",
          "2012-10-05",
          "2012-10-06",
          "2012-10-07",
          "2012-10-08",
          "2012-10-09",
          "2012-10-10",
          "2012-10-11",
          "2012-10-12",
          "2012-10-13",
          "2012-10-14",
          "2012-10-15",
          "2012-10-16",
          "2012-10-17",
          "2012-10-18",
          "2012-10-19",
          "2012-10-20",
          "2012-10-21",
          "2012-10-22",
          "2012-10-23",
          "2012-10-24",
          "2012-10-25",
          "2012-10-26",
          "2012-10-27",
          "2012-10-28",
          "2012-10-29",
          "2012-10-30",
          "2012-10-31",
          "2012-11-01",
          "2012-11-02",
          "2012-11-03",
          "2012-11-04",
          "2012-11-05",
          "2012-11-06",
          "2012-11-07",
          "2012-11-08",
          "2012-11-09",
          "2012-11-10",
          "2012-11-11",
          "2012-11-12",
          "2012-11-13",
          "2012-11-14",
          "2012-11-15",
          "2012-11-16",
          "2012-11-17",
          "2012-11-18",
          "2012-11-19",
          "2012-11-20",
          "2012-11-21",
          "2012-11-22",
          "2012-11-23",
          "2012-11-24",
          "2012-11-25",
          "2012-11-26",
          "2012-11-27",
          "2012-11-28",
          "2012-11-29",
          "2012-11-30",
          "2012-12-01",
          "2012-12-02",
          "2012-12-03",
          "2012-12-04",
          "2012-12-05",
          "2012-12-06",
          "2012-12-07",
          "2012-12-08",
          "2012-12-09",
          "2012-12-10",
          "2012-12-11",
          "2012-12-12",
          "2012-12-13",
          "2012-12-14",
          "2012-12-15",
          "2012-12-16",
          "2012-12-17",
          "2012-12-18",
          "2012-12-19",
          "2012-12-20",
          "2012-12-21",
          "2012-12-22",
          "2012-12-23",
          "2012-12-24",
          "2012-12-25",
          "2012-12-26",
          "2012-12-27",
          "2012-12-28",
          "2012-12-29",
          "2012-12-30",
          "2012-12-31",
          "2013-01-01",
          "2013-01-02",
          "2013-01-03",
          "2013-01-04",
          "2013-01-05",
          "2013-01-06",
          "2013-01-07",
          "2013-01-08",
          "2013-01-09",
          "2013-01-10",
          "2013-01-11",
          "2013-01-12",
          "2013-01-13",
          "2013-01-14",
          "2013-01-15",
          "2013-01-16",
          "2013-01-17",
          "2013-01-18",
          "2013-01-19",
          "2013-01-20",
          "2013-01-21",
          "2013-01-22",
          "2013-01-23",
          "2013-01-24",
          "2013-01-25",
          "2013-01-26",
          "2013-01-27",
          "2013-01-28",
          "2013-01-29",
          "2013-01-30",
          "2013-01-31",
          "2013-02-01",
          "2013-02-02",
          "2013-02-03",
          "2013-02-04",
          "2013-02-05",
          "2013-02-06",
          "2013-02-07",
          "2013-02-08",
          "2013-02-09",
          "2013-02-10",
          "2013-02-11",
          "2013-02-12",
          "2013-02-13",
          "2013-02-14",
          "2013-02-15",
          "2013-02-16",
          "2013-02-17",
          "2013-02-18",
          "2013-02-19",
          "2013-02-20",
          "2013-02-21",
          "2013-02-22",
          "2013-02-23",
          "2013-02-24",
          "2013-02-25",
          "2013-02-26",
          "2013-02-27",
          "2013-02-28",
          "2013-03-01",
          "2013-03-02",
          "2013-03-03",
          "2013-03-04",
          "2013-03-05",
          "2013-03-06",
          "2013-03-07",
          "2013-03-08",
          "2013-03-09",
          "2013-03-10",
          "2013-03-11",
          "2013-03-12",
          "2013-03-13",
          "2013-03-14",
          "2013-03-15",
          "2013-03-16",
          "2013-03-17",
          "2013-03-18",
          "2013-03-19",
          "2013-03-20",
          "2013-03-21",
          "2013-03-22",
          "2013-03-23",
          "2013-03-24",
          "2013-03-25",
          "2013-03-26",
          "2013-03-27",
          "2013-03-28",
          "2013-03-29",
          "2013-03-30",
          "2013-03-31",
          "2013-04-01",
          "2013-04-02",
          "2013-04-03",
          "2013-04-04",
          "2013-04-05",
          "2013-04-06",
          "2013-04-07",
          "2013-04-08",
          "2013-04-09",
          "2013-04-10",
          "2013-04-11",
          "2013-04-12",
          "2013-04-13",
          "2013-04-14",
          "2013-04-15",
          "2013-04-16",
          "2013-04-17",
          "2013-04-18",
          "2013-04-19",
          "2013-04-20",
          "2013-04-21",
          "2013-04-22",
          "2013-04-23",
          "2013-04-24",
          "2013-04-25",
          "2013-04-26",
          "2013-04-27",
          "2013-04-28",
          "2013-04-29",
          "2013-04-30",
          "2013-05-01",
          "2013-05-02",
          "2013-05-03",
          "2013-05-04",
          "2013-05-05",
          "2013-05-06",
          "2013-05-07",
          "2013-05-08",
          "2013-05-09",
          "2013-05-10",
          "2013-05-11",
          "2013-05-12",
          "2013-05-13",
          "2013-05-14",
          "2013-05-15",
          "2013-05-16",
          "2013-05-17",
          "2013-05-18",
          "2013-05-19",
          "2013-05-20",
          "2013-05-21",
          "2013-05-22",
          "2013-05-23",
          "2013-05-24",
          "2013-05-25",
          "2013-05-26",
          "2013-05-27",
          "2013-05-28",
          "2013-05-29",
          "2013-05-30",
          "2013-05-31",
          "2013-06-01",
          "2013-06-02",
          "2013-06-03",
          "2013-06-04",
          "2013-06-05",
          "2013-06-06",
          "2013-06-07",
          "2013-06-08",
          "2013-06-09",
          "2013-06-10",
          "2013-06-11",
          "2013-06-12",
          "2013-06-13",
          "2013-06-14",
          "2013-06-15",
          "2013-06-16",
          "2013-06-17",
          "2013-06-18",
          "2013-06-19",
          "2013-06-20",
          "2013-06-21",
          "2013-06-22",
          "2013-06-23",
          "2013-06-24",
          "2013-06-25",
          "2013-06-26",
          "2013-06-27",
          "2013-06-28",
          "2013-06-29",
          "2013-06-30",
          "2013-07-01",
          "2013-07-02",
          "2013-07-03",
          "2013-07-04",
          "2013-07-05",
          "2013-07-06",
          "2013-07-07",
          "2013-07-08",
          "2013-07-09",
          "2013-07-10",
          "2013-07-11",
          "2013-07-12",
          "2013-07-13",
          "2013-07-14",
          "2013-07-15",
          "2013-07-16",
          "2013-07-17",
          "2013-07-18",
          "2013-07-19",
          "2013-07-20",
          "2013-07-21",
          "2013-07-22",
          "2013-07-23",
          "2013-07-24",
          "2013-07-25",
          "2013-07-26",
          "2013-07-27",
          "2013-07-28",
          "2013-07-29",
          "2013-07-30",
          "2013-07-31",
          "2013-08-01",
          "2013-08-02",
          "2013-08-03",
          "2013-08-04",
          "2013-08-05",
          "2013-08-06",
          "2013-08-07",
          "2013-08-08",
          "2013-08-09",
          "2013-08-10",
          "2013-08-11",
          "2013-08-12",
          "2013-08-13",
          "2013-08-14",
          "2013-08-15",
          "2013-08-16",
          "2013-08-17",
          "2013-08-18",
          "2013-08-19",
          "2013-08-20",
          "2013-08-21",
          "2013-08-22",
          "2013-08-23",
          "2013-08-24",
          "2013-08-25",
          "2013-08-26",
          "2013-08-27",
          "2013-08-28",
          "2013-08-29",
          "2013-08-30",
          "2013-08-31",
          "2013-09-01",
          "2013-09-02",
          "2013-09-03",
          "2013-09-04",
          "2013-09-05",
          "2013-09-06",
          "2013-09-07",
          "2013-09-08",
          "2013-09-09",
          "2013-09-10",
          "2013-09-11",
          "2013-09-12",
          "2013-09-13",
          "2013-09-14",
          "2013-09-15",
          "2013-09-16",
          "2013-09-17",
          "2013-09-18",
          "2013-09-19",
          "2013-09-20",
          "2013-09-21",
          "2013-09-22",
          "2013-09-23",
          "2013-09-24",
          "2013-09-25",
          "2013-09-26",
          "2013-09-27",
          "2013-09-28",
          "2013-09-29",
          "2013-09-30",
          "2013-10-01",
          "2013-10-02",
          "2013-10-03",
          "2013-10-04",
          "2013-10-05",
          "2013-10-06",
          "2013-10-07",
          "2013-10-08",
          "2013-10-09",
          "2013-10-10",
          "2013-10-11",
          "2013-10-12",
          "2013-10-13",
          "2013-10-14",
          "2013-10-15",
          "2013-10-16",
          "2013-10-17",
          "2013-10-18",
          "2013-10-19",
          "2013-10-20",
          "2013-10-21",
          "2013-10-22",
          "2013-10-23",
          "2013-10-24",
          "2013-10-25",
          "2013-10-26",
          "2013-10-27",
          "2013-10-28",
          "2013-10-29",
          "2013-10-30",
          "2013-10-31",
          "2013-11-01",
          "2013-11-02",
          "2013-11-03",
          "2013-11-04",
          "2013-11-05",
          "2013-11-06",
          "2013-11-07",
          "2013-11-08",
          "2013-11-09",
          "2013-11-10",
          "2013-11-11",
          "2013-11-12",
          "2013-11-13",
          "2013-11-14",
          "2013-11-15",
          "2013-11-16",
          "2013-11-17",
          "2013-11-18",
          "2013-11-19",
          "2013-11-20",
          "2013-11-21",
          "2013-11-22",
          "2013-11-23",
          "2013-11-24",
          "2013-11-25",
          "2013-11-26",
          "2013-11-27",
          "2013-11-28",
          "2013-11-29",
          "2013-11-30",
          "2013-12-01",
          "2013-12-02",
          "2013-12-03",
          "2013-12-04",
          "2013-12-05",
          "2013-12-06",
          "2013-12-07",
          "2013-12-08",
          "2013-12-09",
          "2013-12-10",
          "2013-12-11",
          "2013-12-12",
          "2013-12-13",
          "2013-12-14",
          "2013-12-15",
          "2013-12-16",
          "2013-12-17",
          "2013-12-18",
          "2013-12-19",
          "2013-12-20",
          "2013-12-21",
          "2013-12-22",
          "2013-12-23",
          "2013-12-24",
          "2013-12-25",
          "2013-12-26",
          "2013-12-27",
          "2013-12-28",
          "2013-12-29",
          "2013-12-30",
          "2013-12-31",
          "2014-01-01",
          "2014-01-02",
          "2014-01-03",
          "2014-01-04",
          "2014-01-05",
          "2014-01-06",
          "2014-01-07",
          "2014-01-08",
          "2014-01-09",
          "2014-01-10",
          "2014-01-11",
          "2014-01-12",
          "2014-01-13",
          "2014-01-14",
          "2014-01-15",
          "2014-01-16",
          "2014-01-17",
          "2014-01-18",
          "2014-01-19",
          "2014-01-20",
          "2014-01-21",
          "2014-01-22",
          "2014-01-23",
          "2014-01-24",
          "2014-01-25",
          "2014-01-26",
          "2014-01-27",
          "2014-01-28",
          "2014-01-29",
          "2014-01-30",
          "2014-01-31",
          "2014-02-01",
          "2014-02-02",
          "2014-02-03",
          "2014-02-04",
          "2014-02-05",
          "2014-02-06",
          "2014-02-07",
          "2014-02-08",
          "2014-02-09",
          "2014-02-10",
          "2014-02-11",
          "2014-02-12",
          "2014-02-13",
          "2014-02-14",
          "2014-02-15",
          "2014-02-16",
          "2014-02-17",
          "2014-02-18",
          "2014-02-19",
          "2014-02-20",
          "2014-02-21",
          "2014-02-22",
          "2014-02-23",
          "2014-02-24",
          "2014-02-25",
          "2014-02-26",
          "2014-02-27",
          "2014-02-28",
          "2014-03-01",
          "2014-03-02",
          "2014-03-03",
          "2014-03-04",
          "2014-03-05",
          "2014-03-06",
          "2014-03-07",
          "2014-03-08",
          "2014-03-09",
          "2014-03-10",
          "2014-03-11",
          "2014-03-12",
          "2014-03-13",
          "2014-03-14",
          "2014-03-15",
          "2014-03-16",
          "2014-03-17",
          "2014-03-18",
          "2014-03-19",
          "2014-03-20",
          "2014-03-21",
          "2014-03-22",
          "2014-03-23",
          "2014-03-24",
          "2014-03-25",
          "2014-03-26",
          "2014-03-27",
          "2014-03-28",
          "2014-03-29",
          "2014-03-30",
          "2014-03-31",
          "2014-04-01",
          "2014-04-02",
          "2014-04-03",
          "2014-04-04",
          "2014-04-05",
          "2014-04-06",
          "2014-04-07",
          "2014-04-08",
          "2014-04-09",
          "2014-04-10",
          "2014-04-11",
          "2014-04-12",
          "2014-04-13",
          "2014-04-14",
          "2014-04-15",
          "2014-04-16",
          "2014-04-17",
          "2014-04-18",
          "2014-04-19",
          "2014-04-20",
          "2014-04-21",
          "2014-04-22",
          "2014-04-23",
          "2014-04-24",
          "2014-04-25",
          "2014-04-26",
          "2014-04-27",
          "2014-04-28",
          "2014-04-29",
          "2014-04-30",
          "2014-05-01",
          "2014-05-02",
          "2014-05-03",
          "2014-05-04",
          "2014-05-05",
          "2014-05-06",
          "2014-05-07",
          "2014-05-08",
          "2014-05-09",
          "2014-05-10",
          "2014-05-11",
          "2014-05-12",
          "2014-05-13",
          "2014-05-14",
          "2014-05-15",
          "2014-05-16",
          "2014-05-17",
          "2014-05-18",
          "2014-05-19",
          "2014-05-20",
          "2014-05-21",
          "2014-05-22",
          "2014-05-23",
          "2014-05-24",
          "2014-05-25",
          "2014-05-26",
          "2014-05-27",
          "2014-05-28",
          "2014-05-29",
          "2014-05-30",
          "2014-05-31",
          "2014-06-01",
          "2014-06-02",
          "2014-06-03",
          "2014-06-04",
          "2014-06-05",
          "2014-06-06",
          "2014-06-07",
          "2014-06-08",
          "2014-06-09",
          "2014-06-10",
          "2014-06-11",
          "2014-06-12",
          "2014-06-13",
          "2014-06-14",
          "2014-06-15",
          "2014-06-16",
          "2014-06-17",
          "2014-06-18",
          "2014-06-19",
          "2014-06-20",
          "2014-06-21",
          "2014-06-22",
          "2014-06-23",
          "2014-06-24",
          "2014-06-25",
          "2014-06-26",
          "2014-06-27",
          "2014-06-28",
          "2014-06-29",
          "2014-06-30",
          "2014-07-01",
          "2014-07-02",
          "2014-07-03",
          "2014-07-04",
          "2014-07-05",
          "2014-07-06",
          "2014-07-07",
          "2014-07-08",
          "2014-07-09",
          "2014-07-10",
          "2014-07-11",
          "2014-07-12",
          "2014-07-13",
          "2014-07-14",
          "2014-07-15",
          "2014-07-16",
          "2014-07-17",
          "2014-07-18",
          "2014-07-19",
          "2014-07-20",
          "2014-07-21",
          "2014-07-22",
          "2014-07-23",
          "2014-07-24",
          "2014-07-25",
          "2014-07-26",
          "2014-07-27",
          "2014-07-28",
          "2014-07-29",
          "2014-07-30",
          "2014-07-31",
          "2014-08-01",
          "2014-08-02",
          "2014-08-03",
          "2014-08-04",
          "2014-08-05",
          "2014-08-06",
          "2014-08-07",
          "2014-08-08",
          "2014-08-09",
          "2014-08-10",
          "2014-08-11",
          "2014-08-12",
          "2014-08-13",
          "2014-08-14",
          "2014-08-15",
          "2014-08-16",
          "2014-08-17",
          "2014-08-18",
          "2014-08-19",
          "2014-08-20",
          "2014-08-21",
          "2014-08-22",
          "2014-08-23",
          "2014-08-24",
          "2014-08-25",
          "2014-08-26",
          "2014-08-27",
          "2014-08-28",
          "2014-08-29",
          "2014-08-30",
          "2014-08-31",
          "2014-09-01",
          "2014-09-02",
          "2014-09-03",
          "2014-09-04",
          "2014-09-05",
          "2014-09-06",
          "2014-09-07",
          "2014-09-08",
          "2014-09-09",
          "2014-09-10",
          "2014-09-11",
          "2014-09-12",
          "2014-09-13",
          "2014-09-14",
          "2014-09-15",
          "2014-09-16",
          "2014-09-17",
          "2014-09-18",
          "2014-09-19",
          "2014-09-20",
          "2014-09-21",
          "2014-09-22",
          "2014-09-23",
          "2014-09-24",
          "2014-09-25",
          "2014-09-26",
          "2014-09-27",
          "2014-09-28",
          "2014-09-29",
          "2014-09-30",
          "2014-10-01",
          "2014-10-02",
          "2014-10-03",
          "2014-10-04",
          "2014-10-05",
          "2014-10-06",
          "2014-10-07",
          "2014-10-08",
          "2014-10-09",
          "2014-10-10",
          "2014-10-11",
          "2014-10-12",
          "2014-10-13",
          "2014-10-14",
          "2014-10-15",
          "2014-10-16",
          "2014-10-17",
          "2014-10-18",
          "2014-10-19",
          "2014-10-20",
          "2014-10-21",
          "2014-10-22",
          "2014-10-23",
          "2014-10-24",
          "2014-10-25",
          "2014-10-26",
          "2014-10-27",
          "2014-10-28",
          "2014-10-29",
          "2014-10-30",
          "2014-10-31",
          "2014-11-01",
          "2014-11-02",
          "2014-11-03",
          "2014-11-04",
          "2014-11-05",
          "2014-11-06",
          "2014-11-07",
          "2014-11-08",
          "2014-11-09",
          "2014-11-10",
          "2014-11-11",
          "2014-11-12",
          "2014-11-13",
          "2014-11-14",
          "2014-11-15",
          "2014-11-16",
          "2014-11-17",
          "2014-11-18",
          "2014-11-19",
          "2014-11-20",
          "2014-11-21",
          "2014-11-22",
          "2014-11-23",
          "2014-11-24",
          "2014-11-25",
          "2014-11-26",
          "2014-11-27",
          "2014-11-28",
          "2014-11-29",
          "2014-11-30",
          "2014-12-01",
          "2014-12-02",
          "2014-12-03",
          "2014-12-04",
          "2014-12-05",
          "2014-12-06",
          "2014-12-07",
          "2014-12-08",
          "2014-12-09",
          "2014-12-10",
          "2014-12-11",
          "2014-12-12",
          "2014-12-13",
          "2014-12-14",
          "2014-12-15",
          "2014-12-16",
          "2014-12-17",
          "2014-12-18",
          "2014-12-19",
          "2014-12-20",
          "2014-12-21",
          "2014-12-22",
          "2014-12-23",
          "2014-12-24",
          "2014-12-25",
          "2014-12-26",
          "2014-12-27",
          "2014-12-28",
          "2014-12-29",
          "2014-12-30",
          "2014-12-31",
          "2015-01-01",
          "2015-01-02",
          "2015-01-03",
          "2015-01-04",
          "2015-01-05",
          "2015-01-06",
          "2015-01-07",
          "2015-01-08",
          "2015-01-09",
          "2015-01-10",
          "2015-01-11",
          "2015-01-12",
          "2015-01-13",
          "2015-01-14",
          "2015-01-15",
          "2015-01-16",
          "2015-01-17",
          "2015-01-18",
          "2015-01-19",
          "2015-01-20",
          "2015-01-21",
          "2015-01-22",
          "2015-01-23",
          "2015-01-24",
          "2015-01-25",
          "2015-01-26",
          "2015-01-27",
          "2015-01-28",
          "2015-01-29",
          "2015-01-30",
          "2015-01-31",
          "2015-02-01",
          "2015-02-02",
          "2015-02-03",
          "2015-02-04",
          "2015-02-05",
          "2015-02-06",
          "2015-02-07",
          "2015-02-08",
          "2015-02-09",
          "2015-02-10",
          "2015-02-11",
          "2015-02-12",
          "2015-02-13",
          "2015-02-14",
          "2015-02-15",
          "2015-02-16",
          "2015-02-17",
          "2015-02-18",
          "2015-02-19",
          "2015-02-20",
          "2015-02-21",
          "2015-02-22",
          "2015-02-23",
          "2015-02-24",
          "2015-02-25",
          "2015-02-26",
          "2015-02-27",
          "2015-02-28",
          "2015-03-01",
          "2015-03-02",
          "2015-03-03",
          "2015-03-04",
          "2015-03-05",
          "2015-03-06",
          "2015-03-07",
          "2015-03-08",
          "2015-03-09",
          "2015-03-10",
          "2015-03-11",
          "2015-03-12",
          "2015-03-13",
          "2015-03-14",
          "2015-03-15",
          "2015-03-16",
          "2015-03-17",
          "2015-03-18",
          "2015-03-19",
          "2015-03-20",
          "2015-03-21",
          "2015-03-22",
          "2015-03-23",
          "2015-03-24",
          "2015-03-25",
          "2015-03-26",
          "2015-03-27",
          "2015-03-28",
          "2015-03-29",
          "2015-03-30",
          "2015-03-31",
          "2015-04-01",
          "2015-04-02",
          "2015-04-03",
          "2015-04-04",
          "2015-04-05",
          "2015-04-06",
          "2015-04-07",
          "2015-04-08",
          "2015-04-09",
          "2015-04-10",
          "2015-04-11",
          "2015-04-12",
          "2015-04-13",
          "2015-04-14",
          "2015-04-15",
          "2015-04-16",
          "2015-04-17",
          "2015-04-18",
          "2015-04-19",
          "2015-04-20",
          "2015-04-21",
          "2015-04-22",
          "2015-04-23",
          "2015-04-24",
          "2015-04-25",
          "2015-04-26",
          "2015-04-27",
          "2015-04-28",
          "2015-04-29",
          "2015-04-30",
          "2015-05-01",
          "2015-05-02",
          "2015-05-03",
          "2015-05-04",
          "2015-05-05",
          "2015-05-06",
          "2015-05-07",
          "2015-05-08",
          "2015-05-09",
          "2015-05-10",
          "2015-05-11",
          "2015-05-12",
          "2015-05-13",
          "2015-05-14",
          "2015-05-15",
          "2015-05-16",
          "2015-05-17",
          "2015-05-18",
          "2015-05-19",
          "2015-05-20",
          "2015-05-21",
          "2015-05-22",
          "2015-05-23",
          "2015-05-24",
          "2015-05-25",
          "2015-05-26",
          "2015-05-27",
          "2015-05-28",
          "2015-05-29",
          "2015-05-30",
          "2015-05-31",
          "2015-06-01",
          "2015-06-02",
          "2015-06-03",
          "2015-06-04",
          "2015-06-05",
          "2015-06-06",
          "2015-06-07",
          "2015-06-08",
          "2015-06-09",
          "2015-06-10",
          "2015-06-11",
          "2015-06-12",
          "2015-06-13",
          "2015-06-14",
          "2015-06-15",
          "2015-06-16",
          "2015-06-17",
          "2015-06-18",
          "2015-06-19",
          "2015-06-20",
          "2015-06-21",
          "2015-06-22",
          "2015-06-23",
          "2015-06-24",
          "2015-06-25",
          "2015-06-26",
          "2015-06-27",
          "2015-06-28",
          "2015-06-29",
          "2015-06-30",
          "2015-07-01",
          "2015-07-02",
          "2015-07-03",
          "2015-07-04",
          "2015-07-05",
          "2015-07-06",
          "2015-07-07",
          "2015-07-08",
          "2015-07-09",
          "2015-07-10",
          "2015-07-11",
          "2015-07-12",
          "2015-07-13",
          "2015-07-14",
          "2015-07-15",
          "2015-07-16",
          "2015-07-17",
          "2015-07-18",
          "2015-07-19",
          "2015-07-20",
          "2015-07-21",
          "2015-07-22",
          "2015-07-23",
          "2015-07-24",
          "2015-07-25",
          "2015-07-26",
          "2015-07-27",
          "2015-07-28",
          "2015-07-29",
          "2015-07-30",
          "2015-07-31",
          "2015-08-01",
          "2015-08-02",
          "2015-08-03",
          "2015-08-04",
          "2015-08-05",
          "2015-08-06",
          "2015-08-07",
          "2015-08-08",
          "2015-08-09",
          "2015-08-10",
          "2015-08-11",
          "2015-08-12",
          "2015-08-13",
          "2015-08-14",
          "2015-08-15",
          "2015-08-16",
          "2015-08-17",
          "2015-08-18",
          "2015-08-19",
          "2015-08-20",
          "2015-08-21",
          "2015-08-22",
          "2015-08-23",
          "2015-08-24",
          "2015-08-25",
          "2015-08-26",
          "2015-08-27",
          "2015-08-28",
          "2015-08-29",
          "2015-08-30",
          "2015-08-31",
          "2015-09-01",
          "2015-09-02",
          "2015-09-03",
          "2015-09-04",
          "2015-09-05",
          "2015-09-06",
          "2015-09-07",
          "2015-09-08",
          "2015-09-09",
          "2015-09-10",
          "2015-09-11",
          "2015-09-12",
          "2015-09-13",
          "2015-09-14",
          "2015-09-15",
          "2015-09-16",
          "2015-09-17",
          "2015-09-18",
          "2015-09-19",
          "2015-09-20",
          "2015-09-21",
          "2015-09-22",
          "2015-09-23",
          "2015-09-24",
          "2015-09-25",
          "2015-09-26",
          "2015-09-27",
          "2015-09-28",
          "2015-09-29",
          "2015-09-30",
          "2015-10-01",
          "2015-10-02",
          "2015-10-03",
          "2015-10-04",
          "2015-10-05",
          "2015-10-06",
          "2015-10-07",
          "2015-10-08",
          "2015-10-09",
          "2015-10-10",
          "2015-10-11",
          "2015-10-12",
          "2015-10-13",
          "2015-10-14",
          "2015-10-15",
          "2015-10-16",
          "2015-10-17",
          "2015-10-18",
          "2015-10-19",
          "2015-10-20",
          "2015-10-21",
          "2015-10-22",
          "2015-10-23",
          "2015-10-24",
          "2015-10-25",
          "2015-10-26",
          "2015-10-27",
          "2015-10-28",
          "2015-10-29",
          "2015-10-30",
          "2015-10-31",
          "2015-11-01",
          "2015-11-02",
          "2015-11-03",
          "2015-11-04",
          "2015-11-05",
          "2015-11-06",
          "2015-11-07",
          "2015-11-08",
          "2015-11-09",
          "2015-11-10",
          "2015-11-11",
          "2015-11-12",
          "2015-11-13",
          "2015-11-14",
          "2015-11-15",
          "2015-11-16",
          "2015-11-17",
          "2015-11-18",
          "2015-11-19",
          "2015-11-20",
          "2015-11-21",
          "2015-11-22",
          "2015-11-23",
          "2015-11-24",
          "2015-11-25",
          "2015-11-26",
          "2015-11-27",
          "2015-11-28",
          "2015-11-29",
          "2015-11-30",
          "2015-12-01",
          "2015-12-02",
          "2015-12-03",
          "2015-12-04",
          "2015-12-05",
          "2015-12-06",
          "2015-12-07",
          "2015-12-08",
          "2015-12-09",
          "2015-12-10",
          "2015-12-11",
          "2015-12-12",
          "2015-12-13",
          "2015-12-14",
          "2015-12-15",
          "2015-12-16",
          "2015-12-17",
          "2015-12-18",
          "2015-12-19",
          "2015-12-20",
          "2015-12-21",
          "2015-12-22",
          "2015-12-23",
          "2015-12-24",
          "2015-12-25",
          "2015-12-26",
          "2015-12-27",
          "2015-12-28",
          "2015-12-29",
          "2015-12-30",
          "2015-12-31",
          "2016-01-01",
          "2016-01-02",
          "2016-01-03",
          "2016-01-04",
          "2016-01-05",
          "2016-01-06",
          "2016-01-07",
          "2016-01-08",
          "2016-01-09",
          "2016-01-10",
          "2016-01-11",
          "2016-01-12",
          "2016-01-13",
          "2016-01-14",
          "2016-01-15",
          "2016-01-16",
          "2016-01-17",
          "2016-01-18",
          "2016-01-19",
          "2016-01-20",
          "2016-01-21",
          "2016-01-22",
          "2016-01-23",
          "2016-01-24",
          "2016-01-25",
          "2016-01-26",
          "2016-01-27",
          "2016-01-28",
          "2016-01-29",
          "2016-01-30",
          "2016-01-31",
          "2016-02-01",
          "2016-02-02",
          "2016-02-03",
          "2016-02-04",
          "2016-02-05",
          "2016-02-06",
          "2016-02-07",
          "2016-02-08",
          "2016-02-09",
          "2016-02-10",
          "2016-02-11",
          "2016-02-12",
          "2016-02-13",
          "2016-02-14",
          "2016-02-15",
          "2016-02-16",
          "2016-02-17",
          "2016-02-18",
          "2016-02-19",
          "2016-02-20",
          "2016-02-21",
          "2016-02-22",
          "2016-02-23",
          "2016-02-24",
          "2016-02-25",
          "2016-02-26",
          "2016-02-27",
          "2016-02-28",
          "2016-02-29",
          "2016-03-01",
          "2016-03-02",
          "2016-03-03",
          "2016-03-04",
          "2016-03-05",
          "2016-03-06",
          "2016-03-07",
          "2016-03-08",
          "2016-03-09",
          "2016-03-10",
          "2016-03-11",
          "2016-03-12",
          "2016-03-13",
          "2016-03-14",
          "2016-03-15",
          "2016-03-16",
          "2016-03-17",
          "2016-03-18",
          "2016-03-19",
          "2016-03-20",
          "2016-03-21",
          "2016-03-22",
          "2016-03-23",
          "2016-03-24",
          "2016-03-25",
          "2016-03-26",
          "2016-03-27",
          "2016-03-28",
          "2016-03-29",
          "2016-03-30",
          "2016-03-31",
          "2016-04-01",
          "2016-04-02",
          "2016-04-03",
          "2016-04-04",
          "2016-04-05",
          "2016-04-06",
          "2016-04-07",
          "2016-04-08",
          "2016-04-09",
          "2016-04-10",
          "2016-04-11",
          "2016-04-12",
          "2016-04-13",
          "2016-04-14",
          "2016-04-15",
          "2016-04-16",
          "2016-04-17",
          "2016-04-18",
          "2016-04-19",
          "2016-04-20",
          "2016-04-21",
          "2016-04-22",
          "2016-04-23",
          "2016-04-24",
          "2016-04-25",
          "2016-04-26",
          "2016-04-27",
          "2016-04-28",
          "2016-04-29",
          "2016-04-30",
          "2016-05-01",
          "2016-05-02",
          "2016-05-03",
          "2016-05-04",
          "2016-05-05",
          "2016-05-06",
          "2016-05-07",
          "2016-05-08",
          "2016-05-09",
          "2016-05-10",
          "2016-05-11",
          "2016-05-12",
          "2016-05-13",
          "2016-05-14",
          "2016-05-15",
          "2016-05-16",
          "2016-05-17",
          "2016-05-18",
          "2016-05-19",
          "2016-05-20",
          "2016-05-21",
          "2016-05-22",
          "2016-05-23",
          "2016-05-24",
          "2016-05-25",
          "2016-05-26",
          "2016-05-27",
          "2016-05-28",
          "2016-05-29",
          "2016-05-30",
          "2016-05-31",
          "2016-06-01",
          "2016-06-02",
          "2016-06-03",
          "2016-06-04",
          "2016-06-05",
          "2016-06-06",
          "2016-06-07",
          "2016-06-08",
          "2016-06-09",
          "2016-06-10",
          "2016-06-11",
          "2016-06-12",
          "2016-06-13",
          "2016-06-14",
          "2016-06-15",
          "2016-06-16",
          "2016-06-17",
          "2016-06-18",
          "2016-06-19",
          "2016-06-20",
          "2016-06-21",
          "2016-06-22",
          "2016-06-23",
          "2016-06-24",
          "2016-06-25",
          "2016-06-26",
          "2016-06-27",
          "2016-06-28",
          "2016-06-29",
          "2016-06-30",
          "2016-07-01",
          "2016-07-02",
          "2016-07-03",
          "2016-07-04",
          "2016-07-05",
          "2016-07-06",
          "2016-07-07",
          "2016-07-08",
          "2016-07-09",
          "2016-07-10",
          "2016-07-11",
          "2016-07-12",
          "2016-07-13",
          "2016-07-14",
          "2016-07-15",
          "2016-07-16",
          "2016-07-17",
          "2016-07-18",
          "2016-07-19",
          "2016-07-20",
          "2016-07-21",
          "2016-07-22",
          "2016-07-23",
          "2016-07-24",
          "2016-07-25",
          "2016-07-26",
          "2016-07-27",
          "2016-07-28",
          "2016-07-29",
          "2016-07-30",
          "2016-07-31",
          "2016-08-01",
          "2016-08-02",
          "2016-08-03",
          "2016-08-04",
          "2016-08-05",
          "2016-08-06",
          "2016-08-07",
          "2016-08-08",
          "2016-08-09",
          "2016-08-10",
          "2016-08-11",
          "2016-08-12",
          "2016-08-13",
          "2016-08-14",
          "2016-08-15",
          "2016-08-16",
          "2016-08-17",
          "2016-08-18",
          "2016-08-19",
          "2016-08-20",
          "2016-08-21",
          "2016-08-22",
          "2016-08-23",
          "2016-08-24",
          "2016-08-25",
          "2016-08-26",
          "2016-08-27",
          "2016-08-28",
          "2016-08-29",
          "2016-08-30",
          "2016-08-31",
          "2016-09-01",
          "2016-09-02",
          "2016-09-03",
          "2016-09-04",
          "2016-09-05",
          "2016-09-06",
          "2016-09-07",
          "2016-09-08",
          "2016-09-09",
          "2016-09-10",
          "2016-09-11",
          "2016-09-12",
          "2016-09-13",
          "2016-09-14",
          "2016-09-15",
          "2016-09-16",
          "2016-09-17",
          "2016-09-18",
          "2016-09-19",
          "2016-09-20",
          "2016-09-21",
          "2016-09-22",
          "2016-09-23",
          "2016-09-24",
          "2016-09-25",
          "2016-09-26",
          "2016-09-27",
          "2016-09-28",
          "2016-09-29",
          "2016-09-30",
          "2016-10-01",
          "2016-10-02",
          "2016-10-03",
          "2016-10-04",
          "2016-10-05",
          "2016-10-06",
          "2016-10-07",
          "2016-10-08",
          "2016-10-09",
          "2016-10-10",
          "2016-10-11",
          "2016-10-12",
          "2016-10-13",
          "2016-10-14",
          "2016-10-15",
          "2016-10-16",
          "2016-10-17",
          "2016-10-18",
          "2016-10-19",
          "2016-10-20",
          "2016-10-21",
          "2016-10-22",
          "2016-10-23",
          "2016-10-24",
          "2016-10-25",
          "2016-10-26",
          "2016-10-27",
          "2016-10-28",
          "2016-10-29",
          "2016-10-30",
          "2016-10-31",
          "2016-11-01",
          "2016-11-02",
          "2016-11-03",
          "2016-11-04",
          "2016-11-05",
          "2016-11-06",
          "2016-11-07",
          "2016-11-08",
          "2016-11-09",
          "2016-11-10",
          "2016-11-11",
          "2016-11-12",
          "2016-11-13",
          "2016-11-14",
          "2016-11-15",
          "2016-11-16",
          "2016-11-17",
          "2016-11-18",
          "2016-11-19",
          "2016-11-20",
          "2016-11-21",
          "2016-11-22",
          "2016-11-23",
          "2016-11-24",
          "2016-11-25",
          "2016-11-26",
          "2016-11-27",
          "2016-11-28",
          "2016-11-29",
          "2016-11-30",
          "2016-12-01",
          "2016-12-02",
          "2016-12-03",
          "2016-12-04",
          "2016-12-05",
          "2016-12-06",
          "2016-12-07",
          "2016-12-08",
          "2016-12-09",
          "2016-12-10",
          "2016-12-11",
          "2016-12-12",
          "2016-12-13",
          "2016-12-14",
          "2016-12-15",
          "2016-12-16",
          "2016-12-17",
          "2016-12-18",
          "2016-12-19",
          "2016-12-20",
          "2016-12-21",
          "2016-12-22",
          "2016-12-23",
          "2016-12-24",
          "2016-12-25",
          "2016-12-26",
          "2016-12-27",
          "2016-12-28",
          "2016-12-29",
          "2016-12-30",
          "2016-12-31",
          "2017-01-01",
          "2017-01-02",
          "2017-01-03",
          "2017-01-04",
          "2017-01-05",
          "2017-01-06",
          "2017-01-07",
          "2017-01-08",
          "2017-01-09",
          "2017-01-10",
          "2017-01-11",
          "2017-01-12",
          "2017-01-13",
          "2017-01-14",
          "2017-01-15",
          "2017-01-16",
          "2017-01-17",
          "2017-01-18",
          "2017-01-19",
          "2017-01-20",
          "2017-01-21",
          "2017-01-22",
          "2017-01-23",
          "2017-01-24",
          "2017-01-25",
          "2017-01-26",
          "2017-01-27",
          "2017-01-28",
          "2017-01-29",
          "2017-01-30",
          "2017-01-31",
          "2017-02-01",
          "2017-02-02",
          "2017-02-03",
          "2017-02-04",
          "2017-02-05",
          "2017-02-06",
          "2017-02-07",
          "2017-02-08",
          "2017-02-09",
          "2017-02-10",
          "2017-02-11",
          "2017-02-12",
          "2017-02-13",
          "2017-02-14",
          "2017-02-15",
          "2017-02-16",
          "2017-02-17",
          "2017-02-18",
          "2017-02-19",
          "2017-02-20",
          "2017-02-21",
          "2017-02-22",
          "2017-02-23",
          "2017-02-24",
          "2017-02-25",
          "2017-02-26",
          "2017-02-27",
          "2017-02-28",
          "2017-03-01",
          "2017-03-02",
          "2017-03-03",
          "2017-03-04",
          "2017-03-05",
          "2017-03-06",
          "2017-03-07",
          "2017-03-08",
          "2017-03-09",
          "2017-03-10",
          "2017-03-11",
          "2017-03-12",
          "2017-03-13",
          "2017-03-14",
          "2017-03-15",
          "2017-03-16",
          "2017-03-17",
          "2017-03-18",
          "2017-03-19",
          "2017-03-20",
          "2017-03-21",
          "2017-03-22",
          "2017-03-23",
          "2017-03-24",
          "2017-03-25",
          "2017-03-26",
          "2017-03-27",
          "2017-03-28",
          "2017-03-29",
          "2017-03-30",
          "2017-03-31",
          "2017-04-01",
          "2017-04-02",
          "2017-04-03",
          "2017-04-04",
          "2017-04-05",
          "2017-04-06",
          "2017-04-07",
          "2017-04-08",
          "2017-04-09",
          "2017-04-10",
          "2017-04-11",
          "2017-04-12",
          "2017-04-13",
          "2017-04-14",
          "2017-04-15",
          "2017-04-16",
          "2017-04-17",
          "2017-04-18",
          "2017-04-19",
          "2017-04-20",
          "2017-04-21",
          "2017-04-22",
          "2017-04-23",
          "2017-04-24",
          "2017-04-25",
          "2017-04-26",
          "2017-04-27",
          "2017-04-28",
          "2017-04-29",
          "2017-04-30",
          "2017-05-01",
          "2017-05-02",
          "2017-05-03",
          "2017-05-04",
          "2017-05-05",
          "2017-05-06",
          "2017-05-07",
          "2017-05-08",
          "2017-05-09",
          "2017-05-10",
          "2017-05-11",
          "2017-05-12",
          "2017-05-13",
          "2017-05-14",
          "2017-05-15",
          "2017-05-16",
          "2017-05-17",
          "2017-05-18",
          "2017-05-19",
          "2017-05-20",
          "2017-05-21",
          "2017-05-22",
          "2017-05-23",
          "2017-05-24",
          "2017-05-25",
          "2017-05-26",
          "2017-05-27",
          "2017-05-28",
          "2017-05-29",
          "2017-05-30",
          "2017-05-31",
          "2017-06-01",
          "2017-06-02",
          "2017-06-03",
          "2017-06-04",
          "2017-06-05",
          "2017-06-06",
          "2017-06-07",
          "2017-06-08",
          "2017-06-09",
          "2017-06-10",
          "2017-06-11",
          "2017-06-12",
          "2017-06-13",
          "2017-06-14",
          "2017-06-15",
          "2017-06-16",
          "2017-06-17",
          "2017-06-18",
          "2017-06-19",
          "2017-06-20",
          "2017-06-21",
          "2017-06-22",
          "2017-06-23",
          "2017-06-24",
          "2017-06-25",
          "2017-06-26",
          "2017-06-27",
          "2017-06-28",
          "2017-06-29"
         ],
         "y": [
          244083.33333333334,
          163855.8,
          217274.9300567108,
          232991.51863600317,
          264136.24,
          227664.12082777036,
          174285.7142857143,
          257938.33333333334,
          233531.74275618375,
          259003.69504950495,
          233977.63765373698,
          250122.7325153374,
          212755.21194417396,
          322478.26086956525,
          254041.66666666666,
          258172.25661375662,
          247225.62974358976,
          236076.26705981465,
          260321.7743772242,
          217204.7338452894,
          216024.94444444444,
          293766.6666666667,
          230763.31892697467,
          246044.54274353877,
          225585.86755485894,
          233165.36671177266,
          213736.83450451744,
          157180,
          279785.45454545453,
          216235.92148065058,
          257697.87206896552,
          256227.56363636363,
          237145.05595026643,
          218904.52995199332,
          229899,
          181833.33333333334,
          221200.3912386707,
          239521.45707656612,
          240625.89335664336,
          249369.14926590538,
          217532.10264663806,
          222790,
          210863.54545454544,
          217776.15338793746,
          250119.00793650793,
          246995.0543900544,
          228037.5059259259,
          212942.90853174604,
          221000,
          168625,
          234231.16608513606,
          253349.57279489905,
          215894.52081406105,
          246743.36198106335,
          214129.42319545822,
          167653.84615384616,
          138300,
          232099.06846733668,
          240076.38769868694,
          247137.97997010464,
          242639.19487179487,
          215772.62601804975,
          205041.2068965517,
          230707.14285714287,
          218360.6591422122,
          236345.97365406645,
          232031.43196347033,
          229607.27773343975,
          211795.81785855393,
          168093.33333333334,
          301750,
          222250.75544624034,
          221092.88067444877,
          240455.12652439025,
          243961.24661746618,
          217748.76158940396,
          314850,
          217281.81818181818,
          220526.3629675046,
          227308.18381344306,
          232797.43352272728,
          211601.32872727272,
          199107.110393751,
          205876.19047619047,
          174900,
          279018.99929627025,
          245582.29499467518,
          256791.33960948396,
          248303.02055498457,
          225717.71419001897,
          209291.17647058822,
          151597.9,
          258200.72561629154,
          269077.1715881883,
          251567.8944748631,
          208052.2029491657,
          198956.25,
          88666.66666666667,
          138612.5,
          171832.07142857142,
          256434.0760790051,
          251424.27313915858,
          257706.90538764783,
          219089.76744186046,
          173226.92307692306,
          418015,
          252092.4150566289,
          253252.2579681275,
          234825.59377859102,
          242850.36270190895,
          224412.6246840775,
          167285.35714285713,
          173375,
          251173.14178544635,
          277781.6834532374,
          251714.69877675842,
          245171.73518284992,
          221710.85846649657,
          198927.85714285713,
          162850,
          245339.49916415915,
          271317.2831669044,
          232943.58934707905,
          256648.9084224599,
          223067.6990544506,
          156121.38888888888,
          207200,
          174570,
          235576.48139711467,
          250729.9784,
          259268.59361702128,
          218340.4233287046,
          171428.57142857142,
          113100,
          245228.73782467534,
          258325.2449725777,
          274447.48189655173,
          245864.9013888889,
          222985.79230096238,
          169850.22222222222,
          160490,
          225075.7378138848,
          233119.24711111112,
          244857.772005772,
          251725.98007246378,
          220134.39407903925,
          229302.44444444444,
          185385,
          229556.3897937025,
          256353.88904299584,
          264520.07010515773,
          256389.65872240672,
          227570.1895245559,
          142687.5,
          149500,
          218191.38888888888,
          184750,
          251975.43761996162,
          270394.23206997087,
          228678.004164188,
          164400,
          220983.33333333334,
          241979.25762952448,
          288598.99665831245,
          272779.1153846154,
          292251.670447385,
          229868.13932921743,
          275038.46153846156,
          217100,
          261446.5031887755,
          254084.12360594794,
          246840.6829446064,
          255551.51615029664,
          222198.14159725624,
          233929.66666666666,
          232489.9,
          240139.79460674158,
          278360.0240050537,
          247621.88615847542,
          252344.05171208945,
          232291.91732345524,
          193913.61111111112,
          155773.125,
          254053.98479472884,
          262264.5973101266,
          289238.32207792206,
          254887.93486127866,
          238361.6811452741,
          303583.3333333333,
          145555.55555555556,
          251926.19579193453,
          294364.8509272468,
          267040.1059479554,
          278927.34947735193,
          242326.62988505748,
          173149.5,
          425123.23529411765,
          292630.52943760983,
          270504.19883889693,
          267524.1525821596,
          261340.98410174882,
          234094.76208631997,
          260522.72727272726,
          171764.5,
          254631.28739002932,
          270254.11627906974,
          275022.1190727081,
          258451.74977538185,
          220537.95460168234,
          209500,
          286392.85714285716,
          246140.00043365135,
          253182.61533723437,
          277847.460591133,
          261327.1789019124,
          232225.85288410654,
          220500,
          176875,
          262732.0412426352,
          270568.8236658933,
          258291.09382422804,
          271592.58530805685,
          233763.1200908796,
          205736.42857142858,
          121200,
          256416.61710677383,
          277316.3984915148,
          270897.9989594173,
          274580.79920589906,
          230335.81142948614,
          289466.6666666667,
          262408.63636363635,
          264155.43896601244,
          267245.5110812626,
          256413.88702201622,
          274738.4441535777,
          223689.38197767144,
          179190,
          151070.7142857143,
          197816.66666666666,
          262237.9654036244,
          254222.88584269662,
          265457.9473469388,
          243028.28485479578,
          180530.38461538462,
          212500,
          258728.2513312034,
          278645.67150496563,
          279999.9903703704,
          281827.34403669724,
          234035.00187521309,
          223666.66666666666,
          290800,
          272290.17625459,
          263779.98721461184,
          261567.2972027972,
          268685.89608313347,
          240272.30322580645,
          158200,
          248722.22222222222,
          251544.82049763034,
          271746.2754650133,
          245991.69062720225,
          262073.31083481348,
          225789.1932718745,
          414714.28571428574,
          381250,
          237199.88956714762,
          254562.7697568389,
          250240.08846383743,
          261567.44897003745,
          237902.369140437,
          191636.34615384616,
          202538.07692307694,
          258413.89601769912,
          254005.26283185842,
          269834.5882794891,
          274169.4015594542,
          225002.63569848562,
          260142.85714285713,
          114647.14285714286,
          235593.2030848329,
          243139.63299351252,
          253621.23529411765,
          249546.9029615627,
          224537.66666666666,
          241444.33333333334,
          230282.14285714287,
          249396.7181712963,
          257367.2718204489,
          247366.67357142858,
          252543.0960960961,
          232585.01081802015,
          244565,
          162230.6923076923,
          240338.20509915013,
          265495.6418410042,
          256713.95779601406,
          240078.08013276436,
          220028.76235237406,
          197642.85714285713,
          199184.42307692306,
          246802.04248515304,
          251462.38679791547,
          259215.2409043659,
          252477.72400756142,
          230751.7506252233,
          196806.25,
          204666.66666666666,
          245523.7006719609,
          250964.21534195932,
          236374.37267479152,
          250862.52355316284,
          225178.93827361564,
          143222.27272727274,
          188392.7857142857,
          257007.16858702243,
          227090.34639175257,
          241856.72085492229,
          262081.4390951276,
          221286.1061705989,
          194599.8,
          251785.7142857143,
          230598.84845070422,
          247804.5312977099,
          231266.8144329897,
          250186.40948525158,
          225107.37895602136,
          175368.75,
          195809.0909090909,
          234759.14906518444,
          254520.1007352941,
          259133.13365282214,
          254429.28700906344,
          230291.24903457565,
          181245.76923076922,
          175500,
          233042.02939941201,
          249115.84539704848,
          255698.84178375077,
          273645.08125331916,
          232109.30065026137,
          378610.71428571426,
          166788.125,
          244434.7250811312,
          256517.67123287672,
          263887.1909736732,
          261471.62246696034,
          232473.23571776156,
          244390,
          180593.4375,
          248717.8938999711,
          236020.6952149792,
          229189.2359218892,
          216064.29169981438,
          221267.19683413627,
          168500,
          133079.375,
          283532.675,
          162642.85714285713,
          140375,
          210786.92857142858,
          291443.97142857144,
          253900,
          157530,
          245248.70909090908,
          254173.58333333334,
          217951.17149758455,
          231267.67822222222,
          248937.6841569027,
          166500,
          233368.75,
          242641.01207386365,
          273106.43130227004,
          247388.2841025641,
          275047.6672,
          240710.4490526316,
          200166.66666666666,
          241278.57142857142,
          249269.7894736842,
          284819.85210577864,
          248790.19664903,
          250542.76629570746,
          234310.14336352894,
          170288.88888888888,
          180772.72727272726,
          239632.4733683421,
          250642.7989528796,
          253842.19606003753,
          259017.31378763868,
          226790.8587779835,
          156500,
          265333.3333333333,
          239139.13756281408,
          240084.72109533468,
          242050.46511627908,
          265707.1029652113,
          228623.0747309685,
          162570.7142857143,
          152000,
          255491.61191860464,
          240632.2431466031,
          233035.58097928436,
          274777.4419284149,
          219810.36745458096,
          243062.5,
          248533.33333333334,
          239181.58091603054,
          249494.94240317776,
          234450.14678899082,
          290261.50213544845,
          229164.2610718594,
          221375,
          107778.71428571429,
          230288.1443361754,
          241097.7283236994,
          237896.2129032258,
          250850.934796643,
          212451.11265349705,
          145457.14285714287,
          163000,
          236204.2224334601,
          237271.4671340929,
          223935.8540925267,
          248209.88672846483,
          230067.1092085236,
          150545,
          175800,
          240853.39683631362,
          244491.21436004163,
          232035.64199814986,
          266505.2149600581,
          228113.33301139655,
          184000,
          207625,
          247329.10851544837,
          241025.5945945946,
          253313.488008342,
          262744.0265780731,
          233238.9786613168,
          161390,
          180300,
          244620.84107259646,
          247463.798553719,
          238229.43788343557,
          254772.24457831326,
          227390.35945431472,
          166204.54545454544,
          222000,
          237127.106601467,
          259331.83496932517,
          252130.21740467404,
          220431.91262505954,
          276772.85714285716,
          203500,
          270451.1212121212,
          176564.09677419355,
          245612.30354706684,
          241376.67871222078,
          254684.03121019108,
          225050.1114357262,
          125299.5,
          243857.14285714287,
          249808.17154811716,
          256187.47588717015,
          276025.590625,
          268200.0804843305,
          234739.19907318015,
          231888.88888888888,
          287375,
          261226.35439739414,
          267226.8933074685,
          243262.3301049233,
          254634.9536751081,
          228528.81097560975,
          164000,
          243333.33333333334,
          253892.18570555895,
          279401.5528673835,
          245219.35566298343,
          255782.66293929712,
          222886.59160258758,
          125888.88888888889,
          409166.1904761905,
          253531.1850302185,
          266362.881270903,
          253372.66425992778,
          253331.06302757456,
          220014.26194210752,
          346087.5,
          237431.25,
          92913.04347826086,
          236396.41941505912,
          250329.63679890562,
          256052.2555768005,
          235589.36154231348,
          247677,
          260783.33333333334,
          242502.2406779661,
          246586.31479897347,
          256184.65645805592,
          268396.2252427185,
          236229.1169443571,
          199954.45454545456,
          237083.33333333334,
          246729.40966010734,
          261195.12553011026,
          236084.76744186046,
          256833.6223214286,
          222329.9641896978,
          252228.65384615384,
          149428.41666666666,
          182797.72222222222,
          251033.3047759724,
          242798.91666666666,
          269490.368660106,
          226960.91740412978,
          222273.4090909091,
          829800,
          246504.29261672095,
          268134.60994560993,
          272064.7971014493,
          260238.10558624924,
          236087.9104148279,
          268499.28571428574,
          237625,
          258990.71250707415,
          240361.95555555556,
          253969.18453105967,
          258803.62226391493,
          228604.33977792293,
          144767.72727272726,
          136500,
          248543.79308538503,
          266900.62919708027,
          292879.91962174943,
          262252.8638220608,
          226562.8439176544,
          300520,
          169741.66666666666,
          248474.2915162455,
          258340.7967528563,
          269750.1515151515,
          262799.9742527375,
          233720.02650023362,
          282249.8076923077,
          193520.41666666666,
          268135.5753138075,
          280935.10103469266,
          278042.42192103714,
          269828.5789733465,
          239084.59941763728,
          218363.63636363635,
          172279.54545454544,
          260756.17444029852,
          277945.83175675676,
          293231.68263781554,
          276683.979028133,
          244432.15216251637,
          249889.47368421053,
          195247.22222222222,
          268635.3132,
          355750.49807197944,
          273027.5431211499,
          272496.54651729175,
          234964.7976128017,
          292444.44444444444,
          213285.7142857143,
          260982.11551577153,
          282319.6414674819,
          271388.4193548387,
          286153.7296238245,
          233470.12955378313,
          258583.0285714286,
          208687.85714285713,
          261626.7109402307,
          275518.78415933304,
          281461.53241032094,
          285394.92126537784,
          237313.02193892677,
          256174.5,
          239666.66666666666,
          253359.31082251083,
          268102.479812756,
          293426.4690997567,
          265637.05435720447,
          250208.79359095194,
          128250,
          146048,
          261715.33279613216,
          271602.56181229773,
          282051.47151621385,
          290234.4355170993,
          241778.4018446965,
          199824.45,
          271716.1111111111,
          291496.9569892473,
          270322.6871345029,
          260211.51368159204,
          277563.5755752212,
          232508.40934906073,
          187837.25,
          202115,
          242405.55555555556,
          290249.2783117426,
          289840.41329384665,
          299015.46215001727,
          253080.8360942389,
          203494.44444444444,
          273181.8181818182,
          276129.03415409056,
          289114.50113765645,
          290943.5805911879,
          305476.63249133236,
          247758.89922056612,
          237103.33333333334,
          196383.33333333334,
          276225.3517454706,
          312165.75174418604,
          298254.90943600866,
          327067.0665509259,
          232615.26883498713,
          211342.1052631579,
          245500,
          287537.9377990431,
          313841.62834549876,
          285138.52089268755,
          275529.76086956525,
          237027.33241066936,
          280582.35294117645,
          266906.25,
          253938.62605979474,
          277960.79363135336,
          261601.53018249883,
          276773.9238636364,
          240452.89482990906,
          226578.2142857143,
          241945.83333333334,
          338284.2446785166,
          337420.49826689775,
          253586.43591191416,
          276970.2036944583,
          238194.8742716561,
          184803.84615384616,
          260812.5,
          289654.2042961609,
          324238.25500526873,
          286599.6579787234,
          267547.11362665525,
          240579.6309494144,
          191775,
          194387.5,
          325990.82120743033,
          281393.56881214026,
          279277.6206244087,
          299085.00605536334,
          243994.35277516462,
          238421.05263157896,
          151592.39130434784,
          263054.56400665006,
          254291.15824710895,
          304222.04932735424,
          300419.68541905854,
          247429.28141153083,
          235666.42857142858,
          218143.3125,
          240549.06600249067,
          261184.8881607689,
          290860.5944250871,
          309005.3135000777,
          250828.55619490697,
          208390.47619047618,
          181306.25,
          296630.48355663824,
          298069.3831990794,
          262593.15689300414,
          329153.0754633716,
          243755.78281737462,
          206603.15789473685,
          178532.5,
          291462.58742714406,
          302773.2948207171,
          256794.9919447641,
          275781.99594843463,
          258655.37869244136,
          183425,
          227000,
          289711.6828314431,
          318606.5221190606,
          317869.68807339447,
          312089.46752205293,
          238661.51238910982,
          242546.11111111112,
          439194.75,
          258515.68114328137,
          298353.0054133858,
          286879.9693761815,
          364750.31216361676,
          247835.76939941535,
          1407822.7027027027,
          467378,
          262294.1389972981,
          276470.5905617977,
          270362.13814074715,
          450460.31700098654,
          246910.76885960842,
          171875,
          219395.25,
          264119.3528358209,
          316140.7539107211,
          267564.1781405252,
          299736.56403079076,
          248717.67083460404,
          292404.347826087,
          293990,
          274975.732187681,
          299552.3144286906,
          264491.09488188976,
          282004.1595985298,
          258248.37976999476,
          224343.125,
          192562.5,
          301715.35479186836,
          889930.5202312139,
          329800,
          137987.5,
          316367.3333333333,
          280777.77777777775,
          214343.125,
          557923.8832487309,
          1132644.2606060605,
          185378.33333333334,
          280459.10894308944,
          244192.94716981132,
          216892.85714285713,
          311369.75,
          271279.47569304943,
          326873.13713509846,
          343329.78512960434,
          282365.8451730419,
          288462.32214670064,
          343687.1875,
          218563.63636363635,
          252615.8096064815,
          317454.9808327826,
          329142.69161834475,
          280669.93375065207,
          322160.83530349314,
          234133.33333333334,
          201369.80952380953,
          297216.4221698113,
          301355.1972972973,
          293547.7690387016,
          291091.73632918246,
          248554.36885738315,
          223181.81818181818,
          91000,
          251707.93204819277,
          269979.9739454094,
          280379.879875195,
          306892.79545454547,
          255238.52567403816,
          135975.66666666666,
          227357.14285714287,
          266135.92257785465,
          282164.4952251023,
          336400.831372549,
          281735.4954597049,
          237801.8100174869,
          351306.25,
          579000,
          263175.8782234957,
          261071.1564527758,
          285613.4191367655,
          311960.2019506598,
          251498.36934244237,
          170507.61538461538,
          315244.1666666667,
          318996.01048810006,
          289701.2093160377,
          287176.190851735,
          257497.80427201395,
          231160.7503642545,
          229449.4,
          163000,
          253481.64965517243,
          314336.6412776413,
          288512.83775351016,
          264515.67391304346,
          256738.15027512982,
          346345.45454545453,
          174806.25,
          268006.20644599304,
          331268.2826086957,
          271300.1056863871,
          286735.33243967826,
          250953.81413955928,
          201133.84615384616,
          1154642.1875,
          261036.33911007026,
          339706.8095567867,
          261768.38003502626,
          314919.2866629773,
          245570.8110920666,
          165893.18181818182,
          118750,
          269782.175081056,
          292404.00737100735,
          310024.90869800106,
          291408.8791208791,
          232142.6744675582,
          244370.83333333334,
          456533,
          247190.7420774648,
          346572.71794871794,
          283829.2503703704,
          312082.50554249244,
          244176.05867876645,
          303359.6666666667,
          198426.17647058822,
          308097.343737495,
          288440.5218855219,
          287522.6956765862,
          271885.431621759,
          253960.59648265754,
          195100,
          200964.2857142857,
          307553.07954545453,
          266351.1048623316,
          298149.365,
          281111.1198237885,
          235759.93752165377,
          268718.75,
          221060,
          271086.8464211258,
          333580.9765002098,
          323087.85208633094,
          240432.86695857192,
          329596.1538461539,
          168426.19047619047,
          272833.3333333333,
          374789.44444444444,
          306777.35447394295,
          318474.2662201758,
          301089.4781553398,
          261965.87741356084,
          777913.875,
          227562.5,
          264997.8145221971,
          296148.1307471264,
          332285.9883480549,
          280229.7088740793,
          257062.98155940595,
          193880.55555555556,
          430502,
          202365.89285714287,
          256003.66901054746,
          292052.83349374396,
          307371.4011379801,
          252137.4030808729,
          325163.8888888889,
          205017.16666666666,
          289393.19204655674,
          274518.4512937595,
          383683.8523856859,
          339120.49396551726,
          269159.5190436141,
          243671.73913043478,
          178741.66666666666,
          284084.95756207674,
          271753.71451271186,
          267075.35965312645,
          391506.5364730878,
          239162.95290833784,
          279551.9583333333,
          201406.33333333334,
          290390.95454545453,
          282391.8313976772,
          295770.466908133,
          265529.4282951982,
          264544.82947999076,
          437208.3870967742,
          862983.4444444445,
          284098.77383676585,
          307973.14705882355,
          299454.28675703856,
          345852.6554084893,
          246089.79793354467,
          143852.35294117648,
          2761497.6,
          293439.0551694179,
          273913.1674277017,
          276283.8560079444,
          288649.02416601,
          246576.43580060423,
          377856,
          165300,
          303049.1254114549,
          361491.29947089945,
          284078.6955368979,
          286249.07205825986,
          244927.29023313135,
          168631.81818181818,
          238669.54545454544,
          282682.160989602,
          357728.47336983576,
          297456.8638941399,
          307015.7408511792,
          246587.96734667275,
          236455,
          206131,
          341831.20351725066,
          332674.91226792865,
          311241.0327944573,
          309560.6838879159,
          259669.43956302127,
          158055.27777777778,
          221492.14285714287,
          289108.1267553585,
          286874.1760710554,
          291271.172337605,
          298000.7106656581,
          267561.8777789946,
          331307.6923076923,
          243091,
          293409.80150753766,
          318775.22041006526,
          311725.0694383016,
          313207.0749211357,
          276465.3710281374,
          258043.33333333334,
          266736.84210526315,
          309437.7579058327,
          302632.0079217148,
          289118.1334693878,
          301114.94772075233,
          253724.38843052692,
          227803.47826086957,
          205632.3947368421,
          283614.42234736215,
          293849.63870703767,
          300653.57180939685,
          309669.3171675097,
          362903.391553409,
          12139365.384615384,
          154375,
          289086.9024640657,
          341450.5157997083,
          280044.5445505171,
          292431.782837787,
          263288.4655741311,
          329874.4375,
          213200,
          284315.19708276796,
          269409.95420519594,
          338808.35246679315,
          300935.1996060407,
          266273.04891304346,
          209014.4375,
          609623.6666666666,
          274598.20683229814,
          290355.78109656303,
          332524.2381450488,
          323095.5805970149,
          248591.86149479658,
          226803.05555555556,
          281071.0714285714,
          257464.51612903227,
          278149.1514172946,
          323003.3388138579,
          299580.4326431836,
          272540.19159288506,
          364074.25,
          309130,
          325953.26902336726,
          318966.7121132669,
          314468.9176688252,
          293390.97789115645,
          275536.92453496583,
          198555.58823529413,
          254583.33333333334,
          299535.9820261438,
          284069.2148227712,
          307727.4232127096,
          295371.7282184655,
          264140.04118194507,
          172162.08333333334,
          223500,
          300795.4249817917,
          286126.3506493507,
          309025.4997592682,
          301974.64247642475,
          252281.25524934384,
          232306.2,
          175125,
          286852.1078705553,
          307894.85698808235,
          295643.84170058795,
          293432.7602568676,
          256432.6711448598,
          219578.57142857142,
          293331.36363636365,
          287724.84556962026,
          301649.930075188,
          292751.7282796815,
          301434.05705440074,
          256733.81645262902,
          227771.66666666666,
          281524.45454545453,
          272120.8181038181,
          336174.0051282051,
          286585.2384578772,
          309087.13196864113,
          260955.83822007588,
          239750,
          212380.76923076922,
          336389.51168224297,
          286552.15789473685,
          328359.8573920628,
          322671.35354785476,
          251217.69640671933,
          202728.29166666666,
          197243.75,
          256018.63128800443,
          364233.5399061033,
          277242.6024150268,
          282225.08882082696,
          240839.23043138787,
          298026.05263157893,
          283102.77777777775,
          285696.3137254902,
          284669.739169272,
          286688.6390395043,
          309298.08811936935,
          260517.88367643682,
          223037.4375,
          183749.375,
          256622.30378338278,
          275085.06140350876,
          349478.4346076459,
          319006.5110701107,
          256525.58751256563,
          309895.8333333333,
          216516,
          257205.26421267894,
          270339.33313468413,
          305815.27221438644,
          398437.67137981474,
          269442.5668620728,
          268644.1176470588,
          182251.5,
          305422.48514448514,
          311802.4700665189,
          270274.55926622765,
          326883.74535519123,
          262507.8318527919,
          225360.83333333334,
          157333.33333333334,
          276405.87578369904,
          290233.48827930173,
          273238.81886942673,
          272022.59316770185,
          252585.5710564201,
          316676.4705882353,
          334610,
          301292.6041666667,
          296296.51574212895,
          358483.2658107465,
          304200.474096161,
          245340.5024197531,
          264536.45454545453,
          260250,
          268126.41873278236,
          313513.9962476548,
          312707.884502924,
          313413.37097855227,
          266122.0252433592,
          234345,
          240198.375,
          290807.76125244616,
          291544.5621148232,
          291241.64625506074,
          289694.89938968007,
          276187.4825374198,
          232218.75,
          197873.75,
          326863.214999021,
          310301.7089026915,
          708163.488764045,
          155750,
          206812.5,
          183833.33333333334,
          296419.23076923075,
          512943.28571428574,
          485072.88412017166,
          1512787.4811320754,
          381447.9772727273,
          268845.71428571426,
          244958.33333333334,
          289640,
          263751.6630125863,
          299468.7873651772,
          312234.69702970295,
          326718.51965601963,
          287660.16678955907,
          163282.91666666666,
          136857.6923076923,
          285537.32267732266,
          278588.351797862,
          300399.9591439689,
          380710.4668304668,
          267825.5726003742,
          233655,
          215750,
          303147.10482180293,
          292104.01313868613,
          314730.1377245509,
          304248.44338565023,
          248436.00247557004,
          151768.15789473685,
          114454.54545454546,
          272592.0806032241,
          309382.2342007435,
          351970.4733879222,
          477524.94678754435,
          264906.2043500253,
          229300,
          268291.4,
          293008.5282331512,
          311456.9910714286,
          266875.72526737966,
          307726.6873920553,
          251104.57713884994,
          188849.16666666666,
          232428.57142857142,
          275709.74327233585,
          271012.38581081084,
          270904.4755287009,
          293539.7590398055,
          254821.41109732317,
          674613.5714285715,
          334802.63157894736,
          290405.1321998612,
          290107.19770946354,
          303399.54618879355,
          324631.7814661134,
          248885.87464503042,
          181718.4375,
          202494.44444444444,
          315887.6048466865,
          294427.96128170897,
          342964.9549647314,
          310759.79462494986,
          272998.8327244924,
          373433.53658536583,
          250750,
          282516.5017467249,
          285211.91252624214,
          334753.50352112675,
          316067.29546695796,
          264062.36888701515,
          255596.42857142858,
          195286.5,
          271820.37979470554,
          297672.9169391759,
          273328.21814791794,
          285729.83908816625,
          256997.98860965468,
          206900,
          854762.625,
          339472.1419087137,
          354314.5240572172,
          285267.13127615064,
          416280.52591535903,
          251353.48524923704,
          176387.9411764706,
          190750,
          264442.62270372116,
          353934.0794739851,
          371595.19208277104,
          325566.465034965,
          257417.61299344734,
          169310.52631578947,
          216174.64285714287,
          293595.26145151694,
          360174.0603625171,
          360792.80465254997,
          273331.267650745,
          259981.16666666666,
          196514.14814814815,
          226931.25,
          176554.31707317074,
          341503.5995271868,
          302580.83693350275,
          310530.40639269404,
          269854.9916956062,
          206611.53846153847,
          281500,
          279008.26873958914,
          296216.1878824969,
          335982.1893670886,
          324824.4264413519,
          264811.1422087746,
          221499.61538461538,
          163750,
          283390.7574590953,
          401109.5537742151,
          274121.2144063028,
          310133.5592927986,
          249461.0480222841,
          214717.35294117648,
          209590.45454545456,
          284191.5830951409,
          304387.50464093796,
          294635.9679408138,
          290581.7190062112,
          251425.07886821878,
          153186.66666666666,
          "",
          139959.0909090909,
          312211.26740506326,
          294070.7294238683,
          360393.5755787562,
          267503.89335989376,
          234846.15384615384,
          176895,
          295998.0313947504,
          300387.3313748531,
          284931.9131985731,
          295839.04421616794,
          257573.10743416453,
          367796.6666666667,
          258827.11111111112,
          318203.3930942895,
          308475.14397120575,
          277572.3960484957,
          303410.349340176,
          259817.65781683626,
          393330,
          151047.8260869565,
          1485034.2857142857,
          275450.87705905986,
          304607.19306080387,
          307742.2005469462,
          263327.9221681723,
          210268.38709677418,
          291000,
          322802.04420073115,
          263476.33002257335,
          292236.93868394813,
          357320.1168353266,
          257793.2344580398,
          219995.16129032258,
          140333.33333333334,
          283344.8190719455,
          316768.32278851786,
          326731.7644589552,
          323219.9620749782,
          262207.3219223173,
          187005.58823529413,
          213849.5,
          287156.26808972505,
          321414.4129129129,
          322446.4227859368,
          318289.68217979313,
          262946.83238463104,
          253894.47368421053,
          163969,
          409828.33989071037,
          310288.4867799811,
          376691.3145336226,
          317103.19113191956,
          263803.3487493128,
          216065.52631578947,
          289638.8888888889,
          304384.0697378468,
          321445.49303452455,
          367090.57325049053,
          319984.1910601266,
          281052.3854469371,
          239581.81818181818,
          224826.0909090909,
          285177.5481904762,
          318293.66984278226,
          374190.13465426606,
          336263.8575310559,
          277904.67193719593,
          252166.38888888888,
          301972.5,
          289834.3883299799,
          405077.5931438881,
          586081.1986520042,
          438261.5462539571,
          260972.72872507048,
          172921.94444444444,
          255813.15789473685,
          390650.85612903227,
          336339.6773345024,
          313097.02642796247,
          327244.52116935485,
          266914.1068240123,
          351551.95652173914,
          235499.375,
          276411.7297128589,
          323571.2820717131,
          311174.8046393621,
          311806.7766129032,
          285680.29428123217,
          927336.1111111111,
          314681.8181818182,
          317225.78784119105,
          340464.01677704195,
          321737.87108433736,
          343377.7907523511,
          268624.2470443899,
          216644.11764705883,
          360833.1666666667,
          290575.5411686587,
          331396.3398544131,
          308755.2027406887,
          316641.0022607385,
          273246.39233010623,
          228100,
          275308.7,
          317857.550245098,
          311266.47842802224,
          342913.162462908,
          328571.0426426426,
          267041.62744507974,
          363789.5,
          186383.33333333334,
          315811.9786250722,
          355179.8347473257,
          319637.00384843105,
          320111.7091444092,
          282122.8543263202,
          187713,
          305880.25,
          243191.4,
          411009.0973624227,
          318058.1576839039,
          318522.2410714286,
          275471.09711316397,
          319250,
          357124.375,
          312642.3973076923,
          338401.9822695035,
          323770.8934099956,
          330018.5180065478,
          270963.0551347739,
          293584.94444444444,
          183445,
          320342.8634837747,
          321562.7567171471,
          310545.2574468085,
          327167.75767425064,
          279393.61328125,
          261307.14285714287,
          257868.75,
          294531.8416542474,
          342441.8935208438,
          304498.73360470374,
          310698.07110536523,
          266588.7591750568,
          285465.84,
          465025,
          287337.69252424146,
          351807.9061876247,
          352108.12063492066,
          313143.66337579617,
          284557.78187840077,
          285260.2631578947,
          167093.75,
          280137.50960407685,
          295639.22978723404,
          355658.15961199295,
          304023.62052313884,
          268488.62558417564,
          277426.9743589744,
          232400,
          281137.08018154313,
          325645.0190362879,
          317903.9269752594,
          355523.9346514745,
          264875.6120750888,
          297631.8181818182,
          204062.25,
          285189.05014641286,
          330474.1152973218,
          325662.97765582125,
          316200.0412087912,
          266567.92425206874,
          218840.5,
          202658.69565217392,
          286818.47068095836,
          304549.9800678541,
          328865.20923076925,
          304673.0887524421,
          281671.9439601494,
          592777.9310344828,
          335170,
          289080.7384916748,
          315635.3903688525,
          364682.096171802,
          317603.05814905814,
          275650.0922054251,
          234197.64705882352,
          183303.84615384616,
          311043.47546132706,
          315060.24808184145,
          334471.58524173027,
          314165.52770511294,
          264710.72689192963,
          246769.375,
          258300,
          321224.7400621118,
          331219.9573661772,
          305939.28837876616,
          302917.4203555246,
          271515.2673726009,
          239352.9411764706,
          392113.1818181818,
          299273.82017699117,
          418259.1312849162,
          321912.4902447676,
          308099.4210367691,
          270273.28267542296,
          211186.19047619047,
          181120.41666666666,
          293876.8243266427,
          376832.3540930979,
          374994.21257861634,
          306113.3664864865,
          296750.77742358897,
          206152.1052631579,
          196529.66666666666,
          293912.0619785459,
          471292.5597227884,
          304542.4520348837,
          347694.59775341,
          275150.8300959136,
          311633.9285714286,
          301228.5714285714,
          297145.5956730769,
          349715.5235196458,
          318881.3809185606,
          374557.44125861104,
          275192.8554828947,
          219035.46875,
          230540.9090909091,
          297402.45496383955,
          309795.2562295927,
          378344.4056534508,
          626632.3901098901,
          286249.75,
          558750,
          483071.8,
          175286.36363636365,
          479913.25,
          516066.67364016734,
          721496.738317757,
          2327453.484848485,
          227975,
          270600,
          330494.8988853503,
          319963.5140579102,
          329617.10741138563,
          345626.9746770026,
          299978.4938675388,
          243162.5,
          194071.42857142858,
          322792.68361325463,
          307195.2607640995,
          346415.3715967623,
          299413.90456621005,
          294687.54121734964,
          363168.15625,
          301000,
          599237.0901137358,
          312478.0912117177,
          290021.2822281167,
          327071.08177688037,
          267253.1984352774,
          298555.55555555556,
          210483.33333333334,
          283730.2069131061,
          299237.4411214953,
          289445.499490835,
          327849.88007054676,
          294714.22672977234,
          379295,
          217660,
          310897.404917403,
          324233.13150492264,
          328630.5355344152,
          306044.6541200407,
          276231.4466683557,
          402453.9375,
          431000,
          306361.49432355724,
          306429.2898644287,
          332633.1144004014,
          331535.93227463803,
          273775.2581595648,
          185577.47368421053,
          241912.5,
          296790.45070422534,
          318020.3271186441,
          299666.9540918164,
          303885.6037165082,
          270909.1516840607,
          197065.7894736842,
          1090743.75,
          266754.1607352366,
          284041.8390875462,
          316118.8868844466,
          326164.17957227136,
          263285.68633917725,
          2685352.3636363638,
          230615.61111111112,
          290051.8803730738,
          357895.02106472617,
          298384.14502923976,
          332183.2010506208,
          267153.4001500563,
          166500,
          258149.5,
          335415.52074966533,
          338569.98979591834,
          285980.2103340292,
          314714.4095122934,
          279630.1341783716,
          212802.77777777778,
          202268.18181818182,
          284694.6054054054,
          330472.12622184446,
          323039.4037149356,
          308212.5621657754,
          274719.16605552647,
          232354.2,
          201378.94736842104,
          298780.67356428737,
          310022.44903796155,
          315598.0989536622,
          281203.2047366091,
          267769.86666666664,
          252198.86486486485,
          219573.74074074073,
          528587.2040816327,
          313384.3134484563,
          318667.56361664116,
          296505.85182302207,
          278690.1022634306,
          252992.14285714287,
          475199,
          295414.87434248975,
          314931.4598117306,
          301354.97576177283,
          323942.2994167207,
          259113.1079918033,
          165713.92857142858,
          276991.6666666667,
          291555.82498284144,
          317803.2749576988,
          325494.07256046706,
          323499.0893947807,
          316784.2395368073,
          231777.22222222222,
          226500,
          293224.6126237624,
          342203.4072208228,
          310481.55948334467,
          336223.2144786602,
          258617.08625172044,
          315000,
          291446.6666666667,
          272608.384180791,
          337547.9547908232,
          300427.2913580247,
          341325.2738669238,
          264755.3999158957,
          425460.1515151515,
          1269237.9473684211,
          185460,
          282189.8461212378,
          333531.0880952381,
          325162.6408839779,
          266334.98865963146,
          253312.5,
          179404.0909090909,
          283080.7267194157,
          318989.6515732924,
          389232.94105960266,
          300357.6629177378,
          260646.67590383557,
          192500,
          338301.15,
          284632.69675262657,
          312456.49547668756,
          307393.89342629485,
          370956.6746297181,
          263402.1490528415,
          186345,
          226986.35714285713,
          304162.2031624341,
          379501.92645381985,
          311658.84707832575,
          329549.172783738,
          267734.20055129257,
          315944.44444444444,
          244133.16666666666,
          353091.2068965517,
          356177.83659466327,
          309455.75407512404,
          341461.9239598278,
          268811.4884219554,
          407050,
          209111.11111111112,
          342965.5016347501,
          340253.30109606707,
          344515.1925078044,
          313417.21303501946,
          285714.80650705955,
          200156.25,
          250145.76923076922,
          294779.1653144016,
          354531.565701559,
          353898.34774692764,
          335746.8591845313,
          274479.88348048326,
          264045.8888888889,
          164864.46153846153,
          290681.64420062694,
          341036.3847429519,
          375087.14985994395,
          384182.8822737975,
          278834.6957787482,
          308327.8947368421,
          249566.37931034484,
          320275.54789915966,
          312261.75487571704,
          314999.9457659372,
          315782.19317540893,
          285216.25959266344,
          314359.0909090909,
          199237.5,
          286193.22398373985,
          360872.7961579509,
          320412.7083739046,
          319719.32914979756,
          268487.7946839929,
          203937.08333333334,
          279947.61904761905,
          313168.35037954454,
          306577.0151199166,
          297069.5539419087,
          355687.81871559634,
          293759.15498681896,
          329636.36363636365,
          318961.3461538461,
          312546.7426878934,
          353588.65098241984,
          308398.64423076925,
          317862.121641791,
          310832.7424486725,
          729670.5882352941,
          206522.72727272726,
          297353.31295087596,
          311133.28629213484,
          303299.2564792999,
          312409.8401937046,
          289439.8704387991,
          283068.8095238095,
          702276.9615384615,
          323899.0693913555,
          369060.7957149975,
          304263.43084401236,
          370254.43000401126,
          263953.998502994,
          309385.3125,
          249491.66666666666,
          280770.73100035347,
          295309.5135802469,
          301022.6979236437,
          306534.4240097009,
          287161.2206336498,
          217071.42857142858,
          322309.0909090909,
          296551.62483311084,
          325857.6911831887,
          433423.47812376823,
          304748.82683410443,
          277278.0681916739,
          162210,
          272208.3333333333,
          293546.972909699,
          311476.0941370768,
          313704.380173913,
          291580.17980422464,
          268940.1100446241,
          462475,
          547194.6388888889,
          240903.78723404257,
          322561.9247371334,
          314985.044353463,
          343439.77098321344,
          289250.4585298197,
          209640,
          207964.16666666666,
          311023.1879861711,
          326676.297657082,
          315632.1477045908,
          334491.9552306989,
          288053.83532714844,
          154583.33333333334,
          253945.42105263157,
          361594.6677631579,
          380190.9893081761,
          322421.5760532151,
          305265.8784846319,
          306478.26173791173,
          390595,
          334215.3125,
          283394.2610989011,
          389223.9686723023,
          353759.4089686099,
          318148.7626459144,
          289883.64671532845,
          416828.72222222225,
          423449.75,
          321026.67267267266,
          350236.8590197069,
          386477.22484385845,
          504857.4733577671,
          332929.5448918426,
          174084.69565217392,
          231941.17647058822,
          306480.11348314607,
          337779.8337041157,
          397664.7655367232,
          413478.8759656652,
          291538.3771327014,
          1038788.4444444445,
          223437.5,
          274844.5834324217,
          333661.3308314088,
          468329.36862745095,
          318939.79101314116,
          305348.3322098167,
          312609.375,
          195311.29032258064,
          309577.9683544304,
          376029.1952254642,
          335967.6354723708,
          407817.9455555556,
          276699.16733436054,
          397840.625,
          253103.57142857142,
          309045.3823529412,
          365711.8127507802,
          392956.4349376114,
          329494.64303560276,
          290037.72679191665,
          208072.42857142858,
          210100.6976744186,
          365412.0457310678,
          378206.26619552413,
          310827.5396096441,
          367269.1420740064,
          283871.6443843985,
          164349.375,
          225777.27272727274,
          309534.93034427543,
          366996.68258426967,
          322988.28797624935,
          332505.6563737134,
          299225.3165318172,
          196749.375,
          425722.22222222225,
          327776.7871531737,
          454207.18370445346,
          326215.5657657658,
          352878.4805045872,
          280836.06751539186,
          184516.46153846153,
          307341.6666666667,
          398225.0011240165,
          270287.70775347913,
          355960.9148753224,
          522116.1760673107,
          283147.6787818438,
          189777.8125,
          441225,
          341394.19029850746,
          339872.3790794979,
          370583.9408429119,
          426232.3705093834,
          299835.58551568055,
          241000,
          181172.42857142858,
          349033.9020125371,
          331574.358642251,
          373381.2773393461,
          356011.43631436315,
          282830.19144851656,
          243149.66666666666,
          420692.75,
          364385.0471869329,
          429160.4424668874,
          403000.2729970326,
          430570.85761795886,
          287843.0894820506,
          257927.5,
          580317.7777777778,
          355878.04615674453,
          330774.819318411,
          314944.57051630435,
          368426.27575757576,
          370150.66542056075,
          228847,
          1307253.8461538462,
          362399.9,
          181037.5,
          760435.5079365079,
          1000970.9937888199,
          1017777.6805555555,
          559560.0588235294,
          3709381.282051282,
          406333.3,
          310912.5420168067,
          313462.8895800933,
          346659.81280077,
          310904.92444578494,
          344937.5,
          104979.6,
          369699.83399209485,
          407898.9540298507,
          331378.8532577904,
          335245.49865951744,
          300749.3488278902,
          317904.54545454547,
          213653.125,
          335103.8972346786,
          374005.07467144565,
          316990.5241301908,
          380249.43277501134,
          316603.6299342105,
          260625,
          177129.33333333334,
          358382.3754137116,
          345170.95866666664,
          382222.94777265744,
          336209.88744225114,
          290225.1987755883,
          252562.5,
          325785.71428571426,
          305800.43011502264,
          408565.3865030675,
          381640.8374088374,
          319303.2984319676,
          282771.2016608997,
          212285.7142857143,
          215900,
          341151.73053589487,
          419381.6054931336,
          309373.31310266594,
          496199.76264396595,
          304214.2671449416,
          246681.81818181818,
          176472.22222222222,
          322023.5044776119,
          326793.49274583557,
          406500.26752175903,
          347892.9756097561,
          288878.74799599196,
          264416.6666666667,
          343833.3333333333,
          314007.3061403509,
          310647.75535366643,
          346923.5709923664,
          355779.9649890591,
          280423.3572183471,
          232817.5,
          192447.4,
          322124.8113985752,
          396084.90615615615,
          349879.7360995851,
          367756.1159159159,
          295572.2855699856,
          203000,
          165500,
          335918.1033966034,
          326859.35225718195,
          324267.53329404833,
          324556.6837009145,
          285444.4830451682,
          181457.6923076923,
          106807.69230769231,
          295541.60770089284,
          333719.15970841615,
          345042.39281997917,
          416316.29693187727,
          278622.2297462342,
          215629.06666666668,
          228083.33333333334,
          335255.6875607386,
          424216.6493998737,
          366240.6640136441,
          355718.5659163987,
          320095.69417770754,
          2907799.3571428573,
          181250,
          379178.7438087105,
          505494.512526096,
          399337.9525564256,
          349631.3961870718,
          348979.458063618,
          2423067.238095238,
          357483.3333333333,
          452741.41035258817,
          324317.0474226804,
          447373.03671596124,
          435918.99613235926,
          310868.73695542046,
          135500,
          281666.6666666667,
          348228.7868731563,
          377732.8051020408,
          393993.7511312217,
          284888.9261987491,
          433379.8,
          215226.81818181818,
          230400,
          280810.9,
          334121.72760227864,
          344198.9649859944,
          345263.31661578716,
          298585.4667527437,
          232276.66666666666,
          352142.85714285716,
          381729.26431492844,
          324247.13004484307,
          361253.06974459725,
          380434.91036717064,
          300241.82537481585,
          202744.0625,
          211361.25,
          563271.1111111111,
          311602.5076775432,
          372990.1108786611,
          358558.9276572064,
          281477.71918119787,
          238250,
          242616.66666666666,
          305600.0917702783,
          339633.4784946237,
          324703.8928373126,
          326537.9497816594,
          278505.057624239,
          2635712.5,
          197350,
          384459.80231945176,
          389867.65853658534,
          331260.82288037165,
          327240.5592203898,
          281190.66169084824,
          286700,
          297500,
          294740.8968701898,
          881441.212264151,
          327766.9180166912,
          361356.0230015083,
          277386.5885040374,
          271625,
          324531.6111111111,
          152418.15789473685,
          322752.8370841487,
          330573.96552617935,
          333619.32175925927,
          279060.4033870639,
          240500,
          "",
          297115.87155346334,
          307948.17384240456,
          321132.095473251,
          334471.4772727273,
          289626.84077100357,
          133599,
          "",
          311567.3156199678,
          361886.8382923674,
          354443.02016498626,
          327977.12413194444,
          276000.3618034164,
          261150,
          475166.6666666667,
          306955.15011037525,
          321939.985,
          353707.2466442953,
          315426.4225122349,
          338113.31651954603,
          242646.66666666666,
          "",
          280753.53779069765,
          314264.10204081633,
          305384.7702702703,
          304357.14285714284
         ]
        }
       ],
       "layout": {
        "legend": {
         "bgcolor": "#F5F6F9",
         "font": {
          "color": "#4D5663"
         }
        },
        "paper_bgcolor": "#F5F6F9",
        "plot_bgcolor": "#F5F6F9",
        "template": {
         "data": {
          "bar": [
           {
            "error_x": {
             "color": "#2a3f5f"
            },
            "error_y": {
             "color": "#2a3f5f"
            },
            "marker": {
             "line": {
              "color": "#E5ECF6",
              "width": 0.5
             }
            },
            "type": "bar"
           }
          ],
          "barpolar": [
           {
            "marker": {
             "line": {
              "color": "#E5ECF6",
              "width": 0.5
             }
            },
            "type": "barpolar"
           }
          ],
          "carpet": [
           {
            "aaxis": {
             "endlinecolor": "#2a3f5f",
             "gridcolor": "white",
             "linecolor": "white",
             "minorgridcolor": "white",
             "startlinecolor": "#2a3f5f"
            },
            "baxis": {
             "endlinecolor": "#2a3f5f",
             "gridcolor": "white",
             "linecolor": "white",
             "minorgridcolor": "white",
             "startlinecolor": "#2a3f5f"
            },
            "type": "carpet"
           }
          ],
          "choropleth": [
           {
            "colorbar": {
             "outlinewidth": 0,
             "ticks": ""
            },
            "type": "choropleth"
           }
          ],
          "contour": [
           {
            "colorbar": {
             "outlinewidth": 0,
             "ticks": ""
            },
            "colorscale": [
             [
              0,
              "#0d0887"
             ],
             [
              0.1111111111111111,
              "#46039f"
             ],
             [
              0.2222222222222222,
              "#7201a8"
             ],
             [
              0.3333333333333333,
              "#9c179e"
             ],
             [
              0.4444444444444444,
              "#bd3786"
             ],
             [
              0.5555555555555556,
              "#d8576b"
             ],
             [
              0.6666666666666666,
              "#ed7953"
             ],
             [
              0.7777777777777778,
              "#fb9f3a"
             ],
             [
              0.8888888888888888,
              "#fdca26"
             ],
             [
              1,
              "#f0f921"
             ]
            ],
            "type": "contour"
           }
          ],
          "contourcarpet": [
           {
            "colorbar": {
             "outlinewidth": 0,
             "ticks": ""
            },
            "type": "contourcarpet"
           }
          ],
          "heatmap": [
           {
            "colorbar": {
             "outlinewidth": 0,
             "ticks": ""
            },
            "colorscale": [
             [
              0,
              "#0d0887"
             ],
             [
              0.1111111111111111,
              "#46039f"
             ],
             [
              0.2222222222222222,
              "#7201a8"
             ],
             [
              0.3333333333333333,
              "#9c179e"
             ],
             [
              0.4444444444444444,
              "#bd3786"
             ],
             [
              0.5555555555555556,
              "#d8576b"
             ],
             [
              0.6666666666666666,
              "#ed7953"
             ],
             [
              0.7777777777777778,
              "#fb9f3a"
             ],
             [
              0.8888888888888888,
              "#fdca26"
             ],
             [
              1,
              "#f0f921"
             ]
            ],
            "type": "heatmap"
           }
          ],
          "heatmapgl": [
           {
            "colorbar": {
             "outlinewidth": 0,
             "ticks": ""
            },
            "colorscale": [
             [
              0,
              "#0d0887"
             ],
             [
              0.1111111111111111,
              "#46039f"
             ],
             [
              0.2222222222222222,
              "#7201a8"
             ],
             [
              0.3333333333333333,
              "#9c179e"
             ],
             [
              0.4444444444444444,
              "#bd3786"
             ],
             [
              0.5555555555555556,
              "#d8576b"
             ],
             [
              0.6666666666666666,
              "#ed7953"
             ],
             [
              0.7777777777777778,
              "#fb9f3a"
             ],
             [
              0.8888888888888888,
              "#fdca26"
             ],
             [
              1,
              "#f0f921"
             ]
            ],
            "type": "heatmapgl"
           }
          ],
          "histogram": [
           {
            "marker": {
             "colorbar": {
              "outlinewidth": 0,
              "ticks": ""
             }
            },
            "type": "histogram"
           }
          ],
          "histogram2d": [
           {
            "colorbar": {
             "outlinewidth": 0,
             "ticks": ""
            },
            "colorscale": [
             [
              0,
              "#0d0887"
             ],
             [
              0.1111111111111111,
              "#46039f"
             ],
             [
              0.2222222222222222,
              "#7201a8"
             ],
             [
              0.3333333333333333,
              "#9c179e"
             ],
             [
              0.4444444444444444,
              "#bd3786"
             ],
             [
              0.5555555555555556,
              "#d8576b"
             ],
             [
              0.6666666666666666,
              "#ed7953"
             ],
             [
              0.7777777777777778,
              "#fb9f3a"
             ],
             [
              0.8888888888888888,
              "#fdca26"
             ],
             [
              1,
              "#f0f921"
             ]
            ],
            "type": "histogram2d"
           }
          ],
          "histogram2dcontour": [
           {
            "colorbar": {
             "outlinewidth": 0,
             "ticks": ""
            },
            "colorscale": [
             [
              0,
              "#0d0887"
             ],
             [
              0.1111111111111111,
              "#46039f"
             ],
             [
              0.2222222222222222,
              "#7201a8"
             ],
             [
              0.3333333333333333,
              "#9c179e"
             ],
             [
              0.4444444444444444,
              "#bd3786"
             ],
             [
              0.5555555555555556,
              "#d8576b"
             ],
             [
              0.6666666666666666,
              "#ed7953"
             ],
             [
              0.7777777777777778,
              "#fb9f3a"
             ],
             [
              0.8888888888888888,
              "#fdca26"
             ],
             [
              1,
              "#f0f921"
             ]
            ],
            "type": "histogram2dcontour"
           }
          ],
          "mesh3d": [
           {
            "colorbar": {
             "outlinewidth": 0,
             "ticks": ""
            },
            "type": "mesh3d"
           }
          ],
          "parcoords": [
           {
            "line": {
             "colorbar": {
              "outlinewidth": 0,
              "ticks": ""
             }
            },
            "type": "parcoords"
           }
          ],
          "pie": [
           {
            "automargin": true,
            "type": "pie"
           }
          ],
          "scatter": [
           {
            "marker": {
             "colorbar": {
              "outlinewidth": 0,
              "ticks": ""
             }
            },
            "type": "scatter"
           }
          ],
          "scatter3d": [
           {
            "line": {
             "colorbar": {
              "outlinewidth": 0,
              "ticks": ""
             }
            },
            "marker": {
             "colorbar": {
              "outlinewidth": 0,
              "ticks": ""
             }
            },
            "type": "scatter3d"
           }
          ],
          "scattercarpet": [
           {
            "marker": {
             "colorbar": {
              "outlinewidth": 0,
              "ticks": ""
             }
            },
            "type": "scattercarpet"
           }
          ],
          "scattergeo": [
           {
            "marker": {
             "colorbar": {
              "outlinewidth": 0,
              "ticks": ""
             }
            },
            "type": "scattergeo"
           }
          ],
          "scattergl": [
           {
            "marker": {
             "colorbar": {
              "outlinewidth": 0,
              "ticks": ""
             }
            },
            "type": "scattergl"
           }
          ],
          "scattermapbox": [
           {
            "marker": {
             "colorbar": {
              "outlinewidth": 0,
              "ticks": ""
             }
            },
            "type": "scattermapbox"
           }
          ],
          "scatterpolar": [
           {
            "marker": {
             "colorbar": {
              "outlinewidth": 0,
              "ticks": ""
             }
            },
            "type": "scatterpolar"
           }
          ],
          "scatterpolargl": [
           {
            "marker": {
             "colorbar": {
              "outlinewidth": 0,
              "ticks": ""
             }
            },
            "type": "scatterpolargl"
           }
          ],
          "scatterternary": [
           {
            "marker": {
             "colorbar": {
              "outlinewidth": 0,
              "ticks": ""
             }
            },
            "type": "scatterternary"
           }
          ],
          "surface": [
           {
            "colorbar": {
             "outlinewidth": 0,
             "ticks": ""
            },
            "colorscale": [
             [
              0,
              "#0d0887"
             ],
             [
              0.1111111111111111,
              "#46039f"
             ],
             [
              0.2222222222222222,
              "#7201a8"
             ],
             [
              0.3333333333333333,
              "#9c179e"
             ],
             [
              0.4444444444444444,
              "#bd3786"
             ],
             [
              0.5555555555555556,
              "#d8576b"
             ],
             [
              0.6666666666666666,
              "#ed7953"
             ],
             [
              0.7777777777777778,
              "#fb9f3a"
             ],
             [
              0.8888888888888888,
              "#fdca26"
             ],
             [
              1,
              "#f0f921"
             ]
            ],
            "type": "surface"
           }
          ],
          "table": [
           {
            "cells": {
             "fill": {
              "color": "#EBF0F8"
             },
             "line": {
              "color": "white"
             }
            },
            "header": {
             "fill": {
              "color": "#C8D4E3"
             },
             "line": {
              "color": "white"
             }
            },
            "type": "table"
           }
          ]
         },
         "layout": {
          "annotationdefaults": {
           "arrowcolor": "#2a3f5f",
           "arrowhead": 0,
           "arrowwidth": 1
          },
          "coloraxis": {
           "colorbar": {
            "outlinewidth": 0,
            "ticks": ""
           }
          },
          "colorscale": {
           "diverging": [
            [
             0,
             "#8e0152"
            ],
            [
             0.1,
             "#c51b7d"
            ],
            [
             0.2,
             "#de77ae"
            ],
            [
             0.3,
             "#f1b6da"
            ],
            [
             0.4,
             "#fde0ef"
            ],
            [
             0.5,
             "#f7f7f7"
            ],
            [
             0.6,
             "#e6f5d0"
            ],
            [
             0.7,
             "#b8e186"
            ],
            [
             0.8,
             "#7fbc41"
            ],
            [
             0.9,
             "#4d9221"
            ],
            [
             1,
             "#276419"
            ]
           ],
           "sequential": [
            [
             0,
             "#0d0887"
            ],
            [
             0.1111111111111111,
             "#46039f"
            ],
            [
             0.2222222222222222,
             "#7201a8"
            ],
            [
             0.3333333333333333,
             "#9c179e"
            ],
            [
             0.4444444444444444,
             "#bd3786"
            ],
            [
             0.5555555555555556,
             "#d8576b"
            ],
            [
             0.6666666666666666,
             "#ed7953"
            ],
            [
             0.7777777777777778,
             "#fb9f3a"
            ],
            [
             0.8888888888888888,
             "#fdca26"
            ],
            [
             1,
             "#f0f921"
            ]
           ],
           "sequentialminus": [
            [
             0,
             "#0d0887"
            ],
            [
             0.1111111111111111,
             "#46039f"
            ],
            [
             0.2222222222222222,
             "#7201a8"
            ],
            [
             0.3333333333333333,
             "#9c179e"
            ],
            [
             0.4444444444444444,
             "#bd3786"
            ],
            [
             0.5555555555555556,
             "#d8576b"
            ],
            [
             0.6666666666666666,
             "#ed7953"
            ],
            [
             0.7777777777777778,
             "#fb9f3a"
            ],
            [
             0.8888888888888888,
             "#fdca26"
            ],
            [
             1,
             "#f0f921"
            ]
           ]
          },
          "colorway": [
           "#636efa",
           "#EF553B",
           "#00cc96",
           "#ab63fa",
           "#FFA15A",
           "#19d3f3",
           "#FF6692",
           "#B6E880",
           "#FF97FF",
           "#FECB52"
          ],
          "font": {
           "color": "#2a3f5f"
          },
          "geo": {
           "bgcolor": "white",
           "lakecolor": "white",
           "landcolor": "#E5ECF6",
           "showlakes": true,
           "showland": true,
           "subunitcolor": "white"
          },
          "hoverlabel": {
           "align": "left"
          },
          "hovermode": "closest",
          "mapbox": {
           "style": "light"
          },
          "paper_bgcolor": "white",
          "plot_bgcolor": "#E5ECF6",
          "polar": {
           "angularaxis": {
            "gridcolor": "white",
            "linecolor": "white",
            "ticks": ""
           },
           "bgcolor": "#E5ECF6",
           "radialaxis": {
            "gridcolor": "white",
            "linecolor": "white",
            "ticks": ""
           }
          },
          "scene": {
           "xaxis": {
            "backgroundcolor": "#E5ECF6",
            "gridcolor": "white",
            "gridwidth": 2,
            "linecolor": "white",
            "showbackground": true,
            "ticks": "",
            "zerolinecolor": "white"
           },
           "yaxis": {
            "backgroundcolor": "#E5ECF6",
            "gridcolor": "white",
            "gridwidth": 2,
            "linecolor": "white",
            "showbackground": true,
            "ticks": "",
            "zerolinecolor": "white"
           },
           "zaxis": {
            "backgroundcolor": "#E5ECF6",
            "gridcolor": "white",
            "gridwidth": 2,
            "linecolor": "white",
            "showbackground": true,
            "ticks": "",
            "zerolinecolor": "white"
           }
          },
          "shapedefaults": {
           "line": {
            "color": "#2a3f5f"
           }
          },
          "ternary": {
           "aaxis": {
            "gridcolor": "white",
            "linecolor": "white",
            "ticks": ""
           },
           "baxis": {
            "gridcolor": "white",
            "linecolor": "white",
            "ticks": ""
           },
           "bgcolor": "#E5ECF6",
           "caxis": {
            "gridcolor": "white",
            "linecolor": "white",
            "ticks": ""
           }
          },
          "title": {
           "x": 0.05
          },
          "xaxis": {
           "automargin": true,
           "gridcolor": "white",
           "linecolor": "white",
           "ticks": "",
           "title": {
            "standoff": 15
           },
           "zerolinecolor": "white",
           "zerolinewidth": 2
          },
          "yaxis": {
           "automargin": true,
           "gridcolor": "white",
           "linecolor": "white",
           "ticks": "",
           "title": {
            "standoff": 15
           },
           "zerolinecolor": "white",
           "zerolinewidth": 2
          }
         }
        },
        "title": {
         "font": {
          "color": "#4D5663"
         },
         "text": "Mean price on the basis of Days"
        },
        "xaxis": {
         "gridcolor": "#E1E5ED",
         "showgrid": true,
         "tickfont": {
          "color": "#4D5663"
         },
         "title": {
          "font": {
           "color": "#4D5663"
          },
          "text": ""
         },
         "zerolinecolor": "#E1E5ED"
        },
        "yaxis": {
         "gridcolor": "#E1E5ED",
         "showgrid": true,
         "tickfont": {
          "color": "#4D5663"
         },
         "title": {
          "font": {
           "color": "#4D5663"
          },
          "text": ""
         },
         "zerolinecolor": "#E1E5ED"
        }
       }
      },
      "text/html": [
       "<div>                            <div id=\"adf89195-ecb6-40cd-8e66-45d70e005505\" class=\"plotly-graph-div\" style=\"height:525px; width:100%;\"></div>            <script type=\"text/javascript\">                require([\"plotly\"], function(Plotly) {                    window.PLOTLYENV=window.PLOTLYENV || {};\n",
       "                    window.PLOTLYENV.BASE_URL='https://plot.ly';                                    if (document.getElementById(\"adf89195-ecb6-40cd-8e66-45d70e005505\")) {                    Plotly.newPlot(                        \"adf89195-ecb6-40cd-8e66-45d70e005505\",                        [{\"line\": {\"color\": \"rgba(255, 153, 51, 1.0)\", \"dash\": \"solid\", \"shape\": \"linear\", \"width\": 1.3}, \"mode\": \"lines\", \"name\": \"Price\", \"text\": \"\", \"type\": \"scatter\", \"x\": [\"2012-01-01\", \"2012-01-02\", \"2012-01-03\", \"2012-01-04\", \"2012-01-05\", \"2012-01-06\", \"2012-01-07\", \"2012-01-08\", \"2012-01-09\", \"2012-01-10\", \"2012-01-11\", \"2012-01-12\", \"2012-01-13\", \"2012-01-14\", \"2012-01-15\", \"2012-01-16\", \"2012-01-17\", \"2012-01-18\", \"2012-01-19\", \"2012-01-20\", \"2012-01-21\", \"2012-01-22\", \"2012-01-23\", \"2012-01-24\", \"2012-01-25\", \"2012-01-26\", \"2012-01-27\", \"2012-01-28\", \"2012-01-29\", \"2012-01-30\", \"2012-01-31\", \"2012-02-01\", \"2012-02-02\", \"2012-02-03\", \"2012-02-04\", \"2012-02-05\", \"2012-02-06\", \"2012-02-07\", \"2012-02-08\", \"2012-02-09\", \"2012-02-10\", \"2012-02-11\", \"2012-02-12\", \"2012-02-13\", \"2012-02-14\", \"2012-02-15\", \"2012-02-16\", \"2012-02-17\", \"2012-02-18\", \"2012-02-19\", \"2012-02-20\", \"2012-02-21\", \"2012-02-22\", \"2012-02-23\", \"2012-02-24\", \"2012-02-25\", \"2012-02-26\", \"2012-02-27\", \"2012-02-28\", \"2012-02-29\", \"2012-03-01\", \"2012-03-02\", \"2012-03-03\", \"2012-03-04\", \"2012-03-05\", \"2012-03-06\", \"2012-03-07\", \"2012-03-08\", \"2012-03-09\", \"2012-03-10\", \"2012-03-11\", \"2012-03-12\", \"2012-03-13\", \"2012-03-14\", \"2012-03-15\", \"2012-03-16\", \"2012-03-17\", \"2012-03-18\", \"2012-03-19\", \"2012-03-20\", \"2012-03-21\", \"2012-03-22\", \"2012-03-23\", \"2012-03-24\", \"2012-03-25\", \"2012-03-26\", \"2012-03-27\", \"2012-03-28\", \"2012-03-29\", \"2012-03-30\", \"2012-03-31\", \"2012-04-01\", \"2012-04-02\", \"2012-04-03\", \"2012-04-04\", \"2012-04-05\", \"2012-04-06\", \"2012-04-07\", \"2012-04-08\", \"2012-04-09\", \"2012-04-10\", \"2012-04-11\", \"2012-04-12\", \"2012-04-13\", \"2012-04-14\", \"2012-04-15\", \"2012-04-16\", \"2012-04-17\", \"2012-04-18\", \"2012-04-19\", \"2012-04-20\", \"2012-04-21\", \"2012-04-22\", \"2012-04-23\", \"2012-04-24\", \"2012-04-25\", \"2012-04-26\", \"2012-04-27\", \"2012-04-28\", \"2012-04-29\", \"2012-04-30\", \"2012-05-01\", \"2012-05-02\", \"2012-05-03\", \"2012-05-04\", \"2012-05-05\", \"2012-05-06\", \"2012-05-07\", \"2012-05-08\", \"2012-05-09\", \"2012-05-10\", \"2012-05-11\", \"2012-05-12\", \"2012-05-13\", \"2012-05-14\", \"2012-05-15\", \"2012-05-16\", \"2012-05-17\", \"2012-05-18\", \"2012-05-19\", \"2012-05-20\", \"2012-05-21\", \"2012-05-22\", \"2012-05-23\", \"2012-05-24\", \"2012-05-25\", \"2012-05-26\", \"2012-05-27\", \"2012-05-28\", \"2012-05-29\", \"2012-05-30\", \"2012-05-31\", \"2012-06-01\", \"2012-06-02\", \"2012-06-03\", \"2012-06-04\", \"2012-06-05\", \"2012-06-06\", \"2012-06-07\", \"2012-06-08\", \"2012-06-09\", \"2012-06-10\", \"2012-06-11\", \"2012-06-12\", \"2012-06-13\", \"2012-06-14\", \"2012-06-15\", \"2012-06-16\", \"2012-06-17\", \"2012-06-18\", \"2012-06-19\", \"2012-06-20\", \"2012-06-21\", \"2012-06-22\", \"2012-06-23\", \"2012-06-24\", \"2012-06-25\", \"2012-06-26\", \"2012-06-27\", \"2012-06-28\", \"2012-06-29\", \"2012-06-30\", \"2012-07-01\", \"2012-07-02\", \"2012-07-03\", \"2012-07-04\", \"2012-07-05\", \"2012-07-06\", \"2012-07-07\", \"2012-07-08\", \"2012-07-09\", \"2012-07-10\", \"2012-07-11\", \"2012-07-12\", \"2012-07-13\", \"2012-07-14\", \"2012-07-15\", \"2012-07-16\", \"2012-07-17\", \"2012-07-18\", \"2012-07-19\", \"2012-07-20\", \"2012-07-21\", \"2012-07-22\", \"2012-07-23\", \"2012-07-24\", \"2012-07-25\", \"2012-07-26\", \"2012-07-27\", \"2012-07-28\", \"2012-07-29\", \"2012-07-30\", \"2012-07-31\", \"2012-08-01\", \"2012-08-02\", \"2012-08-03\", \"2012-08-04\", \"2012-08-05\", \"2012-08-06\", \"2012-08-07\", \"2012-08-08\", \"2012-08-09\", \"2012-08-10\", \"2012-08-11\", \"2012-08-12\", \"2012-08-13\", \"2012-08-14\", \"2012-08-15\", \"2012-08-16\", \"2012-08-17\", \"2012-08-18\", \"2012-08-19\", \"2012-08-20\", \"2012-08-21\", \"2012-08-22\", \"2012-08-23\", \"2012-08-24\", \"2012-08-25\", \"2012-08-26\", \"2012-08-27\", \"2012-08-28\", \"2012-08-29\", \"2012-08-30\", \"2012-08-31\", \"2012-09-01\", \"2012-09-02\", \"2012-09-03\", \"2012-09-04\", \"2012-09-05\", \"2012-09-06\", \"2012-09-07\", \"2012-09-08\", \"2012-09-09\", \"2012-09-10\", \"2012-09-11\", \"2012-09-12\", \"2012-09-13\", \"2012-09-14\", \"2012-09-15\", \"2012-09-16\", \"2012-09-17\", \"2012-09-18\", \"2012-09-19\", \"2012-09-20\", \"2012-09-21\", \"2012-09-22\", \"2012-09-23\", \"2012-09-24\", \"2012-09-25\", \"2012-09-26\", \"2012-09-27\", \"2012-09-28\", \"2012-09-29\", \"2012-09-30\", \"2012-10-01\", \"2012-10-02\", \"2012-10-03\", \"2012-10-04\", \"2012-10-05\", \"2012-10-06\", \"2012-10-07\", \"2012-10-08\", \"2012-10-09\", \"2012-10-10\", \"2012-10-11\", \"2012-10-12\", \"2012-10-13\", \"2012-10-14\", \"2012-10-15\", \"2012-10-16\", \"2012-10-17\", \"2012-10-18\", \"2012-10-19\", \"2012-10-20\", \"2012-10-21\", \"2012-10-22\", \"2012-10-23\", \"2012-10-24\", \"2012-10-25\", \"2012-10-26\", \"2012-10-27\", \"2012-10-28\", \"2012-10-29\", \"2012-10-30\", \"2012-10-31\", \"2012-11-01\", \"2012-11-02\", \"2012-11-03\", \"2012-11-04\", \"2012-11-05\", \"2012-11-06\", \"2012-11-07\", \"2012-11-08\", \"2012-11-09\", \"2012-11-10\", \"2012-11-11\", \"2012-11-12\", \"2012-11-13\", \"2012-11-14\", \"2012-11-15\", \"2012-11-16\", \"2012-11-17\", \"2012-11-18\", \"2012-11-19\", \"2012-11-20\", \"2012-11-21\", \"2012-11-22\", \"2012-11-23\", \"2012-11-24\", \"2012-11-25\", \"2012-11-26\", \"2012-11-27\", \"2012-11-28\", \"2012-11-29\", \"2012-11-30\", \"2012-12-01\", \"2012-12-02\", \"2012-12-03\", \"2012-12-04\", \"2012-12-05\", \"2012-12-06\", \"2012-12-07\", \"2012-12-08\", \"2012-12-09\", \"2012-12-10\", \"2012-12-11\", \"2012-12-12\", \"2012-12-13\", \"2012-12-14\", \"2012-12-15\", \"2012-12-16\", \"2012-12-17\", \"2012-12-18\", \"2012-12-19\", \"2012-12-20\", \"2012-12-21\", \"2012-12-22\", \"2012-12-23\", \"2012-12-24\", \"2012-12-25\", \"2012-12-26\", \"2012-12-27\", \"2012-12-28\", \"2012-12-29\", \"2012-12-30\", \"2012-12-31\", \"2013-01-01\", \"2013-01-02\", \"2013-01-03\", \"2013-01-04\", \"2013-01-05\", \"2013-01-06\", \"2013-01-07\", \"2013-01-08\", \"2013-01-09\", \"2013-01-10\", \"2013-01-11\", \"2013-01-12\", \"2013-01-13\", \"2013-01-14\", \"2013-01-15\", \"2013-01-16\", \"2013-01-17\", \"2013-01-18\", \"2013-01-19\", \"2013-01-20\", \"2013-01-21\", \"2013-01-22\", \"2013-01-23\", \"2013-01-24\", \"2013-01-25\", \"2013-01-26\", \"2013-01-27\", \"2013-01-28\", \"2013-01-29\", \"2013-01-30\", \"2013-01-31\", \"2013-02-01\", \"2013-02-02\", \"2013-02-03\", \"2013-02-04\", \"2013-02-05\", \"2013-02-06\", \"2013-02-07\", \"2013-02-08\", \"2013-02-09\", \"2013-02-10\", \"2013-02-11\", \"2013-02-12\", \"2013-02-13\", \"2013-02-14\", \"2013-02-15\", \"2013-02-16\", \"2013-02-17\", \"2013-02-18\", \"2013-02-19\", \"2013-02-20\", \"2013-02-21\", \"2013-02-22\", \"2013-02-23\", \"2013-02-24\", \"2013-02-25\", \"2013-02-26\", \"2013-02-27\", \"2013-02-28\", \"2013-03-01\", \"2013-03-02\", \"2013-03-03\", \"2013-03-04\", \"2013-03-05\", \"2013-03-06\", \"2013-03-07\", \"2013-03-08\", \"2013-03-09\", \"2013-03-10\", \"2013-03-11\", \"2013-03-12\", \"2013-03-13\", \"2013-03-14\", \"2013-03-15\", \"2013-03-16\", \"2013-03-17\", \"2013-03-18\", \"2013-03-19\", \"2013-03-20\", \"2013-03-21\", \"2013-03-22\", \"2013-03-23\", \"2013-03-24\", \"2013-03-25\", \"2013-03-26\", \"2013-03-27\", \"2013-03-28\", \"2013-03-29\", \"2013-03-30\", \"2013-03-31\", \"2013-04-01\", \"2013-04-02\", \"2013-04-03\", \"2013-04-04\", \"2013-04-05\", \"2013-04-06\", \"2013-04-07\", \"2013-04-08\", \"2013-04-09\", \"2013-04-10\", \"2013-04-11\", \"2013-04-12\", \"2013-04-13\", \"2013-04-14\", \"2013-04-15\", \"2013-04-16\", \"2013-04-17\", \"2013-04-18\", \"2013-04-19\", \"2013-04-20\", \"2013-04-21\", \"2013-04-22\", \"2013-04-23\", \"2013-04-24\", \"2013-04-25\", \"2013-04-26\", \"2013-04-27\", \"2013-04-28\", \"2013-04-29\", \"2013-04-30\", \"2013-05-01\", \"2013-05-02\", \"2013-05-03\", \"2013-05-04\", \"2013-05-05\", \"2013-05-06\", \"2013-05-07\", \"2013-05-08\", \"2013-05-09\", \"2013-05-10\", \"2013-05-11\", \"2013-05-12\", \"2013-05-13\", \"2013-05-14\", \"2013-05-15\", \"2013-05-16\", \"2013-05-17\", \"2013-05-18\", \"2013-05-19\", \"2013-05-20\", \"2013-05-21\", \"2013-05-22\", \"2013-05-23\", \"2013-05-24\", \"2013-05-25\", \"2013-05-26\", \"2013-05-27\", \"2013-05-28\", \"2013-05-29\", \"2013-05-30\", \"2013-05-31\", \"2013-06-01\", \"2013-06-02\", \"2013-06-03\", \"2013-06-04\", \"2013-06-05\", \"2013-06-06\", \"2013-06-07\", \"2013-06-08\", \"2013-06-09\", \"2013-06-10\", \"2013-06-11\", \"2013-06-12\", \"2013-06-13\", \"2013-06-14\", \"2013-06-15\", \"2013-06-16\", \"2013-06-17\", \"2013-06-18\", \"2013-06-19\", \"2013-06-20\", \"2013-06-21\", \"2013-06-22\", \"2013-06-23\", \"2013-06-24\", \"2013-06-25\", \"2013-06-26\", \"2013-06-27\", \"2013-06-28\", \"2013-06-29\", \"2013-06-30\", \"2013-07-01\", \"2013-07-02\", \"2013-07-03\", \"2013-07-04\", \"2013-07-05\", \"2013-07-06\", \"2013-07-07\", \"2013-07-08\", \"2013-07-09\", \"2013-07-10\", \"2013-07-11\", \"2013-07-12\", \"2013-07-13\", \"2013-07-14\", \"2013-07-15\", \"2013-07-16\", \"2013-07-17\", \"2013-07-18\", \"2013-07-19\", \"2013-07-20\", \"2013-07-21\", \"2013-07-22\", \"2013-07-23\", \"2013-07-24\", \"2013-07-25\", \"2013-07-26\", \"2013-07-27\", \"2013-07-28\", \"2013-07-29\", \"2013-07-30\", \"2013-07-31\", \"2013-08-01\", \"2013-08-02\", \"2013-08-03\", \"2013-08-04\", \"2013-08-05\", \"2013-08-06\", \"2013-08-07\", \"2013-08-08\", \"2013-08-09\", \"2013-08-10\", \"2013-08-11\", \"2013-08-12\", \"2013-08-13\", \"2013-08-14\", \"2013-08-15\", \"2013-08-16\", \"2013-08-17\", \"2013-08-18\", \"2013-08-19\", \"2013-08-20\", \"2013-08-21\", \"2013-08-22\", \"2013-08-23\", \"2013-08-24\", \"2013-08-25\", \"2013-08-26\", \"2013-08-27\", \"2013-08-28\", \"2013-08-29\", \"2013-08-30\", \"2013-08-31\", \"2013-09-01\", \"2013-09-02\", \"2013-09-03\", \"2013-09-04\", \"2013-09-05\", \"2013-09-06\", \"2013-09-07\", \"2013-09-08\", \"2013-09-09\", \"2013-09-10\", \"2013-09-11\", \"2013-09-12\", \"2013-09-13\", \"2013-09-14\", \"2013-09-15\", \"2013-09-16\", \"2013-09-17\", \"2013-09-18\", \"2013-09-19\", \"2013-09-20\", \"2013-09-21\", \"2013-09-22\", \"2013-09-23\", \"2013-09-24\", \"2013-09-25\", \"2013-09-26\", \"2013-09-27\", \"2013-09-28\", \"2013-09-29\", \"2013-09-30\", \"2013-10-01\", \"2013-10-02\", \"2013-10-03\", \"2013-10-04\", \"2013-10-05\", \"2013-10-06\", \"2013-10-07\", \"2013-10-08\", \"2013-10-09\", \"2013-10-10\", \"2013-10-11\", \"2013-10-12\", \"2013-10-13\", \"2013-10-14\", \"2013-10-15\", \"2013-10-16\", \"2013-10-17\", \"2013-10-18\", \"2013-10-19\", \"2013-10-20\", \"2013-10-21\", \"2013-10-22\", \"2013-10-23\", \"2013-10-24\", \"2013-10-25\", \"2013-10-26\", \"2013-10-27\", \"2013-10-28\", \"2013-10-29\", \"2013-10-30\", \"2013-10-31\", \"2013-11-01\", \"2013-11-02\", \"2013-11-03\", \"2013-11-04\", \"2013-11-05\", \"2013-11-06\", \"2013-11-07\", \"2013-11-08\", \"2013-11-09\", \"2013-11-10\", \"2013-11-11\", \"2013-11-12\", \"2013-11-13\", \"2013-11-14\", \"2013-11-15\", \"2013-11-16\", \"2013-11-17\", \"2013-11-18\", \"2013-11-19\", \"2013-11-20\", \"2013-11-21\", \"2013-11-22\", \"2013-11-23\", \"2013-11-24\", \"2013-11-25\", \"2013-11-26\", \"2013-11-27\", \"2013-11-28\", \"2013-11-29\", \"2013-11-30\", \"2013-12-01\", \"2013-12-02\", \"2013-12-03\", \"2013-12-04\", \"2013-12-05\", \"2013-12-06\", \"2013-12-07\", \"2013-12-08\", \"2013-12-09\", \"2013-12-10\", \"2013-12-11\", \"2013-12-12\", \"2013-12-13\", \"2013-12-14\", \"2013-12-15\", \"2013-12-16\", \"2013-12-17\", \"2013-12-18\", \"2013-12-19\", \"2013-12-20\", \"2013-12-21\", \"2013-12-22\", \"2013-12-23\", \"2013-12-24\", \"2013-12-25\", \"2013-12-26\", \"2013-12-27\", \"2013-12-28\", \"2013-12-29\", \"2013-12-30\", \"2013-12-31\", \"2014-01-01\", \"2014-01-02\", \"2014-01-03\", \"2014-01-04\", \"2014-01-05\", \"2014-01-06\", \"2014-01-07\", \"2014-01-08\", \"2014-01-09\", \"2014-01-10\", \"2014-01-11\", \"2014-01-12\", \"2014-01-13\", \"2014-01-14\", \"2014-01-15\", \"2014-01-16\", \"2014-01-17\", \"2014-01-18\", \"2014-01-19\", \"2014-01-20\", \"2014-01-21\", \"2014-01-22\", \"2014-01-23\", \"2014-01-24\", \"2014-01-25\", \"2014-01-26\", \"2014-01-27\", \"2014-01-28\", \"2014-01-29\", \"2014-01-30\", \"2014-01-31\", \"2014-02-01\", \"2014-02-02\", \"2014-02-03\", \"2014-02-04\", \"2014-02-05\", \"2014-02-06\", \"2014-02-07\", \"2014-02-08\", \"2014-02-09\", \"2014-02-10\", \"2014-02-11\", \"2014-02-12\", \"2014-02-13\", \"2014-02-14\", \"2014-02-15\", \"2014-02-16\", \"2014-02-17\", \"2014-02-18\", \"2014-02-19\", \"2014-02-20\", \"2014-02-21\", \"2014-02-22\", \"2014-02-23\", \"2014-02-24\", \"2014-02-25\", \"2014-02-26\", \"2014-02-27\", \"2014-02-28\", \"2014-03-01\", \"2014-03-02\", \"2014-03-03\", \"2014-03-04\", \"2014-03-05\", \"2014-03-06\", \"2014-03-07\", \"2014-03-08\", \"2014-03-09\", \"2014-03-10\", \"2014-03-11\", \"2014-03-12\", \"2014-03-13\", \"2014-03-14\", \"2014-03-15\", \"2014-03-16\", \"2014-03-17\", \"2014-03-18\", \"2014-03-19\", \"2014-03-20\", \"2014-03-21\", \"2014-03-22\", \"2014-03-23\", \"2014-03-24\", \"2014-03-25\", \"2014-03-26\", \"2014-03-27\", \"2014-03-28\", \"2014-03-29\", \"2014-03-30\", \"2014-03-31\", \"2014-04-01\", \"2014-04-02\", \"2014-04-03\", \"2014-04-04\", \"2014-04-05\", \"2014-04-06\", \"2014-04-07\", \"2014-04-08\", \"2014-04-09\", \"2014-04-10\", \"2014-04-11\", \"2014-04-12\", \"2014-04-13\", \"2014-04-14\", \"2014-04-15\", \"2014-04-16\", \"2014-04-17\", \"2014-04-18\", \"2014-04-19\", \"2014-04-20\", \"2014-04-21\", \"2014-04-22\", \"2014-04-23\", \"2014-04-24\", \"2014-04-25\", \"2014-04-26\", \"2014-04-27\", \"2014-04-28\", \"2014-04-29\", \"2014-04-30\", \"2014-05-01\", \"2014-05-02\", \"2014-05-03\", \"2014-05-04\", \"2014-05-05\", \"2014-05-06\", \"2014-05-07\", \"2014-05-08\", \"2014-05-09\", \"2014-05-10\", \"2014-05-11\", \"2014-05-12\", \"2014-05-13\", \"2014-05-14\", \"2014-05-15\", \"2014-05-16\", \"2014-05-17\", \"2014-05-18\", \"2014-05-19\", \"2014-05-20\", \"2014-05-21\", \"2014-05-22\", \"2014-05-23\", \"2014-05-24\", \"2014-05-25\", \"2014-05-26\", \"2014-05-27\", \"2014-05-28\", \"2014-05-29\", \"2014-05-30\", \"2014-05-31\", \"2014-06-01\", \"2014-06-02\", \"2014-06-03\", \"2014-06-04\", \"2014-06-05\", \"2014-06-06\", \"2014-06-07\", \"2014-06-08\", \"2014-06-09\", \"2014-06-10\", \"2014-06-11\", \"2014-06-12\", \"2014-06-13\", \"2014-06-14\", \"2014-06-15\", \"2014-06-16\", \"2014-06-17\", \"2014-06-18\", \"2014-06-19\", \"2014-06-20\", \"2014-06-21\", \"2014-06-22\", \"2014-06-23\", \"2014-06-24\", \"2014-06-25\", \"2014-06-26\", \"2014-06-27\", \"2014-06-28\", \"2014-06-29\", \"2014-06-30\", \"2014-07-01\", \"2014-07-02\", \"2014-07-03\", \"2014-07-04\", \"2014-07-05\", \"2014-07-06\", \"2014-07-07\", \"2014-07-08\", \"2014-07-09\", \"2014-07-10\", \"2014-07-11\", \"2014-07-12\", \"2014-07-13\", \"2014-07-14\", \"2014-07-15\", \"2014-07-16\", \"2014-07-17\", \"2014-07-18\", \"2014-07-19\", \"2014-07-20\", \"2014-07-21\", \"2014-07-22\", \"2014-07-23\", \"2014-07-24\", \"2014-07-25\", \"2014-07-26\", \"2014-07-27\", \"2014-07-28\", \"2014-07-29\", \"2014-07-30\", \"2014-07-31\", \"2014-08-01\", \"2014-08-02\", \"2014-08-03\", \"2014-08-04\", \"2014-08-05\", \"2014-08-06\", \"2014-08-07\", \"2014-08-08\", \"2014-08-09\", \"2014-08-10\", \"2014-08-11\", \"2014-08-12\", \"2014-08-13\", \"2014-08-14\", \"2014-08-15\", \"2014-08-16\", \"2014-08-17\", \"2014-08-18\", \"2014-08-19\", \"2014-08-20\", \"2014-08-21\", \"2014-08-22\", \"2014-08-23\", \"2014-08-24\", \"2014-08-25\", \"2014-08-26\", \"2014-08-27\", \"2014-08-28\", \"2014-08-29\", \"2014-08-30\", \"2014-08-31\", \"2014-09-01\", \"2014-09-02\", \"2014-09-03\", \"2014-09-04\", \"2014-09-05\", \"2014-09-06\", \"2014-09-07\", \"2014-09-08\", \"2014-09-09\", \"2014-09-10\", \"2014-09-11\", \"2014-09-12\", \"2014-09-13\", \"2014-09-14\", \"2014-09-15\", \"2014-09-16\", \"2014-09-17\", \"2014-09-18\", \"2014-09-19\", \"2014-09-20\", \"2014-09-21\", \"2014-09-22\", \"2014-09-23\", \"2014-09-24\", \"2014-09-25\", \"2014-09-26\", \"2014-09-27\", \"2014-09-28\", \"2014-09-29\", \"2014-09-30\", \"2014-10-01\", \"2014-10-02\", \"2014-10-03\", \"2014-10-04\", \"2014-10-05\", \"2014-10-06\", \"2014-10-07\", \"2014-10-08\", \"2014-10-09\", \"2014-10-10\", \"2014-10-11\", \"2014-10-12\", \"2014-10-13\", \"2014-10-14\", \"2014-10-15\", \"2014-10-16\", \"2014-10-17\", \"2014-10-18\", \"2014-10-19\", \"2014-10-20\", \"2014-10-21\", \"2014-10-22\", \"2014-10-23\", \"2014-10-24\", \"2014-10-25\", \"2014-10-26\", \"2014-10-27\", \"2014-10-28\", \"2014-10-29\", \"2014-10-30\", \"2014-10-31\", \"2014-11-01\", \"2014-11-02\", \"2014-11-03\", \"2014-11-04\", \"2014-11-05\", \"2014-11-06\", \"2014-11-07\", \"2014-11-08\", \"2014-11-09\", \"2014-11-10\", \"2014-11-11\", \"2014-11-12\", \"2014-11-13\", \"2014-11-14\", \"2014-11-15\", \"2014-11-16\", \"2014-11-17\", \"2014-11-18\", \"2014-11-19\", \"2014-11-20\", \"2014-11-21\", \"2014-11-22\", \"2014-11-23\", \"2014-11-24\", \"2014-11-25\", \"2014-11-26\", \"2014-11-27\", \"2014-11-28\", \"2014-11-29\", \"2014-11-30\", \"2014-12-01\", \"2014-12-02\", \"2014-12-03\", \"2014-12-04\", \"2014-12-05\", \"2014-12-06\", \"2014-12-07\", \"2014-12-08\", \"2014-12-09\", \"2014-12-10\", \"2014-12-11\", \"2014-12-12\", \"2014-12-13\", \"2014-12-14\", \"2014-12-15\", \"2014-12-16\", \"2014-12-17\", \"2014-12-18\", \"2014-12-19\", \"2014-12-20\", \"2014-12-21\", \"2014-12-22\", \"2014-12-23\", \"2014-12-24\", \"2014-12-25\", \"2014-12-26\", \"2014-12-27\", \"2014-12-28\", \"2014-12-29\", \"2014-12-30\", \"2014-12-31\", \"2015-01-01\", \"2015-01-02\", \"2015-01-03\", \"2015-01-04\", \"2015-01-05\", \"2015-01-06\", \"2015-01-07\", \"2015-01-08\", \"2015-01-09\", \"2015-01-10\", \"2015-01-11\", \"2015-01-12\", \"2015-01-13\", \"2015-01-14\", \"2015-01-15\", \"2015-01-16\", \"2015-01-17\", \"2015-01-18\", \"2015-01-19\", \"2015-01-20\", \"2015-01-21\", \"2015-01-22\", \"2015-01-23\", \"2015-01-24\", \"2015-01-25\", \"2015-01-26\", \"2015-01-27\", \"2015-01-28\", \"2015-01-29\", \"2015-01-30\", \"2015-01-31\", \"2015-02-01\", \"2015-02-02\", \"2015-02-03\", \"2015-02-04\", \"2015-02-05\", \"2015-02-06\", \"2015-02-07\", \"2015-02-08\", \"2015-02-09\", \"2015-02-10\", \"2015-02-11\", \"2015-02-12\", \"2015-02-13\", \"2015-02-14\", \"2015-02-15\", \"2015-02-16\", \"2015-02-17\", \"2015-02-18\", \"2015-02-19\", \"2015-02-20\", \"2015-02-21\", \"2015-02-22\", \"2015-02-23\", \"2015-02-24\", \"2015-02-25\", \"2015-02-26\", \"2015-02-27\", \"2015-02-28\", \"2015-03-01\", \"2015-03-02\", \"2015-03-03\", \"2015-03-04\", \"2015-03-05\", \"2015-03-06\", \"2015-03-07\", \"2015-03-08\", \"2015-03-09\", \"2015-03-10\", \"2015-03-11\", \"2015-03-12\", \"2015-03-13\", \"2015-03-14\", \"2015-03-15\", \"2015-03-16\", \"2015-03-17\", \"2015-03-18\", \"2015-03-19\", \"2015-03-20\", \"2015-03-21\", \"2015-03-22\", \"2015-03-23\", \"2015-03-24\", \"2015-03-25\", \"2015-03-26\", \"2015-03-27\", \"2015-03-28\", \"2015-03-29\", \"2015-03-30\", \"2015-03-31\", \"2015-04-01\", \"2015-04-02\", \"2015-04-03\", \"2015-04-04\", \"2015-04-05\", \"2015-04-06\", \"2015-04-07\", \"2015-04-08\", \"2015-04-09\", \"2015-04-10\", \"2015-04-11\", \"2015-04-12\", \"2015-04-13\", \"2015-04-14\", \"2015-04-15\", \"2015-04-16\", \"2015-04-17\", \"2015-04-18\", \"2015-04-19\", \"2015-04-20\", \"2015-04-21\", \"2015-04-22\", \"2015-04-23\", \"2015-04-24\", \"2015-04-25\", \"2015-04-26\", \"2015-04-27\", \"2015-04-28\", \"2015-04-29\", \"2015-04-30\", \"2015-05-01\", \"2015-05-02\", \"2015-05-03\", \"2015-05-04\", \"2015-05-05\", \"2015-05-06\", \"2015-05-07\", \"2015-05-08\", \"2015-05-09\", \"2015-05-10\", \"2015-05-11\", \"2015-05-12\", \"2015-05-13\", \"2015-05-14\", \"2015-05-15\", \"2015-05-16\", \"2015-05-17\", \"2015-05-18\", \"2015-05-19\", \"2015-05-20\", \"2015-05-21\", \"2015-05-22\", \"2015-05-23\", \"2015-05-24\", \"2015-05-25\", \"2015-05-26\", \"2015-05-27\", \"2015-05-28\", \"2015-05-29\", \"2015-05-30\", \"2015-05-31\", \"2015-06-01\", \"2015-06-02\", \"2015-06-03\", \"2015-06-04\", \"2015-06-05\", \"2015-06-06\", \"2015-06-07\", \"2015-06-08\", \"2015-06-09\", \"2015-06-10\", \"2015-06-11\", \"2015-06-12\", \"2015-06-13\", \"2015-06-14\", \"2015-06-15\", \"2015-06-16\", \"2015-06-17\", \"2015-06-18\", \"2015-06-19\", \"2015-06-20\", \"2015-06-21\", \"2015-06-22\", \"2015-06-23\", \"2015-06-24\", \"2015-06-25\", \"2015-06-26\", \"2015-06-27\", \"2015-06-28\", \"2015-06-29\", \"2015-06-30\", \"2015-07-01\", \"2015-07-02\", \"2015-07-03\", \"2015-07-04\", \"2015-07-05\", \"2015-07-06\", \"2015-07-07\", \"2015-07-08\", \"2015-07-09\", \"2015-07-10\", \"2015-07-11\", \"2015-07-12\", \"2015-07-13\", \"2015-07-14\", \"2015-07-15\", \"2015-07-16\", \"2015-07-17\", \"2015-07-18\", \"2015-07-19\", \"2015-07-20\", \"2015-07-21\", \"2015-07-22\", \"2015-07-23\", \"2015-07-24\", \"2015-07-25\", \"2015-07-26\", \"2015-07-27\", \"2015-07-28\", \"2015-07-29\", \"2015-07-30\", \"2015-07-31\", \"2015-08-01\", \"2015-08-02\", \"2015-08-03\", \"2015-08-04\", \"2015-08-05\", \"2015-08-06\", \"2015-08-07\", \"2015-08-08\", \"2015-08-09\", \"2015-08-10\", \"2015-08-11\", \"2015-08-12\", \"2015-08-13\", \"2015-08-14\", \"2015-08-15\", \"2015-08-16\", \"2015-08-17\", \"2015-08-18\", \"2015-08-19\", \"2015-08-20\", \"2015-08-21\", \"2015-08-22\", \"2015-08-23\", \"2015-08-24\", \"2015-08-25\", \"2015-08-26\", \"2015-08-27\", \"2015-08-28\", \"2015-08-29\", \"2015-08-30\", \"2015-08-31\", \"2015-09-01\", \"2015-09-02\", \"2015-09-03\", \"2015-09-04\", \"2015-09-05\", \"2015-09-06\", \"2015-09-07\", \"2015-09-08\", \"2015-09-09\", \"2015-09-10\", \"2015-09-11\", \"2015-09-12\", \"2015-09-13\", \"2015-09-14\", \"2015-09-15\", \"2015-09-16\", \"2015-09-17\", \"2015-09-18\", \"2015-09-19\", \"2015-09-20\", \"2015-09-21\", \"2015-09-22\", \"2015-09-23\", \"2015-09-24\", \"2015-09-25\", \"2015-09-26\", \"2015-09-27\", \"2015-09-28\", \"2015-09-29\", \"2015-09-30\", \"2015-10-01\", \"2015-10-02\", \"2015-10-03\", \"2015-10-04\", \"2015-10-05\", \"2015-10-06\", \"2015-10-07\", \"2015-10-08\", \"2015-10-09\", \"2015-10-10\", \"2015-10-11\", \"2015-10-12\", \"2015-10-13\", \"2015-10-14\", \"2015-10-15\", \"2015-10-16\", \"2015-10-17\", \"2015-10-18\", \"2015-10-19\", \"2015-10-20\", \"2015-10-21\", \"2015-10-22\", \"2015-10-23\", \"2015-10-24\", \"2015-10-25\", \"2015-10-26\", \"2015-10-27\", \"2015-10-28\", \"2015-10-29\", \"2015-10-30\", \"2015-10-31\", \"2015-11-01\", \"2015-11-02\", \"2015-11-03\", \"2015-11-04\", \"2015-11-05\", \"2015-11-06\", \"2015-11-07\", \"2015-11-08\", \"2015-11-09\", \"2015-11-10\", \"2015-11-11\", \"2015-11-12\", \"2015-11-13\", \"2015-11-14\", \"2015-11-15\", \"2015-11-16\", \"2015-11-17\", \"2015-11-18\", \"2015-11-19\", \"2015-11-20\", \"2015-11-21\", \"2015-11-22\", \"2015-11-23\", \"2015-11-24\", \"2015-11-25\", \"2015-11-26\", \"2015-11-27\", \"2015-11-28\", \"2015-11-29\", \"2015-11-30\", \"2015-12-01\", \"2015-12-02\", \"2015-12-03\", \"2015-12-04\", \"2015-12-05\", \"2015-12-06\", \"2015-12-07\", \"2015-12-08\", \"2015-12-09\", \"2015-12-10\", \"2015-12-11\", \"2015-12-12\", \"2015-12-13\", \"2015-12-14\", \"2015-12-15\", \"2015-12-16\", \"2015-12-17\", \"2015-12-18\", \"2015-12-19\", \"2015-12-20\", \"2015-12-21\", \"2015-12-22\", \"2015-12-23\", \"2015-12-24\", \"2015-12-25\", \"2015-12-26\", \"2015-12-27\", \"2015-12-28\", \"2015-12-29\", \"2015-12-30\", \"2015-12-31\", \"2016-01-01\", \"2016-01-02\", \"2016-01-03\", \"2016-01-04\", \"2016-01-05\", \"2016-01-06\", \"2016-01-07\", \"2016-01-08\", \"2016-01-09\", \"2016-01-10\", \"2016-01-11\", \"2016-01-12\", \"2016-01-13\", \"2016-01-14\", \"2016-01-15\", \"2016-01-16\", \"2016-01-17\", \"2016-01-18\", \"2016-01-19\", \"2016-01-20\", \"2016-01-21\", \"2016-01-22\", \"2016-01-23\", \"2016-01-24\", \"2016-01-25\", \"2016-01-26\", \"2016-01-27\", \"2016-01-28\", \"2016-01-29\", \"2016-01-30\", \"2016-01-31\", \"2016-02-01\", \"2016-02-02\", \"2016-02-03\", \"2016-02-04\", \"2016-02-05\", \"2016-02-06\", \"2016-02-07\", \"2016-02-08\", \"2016-02-09\", \"2016-02-10\", \"2016-02-11\", \"2016-02-12\", \"2016-02-13\", \"2016-02-14\", \"2016-02-15\", \"2016-02-16\", \"2016-02-17\", \"2016-02-18\", \"2016-02-19\", \"2016-02-20\", \"2016-02-21\", \"2016-02-22\", \"2016-02-23\", \"2016-02-24\", \"2016-02-25\", \"2016-02-26\", \"2016-02-27\", \"2016-02-28\", \"2016-02-29\", \"2016-03-01\", \"2016-03-02\", \"2016-03-03\", \"2016-03-04\", \"2016-03-05\", \"2016-03-06\", \"2016-03-07\", \"2016-03-08\", \"2016-03-09\", \"2016-03-10\", \"2016-03-11\", \"2016-03-12\", \"2016-03-13\", \"2016-03-14\", \"2016-03-15\", \"2016-03-16\", \"2016-03-17\", \"2016-03-18\", \"2016-03-19\", \"2016-03-20\", \"2016-03-21\", \"2016-03-22\", \"2016-03-23\", \"2016-03-24\", \"2016-03-25\", \"2016-03-26\", \"2016-03-27\", \"2016-03-28\", \"2016-03-29\", \"2016-03-30\", \"2016-03-31\", \"2016-04-01\", \"2016-04-02\", \"2016-04-03\", \"2016-04-04\", \"2016-04-05\", \"2016-04-06\", \"2016-04-07\", \"2016-04-08\", \"2016-04-09\", \"2016-04-10\", \"2016-04-11\", \"2016-04-12\", \"2016-04-13\", \"2016-04-14\", \"2016-04-15\", \"2016-04-16\", \"2016-04-17\", \"2016-04-18\", \"2016-04-19\", \"2016-04-20\", \"2016-04-21\", \"2016-04-22\", \"2016-04-23\", \"2016-04-24\", \"2016-04-25\", \"2016-04-26\", \"2016-04-27\", \"2016-04-28\", \"2016-04-29\", \"2016-04-30\", \"2016-05-01\", \"2016-05-02\", \"2016-05-03\", \"2016-05-04\", \"2016-05-05\", \"2016-05-06\", \"2016-05-07\", \"2016-05-08\", \"2016-05-09\", \"2016-05-10\", \"2016-05-11\", \"2016-05-12\", \"2016-05-13\", \"2016-05-14\", \"2016-05-15\", \"2016-05-16\", \"2016-05-17\", \"2016-05-18\", \"2016-05-19\", \"2016-05-20\", \"2016-05-21\", \"2016-05-22\", \"2016-05-23\", \"2016-05-24\", \"2016-05-25\", \"2016-05-26\", \"2016-05-27\", \"2016-05-28\", \"2016-05-29\", \"2016-05-30\", \"2016-05-31\", \"2016-06-01\", \"2016-06-02\", \"2016-06-03\", \"2016-06-04\", \"2016-06-05\", \"2016-06-06\", \"2016-06-07\", \"2016-06-08\", \"2016-06-09\", \"2016-06-10\", \"2016-06-11\", \"2016-06-12\", \"2016-06-13\", \"2016-06-14\", \"2016-06-15\", \"2016-06-16\", \"2016-06-17\", \"2016-06-18\", \"2016-06-19\", \"2016-06-20\", \"2016-06-21\", \"2016-06-22\", \"2016-06-23\", \"2016-06-24\", \"2016-06-25\", \"2016-06-26\", \"2016-06-27\", \"2016-06-28\", \"2016-06-29\", \"2016-06-30\", \"2016-07-01\", \"2016-07-02\", \"2016-07-03\", \"2016-07-04\", \"2016-07-05\", \"2016-07-06\", \"2016-07-07\", \"2016-07-08\", \"2016-07-09\", \"2016-07-10\", \"2016-07-11\", \"2016-07-12\", \"2016-07-13\", \"2016-07-14\", \"2016-07-15\", \"2016-07-16\", \"2016-07-17\", \"2016-07-18\", \"2016-07-19\", \"2016-07-20\", \"2016-07-21\", \"2016-07-22\", \"2016-07-23\", \"2016-07-24\", \"2016-07-25\", \"2016-07-26\", \"2016-07-27\", \"2016-07-28\", \"2016-07-29\", \"2016-07-30\", \"2016-07-31\", \"2016-08-01\", \"2016-08-02\", \"2016-08-03\", \"2016-08-04\", \"2016-08-05\", \"2016-08-06\", \"2016-08-07\", \"2016-08-08\", \"2016-08-09\", \"2016-08-10\", \"2016-08-11\", \"2016-08-12\", \"2016-08-13\", \"2016-08-14\", \"2016-08-15\", \"2016-08-16\", \"2016-08-17\", \"2016-08-18\", \"2016-08-19\", \"2016-08-20\", \"2016-08-21\", \"2016-08-22\", \"2016-08-23\", \"2016-08-24\", \"2016-08-25\", \"2016-08-26\", \"2016-08-27\", \"2016-08-28\", \"2016-08-29\", \"2016-08-30\", \"2016-08-31\", \"2016-09-01\", \"2016-09-02\", \"2016-09-03\", \"2016-09-04\", \"2016-09-05\", \"2016-09-06\", \"2016-09-07\", \"2016-09-08\", \"2016-09-09\", \"2016-09-10\", \"2016-09-11\", \"2016-09-12\", \"2016-09-13\", \"2016-09-14\", \"2016-09-15\", \"2016-09-16\", \"2016-09-17\", \"2016-09-18\", \"2016-09-19\", \"2016-09-20\", \"2016-09-21\", \"2016-09-22\", \"2016-09-23\", \"2016-09-24\", \"2016-09-25\", \"2016-09-26\", \"2016-09-27\", \"2016-09-28\", \"2016-09-29\", \"2016-09-30\", \"2016-10-01\", \"2016-10-02\", \"2016-10-03\", \"2016-10-04\", \"2016-10-05\", \"2016-10-06\", \"2016-10-07\", \"2016-10-08\", \"2016-10-09\", \"2016-10-10\", \"2016-10-11\", \"2016-10-12\", \"2016-10-13\", \"2016-10-14\", \"2016-10-15\", \"2016-10-16\", \"2016-10-17\", \"2016-10-18\", \"2016-10-19\", \"2016-10-20\", \"2016-10-21\", \"2016-10-22\", \"2016-10-23\", \"2016-10-24\", \"2016-10-25\", \"2016-10-26\", \"2016-10-27\", \"2016-10-28\", \"2016-10-29\", \"2016-10-30\", \"2016-10-31\", \"2016-11-01\", \"2016-11-02\", \"2016-11-03\", \"2016-11-04\", \"2016-11-05\", \"2016-11-06\", \"2016-11-07\", \"2016-11-08\", \"2016-11-09\", \"2016-11-10\", \"2016-11-11\", \"2016-11-12\", \"2016-11-13\", \"2016-11-14\", \"2016-11-15\", \"2016-11-16\", \"2016-11-17\", \"2016-11-18\", \"2016-11-19\", \"2016-11-20\", \"2016-11-21\", \"2016-11-22\", \"2016-11-23\", \"2016-11-24\", \"2016-11-25\", \"2016-11-26\", \"2016-11-27\", \"2016-11-28\", \"2016-11-29\", \"2016-11-30\", \"2016-12-01\", \"2016-12-02\", \"2016-12-03\", \"2016-12-04\", \"2016-12-05\", \"2016-12-06\", \"2016-12-07\", \"2016-12-08\", \"2016-12-09\", \"2016-12-10\", \"2016-12-11\", \"2016-12-12\", \"2016-12-13\", \"2016-12-14\", \"2016-12-15\", \"2016-12-16\", \"2016-12-17\", \"2016-12-18\", \"2016-12-19\", \"2016-12-20\", \"2016-12-21\", \"2016-12-22\", \"2016-12-23\", \"2016-12-24\", \"2016-12-25\", \"2016-12-26\", \"2016-12-27\", \"2016-12-28\", \"2016-12-29\", \"2016-12-30\", \"2016-12-31\", \"2017-01-01\", \"2017-01-02\", \"2017-01-03\", \"2017-01-04\", \"2017-01-05\", \"2017-01-06\", \"2017-01-07\", \"2017-01-08\", \"2017-01-09\", \"2017-01-10\", \"2017-01-11\", \"2017-01-12\", \"2017-01-13\", \"2017-01-14\", \"2017-01-15\", \"2017-01-16\", \"2017-01-17\", \"2017-01-18\", \"2017-01-19\", \"2017-01-20\", \"2017-01-21\", \"2017-01-22\", \"2017-01-23\", \"2017-01-24\", \"2017-01-25\", \"2017-01-26\", \"2017-01-27\", \"2017-01-28\", \"2017-01-29\", \"2017-01-30\", \"2017-01-31\", \"2017-02-01\", \"2017-02-02\", \"2017-02-03\", \"2017-02-04\", \"2017-02-05\", \"2017-02-06\", \"2017-02-07\", \"2017-02-08\", \"2017-02-09\", \"2017-02-10\", \"2017-02-11\", \"2017-02-12\", \"2017-02-13\", \"2017-02-14\", \"2017-02-15\", \"2017-02-16\", \"2017-02-17\", \"2017-02-18\", \"2017-02-19\", \"2017-02-20\", \"2017-02-21\", \"2017-02-22\", \"2017-02-23\", \"2017-02-24\", \"2017-02-25\", \"2017-02-26\", \"2017-02-27\", \"2017-02-28\", \"2017-03-01\", \"2017-03-02\", \"2017-03-03\", \"2017-03-04\", \"2017-03-05\", \"2017-03-06\", \"2017-03-07\", \"2017-03-08\", \"2017-03-09\", \"2017-03-10\", \"2017-03-11\", \"2017-03-12\", \"2017-03-13\", \"2017-03-14\", \"2017-03-15\", \"2017-03-16\", \"2017-03-17\", \"2017-03-18\", \"2017-03-19\", \"2017-03-20\", \"2017-03-21\", \"2017-03-22\", \"2017-03-23\", \"2017-03-24\", \"2017-03-25\", \"2017-03-26\", \"2017-03-27\", \"2017-03-28\", \"2017-03-29\", \"2017-03-30\", \"2017-03-31\", \"2017-04-01\", \"2017-04-02\", \"2017-04-03\", \"2017-04-04\", \"2017-04-05\", \"2017-04-06\", \"2017-04-07\", \"2017-04-08\", \"2017-04-09\", \"2017-04-10\", \"2017-04-11\", \"2017-04-12\", \"2017-04-13\", \"2017-04-14\", \"2017-04-15\", \"2017-04-16\", \"2017-04-17\", \"2017-04-18\", \"2017-04-19\", \"2017-04-20\", \"2017-04-21\", \"2017-04-22\", \"2017-04-23\", \"2017-04-24\", \"2017-04-25\", \"2017-04-26\", \"2017-04-27\", \"2017-04-28\", \"2017-04-29\", \"2017-04-30\", \"2017-05-01\", \"2017-05-02\", \"2017-05-03\", \"2017-05-04\", \"2017-05-05\", \"2017-05-06\", \"2017-05-07\", \"2017-05-08\", \"2017-05-09\", \"2017-05-10\", \"2017-05-11\", \"2017-05-12\", \"2017-05-13\", \"2017-05-14\", \"2017-05-15\", \"2017-05-16\", \"2017-05-17\", \"2017-05-18\", \"2017-05-19\", \"2017-05-20\", \"2017-05-21\", \"2017-05-22\", \"2017-05-23\", \"2017-05-24\", \"2017-05-25\", \"2017-05-26\", \"2017-05-27\", \"2017-05-28\", \"2017-05-29\", \"2017-05-30\", \"2017-05-31\", \"2017-06-01\", \"2017-06-02\", \"2017-06-03\", \"2017-06-04\", \"2017-06-05\", \"2017-06-06\", \"2017-06-07\", \"2017-06-08\", \"2017-06-09\", \"2017-06-10\", \"2017-06-11\", \"2017-06-12\", \"2017-06-13\", \"2017-06-14\", \"2017-06-15\", \"2017-06-16\", \"2017-06-17\", \"2017-06-18\", \"2017-06-19\", \"2017-06-20\", \"2017-06-21\", \"2017-06-22\", \"2017-06-23\", \"2017-06-24\", \"2017-06-25\", \"2017-06-26\", \"2017-06-27\", \"2017-06-28\", \"2017-06-29\"], \"y\": [244083.33333333334, 163855.8, 217274.9300567108, 232991.51863600317, 264136.24, 227664.12082777036, 174285.7142857143, 257938.33333333334, 233531.74275618375, 259003.69504950495, 233977.63765373698, 250122.7325153374, 212755.21194417396, 322478.26086956525, 254041.66666666666, 258172.25661375662, 247225.62974358976, 236076.26705981465, 260321.7743772242, 217204.7338452894, 216024.94444444444, 293766.6666666667, 230763.31892697467, 246044.54274353877, 225585.86755485894, 233165.36671177266, 213736.83450451744, 157180.0, 279785.45454545453, 216235.92148065058, 257697.87206896552, 256227.56363636363, 237145.05595026643, 218904.52995199332, 229899.0, 181833.33333333334, 221200.3912386707, 239521.45707656612, 240625.89335664336, 249369.14926590538, 217532.10264663806, 222790.0, 210863.54545454544, 217776.15338793746, 250119.00793650793, 246995.0543900544, 228037.5059259259, 212942.90853174604, 221000.0, 168625.0, 234231.16608513606, 253349.57279489905, 215894.52081406105, 246743.36198106335, 214129.42319545822, 167653.84615384616, 138300.0, 232099.06846733668, 240076.38769868694, 247137.97997010464, 242639.19487179487, 215772.62601804975, 205041.2068965517, 230707.14285714287, 218360.6591422122, 236345.97365406645, 232031.43196347033, 229607.27773343975, 211795.81785855393, 168093.33333333334, 301750.0, 222250.75544624034, 221092.88067444877, 240455.12652439025, 243961.24661746618, 217748.76158940396, 314850.0, 217281.81818181818, 220526.3629675046, 227308.18381344306, 232797.43352272728, 211601.32872727272, 199107.110393751, 205876.19047619047, 174900.0, 279018.99929627025, 245582.29499467518, 256791.33960948396, 248303.02055498457, 225717.71419001897, 209291.17647058822, 151597.9, 258200.72561629154, 269077.1715881883, 251567.8944748631, 208052.2029491657, 198956.25, 88666.66666666667, 138612.5, 171832.07142857142, 256434.0760790051, 251424.27313915858, 257706.90538764783, 219089.76744186046, 173226.92307692306, 418015.0, 252092.4150566289, 253252.2579681275, 234825.59377859102, 242850.36270190895, 224412.6246840775, 167285.35714285713, 173375.0, 251173.14178544635, 277781.6834532374, 251714.69877675842, 245171.73518284992, 221710.85846649657, 198927.85714285713, 162850.0, 245339.49916415915, 271317.2831669044, 232943.58934707905, 256648.9084224599, 223067.6990544506, 156121.38888888888, 207200.0, 174570.0, 235576.48139711467, 250729.9784, 259268.59361702128, 218340.4233287046, 171428.57142857142, 113100.0, 245228.73782467534, 258325.2449725777, 274447.48189655173, 245864.9013888889, 222985.79230096238, 169850.22222222222, 160490.0, 225075.7378138848, 233119.24711111112, 244857.772005772, 251725.98007246378, 220134.39407903925, 229302.44444444444, 185385.0, 229556.3897937025, 256353.88904299584, 264520.07010515773, 256389.65872240672, 227570.1895245559, 142687.5, 149500.0, 218191.38888888888, 184750.0, 251975.43761996162, 270394.23206997087, 228678.004164188, 164400.0, 220983.33333333334, 241979.25762952448, 288598.99665831245, 272779.1153846154, 292251.670447385, 229868.13932921743, 275038.46153846156, 217100.0, 261446.5031887755, 254084.12360594794, 246840.6829446064, 255551.51615029664, 222198.14159725624, 233929.66666666666, 232489.9, 240139.79460674158, 278360.0240050537, 247621.88615847542, 252344.05171208945, 232291.91732345524, 193913.61111111112, 155773.125, 254053.98479472884, 262264.5973101266, 289238.32207792206, 254887.93486127866, 238361.6811452741, 303583.3333333333, 145555.55555555556, 251926.19579193453, 294364.8509272468, 267040.1059479554, 278927.34947735193, 242326.62988505748, 173149.5, 425123.23529411765, 292630.52943760983, 270504.19883889693, 267524.1525821596, 261340.98410174882, 234094.76208631997, 260522.72727272726, 171764.5, 254631.28739002932, 270254.11627906974, 275022.1190727081, 258451.74977538185, 220537.95460168234, 209500.0, 286392.85714285716, 246140.00043365135, 253182.61533723437, 277847.460591133, 261327.1789019124, 232225.85288410654, 220500.0, 176875.0, 262732.0412426352, 270568.8236658933, 258291.09382422804, 271592.58530805685, 233763.1200908796, 205736.42857142858, 121200.0, 256416.61710677383, 277316.3984915148, 270897.9989594173, 274580.79920589906, 230335.81142948614, 289466.6666666667, 262408.63636363635, 264155.43896601244, 267245.5110812626, 256413.88702201622, 274738.4441535777, 223689.38197767144, 179190.0, 151070.7142857143, 197816.66666666666, 262237.9654036244, 254222.88584269662, 265457.9473469388, 243028.28485479578, 180530.38461538462, 212500.0, 258728.2513312034, 278645.67150496563, 279999.9903703704, 281827.34403669724, 234035.00187521309, 223666.66666666666, 290800.0, 272290.17625459, 263779.98721461184, 261567.2972027972, 268685.89608313347, 240272.30322580645, 158200.0, 248722.22222222222, 251544.82049763034, 271746.2754650133, 245991.69062720225, 262073.31083481348, 225789.1932718745, 414714.28571428574, 381250.0, 237199.88956714762, 254562.7697568389, 250240.08846383743, 261567.44897003745, 237902.369140437, 191636.34615384616, 202538.07692307694, 258413.89601769912, 254005.26283185842, 269834.5882794891, 274169.4015594542, 225002.63569848562, 260142.85714285713, 114647.14285714286, 235593.2030848329, 243139.63299351252, 253621.23529411765, 249546.9029615627, 224537.66666666666, 241444.33333333334, 230282.14285714287, 249396.7181712963, 257367.2718204489, 247366.67357142858, 252543.0960960961, 232585.01081802015, 244565.0, 162230.6923076923, 240338.20509915013, 265495.6418410042, 256713.95779601406, 240078.08013276436, 220028.76235237406, 197642.85714285713, 199184.42307692306, 246802.04248515304, 251462.38679791547, 259215.2409043659, 252477.72400756142, 230751.7506252233, 196806.25, 204666.66666666666, 245523.7006719609, 250964.21534195932, 236374.37267479152, 250862.52355316284, 225178.93827361564, 143222.27272727274, 188392.7857142857, 257007.16858702243, 227090.34639175257, 241856.72085492229, 262081.4390951276, 221286.1061705989, 194599.8, 251785.7142857143, 230598.84845070422, 247804.5312977099, 231266.8144329897, 250186.40948525158, 225107.37895602136, 175368.75, 195809.0909090909, 234759.14906518444, 254520.1007352941, 259133.13365282214, 254429.28700906344, 230291.24903457565, 181245.76923076922, 175500.0, 233042.02939941201, 249115.84539704848, 255698.84178375077, 273645.08125331916, 232109.30065026137, 378610.71428571426, 166788.125, 244434.7250811312, 256517.67123287672, 263887.1909736732, 261471.62246696034, 232473.23571776156, 244390.0, 180593.4375, 248717.8938999711, 236020.6952149792, 229189.2359218892, 216064.29169981438, 221267.19683413627, 168500.0, 133079.375, 283532.675, 162642.85714285713, 140375.0, 210786.92857142858, 291443.97142857144, 253900.0, 157530.0, 245248.70909090908, 254173.58333333334, 217951.17149758455, 231267.67822222222, 248937.6841569027, 166500.0, 233368.75, 242641.01207386365, 273106.43130227004, 247388.2841025641, 275047.6672, 240710.4490526316, 200166.66666666666, 241278.57142857142, 249269.7894736842, 284819.85210577864, 248790.19664903, 250542.76629570746, 234310.14336352894, 170288.88888888888, 180772.72727272726, 239632.4733683421, 250642.7989528796, 253842.19606003753, 259017.31378763868, 226790.8587779835, 156500.0, 265333.3333333333, 239139.13756281408, 240084.72109533468, 242050.46511627908, 265707.1029652113, 228623.0747309685, 162570.7142857143, 152000.0, 255491.61191860464, 240632.2431466031, 233035.58097928436, 274777.4419284149, 219810.36745458096, 243062.5, 248533.33333333334, 239181.58091603054, 249494.94240317776, 234450.14678899082, 290261.50213544845, 229164.2610718594, 221375.0, 107778.71428571429, 230288.1443361754, 241097.7283236994, 237896.2129032258, 250850.934796643, 212451.11265349705, 145457.14285714287, 163000.0, 236204.2224334601, 237271.4671340929, 223935.8540925267, 248209.88672846483, 230067.1092085236, 150545.0, 175800.0, 240853.39683631362, 244491.21436004163, 232035.64199814986, 266505.2149600581, 228113.33301139655, 184000.0, 207625.0, 247329.10851544837, 241025.5945945946, 253313.488008342, 262744.0265780731, 233238.9786613168, 161390.0, 180300.0, 244620.84107259646, 247463.798553719, 238229.43788343557, 254772.24457831326, 227390.35945431472, 166204.54545454544, 222000.0, 237127.106601467, 259331.83496932517, 252130.21740467404, 220431.91262505954, 276772.85714285716, 203500.0, 270451.1212121212, 176564.09677419355, 245612.30354706684, 241376.67871222078, 254684.03121019108, 225050.1114357262, 125299.5, 243857.14285714287, 249808.17154811716, 256187.47588717015, 276025.590625, 268200.0804843305, 234739.19907318015, 231888.88888888888, 287375.0, 261226.35439739414, 267226.8933074685, 243262.3301049233, 254634.9536751081, 228528.81097560975, 164000.0, 243333.33333333334, 253892.18570555895, 279401.5528673835, 245219.35566298343, 255782.66293929712, 222886.59160258758, 125888.88888888889, 409166.1904761905, 253531.1850302185, 266362.881270903, 253372.66425992778, 253331.06302757456, 220014.26194210752, 346087.5, 237431.25, 92913.04347826086, 236396.41941505912, 250329.63679890562, 256052.2555768005, 235589.36154231348, 247677.0, 260783.33333333334, 242502.2406779661, 246586.31479897347, 256184.65645805592, 268396.2252427185, 236229.1169443571, 199954.45454545456, 237083.33333333334, 246729.40966010734, 261195.12553011026, 236084.76744186046, 256833.6223214286, 222329.9641896978, 252228.65384615384, 149428.41666666666, 182797.72222222222, 251033.3047759724, 242798.91666666666, 269490.368660106, 226960.91740412978, 222273.4090909091, 829800.0, 246504.29261672095, 268134.60994560993, 272064.7971014493, 260238.10558624924, 236087.9104148279, 268499.28571428574, 237625.0, 258990.71250707415, 240361.95555555556, 253969.18453105967, 258803.62226391493, 228604.33977792293, 144767.72727272726, 136500.0, 248543.79308538503, 266900.62919708027, 292879.91962174943, 262252.8638220608, 226562.8439176544, 300520.0, 169741.66666666666, 248474.2915162455, 258340.7967528563, 269750.1515151515, 262799.9742527375, 233720.02650023362, 282249.8076923077, 193520.41666666666, 268135.5753138075, 280935.10103469266, 278042.42192103714, 269828.5789733465, 239084.59941763728, 218363.63636363635, 172279.54545454544, 260756.17444029852, 277945.83175675676, 293231.68263781554, 276683.979028133, 244432.15216251637, 249889.47368421053, 195247.22222222222, 268635.3132, 355750.49807197944, 273027.5431211499, 272496.54651729175, 234964.7976128017, 292444.44444444444, 213285.7142857143, 260982.11551577153, 282319.6414674819, 271388.4193548387, 286153.7296238245, 233470.12955378313, 258583.0285714286, 208687.85714285713, 261626.7109402307, 275518.78415933304, 281461.53241032094, 285394.92126537784, 237313.02193892677, 256174.5, 239666.66666666666, 253359.31082251083, 268102.479812756, 293426.4690997567, 265637.05435720447, 250208.79359095194, 128250.0, 146048.0, 261715.33279613216, 271602.56181229773, 282051.47151621385, 290234.4355170993, 241778.4018446965, 199824.45, 271716.1111111111, 291496.9569892473, 270322.6871345029, 260211.51368159204, 277563.5755752212, 232508.40934906073, 187837.25, 202115.0, 242405.55555555556, 290249.2783117426, 289840.41329384665, 299015.46215001727, 253080.8360942389, 203494.44444444444, 273181.8181818182, 276129.03415409056, 289114.50113765645, 290943.5805911879, 305476.63249133236, 247758.89922056612, 237103.33333333334, 196383.33333333334, 276225.3517454706, 312165.75174418604, 298254.90943600866, 327067.0665509259, 232615.26883498713, 211342.1052631579, 245500.0, 287537.9377990431, 313841.62834549876, 285138.52089268755, 275529.76086956525, 237027.33241066936, 280582.35294117645, 266906.25, 253938.62605979474, 277960.79363135336, 261601.53018249883, 276773.9238636364, 240452.89482990906, 226578.2142857143, 241945.83333333334, 338284.2446785166, 337420.49826689775, 253586.43591191416, 276970.2036944583, 238194.8742716561, 184803.84615384616, 260812.5, 289654.2042961609, 324238.25500526873, 286599.6579787234, 267547.11362665525, 240579.6309494144, 191775.0, 194387.5, 325990.82120743033, 281393.56881214026, 279277.6206244087, 299085.00605536334, 243994.35277516462, 238421.05263157896, 151592.39130434784, 263054.56400665006, 254291.15824710895, 304222.04932735424, 300419.68541905854, 247429.28141153083, 235666.42857142858, 218143.3125, 240549.06600249067, 261184.8881607689, 290860.5944250871, 309005.3135000777, 250828.55619490697, 208390.47619047618, 181306.25, 296630.48355663824, 298069.3831990794, 262593.15689300414, 329153.0754633716, 243755.78281737462, 206603.15789473685, 178532.5, 291462.58742714406, 302773.2948207171, 256794.9919447641, 275781.99594843463, 258655.37869244136, 183425.0, 227000.0, 289711.6828314431, 318606.5221190606, 317869.68807339447, 312089.46752205293, 238661.51238910982, 242546.11111111112, 439194.75, 258515.68114328137, 298353.0054133858, 286879.9693761815, 364750.31216361676, 247835.76939941535, 1407822.7027027027, 467378.0, 262294.1389972981, 276470.5905617977, 270362.13814074715, 450460.31700098654, 246910.76885960842, 171875.0, 219395.25, 264119.3528358209, 316140.7539107211, 267564.1781405252, 299736.56403079076, 248717.67083460404, 292404.347826087, 293990.0, 274975.732187681, 299552.3144286906, 264491.09488188976, 282004.1595985298, 258248.37976999476, 224343.125, 192562.5, 301715.35479186836, 889930.5202312139, 329800.0, 137987.5, 316367.3333333333, 280777.77777777775, 214343.125, 557923.8832487309, 1132644.2606060605, 185378.33333333334, 280459.10894308944, 244192.94716981132, 216892.85714285713, 311369.75, 271279.47569304943, 326873.13713509846, 343329.78512960434, 282365.8451730419, 288462.32214670064, 343687.1875, 218563.63636363635, 252615.8096064815, 317454.9808327826, 329142.69161834475, 280669.93375065207, 322160.83530349314, 234133.33333333334, 201369.80952380953, 297216.4221698113, 301355.1972972973, 293547.7690387016, 291091.73632918246, 248554.36885738315, 223181.81818181818, 91000.0, 251707.93204819277, 269979.9739454094, 280379.879875195, 306892.79545454547, 255238.52567403816, 135975.66666666666, 227357.14285714287, 266135.92257785465, 282164.4952251023, 336400.831372549, 281735.4954597049, 237801.8100174869, 351306.25, 579000.0, 263175.8782234957, 261071.1564527758, 285613.4191367655, 311960.2019506598, 251498.36934244237, 170507.61538461538, 315244.1666666667, 318996.01048810006, 289701.2093160377, 287176.190851735, 257497.80427201395, 231160.7503642545, 229449.4, 163000.0, 253481.64965517243, 314336.6412776413, 288512.83775351016, 264515.67391304346, 256738.15027512982, 346345.45454545453, 174806.25, 268006.20644599304, 331268.2826086957, 271300.1056863871, 286735.33243967826, 250953.81413955928, 201133.84615384616, 1154642.1875, 261036.33911007026, 339706.8095567867, 261768.38003502626, 314919.2866629773, 245570.8110920666, 165893.18181818182, 118750.0, 269782.175081056, 292404.00737100735, 310024.90869800106, 291408.8791208791, 232142.6744675582, 244370.83333333334, 456533.0, 247190.7420774648, 346572.71794871794, 283829.2503703704, 312082.50554249244, 244176.05867876645, 303359.6666666667, 198426.17647058822, 308097.343737495, 288440.5218855219, 287522.6956765862, 271885.431621759, 253960.59648265754, 195100.0, 200964.2857142857, 307553.07954545453, 266351.1048623316, 298149.365, 281111.1198237885, 235759.93752165377, 268718.75, 221060.0, 271086.8464211258, 333580.9765002098, 323087.85208633094, 240432.86695857192, 329596.1538461539, 168426.19047619047, 272833.3333333333, 374789.44444444444, 306777.35447394295, 318474.2662201758, 301089.4781553398, 261965.87741356084, 777913.875, 227562.5, 264997.8145221971, 296148.1307471264, 332285.9883480549, 280229.7088740793, 257062.98155940595, 193880.55555555556, 430502.0, 202365.89285714287, 256003.66901054746, 292052.83349374396, 307371.4011379801, 252137.4030808729, 325163.8888888889, 205017.16666666666, 289393.19204655674, 274518.4512937595, 383683.8523856859, 339120.49396551726, 269159.5190436141, 243671.73913043478, 178741.66666666666, 284084.95756207674, 271753.71451271186, 267075.35965312645, 391506.5364730878, 239162.95290833784, 279551.9583333333, 201406.33333333334, 290390.95454545453, 282391.8313976772, 295770.466908133, 265529.4282951982, 264544.82947999076, 437208.3870967742, 862983.4444444445, 284098.77383676585, 307973.14705882355, 299454.28675703856, 345852.6554084893, 246089.79793354467, 143852.35294117648, 2761497.6, 293439.0551694179, 273913.1674277017, 276283.8560079444, 288649.02416601, 246576.43580060423, 377856.0, 165300.0, 303049.1254114549, 361491.29947089945, 284078.6955368979, 286249.07205825986, 244927.29023313135, 168631.81818181818, 238669.54545454544, 282682.160989602, 357728.47336983576, 297456.8638941399, 307015.7408511792, 246587.96734667275, 236455.0, 206131.0, 341831.20351725066, 332674.91226792865, 311241.0327944573, 309560.6838879159, 259669.43956302127, 158055.27777777778, 221492.14285714287, 289108.1267553585, 286874.1760710554, 291271.172337605, 298000.7106656581, 267561.8777789946, 331307.6923076923, 243091.0, 293409.80150753766, 318775.22041006526, 311725.0694383016, 313207.0749211357, 276465.3710281374, 258043.33333333334, 266736.84210526315, 309437.7579058327, 302632.0079217148, 289118.1334693878, 301114.94772075233, 253724.38843052692, 227803.47826086957, 205632.3947368421, 283614.42234736215, 293849.63870703767, 300653.57180939685, 309669.3171675097, 362903.391553409, 12139365.384615384, 154375.0, 289086.9024640657, 341450.5157997083, 280044.5445505171, 292431.782837787, 263288.4655741311, 329874.4375, 213200.0, 284315.19708276796, 269409.95420519594, 338808.35246679315, 300935.1996060407, 266273.04891304346, 209014.4375, 609623.6666666666, 274598.20683229814, 290355.78109656303, 332524.2381450488, 323095.5805970149, 248591.86149479658, 226803.05555555556, 281071.0714285714, 257464.51612903227, 278149.1514172946, 323003.3388138579, 299580.4326431836, 272540.19159288506, 364074.25, 309130.0, 325953.26902336726, 318966.7121132669, 314468.9176688252, 293390.97789115645, 275536.92453496583, 198555.58823529413, 254583.33333333334, 299535.9820261438, 284069.2148227712, 307727.4232127096, 295371.7282184655, 264140.04118194507, 172162.08333333334, 223500.0, 300795.4249817917, 286126.3506493507, 309025.4997592682, 301974.64247642475, 252281.25524934384, 232306.2, 175125.0, 286852.1078705553, 307894.85698808235, 295643.84170058795, 293432.7602568676, 256432.6711448598, 219578.57142857142, 293331.36363636365, 287724.84556962026, 301649.930075188, 292751.7282796815, 301434.05705440074, 256733.81645262902, 227771.66666666666, 281524.45454545453, 272120.8181038181, 336174.0051282051, 286585.2384578772, 309087.13196864113, 260955.83822007588, 239750.0, 212380.76923076922, 336389.51168224297, 286552.15789473685, 328359.8573920628, 322671.35354785476, 251217.69640671933, 202728.29166666666, 197243.75, 256018.63128800443, 364233.5399061033, 277242.6024150268, 282225.08882082696, 240839.23043138787, 298026.05263157893, 283102.77777777775, 285696.3137254902, 284669.739169272, 286688.6390395043, 309298.08811936935, 260517.88367643682, 223037.4375, 183749.375, 256622.30378338278, 275085.06140350876, 349478.4346076459, 319006.5110701107, 256525.58751256563, 309895.8333333333, 216516.0, 257205.26421267894, 270339.33313468413, 305815.27221438644, 398437.67137981474, 269442.5668620728, 268644.1176470588, 182251.5, 305422.48514448514, 311802.4700665189, 270274.55926622765, 326883.74535519123, 262507.8318527919, 225360.83333333334, 157333.33333333334, 276405.87578369904, 290233.48827930173, 273238.81886942673, 272022.59316770185, 252585.5710564201, 316676.4705882353, 334610.0, 301292.6041666667, 296296.51574212895, 358483.2658107465, 304200.474096161, 245340.5024197531, 264536.45454545453, 260250.0, 268126.41873278236, 313513.9962476548, 312707.884502924, 313413.37097855227, 266122.0252433592, 234345.0, 240198.375, 290807.76125244616, 291544.5621148232, 291241.64625506074, 289694.89938968007, 276187.4825374198, 232218.75, 197873.75, 326863.214999021, 310301.7089026915, 708163.488764045, 155750.0, 206812.5, 183833.33333333334, 296419.23076923075, 512943.28571428574, 485072.88412017166, 1512787.4811320754, 381447.9772727273, 268845.71428571426, 244958.33333333334, 289640.0, 263751.6630125863, 299468.7873651772, 312234.69702970295, 326718.51965601963, 287660.16678955907, 163282.91666666666, 136857.6923076923, 285537.32267732266, 278588.351797862, 300399.9591439689, 380710.4668304668, 267825.5726003742, 233655.0, 215750.0, 303147.10482180293, 292104.01313868613, 314730.1377245509, 304248.44338565023, 248436.00247557004, 151768.15789473685, 114454.54545454546, 272592.0806032241, 309382.2342007435, 351970.4733879222, 477524.94678754435, 264906.2043500253, 229300.0, 268291.4, 293008.5282331512, 311456.9910714286, 266875.72526737966, 307726.6873920553, 251104.57713884994, 188849.16666666666, 232428.57142857142, 275709.74327233585, 271012.38581081084, 270904.4755287009, 293539.7590398055, 254821.41109732317, 674613.5714285715, 334802.63157894736, 290405.1321998612, 290107.19770946354, 303399.54618879355, 324631.7814661134, 248885.87464503042, 181718.4375, 202494.44444444444, 315887.6048466865, 294427.96128170897, 342964.9549647314, 310759.79462494986, 272998.8327244924, 373433.53658536583, 250750.0, 282516.5017467249, 285211.91252624214, 334753.50352112675, 316067.29546695796, 264062.36888701515, 255596.42857142858, 195286.5, 271820.37979470554, 297672.9169391759, 273328.21814791794, 285729.83908816625, 256997.98860965468, 206900.0, 854762.625, 339472.1419087137, 354314.5240572172, 285267.13127615064, 416280.52591535903, 251353.48524923704, 176387.9411764706, 190750.0, 264442.62270372116, 353934.0794739851, 371595.19208277104, 325566.465034965, 257417.61299344734, 169310.52631578947, 216174.64285714287, 293595.26145151694, 360174.0603625171, 360792.80465254997, 273331.267650745, 259981.16666666666, 196514.14814814815, 226931.25, 176554.31707317074, 341503.5995271868, 302580.83693350275, 310530.40639269404, 269854.9916956062, 206611.53846153847, 281500.0, 279008.26873958914, 296216.1878824969, 335982.1893670886, 324824.4264413519, 264811.1422087746, 221499.61538461538, 163750.0, 283390.7574590953, 401109.5537742151, 274121.2144063028, 310133.5592927986, 249461.0480222841, 214717.35294117648, 209590.45454545456, 284191.5830951409, 304387.50464093796, 294635.9679408138, 290581.7190062112, 251425.07886821878, 153186.66666666666, \"\", 139959.0909090909, 312211.26740506326, 294070.7294238683, 360393.5755787562, 267503.89335989376, 234846.15384615384, 176895.0, 295998.0313947504, 300387.3313748531, 284931.9131985731, 295839.04421616794, 257573.10743416453, 367796.6666666667, 258827.11111111112, 318203.3930942895, 308475.14397120575, 277572.3960484957, 303410.349340176, 259817.65781683626, 393330.0, 151047.8260869565, 1485034.2857142857, 275450.87705905986, 304607.19306080387, 307742.2005469462, 263327.9221681723, 210268.38709677418, 291000.0, 322802.04420073115, 263476.33002257335, 292236.93868394813, 357320.1168353266, 257793.2344580398, 219995.16129032258, 140333.33333333334, 283344.8190719455, 316768.32278851786, 326731.7644589552, 323219.9620749782, 262207.3219223173, 187005.58823529413, 213849.5, 287156.26808972505, 321414.4129129129, 322446.4227859368, 318289.68217979313, 262946.83238463104, 253894.47368421053, 163969.0, 409828.33989071037, 310288.4867799811, 376691.3145336226, 317103.19113191956, 263803.3487493128, 216065.52631578947, 289638.8888888889, 304384.0697378468, 321445.49303452455, 367090.57325049053, 319984.1910601266, 281052.3854469371, 239581.81818181818, 224826.0909090909, 285177.5481904762, 318293.66984278226, 374190.13465426606, 336263.8575310559, 277904.67193719593, 252166.38888888888, 301972.5, 289834.3883299799, 405077.5931438881, 586081.1986520042, 438261.5462539571, 260972.72872507048, 172921.94444444444, 255813.15789473685, 390650.85612903227, 336339.6773345024, 313097.02642796247, 327244.52116935485, 266914.1068240123, 351551.95652173914, 235499.375, 276411.7297128589, 323571.2820717131, 311174.8046393621, 311806.7766129032, 285680.29428123217, 927336.1111111111, 314681.8181818182, 317225.78784119105, 340464.01677704195, 321737.87108433736, 343377.7907523511, 268624.2470443899, 216644.11764705883, 360833.1666666667, 290575.5411686587, 331396.3398544131, 308755.2027406887, 316641.0022607385, 273246.39233010623, 228100.0, 275308.7, 317857.550245098, 311266.47842802224, 342913.162462908, 328571.0426426426, 267041.62744507974, 363789.5, 186383.33333333334, 315811.9786250722, 355179.8347473257, 319637.00384843105, 320111.7091444092, 282122.8543263202, 187713.0, 305880.25, 243191.4, 411009.0973624227, 318058.1576839039, 318522.2410714286, 275471.09711316397, 319250.0, 357124.375, 312642.3973076923, 338401.9822695035, 323770.8934099956, 330018.5180065478, 270963.0551347739, 293584.94444444444, 183445.0, 320342.8634837747, 321562.7567171471, 310545.2574468085, 327167.75767425064, 279393.61328125, 261307.14285714287, 257868.75, 294531.8416542474, 342441.8935208438, 304498.73360470374, 310698.07110536523, 266588.7591750568, 285465.84, 465025.0, 287337.69252424146, 351807.9061876247, 352108.12063492066, 313143.66337579617, 284557.78187840077, 285260.2631578947, 167093.75, 280137.50960407685, 295639.22978723404, 355658.15961199295, 304023.62052313884, 268488.62558417564, 277426.9743589744, 232400.0, 281137.08018154313, 325645.0190362879, 317903.9269752594, 355523.9346514745, 264875.6120750888, 297631.8181818182, 204062.25, 285189.05014641286, 330474.1152973218, 325662.97765582125, 316200.0412087912, 266567.92425206874, 218840.5, 202658.69565217392, 286818.47068095836, 304549.9800678541, 328865.20923076925, 304673.0887524421, 281671.9439601494, 592777.9310344828, 335170.0, 289080.7384916748, 315635.3903688525, 364682.096171802, 317603.05814905814, 275650.0922054251, 234197.64705882352, 183303.84615384616, 311043.47546132706, 315060.24808184145, 334471.58524173027, 314165.52770511294, 264710.72689192963, 246769.375, 258300.0, 321224.7400621118, 331219.9573661772, 305939.28837876616, 302917.4203555246, 271515.2673726009, 239352.9411764706, 392113.1818181818, 299273.82017699117, 418259.1312849162, 321912.4902447676, 308099.4210367691, 270273.28267542296, 211186.19047619047, 181120.41666666666, 293876.8243266427, 376832.3540930979, 374994.21257861634, 306113.3664864865, 296750.77742358897, 206152.1052631579, 196529.66666666666, 293912.0619785459, 471292.5597227884, 304542.4520348837, 347694.59775341, 275150.8300959136, 311633.9285714286, 301228.5714285714, 297145.5956730769, 349715.5235196458, 318881.3809185606, 374557.44125861104, 275192.8554828947, 219035.46875, 230540.9090909091, 297402.45496383955, 309795.2562295927, 378344.4056534508, 626632.3901098901, 286249.75, 558750.0, 483071.8, 175286.36363636365, 479913.25, 516066.67364016734, 721496.738317757, 2327453.484848485, 227975.0, 270600.0, 330494.8988853503, 319963.5140579102, 329617.10741138563, 345626.9746770026, 299978.4938675388, 243162.5, 194071.42857142858, 322792.68361325463, 307195.2607640995, 346415.3715967623, 299413.90456621005, 294687.54121734964, 363168.15625, 301000.0, 599237.0901137358, 312478.0912117177, 290021.2822281167, 327071.08177688037, 267253.1984352774, 298555.55555555556, 210483.33333333334, 283730.2069131061, 299237.4411214953, 289445.499490835, 327849.88007054676, 294714.22672977234, 379295.0, 217660.0, 310897.404917403, 324233.13150492264, 328630.5355344152, 306044.6541200407, 276231.4466683557, 402453.9375, 431000.0, 306361.49432355724, 306429.2898644287, 332633.1144004014, 331535.93227463803, 273775.2581595648, 185577.47368421053, 241912.5, 296790.45070422534, 318020.3271186441, 299666.9540918164, 303885.6037165082, 270909.1516840607, 197065.7894736842, 1090743.75, 266754.1607352366, 284041.8390875462, 316118.8868844466, 326164.17957227136, 263285.68633917725, 2685352.3636363638, 230615.61111111112, 290051.8803730738, 357895.02106472617, 298384.14502923976, 332183.2010506208, 267153.4001500563, 166500.0, 258149.5, 335415.52074966533, 338569.98979591834, 285980.2103340292, 314714.4095122934, 279630.1341783716, 212802.77777777778, 202268.18181818182, 284694.6054054054, 330472.12622184446, 323039.4037149356, 308212.5621657754, 274719.16605552647, 232354.2, 201378.94736842104, 298780.67356428737, 310022.44903796155, 315598.0989536622, 281203.2047366091, 267769.86666666664, 252198.86486486485, 219573.74074074073, 528587.2040816327, 313384.3134484563, 318667.56361664116, 296505.85182302207, 278690.1022634306, 252992.14285714287, 475199.0, 295414.87434248975, 314931.4598117306, 301354.97576177283, 323942.2994167207, 259113.1079918033, 165713.92857142858, 276991.6666666667, 291555.82498284144, 317803.2749576988, 325494.07256046706, 323499.0893947807, 316784.2395368073, 231777.22222222222, 226500.0, 293224.6126237624, 342203.4072208228, 310481.55948334467, 336223.2144786602, 258617.08625172044, 315000.0, 291446.6666666667, 272608.384180791, 337547.9547908232, 300427.2913580247, 341325.2738669238, 264755.3999158957, 425460.1515151515, 1269237.9473684211, 185460.0, 282189.8461212378, 333531.0880952381, 325162.6408839779, 266334.98865963146, 253312.5, 179404.0909090909, 283080.7267194157, 318989.6515732924, 389232.94105960266, 300357.6629177378, 260646.67590383557, 192500.0, 338301.15, 284632.69675262657, 312456.49547668756, 307393.89342629485, 370956.6746297181, 263402.1490528415, 186345.0, 226986.35714285713, 304162.2031624341, 379501.92645381985, 311658.84707832575, 329549.172783738, 267734.20055129257, 315944.44444444444, 244133.16666666666, 353091.2068965517, 356177.83659466327, 309455.75407512404, 341461.9239598278, 268811.4884219554, 407050.0, 209111.11111111112, 342965.5016347501, 340253.30109606707, 344515.1925078044, 313417.21303501946, 285714.80650705955, 200156.25, 250145.76923076922, 294779.1653144016, 354531.565701559, 353898.34774692764, 335746.8591845313, 274479.88348048326, 264045.8888888889, 164864.46153846153, 290681.64420062694, 341036.3847429519, 375087.14985994395, 384182.8822737975, 278834.6957787482, 308327.8947368421, 249566.37931034484, 320275.54789915966, 312261.75487571704, 314999.9457659372, 315782.19317540893, 285216.25959266344, 314359.0909090909, 199237.5, 286193.22398373985, 360872.7961579509, 320412.7083739046, 319719.32914979756, 268487.7946839929, 203937.08333333334, 279947.61904761905, 313168.35037954454, 306577.0151199166, 297069.5539419087, 355687.81871559634, 293759.15498681896, 329636.36363636365, 318961.3461538461, 312546.7426878934, 353588.65098241984, 308398.64423076925, 317862.121641791, 310832.7424486725, 729670.5882352941, 206522.72727272726, 297353.31295087596, 311133.28629213484, 303299.2564792999, 312409.8401937046, 289439.8704387991, 283068.8095238095, 702276.9615384615, 323899.0693913555, 369060.7957149975, 304263.43084401236, 370254.43000401126, 263953.998502994, 309385.3125, 249491.66666666666, 280770.73100035347, 295309.5135802469, 301022.6979236437, 306534.4240097009, 287161.2206336498, 217071.42857142858, 322309.0909090909, 296551.62483311084, 325857.6911831887, 433423.47812376823, 304748.82683410443, 277278.0681916739, 162210.0, 272208.3333333333, 293546.972909699, 311476.0941370768, 313704.380173913, 291580.17980422464, 268940.1100446241, 462475.0, 547194.6388888889, 240903.78723404257, 322561.9247371334, 314985.044353463, 343439.77098321344, 289250.4585298197, 209640.0, 207964.16666666666, 311023.1879861711, 326676.297657082, 315632.1477045908, 334491.9552306989, 288053.83532714844, 154583.33333333334, 253945.42105263157, 361594.6677631579, 380190.9893081761, 322421.5760532151, 305265.8784846319, 306478.26173791173, 390595.0, 334215.3125, 283394.2610989011, 389223.9686723023, 353759.4089686099, 318148.7626459144, 289883.64671532845, 416828.72222222225, 423449.75, 321026.67267267266, 350236.8590197069, 386477.22484385845, 504857.4733577671, 332929.5448918426, 174084.69565217392, 231941.17647058822, 306480.11348314607, 337779.8337041157, 397664.7655367232, 413478.8759656652, 291538.3771327014, 1038788.4444444445, 223437.5, 274844.5834324217, 333661.3308314088, 468329.36862745095, 318939.79101314116, 305348.3322098167, 312609.375, 195311.29032258064, 309577.9683544304, 376029.1952254642, 335967.6354723708, 407817.9455555556, 276699.16733436054, 397840.625, 253103.57142857142, 309045.3823529412, 365711.8127507802, 392956.4349376114, 329494.64303560276, 290037.72679191665, 208072.42857142858, 210100.6976744186, 365412.0457310678, 378206.26619552413, 310827.5396096441, 367269.1420740064, 283871.6443843985, 164349.375, 225777.27272727274, 309534.93034427543, 366996.68258426967, 322988.28797624935, 332505.6563737134, 299225.3165318172, 196749.375, 425722.22222222225, 327776.7871531737, 454207.18370445346, 326215.5657657658, 352878.4805045872, 280836.06751539186, 184516.46153846153, 307341.6666666667, 398225.0011240165, 270287.70775347913, 355960.9148753224, 522116.1760673107, 283147.6787818438, 189777.8125, 441225.0, 341394.19029850746, 339872.3790794979, 370583.9408429119, 426232.3705093834, 299835.58551568055, 241000.0, 181172.42857142858, 349033.9020125371, 331574.358642251, 373381.2773393461, 356011.43631436315, 282830.19144851656, 243149.66666666666, 420692.75, 364385.0471869329, 429160.4424668874, 403000.2729970326, 430570.85761795886, 287843.0894820506, 257927.5, 580317.7777777778, 355878.04615674453, 330774.819318411, 314944.57051630435, 368426.27575757576, 370150.66542056075, 228847.0, 1307253.8461538462, 362399.9, 181037.5, 760435.5079365079, 1000970.9937888199, 1017777.6805555555, 559560.0588235294, 3709381.282051282, 406333.3, 310912.5420168067, 313462.8895800933, 346659.81280077, 310904.92444578494, 344937.5, 104979.6, 369699.83399209485, 407898.9540298507, 331378.8532577904, 335245.49865951744, 300749.3488278902, 317904.54545454547, 213653.125, 335103.8972346786, 374005.07467144565, 316990.5241301908, 380249.43277501134, 316603.6299342105, 260625.0, 177129.33333333334, 358382.3754137116, 345170.95866666664, 382222.94777265744, 336209.88744225114, 290225.1987755883, 252562.5, 325785.71428571426, 305800.43011502264, 408565.3865030675, 381640.8374088374, 319303.2984319676, 282771.2016608997, 212285.7142857143, 215900.0, 341151.73053589487, 419381.6054931336, 309373.31310266594, 496199.76264396595, 304214.2671449416, 246681.81818181818, 176472.22222222222, 322023.5044776119, 326793.49274583557, 406500.26752175903, 347892.9756097561, 288878.74799599196, 264416.6666666667, 343833.3333333333, 314007.3061403509, 310647.75535366643, 346923.5709923664, 355779.9649890591, 280423.3572183471, 232817.5, 192447.4, 322124.8113985752, 396084.90615615615, 349879.7360995851, 367756.1159159159, 295572.2855699856, 203000.0, 165500.0, 335918.1033966034, 326859.35225718195, 324267.53329404833, 324556.6837009145, 285444.4830451682, 181457.6923076923, 106807.69230769231, 295541.60770089284, 333719.15970841615, 345042.39281997917, 416316.29693187727, 278622.2297462342, 215629.06666666668, 228083.33333333334, 335255.6875607386, 424216.6493998737, 366240.6640136441, 355718.5659163987, 320095.69417770754, 2907799.3571428573, 181250.0, 379178.7438087105, 505494.512526096, 399337.9525564256, 349631.3961870718, 348979.458063618, 2423067.238095238, 357483.3333333333, 452741.41035258817, 324317.0474226804, 447373.03671596124, 435918.99613235926, 310868.73695542046, 135500.0, 281666.6666666667, 348228.7868731563, 377732.8051020408, 393993.7511312217, 284888.9261987491, 433379.8, 215226.81818181818, 230400.0, 280810.9, 334121.72760227864, 344198.9649859944, 345263.31661578716, 298585.4667527437, 232276.66666666666, 352142.85714285716, 381729.26431492844, 324247.13004484307, 361253.06974459725, 380434.91036717064, 300241.82537481585, 202744.0625, 211361.25, 563271.1111111111, 311602.5076775432, 372990.1108786611, 358558.9276572064, 281477.71918119787, 238250.0, 242616.66666666666, 305600.0917702783, 339633.4784946237, 324703.8928373126, 326537.9497816594, 278505.057624239, 2635712.5, 197350.0, 384459.80231945176, 389867.65853658534, 331260.82288037165, 327240.5592203898, 281190.66169084824, 286700.0, 297500.0, 294740.8968701898, 881441.212264151, 327766.9180166912, 361356.0230015083, 277386.5885040374, 271625.0, 324531.6111111111, 152418.15789473685, 322752.8370841487, 330573.96552617935, 333619.32175925927, 279060.4033870639, 240500.0, \"\", 297115.87155346334, 307948.17384240456, 321132.095473251, 334471.4772727273, 289626.84077100357, 133599.0, \"\", 311567.3156199678, 361886.8382923674, 354443.02016498626, 327977.12413194444, 276000.3618034164, 261150.0, 475166.6666666667, 306955.15011037525, 321939.985, 353707.2466442953, 315426.4225122349, 338113.31651954603, 242646.66666666666, \"\", 280753.53779069765, 314264.10204081633, 305384.7702702703, 304357.14285714284]}],                        {\"legend\": {\"bgcolor\": \"#F5F6F9\", \"font\": {\"color\": \"#4D5663\"}}, \"paper_bgcolor\": \"#F5F6F9\", \"plot_bgcolor\": \"#F5F6F9\", \"template\": {\"data\": {\"bar\": [{\"error_x\": {\"color\": \"#2a3f5f\"}, \"error_y\": {\"color\": \"#2a3f5f\"}, \"marker\": {\"line\": {\"color\": \"#E5ECF6\", \"width\": 0.5}}, \"type\": \"bar\"}], \"barpolar\": [{\"marker\": {\"line\": {\"color\": \"#E5ECF6\", \"width\": 0.5}}, \"type\": \"barpolar\"}], \"carpet\": [{\"aaxis\": {\"endlinecolor\": \"#2a3f5f\", \"gridcolor\": \"white\", \"linecolor\": \"white\", \"minorgridcolor\": \"white\", \"startlinecolor\": \"#2a3f5f\"}, \"baxis\": {\"endlinecolor\": \"#2a3f5f\", \"gridcolor\": \"white\", \"linecolor\": \"white\", \"minorgridcolor\": \"white\", \"startlinecolor\": \"#2a3f5f\"}, \"type\": \"carpet\"}], \"choropleth\": [{\"colorbar\": {\"outlinewidth\": 0, \"ticks\": \"\"}, \"type\": \"choropleth\"}], \"contour\": [{\"colorbar\": {\"outlinewidth\": 0, \"ticks\": \"\"}, \"colorscale\": [[0.0, \"#0d0887\"], [0.1111111111111111, \"#46039f\"], [0.2222222222222222, \"#7201a8\"], [0.3333333333333333, \"#9c179e\"], [0.4444444444444444, \"#bd3786\"], [0.5555555555555556, \"#d8576b\"], [0.6666666666666666, \"#ed7953\"], [0.7777777777777778, \"#fb9f3a\"], [0.8888888888888888, \"#fdca26\"], [1.0, \"#f0f921\"]], \"type\": \"contour\"}], \"contourcarpet\": [{\"colorbar\": {\"outlinewidth\": 0, \"ticks\": \"\"}, \"type\": \"contourcarpet\"}], \"heatmap\": [{\"colorbar\": {\"outlinewidth\": 0, \"ticks\": \"\"}, \"colorscale\": [[0.0, \"#0d0887\"], [0.1111111111111111, \"#46039f\"], [0.2222222222222222, \"#7201a8\"], [0.3333333333333333, \"#9c179e\"], [0.4444444444444444, \"#bd3786\"], [0.5555555555555556, \"#d8576b\"], [0.6666666666666666, \"#ed7953\"], [0.7777777777777778, \"#fb9f3a\"], [0.8888888888888888, \"#fdca26\"], [1.0, \"#f0f921\"]], \"type\": \"heatmap\"}], \"heatmapgl\": [{\"colorbar\": {\"outlinewidth\": 0, \"ticks\": \"\"}, \"colorscale\": [[0.0, \"#0d0887\"], [0.1111111111111111, \"#46039f\"], [0.2222222222222222, \"#7201a8\"], [0.3333333333333333, \"#9c179e\"], [0.4444444444444444, \"#bd3786\"], [0.5555555555555556, \"#d8576b\"], [0.6666666666666666, \"#ed7953\"], [0.7777777777777778, \"#fb9f3a\"], [0.8888888888888888, \"#fdca26\"], [1.0, \"#f0f921\"]], \"type\": \"heatmapgl\"}], \"histogram\": [{\"marker\": {\"colorbar\": {\"outlinewidth\": 0, \"ticks\": \"\"}}, \"type\": \"histogram\"}], \"histogram2d\": [{\"colorbar\": {\"outlinewidth\": 0, \"ticks\": \"\"}, \"colorscale\": [[0.0, \"#0d0887\"], [0.1111111111111111, \"#46039f\"], [0.2222222222222222, \"#7201a8\"], [0.3333333333333333, \"#9c179e\"], [0.4444444444444444, \"#bd3786\"], [0.5555555555555556, \"#d8576b\"], [0.6666666666666666, \"#ed7953\"], [0.7777777777777778, \"#fb9f3a\"], [0.8888888888888888, \"#fdca26\"], [1.0, \"#f0f921\"]], \"type\": \"histogram2d\"}], \"histogram2dcontour\": [{\"colorbar\": {\"outlinewidth\": 0, \"ticks\": \"\"}, \"colorscale\": [[0.0, \"#0d0887\"], [0.1111111111111111, \"#46039f\"], [0.2222222222222222, \"#7201a8\"], [0.3333333333333333, \"#9c179e\"], [0.4444444444444444, \"#bd3786\"], [0.5555555555555556, \"#d8576b\"], [0.6666666666666666, \"#ed7953\"], [0.7777777777777778, \"#fb9f3a\"], [0.8888888888888888, \"#fdca26\"], [1.0, \"#f0f921\"]], \"type\": \"histogram2dcontour\"}], \"mesh3d\": [{\"colorbar\": {\"outlinewidth\": 0, \"ticks\": \"\"}, \"type\": \"mesh3d\"}], \"parcoords\": [{\"line\": {\"colorbar\": {\"outlinewidth\": 0, \"ticks\": \"\"}}, \"type\": \"parcoords\"}], \"pie\": [{\"automargin\": true, \"type\": \"pie\"}], \"scatter\": [{\"marker\": {\"colorbar\": {\"outlinewidth\": 0, \"ticks\": \"\"}}, \"type\": \"scatter\"}], \"scatter3d\": [{\"line\": {\"colorbar\": {\"outlinewidth\": 0, \"ticks\": \"\"}}, \"marker\": {\"colorbar\": {\"outlinewidth\": 0, \"ticks\": \"\"}}, \"type\": \"scatter3d\"}], \"scattercarpet\": [{\"marker\": {\"colorbar\": {\"outlinewidth\": 0, \"ticks\": \"\"}}, \"type\": \"scattercarpet\"}], \"scattergeo\": [{\"marker\": {\"colorbar\": {\"outlinewidth\": 0, \"ticks\": \"\"}}, \"type\": \"scattergeo\"}], \"scattergl\": [{\"marker\": {\"colorbar\": {\"outlinewidth\": 0, \"ticks\": \"\"}}, \"type\": \"scattergl\"}], \"scattermapbox\": [{\"marker\": {\"colorbar\": {\"outlinewidth\": 0, \"ticks\": \"\"}}, \"type\": \"scattermapbox\"}], \"scatterpolar\": [{\"marker\": {\"colorbar\": {\"outlinewidth\": 0, \"ticks\": \"\"}}, \"type\": \"scatterpolar\"}], \"scatterpolargl\": [{\"marker\": {\"colorbar\": {\"outlinewidth\": 0, \"ticks\": \"\"}}, \"type\": \"scatterpolargl\"}], \"scatterternary\": [{\"marker\": {\"colorbar\": {\"outlinewidth\": 0, \"ticks\": \"\"}}, \"type\": \"scatterternary\"}], \"surface\": [{\"colorbar\": {\"outlinewidth\": 0, \"ticks\": \"\"}, \"colorscale\": [[0.0, \"#0d0887\"], [0.1111111111111111, \"#46039f\"], [0.2222222222222222, \"#7201a8\"], [0.3333333333333333, \"#9c179e\"], [0.4444444444444444, \"#bd3786\"], [0.5555555555555556, \"#d8576b\"], [0.6666666666666666, \"#ed7953\"], [0.7777777777777778, \"#fb9f3a\"], [0.8888888888888888, \"#fdca26\"], [1.0, \"#f0f921\"]], \"type\": \"surface\"}], \"table\": [{\"cells\": {\"fill\": {\"color\": \"#EBF0F8\"}, \"line\": {\"color\": \"white\"}}, \"header\": {\"fill\": {\"color\": \"#C8D4E3\"}, \"line\": {\"color\": \"white\"}}, \"type\": \"table\"}]}, \"layout\": {\"annotationdefaults\": {\"arrowcolor\": \"#2a3f5f\", \"arrowhead\": 0, \"arrowwidth\": 1}, \"coloraxis\": {\"colorbar\": {\"outlinewidth\": 0, \"ticks\": \"\"}}, \"colorscale\": {\"diverging\": [[0, \"#8e0152\"], [0.1, \"#c51b7d\"], [0.2, \"#de77ae\"], [0.3, \"#f1b6da\"], [0.4, \"#fde0ef\"], [0.5, \"#f7f7f7\"], [0.6, \"#e6f5d0\"], [0.7, \"#b8e186\"], [0.8, \"#7fbc41\"], [0.9, \"#4d9221\"], [1, \"#276419\"]], \"sequential\": [[0.0, \"#0d0887\"], [0.1111111111111111, \"#46039f\"], [0.2222222222222222, \"#7201a8\"], [0.3333333333333333, \"#9c179e\"], [0.4444444444444444, \"#bd3786\"], [0.5555555555555556, \"#d8576b\"], [0.6666666666666666, \"#ed7953\"], [0.7777777777777778, \"#fb9f3a\"], [0.8888888888888888, \"#fdca26\"], [1.0, \"#f0f921\"]], \"sequentialminus\": [[0.0, \"#0d0887\"], [0.1111111111111111, \"#46039f\"], [0.2222222222222222, \"#7201a8\"], [0.3333333333333333, \"#9c179e\"], [0.4444444444444444, \"#bd3786\"], [0.5555555555555556, \"#d8576b\"], [0.6666666666666666, \"#ed7953\"], [0.7777777777777778, \"#fb9f3a\"], [0.8888888888888888, \"#fdca26\"], [1.0, \"#f0f921\"]]}, \"colorway\": [\"#636efa\", \"#EF553B\", \"#00cc96\", \"#ab63fa\", \"#FFA15A\", \"#19d3f3\", \"#FF6692\", \"#B6E880\", \"#FF97FF\", \"#FECB52\"], \"font\": {\"color\": \"#2a3f5f\"}, \"geo\": {\"bgcolor\": \"white\", \"lakecolor\": \"white\", \"landcolor\": \"#E5ECF6\", \"showlakes\": true, \"showland\": true, \"subunitcolor\": \"white\"}, \"hoverlabel\": {\"align\": \"left\"}, \"hovermode\": \"closest\", \"mapbox\": {\"style\": \"light\"}, \"paper_bgcolor\": \"white\", \"plot_bgcolor\": \"#E5ECF6\", \"polar\": {\"angularaxis\": {\"gridcolor\": \"white\", \"linecolor\": \"white\", \"ticks\": \"\"}, \"bgcolor\": \"#E5ECF6\", \"radialaxis\": {\"gridcolor\": \"white\", \"linecolor\": \"white\", \"ticks\": \"\"}}, \"scene\": {\"xaxis\": {\"backgroundcolor\": \"#E5ECF6\", \"gridcolor\": \"white\", \"gridwidth\": 2, \"linecolor\": \"white\", \"showbackground\": true, \"ticks\": \"\", \"zerolinecolor\": \"white\"}, \"yaxis\": {\"backgroundcolor\": \"#E5ECF6\", \"gridcolor\": \"white\", \"gridwidth\": 2, \"linecolor\": \"white\", \"showbackground\": true, \"ticks\": \"\", \"zerolinecolor\": \"white\"}, \"zaxis\": {\"backgroundcolor\": \"#E5ECF6\", \"gridcolor\": \"white\", \"gridwidth\": 2, \"linecolor\": \"white\", \"showbackground\": true, \"ticks\": \"\", \"zerolinecolor\": \"white\"}}, \"shapedefaults\": {\"line\": {\"color\": \"#2a3f5f\"}}, \"ternary\": {\"aaxis\": {\"gridcolor\": \"white\", \"linecolor\": \"white\", \"ticks\": \"\"}, \"baxis\": {\"gridcolor\": \"white\", \"linecolor\": \"white\", \"ticks\": \"\"}, \"bgcolor\": \"#E5ECF6\", \"caxis\": {\"gridcolor\": \"white\", \"linecolor\": \"white\", \"ticks\": \"\"}}, \"title\": {\"x\": 0.05}, \"xaxis\": {\"automargin\": true, \"gridcolor\": \"white\", \"linecolor\": \"white\", \"ticks\": \"\", \"title\": {\"standoff\": 15}, \"zerolinecolor\": \"white\", \"zerolinewidth\": 2}, \"yaxis\": {\"automargin\": true, \"gridcolor\": \"white\", \"linecolor\": \"white\", \"ticks\": \"\", \"title\": {\"standoff\": 15}, \"zerolinecolor\": \"white\", \"zerolinewidth\": 2}}}, \"title\": {\"font\": {\"color\": \"#4D5663\"}, \"text\": \"Mean price on the basis of Days\"}, \"xaxis\": {\"gridcolor\": \"#E1E5ED\", \"showgrid\": true, \"tickfont\": {\"color\": \"#4D5663\"}, \"title\": {\"font\": {\"color\": \"#4D5663\"}, \"text\": \"\"}, \"zerolinecolor\": \"#E1E5ED\"}, \"yaxis\": {\"gridcolor\": \"#E1E5ED\", \"showgrid\": true, \"tickfont\": {\"color\": \"#4D5663\"}, \"title\": {\"font\": {\"color\": \"#4D5663\"}, \"text\": \"\"}, \"zerolinecolor\": \"#E1E5ED\"}},                        {\"showLink\": true, \"linkText\": \"Export to plot.ly\", \"plotlyServerURL\": \"https://plot.ly\", \"responsive\": true}                    ).then(function(){\n",
       "                            \n",
       "var gd = document.getElementById('adf89195-ecb6-40cd-8e66-45d70e005505');\n",
       "var x = new MutationObserver(function (mutations, observer) {{\n",
       "        var display = window.getComputedStyle(gd).display;\n",
       "        if (!display || display === 'none') {{\n",
       "            console.log([gd, 'removed!']);\n",
       "            Plotly.purge(gd);\n",
       "            observer.disconnect();\n",
       "        }}\n",
       "}});\n",
       "\n",
       "// Listen for the removal of the full notebook cells\n",
       "var notebookContainer = gd.closest('#notebook-container');\n",
       "if (notebookContainer) {{\n",
       "    x.observe(notebookContainer, {childList: true});\n",
       "}}\n",
       "\n",
       "// Listen for the clearing of the current output cell\n",
       "var outputEl = gd.closest('.output');\n",
       "if (outputEl) {{\n",
       "    x.observe(outputEl, {childList: true});\n",
       "}}\n",
       "\n",
       "                        })                };                });            </script>        </div>"
      ]
     },
     "metadata": {},
     "output_type": "display_data"
    }
   ],
   "source": [
    "data_group3.Price.resample('D').mean().iplot(kind='line',title=\"Mean price on the basis of Days\")\n"
   ]
  },
  {
   "cell_type": "markdown",
   "metadata": {},
   "source": [
    " <b><mark><span style='color:blue'> This graph shows the price of housing on the daily basis which is why it is difficult to plot graphically because daily datas are too long to plot here. So, looking at this graph we know this is kind of messy but we just wanted to see the trend of days.For better understanding we can zoom in on specific period to check the trend in that period on day basis.</mark></span></b>"
   ]
  },
  {
   "cell_type": "markdown",
   "metadata": {},
   "source": [
    "### Monthly Basis"
   ]
  },
  {
   "cell_type": "code",
   "execution_count": 85,
   "metadata": {
    "ExecuteTime": {
     "end_time": "2020-12-18T14:29:31.362155Z",
     "start_time": "2020-12-18T14:29:31.003873Z"
    },
    "scrolled": false
   },
   "outputs": [
    {
     "data": {
      "application/vnd.plotly.v1+json": {
       "config": {
        "linkText": "Export to plot.ly",
        "plotlyServerURL": "https://plot.ly",
        "showLink": true
       },
       "data": [
        {
         "line": {
          "color": "rgba(255, 153, 51, 1.0)",
          "dash": "solid",
          "shape": "linear",
          "width": 1.3
         },
         "mode": "lines",
         "name": "Price",
         "text": "",
         "type": "scatter",
         "x": [
          "2012-01-31",
          "2012-02-29",
          "2012-03-31",
          "2012-04-30",
          "2012-05-31",
          "2012-06-30",
          "2012-07-31",
          "2012-08-31",
          "2012-09-30",
          "2012-10-31",
          "2012-11-30",
          "2012-12-31",
          "2013-01-31",
          "2013-02-28",
          "2013-03-31",
          "2013-04-30",
          "2013-05-31",
          "2013-06-30",
          "2013-07-31",
          "2013-08-31",
          "2013-09-30",
          "2013-10-31",
          "2013-11-30",
          "2013-12-31",
          "2014-01-31",
          "2014-02-28",
          "2014-03-31",
          "2014-04-30",
          "2014-05-31",
          "2014-06-30",
          "2014-07-31",
          "2014-08-31",
          "2014-09-30",
          "2014-10-31",
          "2014-11-30",
          "2014-12-31",
          "2015-01-31",
          "2015-02-28",
          "2015-03-31",
          "2015-04-30",
          "2015-05-31",
          "2015-06-30",
          "2015-07-31",
          "2015-08-31",
          "2015-09-30",
          "2015-10-31",
          "2015-11-30",
          "2015-12-31",
          "2016-01-31",
          "2016-02-29",
          "2016-03-31",
          "2016-04-30",
          "2016-05-31",
          "2016-06-30",
          "2016-07-31",
          "2016-08-31",
          "2016-09-30",
          "2016-10-31",
          "2016-11-30",
          "2016-12-31",
          "2017-01-31",
          "2017-02-28",
          "2017-03-31",
          "2017-04-30",
          "2017-05-31",
          "2017-06-30"
         ],
         "y": [
          231738.09365333815,
          228041.99384364174,
          221422.54482903428,
          236886.36505036202,
          237121.30946812523,
          240364.81898864126,
          251735.1335409968,
          248798.6783945632,
          247182.9926356226,
          240274.8601248406,
          235421.44999766815,
          236501.44572642818,
          245397.32216400074,
          234937.5494389206,
          235534.2795413178,
          243179.67680215323,
          237682.5171752293,
          244350.75701368303,
          260241.64893030512,
          260233.22833530107,
          269495.2048783878,
          269212.9298297303,
          270461.08730500634,
          278576.8775243763,
          280078.5221617918,
          262788.2004053821,
          268258.81932451634,
          276542.1601605447,
          274376.18446882564,
          279495.3973877177,
          286506.9262164495,
          291382.71242138196,
          282817.6730128228,
          276067.455186686,
          276131.66111146234,
          288885.44282817806,
          291697.3357472021,
          278907.7008434246,
          292445.33535048587,
          289446.6507466932,
          277214.50423887296,
          294659.18305842706,
          312112.7354834182,
          299277.6360777933,
          303885.1078515577,
          291169.94425446674,
          295954.8527187893,
          313717.4015920482,
          311512.9289100909,
          289323.9056922913,
          298844.7351459939,
          292037.6689794544,
          295911.1174918266,
          307672.2145338122,
          301811.56270362926,
          299392.6679517283,
          326974.5828082353,
          323674.7561518309,
          327759.9568567026,
          340661.77201144927,
          333088.55899121833,
          326232.80866735434,
          335658.4482969738,
          338201.4465390234,
          323162.99572274624,
          306117.35672906274
         ]
        }
       ],
       "layout": {
        "legend": {
         "bgcolor": "#F5F6F9",
         "font": {
          "color": "#4D5663"
         }
        },
        "paper_bgcolor": "#F5F6F9",
        "plot_bgcolor": "#F5F6F9",
        "template": {
         "data": {
          "bar": [
           {
            "error_x": {
             "color": "#2a3f5f"
            },
            "error_y": {
             "color": "#2a3f5f"
            },
            "marker": {
             "line": {
              "color": "#E5ECF6",
              "width": 0.5
             }
            },
            "type": "bar"
           }
          ],
          "barpolar": [
           {
            "marker": {
             "line": {
              "color": "#E5ECF6",
              "width": 0.5
             }
            },
            "type": "barpolar"
           }
          ],
          "carpet": [
           {
            "aaxis": {
             "endlinecolor": "#2a3f5f",
             "gridcolor": "white",
             "linecolor": "white",
             "minorgridcolor": "white",
             "startlinecolor": "#2a3f5f"
            },
            "baxis": {
             "endlinecolor": "#2a3f5f",
             "gridcolor": "white",
             "linecolor": "white",
             "minorgridcolor": "white",
             "startlinecolor": "#2a3f5f"
            },
            "type": "carpet"
           }
          ],
          "choropleth": [
           {
            "colorbar": {
             "outlinewidth": 0,
             "ticks": ""
            },
            "type": "choropleth"
           }
          ],
          "contour": [
           {
            "colorbar": {
             "outlinewidth": 0,
             "ticks": ""
            },
            "colorscale": [
             [
              0,
              "#0d0887"
             ],
             [
              0.1111111111111111,
              "#46039f"
             ],
             [
              0.2222222222222222,
              "#7201a8"
             ],
             [
              0.3333333333333333,
              "#9c179e"
             ],
             [
              0.4444444444444444,
              "#bd3786"
             ],
             [
              0.5555555555555556,
              "#d8576b"
             ],
             [
              0.6666666666666666,
              "#ed7953"
             ],
             [
              0.7777777777777778,
              "#fb9f3a"
             ],
             [
              0.8888888888888888,
              "#fdca26"
             ],
             [
              1,
              "#f0f921"
             ]
            ],
            "type": "contour"
           }
          ],
          "contourcarpet": [
           {
            "colorbar": {
             "outlinewidth": 0,
             "ticks": ""
            },
            "type": "contourcarpet"
           }
          ],
          "heatmap": [
           {
            "colorbar": {
             "outlinewidth": 0,
             "ticks": ""
            },
            "colorscale": [
             [
              0,
              "#0d0887"
             ],
             [
              0.1111111111111111,
              "#46039f"
             ],
             [
              0.2222222222222222,
              "#7201a8"
             ],
             [
              0.3333333333333333,
              "#9c179e"
             ],
             [
              0.4444444444444444,
              "#bd3786"
             ],
             [
              0.5555555555555556,
              "#d8576b"
             ],
             [
              0.6666666666666666,
              "#ed7953"
             ],
             [
              0.7777777777777778,
              "#fb9f3a"
             ],
             [
              0.8888888888888888,
              "#fdca26"
             ],
             [
              1,
              "#f0f921"
             ]
            ],
            "type": "heatmap"
           }
          ],
          "heatmapgl": [
           {
            "colorbar": {
             "outlinewidth": 0,
             "ticks": ""
            },
            "colorscale": [
             [
              0,
              "#0d0887"
             ],
             [
              0.1111111111111111,
              "#46039f"
             ],
             [
              0.2222222222222222,
              "#7201a8"
             ],
             [
              0.3333333333333333,
              "#9c179e"
             ],
             [
              0.4444444444444444,
              "#bd3786"
             ],
             [
              0.5555555555555556,
              "#d8576b"
             ],
             [
              0.6666666666666666,
              "#ed7953"
             ],
             [
              0.7777777777777778,
              "#fb9f3a"
             ],
             [
              0.8888888888888888,
              "#fdca26"
             ],
             [
              1,
              "#f0f921"
             ]
            ],
            "type": "heatmapgl"
           }
          ],
          "histogram": [
           {
            "marker": {
             "colorbar": {
              "outlinewidth": 0,
              "ticks": ""
             }
            },
            "type": "histogram"
           }
          ],
          "histogram2d": [
           {
            "colorbar": {
             "outlinewidth": 0,
             "ticks": ""
            },
            "colorscale": [
             [
              0,
              "#0d0887"
             ],
             [
              0.1111111111111111,
              "#46039f"
             ],
             [
              0.2222222222222222,
              "#7201a8"
             ],
             [
              0.3333333333333333,
              "#9c179e"
             ],
             [
              0.4444444444444444,
              "#bd3786"
             ],
             [
              0.5555555555555556,
              "#d8576b"
             ],
             [
              0.6666666666666666,
              "#ed7953"
             ],
             [
              0.7777777777777778,
              "#fb9f3a"
             ],
             [
              0.8888888888888888,
              "#fdca26"
             ],
             [
              1,
              "#f0f921"
             ]
            ],
            "type": "histogram2d"
           }
          ],
          "histogram2dcontour": [
           {
            "colorbar": {
             "outlinewidth": 0,
             "ticks": ""
            },
            "colorscale": [
             [
              0,
              "#0d0887"
             ],
             [
              0.1111111111111111,
              "#46039f"
             ],
             [
              0.2222222222222222,
              "#7201a8"
             ],
             [
              0.3333333333333333,
              "#9c179e"
             ],
             [
              0.4444444444444444,
              "#bd3786"
             ],
             [
              0.5555555555555556,
              "#d8576b"
             ],
             [
              0.6666666666666666,
              "#ed7953"
             ],
             [
              0.7777777777777778,
              "#fb9f3a"
             ],
             [
              0.8888888888888888,
              "#fdca26"
             ],
             [
              1,
              "#f0f921"
             ]
            ],
            "type": "histogram2dcontour"
           }
          ],
          "mesh3d": [
           {
            "colorbar": {
             "outlinewidth": 0,
             "ticks": ""
            },
            "type": "mesh3d"
           }
          ],
          "parcoords": [
           {
            "line": {
             "colorbar": {
              "outlinewidth": 0,
              "ticks": ""
             }
            },
            "type": "parcoords"
           }
          ],
          "pie": [
           {
            "automargin": true,
            "type": "pie"
           }
          ],
          "scatter": [
           {
            "marker": {
             "colorbar": {
              "outlinewidth": 0,
              "ticks": ""
             }
            },
            "type": "scatter"
           }
          ],
          "scatter3d": [
           {
            "line": {
             "colorbar": {
              "outlinewidth": 0,
              "ticks": ""
             }
            },
            "marker": {
             "colorbar": {
              "outlinewidth": 0,
              "ticks": ""
             }
            },
            "type": "scatter3d"
           }
          ],
          "scattercarpet": [
           {
            "marker": {
             "colorbar": {
              "outlinewidth": 0,
              "ticks": ""
             }
            },
            "type": "scattercarpet"
           }
          ],
          "scattergeo": [
           {
            "marker": {
             "colorbar": {
              "outlinewidth": 0,
              "ticks": ""
             }
            },
            "type": "scattergeo"
           }
          ],
          "scattergl": [
           {
            "marker": {
             "colorbar": {
              "outlinewidth": 0,
              "ticks": ""
             }
            },
            "type": "scattergl"
           }
          ],
          "scattermapbox": [
           {
            "marker": {
             "colorbar": {
              "outlinewidth": 0,
              "ticks": ""
             }
            },
            "type": "scattermapbox"
           }
          ],
          "scatterpolar": [
           {
            "marker": {
             "colorbar": {
              "outlinewidth": 0,
              "ticks": ""
             }
            },
            "type": "scatterpolar"
           }
          ],
          "scatterpolargl": [
           {
            "marker": {
             "colorbar": {
              "outlinewidth": 0,
              "ticks": ""
             }
            },
            "type": "scatterpolargl"
           }
          ],
          "scatterternary": [
           {
            "marker": {
             "colorbar": {
              "outlinewidth": 0,
              "ticks": ""
             }
            },
            "type": "scatterternary"
           }
          ],
          "surface": [
           {
            "colorbar": {
             "outlinewidth": 0,
             "ticks": ""
            },
            "colorscale": [
             [
              0,
              "#0d0887"
             ],
             [
              0.1111111111111111,
              "#46039f"
             ],
             [
              0.2222222222222222,
              "#7201a8"
             ],
             [
              0.3333333333333333,
              "#9c179e"
             ],
             [
              0.4444444444444444,
              "#bd3786"
             ],
             [
              0.5555555555555556,
              "#d8576b"
             ],
             [
              0.6666666666666666,
              "#ed7953"
             ],
             [
              0.7777777777777778,
              "#fb9f3a"
             ],
             [
              0.8888888888888888,
              "#fdca26"
             ],
             [
              1,
              "#f0f921"
             ]
            ],
            "type": "surface"
           }
          ],
          "table": [
           {
            "cells": {
             "fill": {
              "color": "#EBF0F8"
             },
             "line": {
              "color": "white"
             }
            },
            "header": {
             "fill": {
              "color": "#C8D4E3"
             },
             "line": {
              "color": "white"
             }
            },
            "type": "table"
           }
          ]
         },
         "layout": {
          "annotationdefaults": {
           "arrowcolor": "#2a3f5f",
           "arrowhead": 0,
           "arrowwidth": 1
          },
          "coloraxis": {
           "colorbar": {
            "outlinewidth": 0,
            "ticks": ""
           }
          },
          "colorscale": {
           "diverging": [
            [
             0,
             "#8e0152"
            ],
            [
             0.1,
             "#c51b7d"
            ],
            [
             0.2,
             "#de77ae"
            ],
            [
             0.3,
             "#f1b6da"
            ],
            [
             0.4,
             "#fde0ef"
            ],
            [
             0.5,
             "#f7f7f7"
            ],
            [
             0.6,
             "#e6f5d0"
            ],
            [
             0.7,
             "#b8e186"
            ],
            [
             0.8,
             "#7fbc41"
            ],
            [
             0.9,
             "#4d9221"
            ],
            [
             1,
             "#276419"
            ]
           ],
           "sequential": [
            [
             0,
             "#0d0887"
            ],
            [
             0.1111111111111111,
             "#46039f"
            ],
            [
             0.2222222222222222,
             "#7201a8"
            ],
            [
             0.3333333333333333,
             "#9c179e"
            ],
            [
             0.4444444444444444,
             "#bd3786"
            ],
            [
             0.5555555555555556,
             "#d8576b"
            ],
            [
             0.6666666666666666,
             "#ed7953"
            ],
            [
             0.7777777777777778,
             "#fb9f3a"
            ],
            [
             0.8888888888888888,
             "#fdca26"
            ],
            [
             1,
             "#f0f921"
            ]
           ],
           "sequentialminus": [
            [
             0,
             "#0d0887"
            ],
            [
             0.1111111111111111,
             "#46039f"
            ],
            [
             0.2222222222222222,
             "#7201a8"
            ],
            [
             0.3333333333333333,
             "#9c179e"
            ],
            [
             0.4444444444444444,
             "#bd3786"
            ],
            [
             0.5555555555555556,
             "#d8576b"
            ],
            [
             0.6666666666666666,
             "#ed7953"
            ],
            [
             0.7777777777777778,
             "#fb9f3a"
            ],
            [
             0.8888888888888888,
             "#fdca26"
            ],
            [
             1,
             "#f0f921"
            ]
           ]
          },
          "colorway": [
           "#636efa",
           "#EF553B",
           "#00cc96",
           "#ab63fa",
           "#FFA15A",
           "#19d3f3",
           "#FF6692",
           "#B6E880",
           "#FF97FF",
           "#FECB52"
          ],
          "font": {
           "color": "#2a3f5f"
          },
          "geo": {
           "bgcolor": "white",
           "lakecolor": "white",
           "landcolor": "#E5ECF6",
           "showlakes": true,
           "showland": true,
           "subunitcolor": "white"
          },
          "hoverlabel": {
           "align": "left"
          },
          "hovermode": "closest",
          "mapbox": {
           "style": "light"
          },
          "paper_bgcolor": "white",
          "plot_bgcolor": "#E5ECF6",
          "polar": {
           "angularaxis": {
            "gridcolor": "white",
            "linecolor": "white",
            "ticks": ""
           },
           "bgcolor": "#E5ECF6",
           "radialaxis": {
            "gridcolor": "white",
            "linecolor": "white",
            "ticks": ""
           }
          },
          "scene": {
           "xaxis": {
            "backgroundcolor": "#E5ECF6",
            "gridcolor": "white",
            "gridwidth": 2,
            "linecolor": "white",
            "showbackground": true,
            "ticks": "",
            "zerolinecolor": "white"
           },
           "yaxis": {
            "backgroundcolor": "#E5ECF6",
            "gridcolor": "white",
            "gridwidth": 2,
            "linecolor": "white",
            "showbackground": true,
            "ticks": "",
            "zerolinecolor": "white"
           },
           "zaxis": {
            "backgroundcolor": "#E5ECF6",
            "gridcolor": "white",
            "gridwidth": 2,
            "linecolor": "white",
            "showbackground": true,
            "ticks": "",
            "zerolinecolor": "white"
           }
          },
          "shapedefaults": {
           "line": {
            "color": "#2a3f5f"
           }
          },
          "ternary": {
           "aaxis": {
            "gridcolor": "white",
            "linecolor": "white",
            "ticks": ""
           },
           "baxis": {
            "gridcolor": "white",
            "linecolor": "white",
            "ticks": ""
           },
           "bgcolor": "#E5ECF6",
           "caxis": {
            "gridcolor": "white",
            "linecolor": "white",
            "ticks": ""
           }
          },
          "title": {
           "x": 0.05
          },
          "xaxis": {
           "automargin": true,
           "gridcolor": "white",
           "linecolor": "white",
           "ticks": "",
           "title": {
            "standoff": 15
           },
           "zerolinecolor": "white",
           "zerolinewidth": 2
          },
          "yaxis": {
           "automargin": true,
           "gridcolor": "white",
           "linecolor": "white",
           "ticks": "",
           "title": {
            "standoff": 15
           },
           "zerolinecolor": "white",
           "zerolinewidth": 2
          }
         }
        },
        "title": {
         "font": {
          "color": "#4D5663"
         },
         "text": "Monthly price for each year"
        },
        "xaxis": {
         "gridcolor": "#E1E5ED",
         "showgrid": true,
         "tickfont": {
          "color": "#4D5663"
         },
         "title": {
          "font": {
           "color": "#4D5663"
          },
          "text": ""
         },
         "zerolinecolor": "#E1E5ED"
        },
        "yaxis": {
         "gridcolor": "#E1E5ED",
         "showgrid": true,
         "tickfont": {
          "color": "#4D5663"
         },
         "title": {
          "font": {
           "color": "#4D5663"
          },
          "text": ""
         },
         "zerolinecolor": "#E1E5ED"
        }
       }
      },
      "text/html": [
       "<div>                            <div id=\"d45744c4-943a-4041-869c-18324315c6ff\" class=\"plotly-graph-div\" style=\"height:525px; width:100%;\"></div>            <script type=\"text/javascript\">                require([\"plotly\"], function(Plotly) {                    window.PLOTLYENV=window.PLOTLYENV || {};\n",
       "                    window.PLOTLYENV.BASE_URL='https://plot.ly';                                    if (document.getElementById(\"d45744c4-943a-4041-869c-18324315c6ff\")) {                    Plotly.newPlot(                        \"d45744c4-943a-4041-869c-18324315c6ff\",                        [{\"line\": {\"color\": \"rgba(255, 153, 51, 1.0)\", \"dash\": \"solid\", \"shape\": \"linear\", \"width\": 1.3}, \"mode\": \"lines\", \"name\": \"Price\", \"text\": \"\", \"type\": \"scatter\", \"x\": [\"2012-01-31\", \"2012-02-29\", \"2012-03-31\", \"2012-04-30\", \"2012-05-31\", \"2012-06-30\", \"2012-07-31\", \"2012-08-31\", \"2012-09-30\", \"2012-10-31\", \"2012-11-30\", \"2012-12-31\", \"2013-01-31\", \"2013-02-28\", \"2013-03-31\", \"2013-04-30\", \"2013-05-31\", \"2013-06-30\", \"2013-07-31\", \"2013-08-31\", \"2013-09-30\", \"2013-10-31\", \"2013-11-30\", \"2013-12-31\", \"2014-01-31\", \"2014-02-28\", \"2014-03-31\", \"2014-04-30\", \"2014-05-31\", \"2014-06-30\", \"2014-07-31\", \"2014-08-31\", \"2014-09-30\", \"2014-10-31\", \"2014-11-30\", \"2014-12-31\", \"2015-01-31\", \"2015-02-28\", \"2015-03-31\", \"2015-04-30\", \"2015-05-31\", \"2015-06-30\", \"2015-07-31\", \"2015-08-31\", \"2015-09-30\", \"2015-10-31\", \"2015-11-30\", \"2015-12-31\", \"2016-01-31\", \"2016-02-29\", \"2016-03-31\", \"2016-04-30\", \"2016-05-31\", \"2016-06-30\", \"2016-07-31\", \"2016-08-31\", \"2016-09-30\", \"2016-10-31\", \"2016-11-30\", \"2016-12-31\", \"2017-01-31\", \"2017-02-28\", \"2017-03-31\", \"2017-04-30\", \"2017-05-31\", \"2017-06-30\"], \"y\": [231738.09365333815, 228041.99384364174, 221422.54482903428, 236886.36505036202, 237121.30946812523, 240364.81898864126, 251735.1335409968, 248798.6783945632, 247182.9926356226, 240274.8601248406, 235421.44999766815, 236501.44572642818, 245397.32216400074, 234937.5494389206, 235534.2795413178, 243179.67680215323, 237682.5171752293, 244350.75701368303, 260241.64893030512, 260233.22833530107, 269495.2048783878, 269212.9298297303, 270461.08730500634, 278576.8775243763, 280078.5221617918, 262788.2004053821, 268258.81932451634, 276542.1601605447, 274376.18446882564, 279495.3973877177, 286506.9262164495, 291382.71242138196, 282817.6730128228, 276067.455186686, 276131.66111146234, 288885.44282817806, 291697.3357472021, 278907.7008434246, 292445.33535048587, 289446.6507466932, 277214.50423887296, 294659.18305842706, 312112.7354834182, 299277.6360777933, 303885.1078515577, 291169.94425446674, 295954.8527187893, 313717.4015920482, 311512.9289100909, 289323.9056922913, 298844.7351459939, 292037.6689794544, 295911.1174918266, 307672.2145338122, 301811.56270362926, 299392.6679517283, 326974.5828082353, 323674.7561518309, 327759.9568567026, 340661.77201144927, 333088.55899121833, 326232.80866735434, 335658.4482969738, 338201.4465390234, 323162.99572274624, 306117.35672906274]}],                        {\"legend\": {\"bgcolor\": \"#F5F6F9\", \"font\": {\"color\": \"#4D5663\"}}, \"paper_bgcolor\": \"#F5F6F9\", \"plot_bgcolor\": \"#F5F6F9\", \"template\": {\"data\": {\"bar\": [{\"error_x\": {\"color\": \"#2a3f5f\"}, \"error_y\": {\"color\": \"#2a3f5f\"}, \"marker\": {\"line\": {\"color\": \"#E5ECF6\", \"width\": 0.5}}, \"type\": \"bar\"}], \"barpolar\": [{\"marker\": {\"line\": {\"color\": \"#E5ECF6\", \"width\": 0.5}}, \"type\": \"barpolar\"}], \"carpet\": [{\"aaxis\": {\"endlinecolor\": \"#2a3f5f\", \"gridcolor\": \"white\", \"linecolor\": \"white\", \"minorgridcolor\": \"white\", \"startlinecolor\": \"#2a3f5f\"}, \"baxis\": {\"endlinecolor\": \"#2a3f5f\", \"gridcolor\": \"white\", \"linecolor\": \"white\", \"minorgridcolor\": \"white\", \"startlinecolor\": \"#2a3f5f\"}, \"type\": \"carpet\"}], \"choropleth\": [{\"colorbar\": {\"outlinewidth\": 0, \"ticks\": \"\"}, \"type\": \"choropleth\"}], \"contour\": [{\"colorbar\": {\"outlinewidth\": 0, \"ticks\": \"\"}, \"colorscale\": [[0.0, \"#0d0887\"], [0.1111111111111111, \"#46039f\"], [0.2222222222222222, \"#7201a8\"], [0.3333333333333333, \"#9c179e\"], [0.4444444444444444, \"#bd3786\"], [0.5555555555555556, \"#d8576b\"], [0.6666666666666666, \"#ed7953\"], [0.7777777777777778, \"#fb9f3a\"], [0.8888888888888888, \"#fdca26\"], [1.0, \"#f0f921\"]], \"type\": \"contour\"}], \"contourcarpet\": [{\"colorbar\": {\"outlinewidth\": 0, \"ticks\": \"\"}, \"type\": \"contourcarpet\"}], \"heatmap\": [{\"colorbar\": {\"outlinewidth\": 0, \"ticks\": \"\"}, \"colorscale\": [[0.0, \"#0d0887\"], [0.1111111111111111, \"#46039f\"], [0.2222222222222222, \"#7201a8\"], [0.3333333333333333, \"#9c179e\"], [0.4444444444444444, \"#bd3786\"], [0.5555555555555556, \"#d8576b\"], [0.6666666666666666, \"#ed7953\"], [0.7777777777777778, \"#fb9f3a\"], [0.8888888888888888, \"#fdca26\"], [1.0, \"#f0f921\"]], \"type\": \"heatmap\"}], \"heatmapgl\": [{\"colorbar\": {\"outlinewidth\": 0, \"ticks\": \"\"}, \"colorscale\": [[0.0, \"#0d0887\"], [0.1111111111111111, \"#46039f\"], [0.2222222222222222, \"#7201a8\"], [0.3333333333333333, \"#9c179e\"], [0.4444444444444444, \"#bd3786\"], [0.5555555555555556, \"#d8576b\"], [0.6666666666666666, \"#ed7953\"], [0.7777777777777778, \"#fb9f3a\"], [0.8888888888888888, \"#fdca26\"], [1.0, \"#f0f921\"]], \"type\": \"heatmapgl\"}], \"histogram\": [{\"marker\": {\"colorbar\": {\"outlinewidth\": 0, \"ticks\": \"\"}}, \"type\": \"histogram\"}], \"histogram2d\": [{\"colorbar\": {\"outlinewidth\": 0, \"ticks\": \"\"}, \"colorscale\": [[0.0, \"#0d0887\"], [0.1111111111111111, \"#46039f\"], [0.2222222222222222, \"#7201a8\"], [0.3333333333333333, \"#9c179e\"], [0.4444444444444444, \"#bd3786\"], [0.5555555555555556, \"#d8576b\"], [0.6666666666666666, \"#ed7953\"], [0.7777777777777778, \"#fb9f3a\"], [0.8888888888888888, \"#fdca26\"], [1.0, \"#f0f921\"]], \"type\": \"histogram2d\"}], \"histogram2dcontour\": [{\"colorbar\": {\"outlinewidth\": 0, \"ticks\": \"\"}, \"colorscale\": [[0.0, \"#0d0887\"], [0.1111111111111111, \"#46039f\"], [0.2222222222222222, \"#7201a8\"], [0.3333333333333333, \"#9c179e\"], [0.4444444444444444, \"#bd3786\"], [0.5555555555555556, \"#d8576b\"], [0.6666666666666666, \"#ed7953\"], [0.7777777777777778, \"#fb9f3a\"], [0.8888888888888888, \"#fdca26\"], [1.0, \"#f0f921\"]], \"type\": \"histogram2dcontour\"}], \"mesh3d\": [{\"colorbar\": {\"outlinewidth\": 0, \"ticks\": \"\"}, \"type\": \"mesh3d\"}], \"parcoords\": [{\"line\": {\"colorbar\": {\"outlinewidth\": 0, \"ticks\": \"\"}}, \"type\": \"parcoords\"}], \"pie\": [{\"automargin\": true, \"type\": \"pie\"}], \"scatter\": [{\"marker\": {\"colorbar\": {\"outlinewidth\": 0, \"ticks\": \"\"}}, \"type\": \"scatter\"}], \"scatter3d\": [{\"line\": {\"colorbar\": {\"outlinewidth\": 0, \"ticks\": \"\"}}, \"marker\": {\"colorbar\": {\"outlinewidth\": 0, \"ticks\": \"\"}}, \"type\": \"scatter3d\"}], \"scattercarpet\": [{\"marker\": {\"colorbar\": {\"outlinewidth\": 0, \"ticks\": \"\"}}, \"type\": \"scattercarpet\"}], \"scattergeo\": [{\"marker\": {\"colorbar\": {\"outlinewidth\": 0, \"ticks\": \"\"}}, \"type\": \"scattergeo\"}], \"scattergl\": [{\"marker\": {\"colorbar\": {\"outlinewidth\": 0, \"ticks\": \"\"}}, \"type\": \"scattergl\"}], \"scattermapbox\": [{\"marker\": {\"colorbar\": {\"outlinewidth\": 0, \"ticks\": \"\"}}, \"type\": \"scattermapbox\"}], \"scatterpolar\": [{\"marker\": {\"colorbar\": {\"outlinewidth\": 0, \"ticks\": \"\"}}, \"type\": \"scatterpolar\"}], \"scatterpolargl\": [{\"marker\": {\"colorbar\": {\"outlinewidth\": 0, \"ticks\": \"\"}}, \"type\": \"scatterpolargl\"}], \"scatterternary\": [{\"marker\": {\"colorbar\": {\"outlinewidth\": 0, \"ticks\": \"\"}}, \"type\": \"scatterternary\"}], \"surface\": [{\"colorbar\": {\"outlinewidth\": 0, \"ticks\": \"\"}, \"colorscale\": [[0.0, \"#0d0887\"], [0.1111111111111111, \"#46039f\"], [0.2222222222222222, \"#7201a8\"], [0.3333333333333333, \"#9c179e\"], [0.4444444444444444, \"#bd3786\"], [0.5555555555555556, \"#d8576b\"], [0.6666666666666666, \"#ed7953\"], [0.7777777777777778, \"#fb9f3a\"], [0.8888888888888888, \"#fdca26\"], [1.0, \"#f0f921\"]], \"type\": \"surface\"}], \"table\": [{\"cells\": {\"fill\": {\"color\": \"#EBF0F8\"}, \"line\": {\"color\": \"white\"}}, \"header\": {\"fill\": {\"color\": \"#C8D4E3\"}, \"line\": {\"color\": \"white\"}}, \"type\": \"table\"}]}, \"layout\": {\"annotationdefaults\": {\"arrowcolor\": \"#2a3f5f\", \"arrowhead\": 0, \"arrowwidth\": 1}, \"coloraxis\": {\"colorbar\": {\"outlinewidth\": 0, \"ticks\": \"\"}}, \"colorscale\": {\"diverging\": [[0, \"#8e0152\"], [0.1, \"#c51b7d\"], [0.2, \"#de77ae\"], [0.3, \"#f1b6da\"], [0.4, \"#fde0ef\"], [0.5, \"#f7f7f7\"], [0.6, \"#e6f5d0\"], [0.7, \"#b8e186\"], [0.8, \"#7fbc41\"], [0.9, \"#4d9221\"], [1, \"#276419\"]], \"sequential\": [[0.0, \"#0d0887\"], [0.1111111111111111, \"#46039f\"], [0.2222222222222222, \"#7201a8\"], [0.3333333333333333, \"#9c179e\"], [0.4444444444444444, \"#bd3786\"], [0.5555555555555556, \"#d8576b\"], [0.6666666666666666, \"#ed7953\"], [0.7777777777777778, \"#fb9f3a\"], [0.8888888888888888, \"#fdca26\"], [1.0, \"#f0f921\"]], \"sequentialminus\": [[0.0, \"#0d0887\"], [0.1111111111111111, \"#46039f\"], [0.2222222222222222, \"#7201a8\"], [0.3333333333333333, \"#9c179e\"], [0.4444444444444444, \"#bd3786\"], [0.5555555555555556, \"#d8576b\"], [0.6666666666666666, \"#ed7953\"], [0.7777777777777778, \"#fb9f3a\"], [0.8888888888888888, \"#fdca26\"], [1.0, \"#f0f921\"]]}, \"colorway\": [\"#636efa\", \"#EF553B\", \"#00cc96\", \"#ab63fa\", \"#FFA15A\", \"#19d3f3\", \"#FF6692\", \"#B6E880\", \"#FF97FF\", \"#FECB52\"], \"font\": {\"color\": \"#2a3f5f\"}, \"geo\": {\"bgcolor\": \"white\", \"lakecolor\": \"white\", \"landcolor\": \"#E5ECF6\", \"showlakes\": true, \"showland\": true, \"subunitcolor\": \"white\"}, \"hoverlabel\": {\"align\": \"left\"}, \"hovermode\": \"closest\", \"mapbox\": {\"style\": \"light\"}, \"paper_bgcolor\": \"white\", \"plot_bgcolor\": \"#E5ECF6\", \"polar\": {\"angularaxis\": {\"gridcolor\": \"white\", \"linecolor\": \"white\", \"ticks\": \"\"}, \"bgcolor\": \"#E5ECF6\", \"radialaxis\": {\"gridcolor\": \"white\", \"linecolor\": \"white\", \"ticks\": \"\"}}, \"scene\": {\"xaxis\": {\"backgroundcolor\": \"#E5ECF6\", \"gridcolor\": \"white\", \"gridwidth\": 2, \"linecolor\": \"white\", \"showbackground\": true, \"ticks\": \"\", \"zerolinecolor\": \"white\"}, \"yaxis\": {\"backgroundcolor\": \"#E5ECF6\", \"gridcolor\": \"white\", \"gridwidth\": 2, \"linecolor\": \"white\", \"showbackground\": true, \"ticks\": \"\", \"zerolinecolor\": \"white\"}, \"zaxis\": {\"backgroundcolor\": \"#E5ECF6\", \"gridcolor\": \"white\", \"gridwidth\": 2, \"linecolor\": \"white\", \"showbackground\": true, \"ticks\": \"\", \"zerolinecolor\": \"white\"}}, \"shapedefaults\": {\"line\": {\"color\": \"#2a3f5f\"}}, \"ternary\": {\"aaxis\": {\"gridcolor\": \"white\", \"linecolor\": \"white\", \"ticks\": \"\"}, \"baxis\": {\"gridcolor\": \"white\", \"linecolor\": \"white\", \"ticks\": \"\"}, \"bgcolor\": \"#E5ECF6\", \"caxis\": {\"gridcolor\": \"white\", \"linecolor\": \"white\", \"ticks\": \"\"}}, \"title\": {\"x\": 0.05}, \"xaxis\": {\"automargin\": true, \"gridcolor\": \"white\", \"linecolor\": \"white\", \"ticks\": \"\", \"title\": {\"standoff\": 15}, \"zerolinecolor\": \"white\", \"zerolinewidth\": 2}, \"yaxis\": {\"automargin\": true, \"gridcolor\": \"white\", \"linecolor\": \"white\", \"ticks\": \"\", \"title\": {\"standoff\": 15}, \"zerolinecolor\": \"white\", \"zerolinewidth\": 2}}}, \"title\": {\"font\": {\"color\": \"#4D5663\"}, \"text\": \"Monthly price for each year\"}, \"xaxis\": {\"gridcolor\": \"#E1E5ED\", \"showgrid\": true, \"tickfont\": {\"color\": \"#4D5663\"}, \"title\": {\"font\": {\"color\": \"#4D5663\"}, \"text\": \"\"}, \"zerolinecolor\": \"#E1E5ED\"}, \"yaxis\": {\"gridcolor\": \"#E1E5ED\", \"showgrid\": true, \"tickfont\": {\"color\": \"#4D5663\"}, \"title\": {\"font\": {\"color\": \"#4D5663\"}, \"text\": \"\"}, \"zerolinecolor\": \"#E1E5ED\"}},                        {\"showLink\": true, \"linkText\": \"Export to plot.ly\", \"plotlyServerURL\": \"https://plot.ly\", \"responsive\": true}                    ).then(function(){\n",
       "                            \n",
       "var gd = document.getElementById('d45744c4-943a-4041-869c-18324315c6ff');\n",
       "var x = new MutationObserver(function (mutations, observer) {{\n",
       "        var display = window.getComputedStyle(gd).display;\n",
       "        if (!display || display === 'none') {{\n",
       "            console.log([gd, 'removed!']);\n",
       "            Plotly.purge(gd);\n",
       "            observer.disconnect();\n",
       "        }}\n",
       "}});\n",
       "\n",
       "// Listen for the removal of the full notebook cells\n",
       "var notebookContainer = gd.closest('#notebook-container');\n",
       "if (notebookContainer) {{\n",
       "    x.observe(notebookContainer, {childList: true});\n",
       "}}\n",
       "\n",
       "// Listen for the clearing of the current output cell\n",
       "var outputEl = gd.closest('.output');\n",
       "if (outputEl) {{\n",
       "    x.observe(outputEl, {childList: true});\n",
       "}}\n",
       "\n",
       "                        })                };                });            </script>        </div>"
      ]
     },
     "metadata": {},
     "output_type": "display_data"
    }
   ],
   "source": [
    "data_group3.resample('M').Price.mean().iplot(kind=\"line\",title=\"Monthly price for each year\")"
   ]
  },
  {
   "cell_type": "markdown",
   "metadata": {},
   "source": [
    " <mark><span style='color:red'> Here is the line graph presenting the monthly average price for housing. As you can see, there has been quite ups and downs in the price on different months.</span></mark>"
   ]
  },
  {
   "cell_type": "markdown",
   "metadata": {},
   "source": [
    "## Maximum Price trends from 2012 to 2017"
   ]
  },
  {
   "cell_type": "code",
   "execution_count": 86,
   "metadata": {
    "ExecuteTime": {
     "end_time": "2020-12-18T14:29:38.058344Z",
     "start_time": "2020-12-18T14:29:37.740352Z"
    },
    "scrolled": false
   },
   "outputs": [
    {
     "data": {
      "image/png": "[encoded data removed]",
      "text/plain": [
       "<Figure size 432x288 with 1 Axes>"
      ]
     },
     "metadata": {
      "needs_background": "light"
     },
     "output_type": "display_data"
    }
   ],
   "source": [
    "data_group3.resample('Y').Price.max().plot(kind='line',y=\"Price\");"
   ]
  },
  {
   "cell_type": "markdown",
   "metadata": {},
   "source": [
    "## Percentage change in Sales growth from previous years"
   ]
  },
  {
   "cell_type": "code",
   "execution_count": 87,
   "metadata": {
    "ExecuteTime": {
     "end_time": "2020-12-18T14:29:42.662066Z",
     "start_time": "2020-12-18T14:29:42.302050Z"
    }
   },
   "outputs": [
    {
     "data": {
      "application/vnd.plotly.v1+json": {
       "config": {
        "linkText": "Export to plot.ly",
        "plotlyServerURL": "https://plot.ly",
        "showLink": true
       },
       "data": [
        {
         "line": {
          "color": "rgba(255, 153, 51, 1.0)",
          "dash": "solid",
          "shape": "linear",
          "width": 5
         },
         "mode": "lines",
         "name": "Price",
         "text": "",
         "type": "scatter",
         "x": [
          "2012-12-31",
          "2013-12-31",
          "2014-12-31",
          "2015-12-31",
          "2016-12-31",
          "2017-12-31"
         ],
         "y": [
          "",
          0.30662784097594153,
          0.31847403560664933,
          0.087082787264805,
          0.07247650704751152,
          -0.6143791942128042
         ]
        }
       ],
       "layout": {
        "legend": {
         "bgcolor": "#F5F6F9",
         "font": {
          "color": "#4D5663"
         }
        },
        "paper_bgcolor": "#F5F6F9",
        "plot_bgcolor": "#F5F6F9",
        "template": {
         "data": {
          "bar": [
           {
            "error_x": {
             "color": "#2a3f5f"
            },
            "error_y": {
             "color": "#2a3f5f"
            },
            "marker": {
             "line": {
              "color": "#E5ECF6",
              "width": 0.5
             }
            },
            "type": "bar"
           }
          ],
          "barpolar": [
           {
            "marker": {
             "line": {
              "color": "#E5ECF6",
              "width": 0.5
             }
            },
            "type": "barpolar"
           }
          ],
          "carpet": [
           {
            "aaxis": {
             "endlinecolor": "#2a3f5f",
             "gridcolor": "white",
             "linecolor": "white",
             "minorgridcolor": "white",
             "startlinecolor": "#2a3f5f"
            },
            "baxis": {
             "endlinecolor": "#2a3f5f",
             "gridcolor": "white",
             "linecolor": "white",
             "minorgridcolor": "white",
             "startlinecolor": "#2a3f5f"
            },
            "type": "carpet"
           }
          ],
          "choropleth": [
           {
            "colorbar": {
             "outlinewidth": 0,
             "ticks": ""
            },
            "type": "choropleth"
           }
          ],
          "contour": [
           {
            "colorbar": {
             "outlinewidth": 0,
             "ticks": ""
            },
            "colorscale": [
             [
              0,
              "#0d0887"
             ],
             [
              0.1111111111111111,
              "#46039f"
             ],
             [
              0.2222222222222222,
              "#7201a8"
             ],
             [
              0.3333333333333333,
              "#9c179e"
             ],
             [
              0.4444444444444444,
              "#bd3786"
             ],
             [
              0.5555555555555556,
              "#d8576b"
             ],
             [
              0.6666666666666666,
              "#ed7953"
             ],
             [
              0.7777777777777778,
              "#fb9f3a"
             ],
             [
              0.8888888888888888,
              "#fdca26"
             ],
             [
              1,
              "#f0f921"
             ]
            ],
            "type": "contour"
           }
          ],
          "contourcarpet": [
           {
            "colorbar": {
             "outlinewidth": 0,
             "ticks": ""
            },
            "type": "contourcarpet"
           }
          ],
          "heatmap": [
           {
            "colorbar": {
             "outlinewidth": 0,
             "ticks": ""
            },
            "colorscale": [
             [
              0,
              "#0d0887"
             ],
             [
              0.1111111111111111,
              "#46039f"
             ],
             [
              0.2222222222222222,
              "#7201a8"
             ],
             [
              0.3333333333333333,
              "#9c179e"
             ],
             [
              0.4444444444444444,
              "#bd3786"
             ],
             [
              0.5555555555555556,
              "#d8576b"
             ],
             [
              0.6666666666666666,
              "#ed7953"
             ],
             [
              0.7777777777777778,
              "#fb9f3a"
             ],
             [
              0.8888888888888888,
              "#fdca26"
             ],
             [
              1,
              "#f0f921"
             ]
            ],
            "type": "heatmap"
           }
          ],
          "heatmapgl": [
           {
            "colorbar": {
             "outlinewidth": 0,
             "ticks": ""
            },
            "colorscale": [
             [
              0,
              "#0d0887"
             ],
             [
              0.1111111111111111,
              "#46039f"
             ],
             [
              0.2222222222222222,
              "#7201a8"
             ],
             [
              0.3333333333333333,
              "#9c179e"
             ],
             [
              0.4444444444444444,
              "#bd3786"
             ],
             [
              0.5555555555555556,
              "#d8576b"
             ],
             [
              0.6666666666666666,
              "#ed7953"
             ],
             [
              0.7777777777777778,
              "#fb9f3a"
             ],
             [
              0.8888888888888888,
              "#fdca26"
             ],
             [
              1,
              "#f0f921"
             ]
            ],
            "type": "heatmapgl"
           }
          ],
          "histogram": [
           {
            "marker": {
             "colorbar": {
              "outlinewidth": 0,
              "ticks": ""
             }
            },
            "type": "histogram"
           }
          ],
          "histogram2d": [
           {
            "colorbar": {
             "outlinewidth": 0,
             "ticks": ""
            },
            "colorscale": [
             [
              0,
              "#0d0887"
             ],
             [
              0.1111111111111111,
              "#46039f"
             ],
             [
              0.2222222222222222,
              "#7201a8"
             ],
             [
              0.3333333333333333,
              "#9c179e"
             ],
             [
              0.4444444444444444,
              "#bd3786"
             ],
             [
              0.5555555555555556,
              "#d8576b"
             ],
             [
              0.6666666666666666,
              "#ed7953"
             ],
             [
              0.7777777777777778,
              "#fb9f3a"
             ],
             [
              0.8888888888888888,
              "#fdca26"
             ],
             [
              1,
              "#f0f921"
             ]
            ],
            "type": "histogram2d"
           }
          ],
          "histogram2dcontour": [
           {
            "colorbar": {
             "outlinewidth": 0,
             "ticks": ""
            },
            "colorscale": [
             [
              0,
              "#0d0887"
             ],
             [
              0.1111111111111111,
              "#46039f"
             ],
             [
              0.2222222222222222,
              "#7201a8"
             ],
             [
              0.3333333333333333,
              "#9c179e"
             ],
             [
              0.4444444444444444,
              "#bd3786"
             ],
             [
              0.5555555555555556,
              "#d8576b"
             ],
             [
              0.6666666666666666,
              "#ed7953"
             ],
             [
              0.7777777777777778,
              "#fb9f3a"
             ],
             [
              0.8888888888888888,
              "#fdca26"
             ],
             [
              1,
              "#f0f921"
             ]
            ],
            "type": "histogram2dcontour"
           }
          ],
          "mesh3d": [
           {
            "colorbar": {
             "outlinewidth": 0,
             "ticks": ""
            },
            "type": "mesh3d"
           }
          ],
          "parcoords": [
           {
            "line": {
             "colorbar": {
              "outlinewidth": 0,
              "ticks": ""
             }
            },
            "type": "parcoords"
           }
          ],
          "pie": [
           {
            "automargin": true,
            "type": "pie"
           }
          ],
          "scatter": [
           {
            "marker": {
             "colorbar": {
              "outlinewidth": 0,
              "ticks": ""
             }
            },
            "type": "scatter"
           }
          ],
          "scatter3d": [
           {
            "line": {
             "colorbar": {
              "outlinewidth": 0,
              "ticks": ""
             }
            },
            "marker": {
             "colorbar": {
              "outlinewidth": 0,
              "ticks": ""
             }
            },
            "type": "scatter3d"
           }
          ],
          "scattercarpet": [
           {
            "marker": {
             "colorbar": {
              "outlinewidth": 0,
              "ticks": ""
             }
            },
            "type": "scattercarpet"
           }
          ],
          "scattergeo": [
           {
            "marker": {
             "colorbar": {
              "outlinewidth": 0,
              "ticks": ""
             }
            },
            "type": "scattergeo"
           }
          ],
          "scattergl": [
           {
            "marker": {
             "colorbar": {
              "outlinewidth": 0,
              "ticks": ""
             }
            },
            "type": "scattergl"
           }
          ],
          "scattermapbox": [
           {
            "marker": {
             "colorbar": {
              "outlinewidth": 0,
              "ticks": ""
             }
            },
            "type": "scattermapbox"
           }
          ],
          "scatterpolar": [
           {
            "marker": {
             "colorbar": {
              "outlinewidth": 0,
              "ticks": ""
             }
            },
            "type": "scatterpolar"
           }
          ],
          "scatterpolargl": [
           {
            "marker": {
             "colorbar": {
              "outlinewidth": 0,
              "ticks": ""
             }
            },
            "type": "scatterpolargl"
           }
          ],
          "scatterternary": [
           {
            "marker": {
             "colorbar": {
              "outlinewidth": 0,
              "ticks": ""
             }
            },
            "type": "scatterternary"
           }
          ],
          "surface": [
           {
            "colorbar": {
             "outlinewidth": 0,
             "ticks": ""
            },
            "colorscale": [
             [
              0,
              "#0d0887"
             ],
             [
              0.1111111111111111,
              "#46039f"
             ],
             [
              0.2222222222222222,
              "#7201a8"
             ],
             [
              0.3333333333333333,
              "#9c179e"
             ],
             [
              0.4444444444444444,
              "#bd3786"
             ],
             [
              0.5555555555555556,
              "#d8576b"
             ],
             [
              0.6666666666666666,
              "#ed7953"
             ],
             [
              0.7777777777777778,
              "#fb9f3a"
             ],
             [
              0.8888888888888888,
              "#fdca26"
             ],
             [
              1,
              "#f0f921"
             ]
            ],
            "type": "surface"
           }
          ],
          "table": [
           {
            "cells": {
             "fill": {
              "color": "#EBF0F8"
             },
             "line": {
              "color": "white"
             }
            },
            "header": {
             "fill": {
              "color": "#C8D4E3"
             },
             "line": {
              "color": "white"
             }
            },
            "type": "table"
           }
          ]
         },
         "layout": {
          "annotationdefaults": {
           "arrowcolor": "#2a3f5f",
           "arrowhead": 0,
           "arrowwidth": 1
          },
          "coloraxis": {
           "colorbar": {
            "outlinewidth": 0,
            "ticks": ""
           }
          },
          "colorscale": {
           "diverging": [
            [
             0,
             "#8e0152"
            ],
            [
             0.1,
             "#c51b7d"
            ],
            [
             0.2,
             "#de77ae"
            ],
            [
             0.3,
             "#f1b6da"
            ],
            [
             0.4,
             "#fde0ef"
            ],
            [
             0.5,
             "#f7f7f7"
            ],
            [
             0.6,
             "#e6f5d0"
            ],
            [
             0.7,
             "#b8e186"
            ],
            [
             0.8,
             "#7fbc41"
            ],
            [
             0.9,
             "#4d9221"
            ],
            [
             1,
             "#276419"
            ]
           ],
           "sequential": [
            [
             0,
             "#0d0887"
            ],
            [
             0.1111111111111111,
             "#46039f"
            ],
            [
             0.2222222222222222,
             "#7201a8"
            ],
            [
             0.3333333333333333,
             "#9c179e"
            ],
            [
             0.4444444444444444,
             "#bd3786"
            ],
            [
             0.5555555555555556,
             "#d8576b"
            ],
            [
             0.6666666666666666,
             "#ed7953"
            ],
            [
             0.7777777777777778,
             "#fb9f3a"
            ],
            [
             0.8888888888888888,
             "#fdca26"
            ],
            [
             1,
             "#f0f921"
            ]
           ],
           "sequentialminus": [
            [
             0,
             "#0d0887"
            ],
            [
             0.1111111111111111,
             "#46039f"
            ],
            [
             0.2222222222222222,
             "#7201a8"
            ],
            [
             0.3333333333333333,
             "#9c179e"
            ],
            [
             0.4444444444444444,
             "#bd3786"
            ],
            [
             0.5555555555555556,
             "#d8576b"
            ],
            [
             0.6666666666666666,
             "#ed7953"
            ],
            [
             0.7777777777777778,
             "#fb9f3a"
            ],
            [
             0.8888888888888888,
             "#fdca26"
            ],
            [
             1,
             "#f0f921"
            ]
           ]
          },
          "colorway": [
           "#636efa",
           "#EF553B",
           "#00cc96",
           "#ab63fa",
           "#FFA15A",
           "#19d3f3",
           "#FF6692",
           "#B6E880",
           "#FF97FF",
           "#FECB52"
          ],
          "font": {
           "color": "#2a3f5f"
          },
          "geo": {
           "bgcolor": "white",
           "lakecolor": "white",
           "landcolor": "#E5ECF6",
           "showlakes": true,
           "showland": true,
           "subunitcolor": "white"
          },
          "hoverlabel": {
           "align": "left"
          },
          "hovermode": "closest",
          "mapbox": {
           "style": "light"
          },
          "paper_bgcolor": "white",
          "plot_bgcolor": "#E5ECF6",
          "polar": {
           "angularaxis": {
            "gridcolor": "white",
            "linecolor": "white",
            "ticks": ""
           },
           "bgcolor": "#E5ECF6",
           "radialaxis": {
            "gridcolor": "white",
            "linecolor": "white",
            "ticks": ""
           }
          },
          "scene": {
           "xaxis": {
            "backgroundcolor": "#E5ECF6",
            "gridcolor": "white",
            "gridwidth": 2,
            "linecolor": "white",
            "showbackground": true,
            "ticks": "",
            "zerolinecolor": "white"
           },
           "yaxis": {
            "backgroundcolor": "#E5ECF6",
            "gridcolor": "white",
            "gridwidth": 2,
            "linecolor": "white",
            "showbackground": true,
            "ticks": "",
            "zerolinecolor": "white"
           },
           "zaxis": {
            "backgroundcolor": "#E5ECF6",
            "gridcolor": "white",
            "gridwidth": 2,
            "linecolor": "white",
            "showbackground": true,
            "ticks": "",
            "zerolinecolor": "white"
           }
          },
          "shapedefaults": {
           "line": {
            "color": "#2a3f5f"
           }
          },
          "ternary": {
           "aaxis": {
            "gridcolor": "white",
            "linecolor": "white",
            "ticks": ""
           },
           "baxis": {
            "gridcolor": "white",
            "linecolor": "white",
            "ticks": ""
           },
           "bgcolor": "#E5ECF6",
           "caxis": {
            "gridcolor": "white",
            "linecolor": "white",
            "ticks": ""
           }
          },
          "title": {
           "x": 0.05
          },
          "xaxis": {
           "automargin": true,
           "gridcolor": "white",
           "linecolor": "white",
           "ticks": "",
           "title": {
            "standoff": 15
           },
           "zerolinecolor": "white",
           "zerolinewidth": 2
          },
          "yaxis": {
           "automargin": true,
           "gridcolor": "white",
           "linecolor": "white",
           "ticks": "",
           "title": {
            "standoff": 15
           },
           "zerolinecolor": "white",
           "zerolinewidth": 2
          }
         }
        },
        "title": {
         "font": {
          "color": "#4D5663"
         }
        },
        "xaxis": {
         "gridcolor": "#E1E5ED",
         "showgrid": true,
         "tickfont": {
          "color": "#4D5663"
         },
         "title": {
          "font": {
           "color": "#4D5663"
          },
          "text": ""
         },
         "zerolinecolor": "#E1E5ED"
        },
        "yaxis": {
         "gridcolor": "#E1E5ED",
         "showgrid": true,
         "tickfont": {
          "color": "#4D5663"
         },
         "title": {
          "font": {
           "color": "#4D5663"
          },
          "text": ""
         },
         "zerolinecolor": "#E1E5ED"
        }
       }
      },
      "text/html": [
       "<div>                            <div id=\"88a9f32b-9722-4e84-9583-a0b83c0094be\" class=\"plotly-graph-div\" style=\"height:525px; width:100%;\"></div>            <script type=\"text/javascript\">                require([\"plotly\"], function(Plotly) {                    window.PLOTLYENV=window.PLOTLYENV || {};\n",
       "                    window.PLOTLYENV.BASE_URL='https://plot.ly';                                    if (document.getElementById(\"88a9f32b-9722-4e84-9583-a0b83c0094be\")) {                    Plotly.newPlot(                        \"88a9f32b-9722-4e84-9583-a0b83c0094be\",                        [{\"line\": {\"color\": \"rgba(255, 153, 51, 1.0)\", \"dash\": \"solid\", \"shape\": \"linear\", \"width\": 5}, \"mode\": \"lines\", \"name\": \"Price\", \"text\": \"\", \"type\": \"scatter\", \"x\": [\"2012-12-31\", \"2013-12-31\", \"2014-12-31\", \"2015-12-31\", \"2016-12-31\", \"2017-12-31\"], \"y\": [\"\", 0.30662784097594153, 0.31847403560664933, 0.087082787264805, 0.07247650704751152, -0.6143791942128042]}],                        {\"legend\": {\"bgcolor\": \"#F5F6F9\", \"font\": {\"color\": \"#4D5663\"}}, \"paper_bgcolor\": \"#F5F6F9\", \"plot_bgcolor\": \"#F5F6F9\", \"template\": {\"data\": {\"bar\": [{\"error_x\": {\"color\": \"#2a3f5f\"}, \"error_y\": {\"color\": \"#2a3f5f\"}, \"marker\": {\"line\": {\"color\": \"#E5ECF6\", \"width\": 0.5}}, \"type\": \"bar\"}], \"barpolar\": [{\"marker\": {\"line\": {\"color\": \"#E5ECF6\", \"width\": 0.5}}, \"type\": \"barpolar\"}], \"carpet\": [{\"aaxis\": {\"endlinecolor\": \"#2a3f5f\", \"gridcolor\": \"white\", \"linecolor\": \"white\", \"minorgridcolor\": \"white\", \"startlinecolor\": \"#2a3f5f\"}, \"baxis\": {\"endlinecolor\": \"#2a3f5f\", \"gridcolor\": \"white\", \"linecolor\": \"white\", \"minorgridcolor\": \"white\", \"startlinecolor\": \"#2a3f5f\"}, \"type\": \"carpet\"}], \"choropleth\": [{\"colorbar\": {\"outlinewidth\": 0, \"ticks\": \"\"}, \"type\": \"choropleth\"}], \"contour\": [{\"colorbar\": {\"outlinewidth\": 0, \"ticks\": \"\"}, \"colorscale\": [[0.0, \"#0d0887\"], [0.1111111111111111, \"#46039f\"], [0.2222222222222222, \"#7201a8\"], [0.3333333333333333, \"#9c179e\"], [0.4444444444444444, \"#bd3786\"], [0.5555555555555556, \"#d8576b\"], [0.6666666666666666, \"#ed7953\"], [0.7777777777777778, \"#fb9f3a\"], [0.8888888888888888, \"#fdca26\"], [1.0, \"#f0f921\"]], \"type\": \"contour\"}], \"contourcarpet\": [{\"colorbar\": {\"outlinewidth\": 0, \"ticks\": \"\"}, \"type\": \"contourcarpet\"}], \"heatmap\": [{\"colorbar\": {\"outlinewidth\": 0, \"ticks\": \"\"}, \"colorscale\": [[0.0, \"#0d0887\"], [0.1111111111111111, \"#46039f\"], [0.2222222222222222, \"#7201a8\"], [0.3333333333333333, \"#9c179e\"], [0.4444444444444444, \"#bd3786\"], [0.5555555555555556, \"#d8576b\"], [0.6666666666666666, \"#ed7953\"], [0.7777777777777778, \"#fb9f3a\"], [0.8888888888888888, \"#fdca26\"], [1.0, \"#f0f921\"]], \"type\": \"heatmap\"}], \"heatmapgl\": [{\"colorbar\": {\"outlinewidth\": 0, \"ticks\": \"\"}, \"colorscale\": [[0.0, \"#0d0887\"], [0.1111111111111111, \"#46039f\"], [0.2222222222222222, \"#7201a8\"], [0.3333333333333333, \"#9c179e\"], [0.4444444444444444, \"#bd3786\"], [0.5555555555555556, \"#d8576b\"], [0.6666666666666666, \"#ed7953\"], [0.7777777777777778, \"#fb9f3a\"], [0.8888888888888888, \"#fdca26\"], [1.0, \"#f0f921\"]], \"type\": \"heatmapgl\"}], \"histogram\": [{\"marker\": {\"colorbar\": {\"outlinewidth\": 0, \"ticks\": \"\"}}, \"type\": \"histogram\"}], \"histogram2d\": [{\"colorbar\": {\"outlinewidth\": 0, \"ticks\": \"\"}, \"colorscale\": [[0.0, \"#0d0887\"], [0.1111111111111111, \"#46039f\"], [0.2222222222222222, \"#7201a8\"], [0.3333333333333333, \"#9c179e\"], [0.4444444444444444, \"#bd3786\"], [0.5555555555555556, \"#d8576b\"], [0.6666666666666666, \"#ed7953\"], [0.7777777777777778, \"#fb9f3a\"], [0.8888888888888888, \"#fdca26\"], [1.0, \"#f0f921\"]], \"type\": \"histogram2d\"}], \"histogram2dcontour\": [{\"colorbar\": {\"outlinewidth\": 0, \"ticks\": \"\"}, \"colorscale\": [[0.0, \"#0d0887\"], [0.1111111111111111, \"#46039f\"], [0.2222222222222222, \"#7201a8\"], [0.3333333333333333, \"#9c179e\"], [0.4444444444444444, \"#bd3786\"], [0.5555555555555556, \"#d8576b\"], [0.6666666666666666, \"#ed7953\"], [0.7777777777777778, \"#fb9f3a\"], [0.8888888888888888, \"#fdca26\"], [1.0, \"#f0f921\"]], \"type\": \"histogram2dcontour\"}], \"mesh3d\": [{\"colorbar\": {\"outlinewidth\": 0, \"ticks\": \"\"}, \"type\": \"mesh3d\"}], \"parcoords\": [{\"line\": {\"colorbar\": {\"outlinewidth\": 0, \"ticks\": \"\"}}, \"type\": \"parcoords\"}], \"pie\": [{\"automargin\": true, \"type\": \"pie\"}], \"scatter\": [{\"marker\": {\"colorbar\": {\"outlinewidth\": 0, \"ticks\": \"\"}}, \"type\": \"scatter\"}], \"scatter3d\": [{\"line\": {\"colorbar\": {\"outlinewidth\": 0, \"ticks\": \"\"}}, \"marker\": {\"colorbar\": {\"outlinewidth\": 0, \"ticks\": \"\"}}, \"type\": \"scatter3d\"}], \"scattercarpet\": [{\"marker\": {\"colorbar\": {\"outlinewidth\": 0, \"ticks\": \"\"}}, \"type\": \"scattercarpet\"}], \"scattergeo\": [{\"marker\": {\"colorbar\": {\"outlinewidth\": 0, \"ticks\": \"\"}}, \"type\": \"scattergeo\"}], \"scattergl\": [{\"marker\": {\"colorbar\": {\"outlinewidth\": 0, \"ticks\": \"\"}}, \"type\": \"scattergl\"}], \"scattermapbox\": [{\"marker\": {\"colorbar\": {\"outlinewidth\": 0, \"ticks\": \"\"}}, \"type\": \"scattermapbox\"}], \"scatterpolar\": [{\"marker\": {\"colorbar\": {\"outlinewidth\": 0, \"ticks\": \"\"}}, \"type\": \"scatterpolar\"}], \"scatterpolargl\": [{\"marker\": {\"colorbar\": {\"outlinewidth\": 0, \"ticks\": \"\"}}, \"type\": \"scatterpolargl\"}], \"scatterternary\": [{\"marker\": {\"colorbar\": {\"outlinewidth\": 0, \"ticks\": \"\"}}, \"type\": \"scatterternary\"}], \"surface\": [{\"colorbar\": {\"outlinewidth\": 0, \"ticks\": \"\"}, \"colorscale\": [[0.0, \"#0d0887\"], [0.1111111111111111, \"#46039f\"], [0.2222222222222222, \"#7201a8\"], [0.3333333333333333, \"#9c179e\"], [0.4444444444444444, \"#bd3786\"], [0.5555555555555556, \"#d8576b\"], [0.6666666666666666, \"#ed7953\"], [0.7777777777777778, \"#fb9f3a\"], [0.8888888888888888, \"#fdca26\"], [1.0, \"#f0f921\"]], \"type\": \"surface\"}], \"table\": [{\"cells\": {\"fill\": {\"color\": \"#EBF0F8\"}, \"line\": {\"color\": \"white\"}}, \"header\": {\"fill\": {\"color\": \"#C8D4E3\"}, \"line\": {\"color\": \"white\"}}, \"type\": \"table\"}]}, \"layout\": {\"annotationdefaults\": {\"arrowcolor\": \"#2a3f5f\", \"arrowhead\": 0, \"arrowwidth\": 1}, \"coloraxis\": {\"colorbar\": {\"outlinewidth\": 0, \"ticks\": \"\"}}, \"colorscale\": {\"diverging\": [[0, \"#8e0152\"], [0.1, \"#c51b7d\"], [0.2, \"#de77ae\"], [0.3, \"#f1b6da\"], [0.4, \"#fde0ef\"], [0.5, \"#f7f7f7\"], [0.6, \"#e6f5d0\"], [0.7, \"#b8e186\"], [0.8, \"#7fbc41\"], [0.9, \"#4d9221\"], [1, \"#276419\"]], \"sequential\": [[0.0, \"#0d0887\"], [0.1111111111111111, \"#46039f\"], [0.2222222222222222, \"#7201a8\"], [0.3333333333333333, \"#9c179e\"], [0.4444444444444444, \"#bd3786\"], [0.5555555555555556, \"#d8576b\"], [0.6666666666666666, \"#ed7953\"], [0.7777777777777778, \"#fb9f3a\"], [0.8888888888888888, \"#fdca26\"], [1.0, \"#f0f921\"]], \"sequentialminus\": [[0.0, \"#0d0887\"], [0.1111111111111111, \"#46039f\"], [0.2222222222222222, \"#7201a8\"], [0.3333333333333333, \"#9c179e\"], [0.4444444444444444, \"#bd3786\"], [0.5555555555555556, \"#d8576b\"], [0.6666666666666666, \"#ed7953\"], [0.7777777777777778, \"#fb9f3a\"], [0.8888888888888888, \"#fdca26\"], [1.0, \"#f0f921\"]]}, \"colorway\": [\"#636efa\", \"#EF553B\", \"#00cc96\", \"#ab63fa\", \"#FFA15A\", \"#19d3f3\", \"#FF6692\", \"#B6E880\", \"#FF97FF\", \"#FECB52\"], \"font\": {\"color\": \"#2a3f5f\"}, \"geo\": {\"bgcolor\": \"white\", \"lakecolor\": \"white\", \"landcolor\": \"#E5ECF6\", \"showlakes\": true, \"showland\": true, \"subunitcolor\": \"white\"}, \"hoverlabel\": {\"align\": \"left\"}, \"hovermode\": \"closest\", \"mapbox\": {\"style\": \"light\"}, \"paper_bgcolor\": \"white\", \"plot_bgcolor\": \"#E5ECF6\", \"polar\": {\"angularaxis\": {\"gridcolor\": \"white\", \"linecolor\": \"white\", \"ticks\": \"\"}, \"bgcolor\": \"#E5ECF6\", \"radialaxis\": {\"gridcolor\": \"white\", \"linecolor\": \"white\", \"ticks\": \"\"}}, \"scene\": {\"xaxis\": {\"backgroundcolor\": \"#E5ECF6\", \"gridcolor\": \"white\", \"gridwidth\": 2, \"linecolor\": \"white\", \"showbackground\": true, \"ticks\": \"\", \"zerolinecolor\": \"white\"}, \"yaxis\": {\"backgroundcolor\": \"#E5ECF6\", \"gridcolor\": \"white\", \"gridwidth\": 2, \"linecolor\": \"white\", \"showbackground\": true, \"ticks\": \"\", \"zerolinecolor\": \"white\"}, \"zaxis\": {\"backgroundcolor\": \"#E5ECF6\", \"gridcolor\": \"white\", \"gridwidth\": 2, \"linecolor\": \"white\", \"showbackground\": true, \"ticks\": \"\", \"zerolinecolor\": \"white\"}}, \"shapedefaults\": {\"line\": {\"color\": \"#2a3f5f\"}}, \"ternary\": {\"aaxis\": {\"gridcolor\": \"white\", \"linecolor\": \"white\", \"ticks\": \"\"}, \"baxis\": {\"gridcolor\": \"white\", \"linecolor\": \"white\", \"ticks\": \"\"}, \"bgcolor\": \"#E5ECF6\", \"caxis\": {\"gridcolor\": \"white\", \"linecolor\": \"white\", \"ticks\": \"\"}}, \"title\": {\"x\": 0.05}, \"xaxis\": {\"automargin\": true, \"gridcolor\": \"white\", \"linecolor\": \"white\", \"ticks\": \"\", \"title\": {\"standoff\": 15}, \"zerolinecolor\": \"white\", \"zerolinewidth\": 2}, \"yaxis\": {\"automargin\": true, \"gridcolor\": \"white\", \"linecolor\": \"white\", \"ticks\": \"\", \"title\": {\"standoff\": 15}, \"zerolinecolor\": \"white\", \"zerolinewidth\": 2}}}, \"title\": {\"font\": {\"color\": \"#4D5663\"}}, \"xaxis\": {\"gridcolor\": \"#E1E5ED\", \"showgrid\": true, \"tickfont\": {\"color\": \"#4D5663\"}, \"title\": {\"font\": {\"color\": \"#4D5663\"}, \"text\": \"\"}, \"zerolinecolor\": \"#E1E5ED\"}, \"yaxis\": {\"gridcolor\": \"#E1E5ED\", \"showgrid\": true, \"tickfont\": {\"color\": \"#4D5663\"}, \"title\": {\"font\": {\"color\": \"#4D5663\"}, \"text\": \"\"}, \"zerolinecolor\": \"#E1E5ED\"}},                        {\"showLink\": true, \"linkText\": \"Export to plot.ly\", \"plotlyServerURL\": \"https://plot.ly\", \"responsive\": true}                    ).then(function(){\n",
       "                            \n",
       "var gd = document.getElementById('88a9f32b-9722-4e84-9583-a0b83c0094be');\n",
       "var x = new MutationObserver(function (mutations, observer) {{\n",
       "        var display = window.getComputedStyle(gd).display;\n",
       "        if (!display || display === 'none') {{\n",
       "            console.log([gd, 'removed!']);\n",
       "            Plotly.purge(gd);\n",
       "            observer.disconnect();\n",
       "        }}\n",
       "}});\n",
       "\n",
       "// Listen for the removal of the full notebook cells\n",
       "var notebookContainer = gd.closest('#notebook-container');\n",
       "if (notebookContainer) {{\n",
       "    x.observe(notebookContainer, {childList: true});\n",
       "}}\n",
       "\n",
       "// Listen for the clearing of the current output cell\n",
       "var outputEl = gd.closest('.output');\n",
       "if (outputEl) {{\n",
       "    x.observe(outputEl, {childList: true});\n",
       "}}\n",
       "\n",
       "                        })                };                });            </script>        </div>"
      ]
     },
     "metadata": {},
     "output_type": "display_data"
    }
   ],
   "source": [
    "a=data_group3.resample('Y')['Price'].sum().pct_change().iplot(kind='line',width=5)\n",
    "\n"
   ]
  },
  {
   "cell_type": "markdown",
   "metadata": {},
   "source": [
    "<i><mark><span style='color:blue'> This line graph shows the trend in the change in sales growth from previous years. Here, we can see that percentage change in sales growth have been decreasing throughout the years.The most decrease has been seen from the years 2016 to 2017 which is in negative.</span></mark></i>"
   ]
  },
  {
   "cell_type": "markdown",
   "metadata": {},
   "source": [
    "<b><mark> This visualization shows how much sales was made through different types of property throughout each years. Here,we can see that sales of Detached property has been the most throughout all the years while Terraced property sales has also gone significantly up from 2012 to 2016.</mark></b>"
   ]
  },
  {
   "cell_type": "markdown",
   "metadata": {
    "ExecuteTime": {
     "end_time": "2020-12-15T15:51:48.683252Z",
     "start_time": "2020-12-15T15:51:48.660244Z"
    }
   },
   "source": [
    "<div style='background-color:orange;color:white;padding:20px;text-align:center;font-size:20px'> ANALYSIS PART III: GAINING INSIGHT FROM CATEGORICAL VARIABLES</div>\n",
    "<div style='text-align:right'> by Thuong </div>"
   ]
  },
  {
   "cell_type": "code",
   "execution_count": 56,
   "metadata": {
    "ExecuteTime": {
     "end_time": "2020-12-18T13:50:30.200799Z",
     "start_time": "2020-12-18T13:50:29.297750Z"
    }
   },
   "outputs": [
    {
     "data": {
      "text/html": [
       "<div>\n",
       "<style scoped>\n",
       "    .dataframe tbody tr th:only-of-type {\n",
       "        vertical-align: middle;\n",
       "    }\n",
       "\n",
       "    .dataframe tbody tr th {\n",
       "        vertical-align: top;\n",
       "    }\n",
       "\n",
       "    .dataframe thead th {\n",
       "        text-align: right;\n",
       "    }\n",
       "</style>\n",
       "<table border=\"1\" class=\"dataframe\">\n",
       "  <thead>\n",
       "    <tr style=\"text-align: right;\">\n",
       "      <th></th>\n",
       "      <th>Date</th>\n",
       "      <th>Price</th>\n",
       "      <th>Property Type</th>\n",
       "      <th>Old/New</th>\n",
       "      <th>Duration</th>\n",
       "      <th>Town/City</th>\n",
       "      <th>District</th>\n",
       "      <th>County</th>\n",
       "      <th>Price Method</th>\n",
       "    </tr>\n",
       "  </thead>\n",
       "  <tbody>\n",
       "    <tr>\n",
       "      <th>0</th>\n",
       "      <td>2012-09-28</td>\n",
       "      <td>155000</td>\n",
       "      <td>S</td>\n",
       "      <td>N</td>\n",
       "      <td>F</td>\n",
       "      <td>YORK</td>\n",
       "      <td>YORK</td>\n",
       "      <td>YORK</td>\n",
       "      <td>A</td>\n",
       "    </tr>\n",
       "    <tr>\n",
       "      <th>1</th>\n",
       "      <td>2012-07-18</td>\n",
       "      <td>264000</td>\n",
       "      <td>D</td>\n",
       "      <td>N</td>\n",
       "      <td>F</td>\n",
       "      <td>HAYLING ISLAND</td>\n",
       "      <td>HAVANT</td>\n",
       "      <td>HAMPSHIRE</td>\n",
       "      <td>A</td>\n",
       "    </tr>\n",
       "    <tr>\n",
       "      <th>2</th>\n",
       "      <td>2012-04-25</td>\n",
       "      <td>20000</td>\n",
       "      <td>T</td>\n",
       "      <td>N</td>\n",
       "      <td>F</td>\n",
       "      <td>HULL</td>\n",
       "      <td>CITY OF KINGSTON UPON HULL</td>\n",
       "      <td>CITY OF KINGSTON UPON HULL</td>\n",
       "      <td>A</td>\n",
       "    </tr>\n",
       "    <tr>\n",
       "      <th>3</th>\n",
       "      <td>2012-10-25</td>\n",
       "      <td>89950</td>\n",
       "      <td>S</td>\n",
       "      <td>N</td>\n",
       "      <td>F</td>\n",
       "      <td>WORKSOP</td>\n",
       "      <td>BASSETLAW</td>\n",
       "      <td>NOTTINGHAMSHIRE</td>\n",
       "      <td>A</td>\n",
       "    </tr>\n",
       "    <tr>\n",
       "      <th>4</th>\n",
       "      <td>2012-04-13</td>\n",
       "      <td>168000</td>\n",
       "      <td>S</td>\n",
       "      <td>N</td>\n",
       "      <td>F</td>\n",
       "      <td>TORQUAY</td>\n",
       "      <td>TORBAY</td>\n",
       "      <td>TORBAY</td>\n",
       "      <td>A</td>\n",
       "    </tr>\n",
       "  </tbody>\n",
       "</table>\n",
       "</div>"
      ],
      "text/plain": [
       "        Date   Price Property Type Old/New Duration       Town/City  \\\n",
       "0 2012-09-28  155000             S       N        F            YORK   \n",
       "1 2012-07-18  264000             D       N        F  HAYLING ISLAND   \n",
       "2 2012-04-25   20000             T       N        F            HULL   \n",
       "3 2012-10-25   89950             S       N        F         WORKSOP   \n",
       "4 2012-04-13  168000             S       N        F         TORQUAY   \n",
       "\n",
       "                     District                      County Price Method  \n",
       "0                        YORK                        YORK            A  \n",
       "1                      HAVANT                   HAMPSHIRE            A  \n",
       "2  CITY OF KINGSTON UPON HULL  CITY OF KINGSTON UPON HULL            A  \n",
       "3                   BASSETLAW             NOTTINGHAMSHIRE            A  \n",
       "4                      TORBAY                      TORBAY            A  "
      ]
     },
     "execution_count": 56,
     "metadata": {},
     "output_type": "execute_result"
    }
   ],
   "source": [
    "data_group_new.head()"
   ]
  },
  {
   "cell_type": "markdown",
   "metadata": {},
   "source": [
    "## How Property, Status, Duration, Location tell us about housing price in UK from 2012 to 2017?"
   ]
  },
  {
   "cell_type": "code",
   "execution_count": 57,
   "metadata": {
    "ExecuteTime": {
     "end_time": "2020-12-18T13:51:30.050181Z",
     "start_time": "2020-12-18T13:50:37.016577Z"
    }
   },
   "outputs": [],
   "source": [
    "Property=data_group_new[['Price','Property Type']].groupby(['Property Type']).agg(['max','mean','min']).compute()\n",
    "Status=data_group_new[['Price','Old/New']].groupby(['Old/New']).agg(['max','mean','min']).compute()\n",
    "Duration=data_group_new[['Price','Duration']].groupby(['Duration']).agg(['max','mean','min']).compute()\n",
    "County=data_group_new[['Price','County']].groupby(['County']).agg(['max','mean','min']).compute()\n",
    "Price_Method=data_group_new[['Price','Price Method']].groupby(['Price Method']).agg(['max','mean','min']).compute()"
   ]
  },
  {
   "cell_type": "code",
   "execution_count": 58,
   "metadata": {
    "ExecuteTime": {
     "end_time": "2020-12-18T13:51:31.173407Z",
     "start_time": "2020-12-18T13:51:31.159405Z"
    }
   },
   "outputs": [],
   "source": [
    "Property.rename({'D':'Detached', 'S':'Semi-Detached','T':'Terraced','F':'Flats/Maisonettes','O':'Other'},inplace=True)\n",
    "Status.rename({'Y': 'a newly built property', 'N':'an established residential building'},inplace=True)\n",
    "Duration.rename({'F':'Freehold','L': 'Leasehold'},inplace=True)\n",
    "Price_Method.rename({'A':' Standard Price Paid entry','B': 'Additional Price Paid entry'},inplace=True)"
   ]
  },
  {
   "cell_type": "code",
   "execution_count": 59,
   "metadata": {
    "ExecuteTime": {
     "end_time": "2020-12-18T13:51:36.253799Z",
     "start_time": "2020-12-18T13:51:36.225803Z"
    }
   },
   "outputs": [
    {
     "data": {
      "text/html": [
       "<div>\n",
       "<style scoped>\n",
       "    .dataframe tbody tr th:only-of-type {\n",
       "        vertical-align: middle;\n",
       "    }\n",
       "\n",
       "    .dataframe tbody tr th {\n",
       "        vertical-align: top;\n",
       "    }\n",
       "\n",
       "    .dataframe thead tr th {\n",
       "        text-align: left;\n",
       "    }\n",
       "\n",
       "    .dataframe thead tr:last-of-type th {\n",
       "        text-align: right;\n",
       "    }\n",
       "</style>\n",
       "<table border=\"1\" class=\"dataframe\">\n",
       "  <thead>\n",
       "    <tr>\n",
       "      <th></th>\n",
       "      <th colspan=\"3\" halign=\"left\">Price</th>\n",
       "    </tr>\n",
       "    <tr>\n",
       "      <th></th>\n",
       "      <th>max</th>\n",
       "      <th>mean</th>\n",
       "      <th>min</th>\n",
       "    </tr>\n",
       "    <tr>\n",
       "      <th>Property Type</th>\n",
       "      <th></th>\n",
       "      <th></th>\n",
       "      <th></th>\n",
       "    </tr>\n",
       "  </thead>\n",
       "  <tbody>\n",
       "    <tr>\n",
       "      <th>Detached</th>\n",
       "      <td>53489500</td>\n",
       "      <td>358,653.51</td>\n",
       "      <td>4121</td>\n",
       "    </tr>\n",
       "    <tr>\n",
       "      <th>Flats/Maisonettes</th>\n",
       "      <td>90000000</td>\n",
       "      <td>268,526.11</td>\n",
       "      <td>4000</td>\n",
       "    </tr>\n",
       "    <tr>\n",
       "      <th>Other</th>\n",
       "      <td>98900000</td>\n",
       "      <td>1,325,690.30</td>\n",
       "      <td>4000</td>\n",
       "    </tr>\n",
       "    <tr>\n",
       "      <th>Semi-Detached</th>\n",
       "      <td>54959000</td>\n",
       "      <td>221,885.78</td>\n",
       "      <td>4000</td>\n",
       "    </tr>\n",
       "    <tr>\n",
       "      <th>Terraced</th>\n",
       "      <td>45900000</td>\n",
       "      <td>216,532.18</td>\n",
       "      <td>4000</td>\n",
       "    </tr>\n",
       "  </tbody>\n",
       "</table>\n",
       "</div>"
      ],
      "text/plain": [
       "                      Price                   \n",
       "                        max         mean   min\n",
       "Property Type                                 \n",
       "Detached           53489500   358,653.51  4121\n",
       "Flats/Maisonettes  90000000   268,526.11  4000\n",
       "Other              98900000 1,325,690.30  4000\n",
       "Semi-Detached      54959000   221,885.78  4000\n",
       "Terraced           45900000   216,532.18  4000"
      ]
     },
     "execution_count": 59,
     "metadata": {},
     "output_type": "execute_result"
    }
   ],
   "source": [
    "Property"
   ]
  },
  {
   "cell_type": "code",
   "execution_count": 60,
   "metadata": {
    "ExecuteTime": {
     "end_time": "2020-12-18T13:51:41.537939Z",
     "start_time": "2020-12-18T13:51:40.061265Z"
    },
    "code_folding": [],
    "scrolled": false
   },
   "outputs": [
    {
     "data": {
      "application/vnd.jupyter.widget-view+json": {
       "model_id": "caf8bae176294453b5b877ab1ddcd40c",
       "version_major": 2,
       "version_minor": 0
      },
      "text/plain": [
       "interactive(children=(Dropdown(description='chart_name', options=('Property', 'Status', 'Duration', 'County', …"
      ]
     },
     "metadata": {},
     "output_type": "display_data"
    },
    {
     "data": {
      "text/plain": [
       "<function __main__.func(chart_name)>"
      ]
     },
     "execution_count": 60,
     "metadata": {},
     "output_type": "execute_result"
    }
   ],
   "source": [
    "def func(chart_name):  \n",
    "    return eval(chart_name).iplot()\n",
    "\n",
    "interact(func,chart_name=['Property','Status','Duration','County','Price_Method'])"
   ]
  },
  {
   "cell_type": "markdown",
   "metadata": {},
   "source": [
    "<div style='background-color:#222f5b;color:white;padding:20px;font-size:18px'>\n",
    "<div><b>Property Type</b>: Regular types (Detached, Flats/Maisonettes, Semi-detached, Terraced) are relatively simmilar prices; but Other types of housing are expensive in the UK. Using data removed outlinere, in regular types, Detached house is the most expensive, and the most affordable one is Terraced.</div>\n",
    "<br>\n",
    "    <div><b>Status (Old/New)</b>: There is not clear different between the old and new properties.</div>\n",
    "<br>\n",
    "    <div><b>Duration</b>: Freehold seems to be slightly more expensive to get than Leasehold</div> \n",
    "<br>\n",
    "    <div><b> County</b>: Price can be very diffferent between different counties, which suggest that location can influence much to the price of housing. The most expensive place to live probably in Greater London (top price housing), then Windsor and Maidenhead, and the third runner up position is Surrey.</div> \n",
    "<br>\n",
    "    <div><b>Price Method</b>: Different pricing methods influence on the price.</div> \n",
    "\n",
    "</div>"
   ]
  },
  {
   "cell_type": "markdown",
   "metadata": {},
   "source": [
    "## Time Series Analysis On Categorical variables and Price"
   ]
  },
  {
   "cell_type": "code",
   "execution_count": 61,
   "metadata": {
    "ExecuteTime": {
     "end_time": "2020-12-18T13:51:51.301884Z",
     "start_time": "2020-12-18T13:51:50.442887Z"
    }
   },
   "outputs": [
    {
     "data": {
      "text/html": [
       "<div>\n",
       "<style scoped>\n",
       "    .dataframe tbody tr th:only-of-type {\n",
       "        vertical-align: middle;\n",
       "    }\n",
       "\n",
       "    .dataframe tbody tr th {\n",
       "        vertical-align: top;\n",
       "    }\n",
       "\n",
       "    .dataframe thead th {\n",
       "        text-align: right;\n",
       "    }\n",
       "</style>\n",
       "<table border=\"1\" class=\"dataframe\">\n",
       "  <thead>\n",
       "    <tr style=\"text-align: right;\">\n",
       "      <th></th>\n",
       "      <th>Date</th>\n",
       "      <th>Price</th>\n",
       "      <th>Property Type</th>\n",
       "      <th>Old/New</th>\n",
       "      <th>Duration</th>\n",
       "      <th>Town/City</th>\n",
       "      <th>District</th>\n",
       "      <th>County</th>\n",
       "      <th>Price Method</th>\n",
       "    </tr>\n",
       "  </thead>\n",
       "  <tbody>\n",
       "    <tr>\n",
       "      <th>0</th>\n",
       "      <td>2012-09-28</td>\n",
       "      <td>155000</td>\n",
       "      <td>S</td>\n",
       "      <td>N</td>\n",
       "      <td>F</td>\n",
       "      <td>YORK</td>\n",
       "      <td>YORK</td>\n",
       "      <td>YORK</td>\n",
       "      <td>A</td>\n",
       "    </tr>\n",
       "    <tr>\n",
       "      <th>1</th>\n",
       "      <td>2012-07-18</td>\n",
       "      <td>264000</td>\n",
       "      <td>D</td>\n",
       "      <td>N</td>\n",
       "      <td>F</td>\n",
       "      <td>HAYLING ISLAND</td>\n",
       "      <td>HAVANT</td>\n",
       "      <td>HAMPSHIRE</td>\n",
       "      <td>A</td>\n",
       "    </tr>\n",
       "    <tr>\n",
       "      <th>2</th>\n",
       "      <td>2012-04-25</td>\n",
       "      <td>20000</td>\n",
       "      <td>T</td>\n",
       "      <td>N</td>\n",
       "      <td>F</td>\n",
       "      <td>HULL</td>\n",
       "      <td>CITY OF KINGSTON UPON HULL</td>\n",
       "      <td>CITY OF KINGSTON UPON HULL</td>\n",
       "      <td>A</td>\n",
       "    </tr>\n",
       "    <tr>\n",
       "      <th>3</th>\n",
       "      <td>2012-10-25</td>\n",
       "      <td>89950</td>\n",
       "      <td>S</td>\n",
       "      <td>N</td>\n",
       "      <td>F</td>\n",
       "      <td>WORKSOP</td>\n",
       "      <td>BASSETLAW</td>\n",
       "      <td>NOTTINGHAMSHIRE</td>\n",
       "      <td>A</td>\n",
       "    </tr>\n",
       "    <tr>\n",
       "      <th>4</th>\n",
       "      <td>2012-04-13</td>\n",
       "      <td>168000</td>\n",
       "      <td>S</td>\n",
       "      <td>N</td>\n",
       "      <td>F</td>\n",
       "      <td>TORQUAY</td>\n",
       "      <td>TORBAY</td>\n",
       "      <td>TORBAY</td>\n",
       "      <td>A</td>\n",
       "    </tr>\n",
       "  </tbody>\n",
       "</table>\n",
       "</div>"
      ],
      "text/plain": [
       "        Date   Price Property Type Old/New Duration       Town/City  \\\n",
       "0 2012-09-28  155000             S       N        F            YORK   \n",
       "1 2012-07-18  264000             D       N        F  HAYLING ISLAND   \n",
       "2 2012-04-25   20000             T       N        F            HULL   \n",
       "3 2012-10-25   89950             S       N        F         WORKSOP   \n",
       "4 2012-04-13  168000             S       N        F         TORQUAY   \n",
       "\n",
       "                     District                      County Price Method  \n",
       "0                        YORK                        YORK            A  \n",
       "1                      HAVANT                   HAMPSHIRE            A  \n",
       "2  CITY OF KINGSTON UPON HULL  CITY OF KINGSTON UPON HULL            A  \n",
       "3                   BASSETLAW             NOTTINGHAMSHIRE            A  \n",
       "4                      TORBAY                      TORBAY            A  "
      ]
     },
     "execution_count": 61,
     "metadata": {},
     "output_type": "execute_result"
    }
   ],
   "source": [
    "data_group_new.head()"
   ]
  },
  {
   "cell_type": "code",
   "execution_count": 62,
   "metadata": {
    "ExecuteTime": {
     "end_time": "2020-12-18T13:52:06.873056Z",
     "start_time": "2020-12-18T13:51:55.266178Z"
    }
   },
   "outputs": [],
   "source": [
    "data3=data_group_new.categorize(columns=['Property Type','Old/New','Duration','County','Price Method'])"
   ]
  },
  {
   "cell_type": "markdown",
   "metadata": {},
   "source": [
    "### Looking at different property type's price through years/months"
   ]
  },
  {
   "cell_type": "code",
   "execution_count": 63,
   "metadata": {
    "ExecuteTime": {
     "end_time": "2020-12-18T13:52:23.941080Z",
     "start_time": "2020-12-18T13:52:09.189840Z"
    }
   },
   "outputs": [],
   "source": [
    "viz1=data3.pivot_table(index='Date',columns='Property Type',values='Price',aggfunc='mean').compute()\n",
    "viz1.rename({'D':'Detached', 'S':'Semi-Detached','T':'Terraced','F':'Flats/Maisonettes','O':'Other'},axis=1,inplace=True)"
   ]
  },
  {
   "cell_type": "code",
   "execution_count": 64,
   "metadata": {
    "ExecuteTime": {
     "end_time": "2020-12-18T13:52:25.785851Z",
     "start_time": "2020-12-18T13:52:25.286831Z"
    }
   },
   "outputs": [
    {
     "data": {
      "text/plain": [
       "<matplotlib.axes._subplots.AxesSubplot at 0x29509c45280>"
      ]
     },
     "execution_count": 64,
     "metadata": {},
     "output_type": "execute_result"
    },
    {
     "data": {
      "image/png": "[encoded data removed]",
      "text/plain": [
       "<Figure size 432x288 with 1 Axes>"
      ]
     },
     "metadata": {
      "needs_background": "light"
     },
     "output_type": "display_data"
    }
   ],
   "source": [
    "sns.heatmap(viz1.isnull(),cbar=False)"
   ]
  },
  {
   "cell_type": "code",
   "execution_count": 65,
   "metadata": {
    "ExecuteTime": {
     "end_time": "2020-12-18T13:52:28.119007Z",
     "start_time": "2020-12-18T13:52:28.088007Z"
    }
   },
   "outputs": [],
   "source": [
    "viz1.drop('Other',axis=1,inplace=True)\n",
    "viz1.dropna(inplace=True)"
   ]
  },
  {
   "cell_type": "code",
   "execution_count": 66,
   "metadata": {
    "ExecuteTime": {
     "end_time": "2020-12-18T13:52:31.494402Z",
     "start_time": "2020-12-18T13:52:31.466402Z"
    }
   },
   "outputs": [
    {
     "data": {
      "text/html": [
       "<div>\n",
       "<style scoped>\n",
       "    .dataframe tbody tr th:only-of-type {\n",
       "        vertical-align: middle;\n",
       "    }\n",
       "\n",
       "    .dataframe tbody tr th {\n",
       "        vertical-align: top;\n",
       "    }\n",
       "\n",
       "    .dataframe thead th {\n",
       "        text-align: right;\n",
       "    }\n",
       "</style>\n",
       "<table border=\"1\" class=\"dataframe\">\n",
       "  <thead>\n",
       "    <tr style=\"text-align: right;\">\n",
       "      <th>Property Type</th>\n",
       "      <th>Semi-Detached</th>\n",
       "      <th>Detached</th>\n",
       "      <th>Terraced</th>\n",
       "      <th>Flats/Maisonettes</th>\n",
       "    </tr>\n",
       "    <tr>\n",
       "      <th>Date</th>\n",
       "      <th></th>\n",
       "      <th></th>\n",
       "      <th></th>\n",
       "      <th></th>\n",
       "    </tr>\n",
       "  </thead>\n",
       "  <tbody>\n",
       "    <tr>\n",
       "      <th>2012-01-02</th>\n",
       "      <td>171,575.00</td>\n",
       "      <td>235,666.67</td>\n",
       "      <td>147,749.58</td>\n",
       "      <td>146,737.50</td>\n",
       "    </tr>\n",
       "    <tr>\n",
       "      <th>2012-01-03</th>\n",
       "      <td>176,143.57</td>\n",
       "      <td>332,108.52</td>\n",
       "      <td>161,845.34</td>\n",
       "      <td>245,627.12</td>\n",
       "    </tr>\n",
       "    <tr>\n",
       "      <th>2012-01-04</th>\n",
       "      <td>217,285.57</td>\n",
       "      <td>339,520.07</td>\n",
       "      <td>188,954.11</td>\n",
       "      <td>207,488.54</td>\n",
       "    </tr>\n",
       "    <tr>\n",
       "      <th>2012-01-05</th>\n",
       "      <td>233,865.25</td>\n",
       "      <td>349,180.84</td>\n",
       "      <td>228,184.72</td>\n",
       "      <td>243,759.31</td>\n",
       "    </tr>\n",
       "    <tr>\n",
       "      <th>2012-01-06</th>\n",
       "      <td>196,675.47</td>\n",
       "      <td>314,451.20</td>\n",
       "      <td>197,356.49</td>\n",
       "      <td>219,022.38</td>\n",
       "    </tr>\n",
       "  </tbody>\n",
       "</table>\n",
       "</div>"
      ],
      "text/plain": [
       "Property Type  Semi-Detached   Detached   Terraced  Flats/Maisonettes\n",
       "Date                                                                 \n",
       "2012-01-02        171,575.00 235,666.67 147,749.58         146,737.50\n",
       "2012-01-03        176,143.57 332,108.52 161,845.34         245,627.12\n",
       "2012-01-04        217,285.57 339,520.07 188,954.11         207,488.54\n",
       "2012-01-05        233,865.25 349,180.84 228,184.72         243,759.31\n",
       "2012-01-06        196,675.47 314,451.20 197,356.49         219,022.38"
      ]
     },
     "execution_count": 66,
     "metadata": {},
     "output_type": "execute_result"
    }
   ],
   "source": [
    "viz1.head()"
   ]
  },
  {
   "cell_type": "code",
   "execution_count": 67,
   "metadata": {
    "ExecuteTime": {
     "end_time": "2020-12-18T13:52:33.192405Z",
     "start_time": "2020-12-18T13:52:32.987400Z"
    },
    "code_folding": [
     0
    ],
    "scrolled": false
   },
   "outputs": [
    {
     "data": {
      "application/vnd.jupyter.widget-view+json": {
       "model_id": "a905dffc396b4126956a94f8b283e312",
       "version_major": 2,
       "version_minor": 0
      },
      "text/plain": [
       "interactive(children=(Dropdown(description='a', options=('M', 'YS'), value='M'), Output()), _dom_classes=('wid…"
      ]
     },
     "metadata": {},
     "output_type": "display_data"
    },
    {
     "data": {
      "text/plain": [
       "<function __main__.viz_f1(a)>"
      ]
     },
     "execution_count": 67,
     "metadata": {},
     "output_type": "execute_result"
    }
   ],
   "source": [
    "def viz_f1(a):\n",
    "    viz1.resample(a).mean().iplot()\n",
    "\n",
    "interact(viz_f1,a=['M','YS'])"
   ]
  },
  {
   "cell_type": "markdown",
   "metadata": {},
   "source": [
    "<div style='background-color:#222f5b;color:white;padding:20px;font-size:18px'>Price went up almost all type of property. We can see Detached is the higest, then Flats, and then other types are more close to each other in the low level price. Exceptional time 2013 to 2014, position of Semi-detached and Terraced exchanged. </div>"
   ]
  },
  {
   "cell_type": "markdown",
   "metadata": {
    "ExecuteTime": {
     "end_time": "2020-12-15T20:24:44.698665Z",
     "start_time": "2020-12-15T20:21:35.655153Z"
    }
   },
   "source": [
    "### Looking at prices of housing accross Counties yearly/monthly"
   ]
  },
  {
   "cell_type": "code",
   "execution_count": 68,
   "metadata": {
    "ExecuteTime": {
     "end_time": "2020-12-18T13:53:27.629470Z",
     "start_time": "2020-12-18T13:52:39.049718Z"
    }
   },
   "outputs": [],
   "source": [
    "viz2=data3.pivot_table(index='Date',columns='County',values='Price',aggfunc='mean').compute()"
   ]
  },
  {
   "cell_type": "code",
   "execution_count": 69,
   "metadata": {
    "ExecuteTime": {
     "end_time": "2020-12-18T13:53:32.695838Z",
     "start_time": "2020-12-18T13:53:31.414845Z"
    }
   },
   "outputs": [
    {
     "data": {
      "text/plain": [
       "<matplotlib.axes._subplots.AxesSubplot at 0x2950e8b6e50>"
      ]
     },
     "execution_count": 69,
     "metadata": {},
     "output_type": "execute_result"
    },
    {
     "data": {
      "image/png": "[encoded data removed]",
      "text/plain": [
       "<Figure size 432x288 with 1 Axes>"
      ]
     },
     "metadata": {
      "needs_background": "light"
     },
     "output_type": "display_data"
    }
   ],
   "source": [
    "sns.heatmap(viz2.isnull(),cbar=False)"
   ]
  },
  {
   "cell_type": "markdown",
   "metadata": {
    "ExecuteTime": {
     "end_time": "2020-12-16T16:45:05.670538Z",
     "start_time": "2020-12-16T16:45:05.464562Z"
    }
   },
   "source": [
    "<div style='font-size:20px;color:red'>On the heatmap shows the missing value, we can see that missing value are abundant (especially last columns). Even if we remove the last columns, data stills contain too much missing values. At this end, we decide not to go further to explore as intended.</div>"
   ]
  },
  {
   "cell_type": "markdown",
   "metadata": {},
   "source": [
    "## Finding the price differences through time between Old/New housing"
   ]
  },
  {
   "cell_type": "code",
   "execution_count": 70,
   "metadata": {
    "ExecuteTime": {
     "end_time": "2020-12-18T13:53:57.570616Z",
     "start_time": "2020-12-18T13:53:38.908058Z"
    }
   },
   "outputs": [],
   "source": [
    "viz3=data3.pivot_table(index='Date',columns='Old/New',values='Price',aggfunc='mean').compute()\n",
    "viz3.rename({'Y': 'a newly built property', 'N':'an established residential building'},axis=1,inplace=True)"
   ]
  },
  {
   "cell_type": "code",
   "execution_count": 71,
   "metadata": {
    "ExecuteTime": {
     "end_time": "2020-12-18T13:54:03.023214Z",
     "start_time": "2020-12-18T13:54:02.456186Z"
    }
   },
   "outputs": [
    {
     "data": {
      "text/plain": [
       "<matplotlib.axes._subplots.AxesSubplot at 0x2950e8cdc10>"
      ]
     },
     "execution_count": 71,
     "metadata": {},
     "output_type": "execute_result"
    },
    {
     "data": {
      "image/png": "[encoded data removed]",
      "text/plain": [
       "<Figure size 432x288 with 1 Axes>"
      ]
     },
     "metadata": {
      "needs_background": "light"
     },
     "output_type": "display_data"
    }
   ],
   "source": [
    "sns.heatmap(viz3.isnull(),cbar=False)"
   ]
  },
  {
   "cell_type": "code",
   "execution_count": 72,
   "metadata": {
    "ExecuteTime": {
     "end_time": "2020-12-18T13:54:07.593685Z",
     "start_time": "2020-12-18T13:54:07.079650Z"
    }
   },
   "outputs": [
    {
     "data": {
      "text/plain": [
       "<matplotlib.axes._subplots.AxesSubplot at 0x2950ebbd550>"
      ]
     },
     "execution_count": 72,
     "metadata": {},
     "output_type": "execute_result"
    },
    {
     "data": {
      "image/png": "[encoded data removed]",
      "text/plain": [
       "<Figure size 432x288 with 1 Axes>"
      ]
     },
     "metadata": {
      "needs_background": "light"
     },
     "output_type": "display_data"
    }
   ],
   "source": [
    "sns.heatmap(viz3['2015-01-01':'2016-12-30'].isnull(),cbar=False)"
   ]
  },
  {
   "cell_type": "code",
   "execution_count": 73,
   "metadata": {
    "ExecuteTime": {
     "end_time": "2020-12-18T13:54:10.776934Z",
     "start_time": "2020-12-18T13:54:10.762933Z"
    }
   },
   "outputs": [],
   "source": [
    "viz3_=viz3['2015-01-01':'2016-12-30']\n",
    "viz3_.dropna(inplace=True)"
   ]
  },
  {
   "cell_type": "code",
   "execution_count": 74,
   "metadata": {
    "ExecuteTime": {
     "end_time": "2020-12-18T13:54:12.661973Z",
     "start_time": "2020-12-18T13:54:12.477934Z"
    }
   },
   "outputs": [
    {
     "data": {
      "application/vnd.jupyter.widget-view+json": {
       "model_id": "f4648a2699974f21b11f85371070e7f7",
       "version_major": 2,
       "version_minor": 0
      },
      "text/plain": [
       "interactive(children=(Dropdown(description='a', options=('M', 'YS'), value='M'), Output()), _dom_classes=('wid…"
      ]
     },
     "metadata": {},
     "output_type": "display_data"
    },
    {
     "data": {
      "text/plain": [
       "<function __main__.viz_f3(a)>"
      ]
     },
     "execution_count": 74,
     "metadata": {},
     "output_type": "execute_result"
    }
   ],
   "source": [
    "def viz_f3(a):\n",
    "    viz3_.resample(a).mean().iplot()\n",
    "interact(viz_f3,a=['M','YS'])"
   ]
  },
  {
   "cell_type": "markdown",
   "metadata": {},
   "source": [
    "<div style='background-color:#222f5b;color:white;padding:20px;font-size:18px'>Previously, we see in general view mean value of price between Old and New Housing, there is quite flat comparision. In this view, by using time series, we can zoom in to see the difference. Although generally talking, price of Old and New Housing is not much different, but price of Old and New housing can be substaintially different in particular time (months).</div>"
   ]
  },
  {
   "cell_type": "markdown",
   "metadata": {},
   "source": [
    "## Time Series analysis of price of different Duration of holding property:"
   ]
  },
  {
   "cell_type": "code",
   "execution_count": 75,
   "metadata": {
    "ExecuteTime": {
     "end_time": "2020-12-18T13:54:31.523578Z",
     "start_time": "2020-12-18T13:54:17.420871Z"
    }
   },
   "outputs": [],
   "source": [
    "viz4=data3.pivot_table(index='Date',columns='Duration',values='Price',aggfunc='mean').compute()"
   ]
  },
  {
   "cell_type": "code",
   "execution_count": 76,
   "metadata": {
    "ExecuteTime": {
     "end_time": "2020-12-18T13:54:33.198871Z",
     "start_time": "2020-12-18T13:54:33.188874Z"
    }
   },
   "outputs": [],
   "source": [
    "viz4.rename({'F':'Freehold', 'L':'Leasehold'},axis=1,inplace=True)"
   ]
  },
  {
   "cell_type": "code",
   "execution_count": 77,
   "metadata": {
    "ExecuteTime": {
     "end_time": "2020-12-18T13:54:35.176910Z",
     "start_time": "2020-12-18T13:54:34.752873Z"
    }
   },
   "outputs": [
    {
     "data": {
      "text/plain": [
       "<matplotlib.axes._subplots.AxesSubplot at 0x2950f21e190>"
      ]
     },
     "execution_count": 77,
     "metadata": {},
     "output_type": "execute_result"
    },
    {
     "data": {
      "image/png": "[encoded data removed]",
      "text/plain": [
       "<Figure size 432x288 with 1 Axes>"
      ]
     },
     "metadata": {
      "needs_background": "light"
     },
     "output_type": "display_data"
    }
   ],
   "source": [
    "sns.heatmap(viz4.isnull(),cbar=False)"
   ]
  },
  {
   "cell_type": "code",
   "execution_count": 78,
   "metadata": {
    "ExecuteTime": {
     "end_time": "2020-12-18T13:54:38.357637Z",
     "start_time": "2020-12-18T13:54:38.332638Z"
    }
   },
   "outputs": [],
   "source": [
    "viz4.dropna(inplace=True)"
   ]
  },
  {
   "cell_type": "code",
   "execution_count": 79,
   "metadata": {
    "ExecuteTime": {
     "end_time": "2020-12-18T13:54:40.321428Z",
     "start_time": "2020-12-18T13:54:40.122428Z"
    }
   },
   "outputs": [
    {
     "data": {
      "application/vnd.jupyter.widget-view+json": {
       "model_id": "a75749e7a0a840869d39b05040829efb",
       "version_major": 2,
       "version_minor": 0
      },
      "text/plain": [
       "interactive(children=(Dropdown(description='a', options=('M', 'YS'), value='M'), Output()), _dom_classes=('wid…"
      ]
     },
     "metadata": {},
     "output_type": "display_data"
    },
    {
     "data": {
      "text/plain": [
       "<function __main__.viz_f4(a)>"
      ]
     },
     "execution_count": 79,
     "metadata": {},
     "output_type": "execute_result"
    }
   ],
   "source": [
    "def viz_f4(a):\n",
    "    viz4.resample(a).mean().iplot()\n",
    "interact(viz_f4,a=['M','YS'])"
   ]
  },
  {
   "cell_type": "markdown",
   "metadata": {},
   "source": [
    "<div style='background-color:#222f5b;color:white;padding:20px;font-size:18px'>Previously we see difference between different Duration. In this view, we can see more the different prices at different months of the year 2012-2016.</div>"
   ]
  },
  {
   "cell_type": "code",
   "execution_count": null,
   "metadata": {},
   "outputs": [],
   "source": []
  }
 ],
 "metadata": {
  "kernelspec": {
   "display_name": "Python 3",
   "language": "python",
   "name": "python3"
  },
  "language_info": {
   "codemirror_mode": {
    "name": "ipython",
    "version": 3
   },
   "file_extension": ".py",
   "mimetype": "text/x-python",
   "name": "python",
   "nbconvert_exporter": "python",
   "pygments_lexer": "ipython3",
   "version": "3.8.3"
  },
  "latex_envs": {
   "LaTeX_envs_menu_present": true,
   "autoclose": false,
   "autocomplete": true,
   "bibliofile": "biblio.bib",
   "cite_by": "apalike",
   "current_citInitial": 1,
   "eqLabelWithNumbers": true,
   "eqNumInitial": 1,
   "hotkeys": {
    "equation": "Ctrl-E",
    "itemize": "Ctrl-I"
   },
   "labels_anchors": false,
   "latex_user_defs": false,
   "report_style_numbering": false,
   "user_envs_cfg": false
  },
  "toc": {
   "base_numbering": 1,
   "nav_menu": {},
   "number_sections": true,
   "sideBar": true,
   "skip_h1_title": false,
   "title_cell": "Table of Contents",
   "title_sidebar": "Contents",
   "toc_cell": false,
   "toc_position": {},
   "toc_section_display": true,
   "toc_window_display": false
  },
  "varInspector": {
   "cols": {
    "lenName": 16,
    "lenType": 16,
    "lenVar": 40
   },
   "kernels_config": {
    "python": {
     "delete_cmd_postfix": "",
     "delete_cmd_prefix": "del ",
     "library": "var_list.py",
     "varRefreshCmd": "print(var_dic_list())"
    },
    "r": {
     "delete_cmd_postfix": ") ",
     "delete_cmd_prefix": "rm(",
     "library": "var_list.r",
     "varRefreshCmd": "cat(var_dic_list()) "
    }
   },
   "types_to_exclude": [
    "module",
    "function",
    "builtin_function_or_method",
    "instance",
    "_Feature"
   ],
   "window_display": false
  }
 },
 "nbformat": 4,
 "nbformat_minor": 4
}
